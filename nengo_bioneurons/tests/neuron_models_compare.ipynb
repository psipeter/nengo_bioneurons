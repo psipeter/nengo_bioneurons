{
 "cells": [
  {
   "cell_type": "code",
   "execution_count": 1,
   "metadata": {},
   "outputs": [
    {
     "name": "stdout",
     "output_type": "stream",
     "text": [
      "\t1 \n"
     ]
    },
    {
     "data": {
      "text/plain": [
       "1.0"
      ]
     },
     "execution_count": 1,
     "metadata": {},
     "output_type": "execute_result"
    }
   ],
   "source": [
    "import numpy as np\n",
    "np.set_printoptions(precision=5)\n",
    "\n",
    "from scipy.linalg import block_diag\n",
    "from scipy.integrate import ode\n",
    "from scipy.optimize import minimize\n",
    "\n",
    "import nengo\n",
    "from nengo.utils.matplotlib import rasterplot\n",
    "from nengo.params import Default, NumberParam\n",
    "from nengo.dists import Uniform\n",
    "from nengo.neurons import *\n",
    "from nengo.builder.neurons import *\n",
    "from nengo.dists import Uniform\n",
    "from nengo.solvers import LstsqL2, NoSolver\n",
    "from nengo.base import ObjView\n",
    "from nengo.builder import Builder, Operator, Signal\n",
    "from nengo.exceptions import BuildError\n",
    "from nengo.builder.connection import build_decoders, BuiltConnection\n",
    "from nengo.utils.builder import full_transform\n",
    "\n",
    "from nengolib.signal import s, z, nrmse, LinearSystem\n",
    "from nengolib import Lowpass, DoubleExp\n",
    "\n",
    "from hyperopt import fmin, tpe, hp, STATUS_OK, Trials\n",
    "\n",
    "import matplotlib.pyplot as plt\n",
    "\n",
    "import seaborn as sns\n",
    "sns.set(context='poster', style='white')\n",
    "%matplotlib inline\n",
    "\n",
    "import pandas as pd\n",
    "\n",
    "\n",
    "import time\n",
    "import warnings\n",
    "\n",
    "import neuron\n",
    "neuron.h.load_file('./NEURON/durstewitz/durstewitz.hoc')\n",
    "neuron.h.load_file('stdrun.hoc')"
   ]
  },
  {
   "cell_type": "markdown",
   "metadata": {},
   "source": [
    "## Neuron Types"
   ]
  },
  {
   "cell_type": "code",
   "execution_count": 2,
   "metadata": {},
   "outputs": [],
   "source": [
    "class AdaptiveLIFT(LIFRate):\n",
    "    \n",
    "    '''\n",
    "    Aaron Voelker\n",
    "    https://github.com/nengo/nengo/issues/1423\n",
    "    '''\n",
    "    \n",
    "    probeable = ('spikes', 'voltage', 'refractory_time', 'threshold')\n",
    "\n",
    "    min_voltage = NumberParam('min_voltage', high=0)\n",
    "    tau_adapt = NumberParam('tau_adapt', low=0)\n",
    "    inc_adapt = NumberParam('inc_adapt', low=0)\n",
    "\n",
    "    def __init__(self, tau_rc=0.02, tau_ref=0.002, min_voltage=0,\n",
    "                 amplitude=1, tau_adapt=0.1, inc_adapt=0.05):\n",
    "        super(AdaptiveLIFT, self).__init__(\n",
    "            tau_rc=tau_rc, tau_ref=tau_ref, amplitude=amplitude)\n",
    "        self.min_voltage = min_voltage\n",
    "        self.tau_adapt = tau_adapt\n",
    "        self.inc_adapt = inc_adapt\n",
    "        \n",
    "    def rates(self, x, gain, bias):\n",
    "        \"\"\"Estimates steady-state firing rate given gain and bias.\"\"\"\n",
    "        J = self.current(x, gain, bias)\n",
    "        voltage = np.zeros_like(gain)\n",
    "        refractory_time = np.zeros_like(gain)\n",
    "        threshold = np.ones_like(gain)\n",
    "\n",
    "        return settled_firingrate(\n",
    "            self.step_math, J, [voltage, refractory_time, threshold],\n",
    "            dt=0.001, settle_time=0.3, sim_time=1.0)\n",
    "    \n",
    "    def gain_bias(self, max_rates, intercepts):\n",
    "        return NeuronType.gain_bias(self, max_rates, intercepts)\n",
    "\n",
    "    def max_rates_intercepts(self, gain, bias):\n",
    "        return NeuronType.max_rates_intercepts(self, gain, bias)\n",
    "\n",
    "    def step_math(self, dt, J, spiked, voltage, refractory_time, threshold):\n",
    "        # reduce all refractory times by dt\n",
    "        refractory_time -= dt\n",
    "\n",
    "        # compute effective dt for each neuron, based on remaining time.\n",
    "        # note that refractory times that have completed midway into this\n",
    "        # timestep will be given a partial timestep, and moreover these will\n",
    "        # be subtracted to zero at the next timestep (or reset by a spike)\n",
    "        delta_t = (dt - refractory_time).clip(0, dt)\n",
    "\n",
    "        # update voltage using discretized lowpass filter\n",
    "        # since v(t) = v(0) + (J - v(0))*(1 - exp(-t/tau)) assuming\n",
    "        # J is constant over the interval [t, t + dt)\n",
    "        voltage -= (J - voltage) * np.expm1(-delta_t / self.tau_rc)\n",
    "\n",
    "        # determine which neurons spiked (set them to 1/dt, else 0)\n",
    "        spiked_mask = voltage > threshold\n",
    "        spiked[:] = spiked_mask * (self.amplitude / dt)\n",
    "\n",
    "        # set v(0) = threshold and solve for t to compute the spike time\n",
    "        # TODO: not sure if this mask is the right way to handle log domain errors\n",
    "        threshold_spiked = threshold[spiked_mask]\n",
    "        m = (voltage[spiked_mask] - threshold_spiked) / (J[spiked_mask] - threshold_spiked)\n",
    "        t_spike = np.zeros_like(m)\n",
    "        t_spike[m < 1] = dt + self.tau_rc * np.log1p(-m[m < 1])\n",
    "\n",
    "        # update threshold using discretized lowpass filter\n",
    "        # applied to the input 1 + spiked * inc_adapt \n",
    "        threshold -= ((1 + self.inc_adapt * spiked - threshold) *\n",
    "                      np.expm1(-dt / self.tau_adapt))\n",
    "        \n",
    "        # set spiked voltages to zero, refractory times to tau_ref, and\n",
    "        # rectify negative voltages to a floor of min_voltage\n",
    "        voltage[voltage < self.min_voltage] = self.min_voltage\n",
    "        voltage[spiked_mask] = 0\n",
    "        refractory_time[spiked_mask] = self.tau_ref + t_spike\n",
    "\n",
    "\n",
    "@Builder.register(AdaptiveLIFT)\n",
    "def build_alift(model, lif, neurons):\n",
    "    model.sig[neurons]['voltage'] = Signal(\n",
    "        np.zeros(neurons.size_in), name=\"%s.voltage\" % neurons)\n",
    "    model.sig[neurons]['refractory_time'] = Signal(\n",
    "        np.zeros(neurons.size_in), name=\"%s.refractory_time\" % neurons)\n",
    "    model.sig[neurons]['threshold'] = Signal(\n",
    "        np.ones(neurons.size_in), name=\"%s.threshold\" % neurons)\n",
    "    model.add_op(SimNeurons(\n",
    "        neurons=lif,\n",
    "        J=model.sig[neurons]['in'],\n",
    "        output=model.sig[neurons]['out'],\n",
    "        states=[model.sig[neurons]['voltage'],\n",
    "                model.sig[neurons]['refractory_time'],\n",
    "                model.sig[neurons]['threshold']]))"
   ]
  },
  {
   "cell_type": "code",
   "execution_count": 3,
   "metadata": {},
   "outputs": [],
   "source": [
    "class WilsonEuler(NeuronType):\n",
    "\n",
    "    probeable = ('spikes', 'voltage', 'recovery', 'conductance', 'AP')\n",
    "    threshold = NumberParam('threshold')\n",
    "    tau_V = NumberParam('tau_V')\n",
    "    tau_R = NumberParam('tau_R')\n",
    "    tau_H = NumberParam('tau_H')\n",
    "    \n",
    "    _v0 = -0.754  # initial voltage\n",
    "    _r0 = 0.279  # initial recovery\n",
    "    _maxJ = 2.0  # clip input current at this maximum to avoid catastrophic shutdown\n",
    "    \n",
    "    def __init__(self, threshold=-0.20, tau_V=0.00097, tau_R=0.0056, tau_H=0.0990):\n",
    "        super(WilsonEuler, self).__init__()\n",
    "        self.threshold = threshold\n",
    "        self.tau_V = tau_V\n",
    "        self.tau_R = tau_R\n",
    "        self.tau_H = tau_H\n",
    "        \n",
    "    @property\n",
    "    def _argreprs(self):\n",
    "        args = []\n",
    "        def add(attr, default):\n",
    "            if getattr(self, attr) != default:\n",
    "                args.append(\"%s=%s\" %(attr, getattr(self, attr)))\n",
    "        add(\"threshold\", -0.20)\n",
    "        add(\"tau_V\", 0.00097)\n",
    "        add(\"tau_R\", 0.0056)\n",
    "        add(\"tau_H\", 0.0990)\n",
    "        return args\n",
    "\n",
    "\n",
    "    def gain_bias(self, max_rates, intercepts):\n",
    "        max_rates = np.array(max_rates, dtype=float, copy=False, ndmin=1)\n",
    "        intercepts = np.array(intercepts, dtype=float, copy=False, ndmin=1)\n",
    "        J_steps = 201  # Odd number so that 0 is a sample\n",
    "        max_rate = max_rates.max()\n",
    "        # Find range of J that will achieve max rates (assume monotonic)\n",
    "        J_threshold = None\n",
    "        J_max = None\n",
    "        Jr = 1.0\n",
    "        for _ in range(10):\n",
    "            J = np.linspace(-Jr, Jr, J_steps)\n",
    "            rate = self.rates(J, np.ones(J_steps), np.zeros(J_steps))\n",
    "#             print('J', J, 'euler rate', rate)\n",
    "            if J_threshold is None and (rate <= 0).any():\n",
    "                J_threshold = J[np.where(rate <= 0)[0][-1]]\n",
    "            if J_max is None and (rate >= max_rate).any():\n",
    "                J_max = J[np.where(rate >= max_rate)[0][0]]\n",
    "            if J_threshold is not None and J_max is not None:\n",
    "                break\n",
    "            else:\n",
    "                Jr *= 2\n",
    "        else:\n",
    "            if J_threshold is None:\n",
    "                raise RuntimeError(\"Could not find firing threshold\")\n",
    "            if J_max is None:\n",
    "                raise RuntimeError(\"Could not find max current\")\n",
    "\n",
    "        J = np.linspace(J_threshold, J_max, J_steps)\n",
    "        rate = self.rates(J, np.ones(J_steps), np.zeros(J_steps))\n",
    "        gain = np.zeros_like(max_rates)\n",
    "        bias = np.zeros_like(max_rates)\n",
    "        J_tops = np.interp(max_rates, rate, J)\n",
    "        gain[:] = (J_threshold - J_tops) / (intercepts - 1)\n",
    "        bias[:] = J_tops - gain\n",
    "        return gain, bias\n",
    "\n",
    "    def rates(self, x, gain, bias):\n",
    "        \"\"\"Estimates steady-state firing rate given gain and bias.\"\"\"\n",
    "        J = self.current(x, gain, bias)\n",
    "        voltage = self._v0*np.ones_like(J)\n",
    "        recovery = self._r0*np.ones_like(J)\n",
    "        conductance = np.zeros_like(J)\n",
    "        AP = np.zeros_like(J, dtype=bool)\n",
    "\n",
    "        return settled_firingrate(\n",
    "            self.step_math, J, [voltage, recovery, conductance, AP],\n",
    "            dt=0.00005, settle_time=0.1, sim_time=1.0)\n",
    "\n",
    "\n",
    "    def step_math(self, dt, J, spiked, V, R, H, AP):\n",
    "        if np.abs(J).any() >= 2.0:\n",
    "            warnings.warn(\"input current exceeds failure point; clipping\")\n",
    "            J = J.clip(max=self._maxJ)\n",
    "        dV = -(17.81 + 47.58*V + 33.80*np.square(V))*(V - 0.48) - 26*R*(V + 0.95) - 13*H*(V + 0.95) + J\n",
    "        dR = -R + 1.29*V + 0.79 + 3.30*np.square(V + 0.38)\n",
    "        dH = -H + 11*(V + 0.754)*(V + 0.69)\n",
    "        \n",
    "        V[:] = (V + dV * dt/self.tau_V).clip(-0.9, 0.3)\n",
    "        R[:] = (R + dR * dt/self.tau_R)  # .clip(0.18, 0.42)\n",
    "        H[:] = (H + dH * dt/self.tau_H)  # .clip(0, 0.23)\n",
    "        spiked[:] = (V > self.threshold) & (~AP)\n",
    "        spiked /= dt\n",
    "        AP[:] = V > self.threshold\n",
    "        return spiked, V, R, H, AP\n",
    "\n",
    "\n",
    "@Builder.register(WilsonEuler)\n",
    "def build_wilsonneuron(model, neuron_type, neurons):\n",
    "    model.sig[neurons]['voltage'] = Signal(\n",
    "        neuron_type._v0*np.ones(neurons.size_in), name=\"%s.voltage\" % neurons)\n",
    "    model.sig[neurons]['recovery'] = Signal(\n",
    "        neuron_type._r0*np.ones(neurons.size_in), name=\"%s.recovery\" % neurons)\n",
    "    model.sig[neurons]['conductance'] = Signal(\n",
    "        np.zeros(neurons.size_in), name=\"%s.conductance\" % neurons)\n",
    "    model.sig[neurons]['AP'] = Signal(\n",
    "        np.zeros(neurons.size_in, dtype=bool), name=\"%s.AP\" % neurons)\n",
    "    model.add_op(SimNeurons(\n",
    "        neurons=neuron_type,\n",
    "        J=model.sig[neurons]['in'],\n",
    "        output=model.sig[neurons]['out'],\n",
    "        states=[model.sig[neurons]['voltage'],\n",
    "            model.sig[neurons]['recovery'],\n",
    "            model.sig[neurons]['conductance'],\n",
    "            model.sig[neurons]['AP']]))"
   ]
  },
  {
   "cell_type": "code",
   "execution_count": 4,
   "metadata": {},
   "outputs": [
    {
     "name": "stderr",
     "output_type": "stream",
     "text": [
      "/home/pduggins/nengo/nengo/builder/builder.py:234: UserWarning: Type '<class 'nengo.connection.Connection'>' already has a builder. Overwriting.\n",
      "  % nengo_class)\n"
     ]
    }
   ],
   "source": [
    "class DurstewitzNeuron(NeuronType):\n",
    "    \n",
    "    probeable = ('spikes', 'voltage')\n",
    "\n",
    "    def __init__(self, v0=-65.0, dt_neuron=0.025, DA=False):\n",
    "        super(DurstewitzNeuron, self).__init__()\n",
    "        self.v0 = v0\n",
    "        self.dt_neuron = dt_neuron\n",
    "        self.DA = DA  # dopaminergic modulation ON/OFF\n",
    "        self.max_rates = np.array([])\n",
    "        self.intercepts = np.array([])\n",
    "        \n",
    "    def gain_bias(self, max_rates, intercepts):\n",
    "        return np.ones_like(max_rates), np.zeros_like(intercepts)\n",
    "        \n",
    "    def max_rates_intercepts(self, gain, bias):\n",
    "        \"\"\"Measure firing rate at each eval_point using neuron_rates, estimate x_int and rate at y_int\"\"\"\n",
    "        return self.max_rates, self.intercepts\n",
    "    \n",
    "    def step_math(self, v_recs, spk_vecs, spk_recs, spk_before, voltage, spiked, time, dt):\n",
    "        n_neurons = voltage.shape[0]\n",
    "#         spk_before = np.array([np.array(spk_vecs[n]) for n in range(n_neurons)])\n",
    "        if neuron.h.t < time*1000:  # Nengo starts at t=dt\n",
    "            neuron.h.tstop = time*1000\n",
    "            neuron.h.continuerun(neuron.h.tstop)\n",
    "        for n in range(n_neurons):\n",
    "            if not np.isfinite(v_recs[n][-1]):\n",
    "#                 warnings.warn('neuron %s returned nan voltage at t=%s' %(n, neuron.h.t*1000))\n",
    "                voltage[n] = 0\n",
    "            else:\n",
    "                voltage[n] = v_recs[n][-1]\n",
    "        spk_after = [list(spk_vecs[n]) for n in range(n_neurons)]\n",
    "        for n in range(n_neurons):\n",
    "            spiked[n] = (len(spk_after[n]) - len(spk_before[n])) / dt\n",
    "            spk_before[n] = list(spk_after[n])\n",
    "        \n",
    "@Builder.register(DurstewitzNeuron)\n",
    "def build_neuronneuron(model, neuron_type, neurons):\n",
    "    model.sig[neurons]['voltage'] = Signal(\n",
    "        neuron_type.v0*np.ones(neurons.size_in), name=\"%s.voltage\"%neurons)\n",
    "    neuronop = SimNeuronNeurons(\n",
    "        neuron_type=neuron_type,\n",
    "        n_neurons=neurons.size_in,\n",
    "        J=model.sig[neurons]['in'],\n",
    "        output=model.sig[neurons]['out'],\n",
    "        states=[model.time, model.sig[neurons]['voltage']],\n",
    "        dt=model.dt)\n",
    "    model.params[neurons] = neuronop.neurons\n",
    "    model.add_op(neuronop)\n",
    "    \n",
    "class SimNeuronNeurons(Operator):\n",
    "    def __init__(self, neuron_type, n_neurons,  J, output, states, dt):\n",
    "        super(SimNeuronNeurons, self).__init__()\n",
    "        self.neuron_type = neuron_type\n",
    "        self.neurons = [neuron.h.Durstewitz() for n in range(n_neurons)]\n",
    "        self.reads = [states[0], J]\n",
    "        self.sets = [output, states[1]]\n",
    "        self.updates = []\n",
    "        self.incs = []\n",
    "        self.v_recs = []\n",
    "        self.spk_vecs = []\n",
    "        self.spk_recs = []\n",
    "        self.spk_before = [[] for n in range(n_neurons)]\n",
    "        for n in range(n_neurons):\n",
    "            if self.neuron_type.DA:\n",
    "                self.neurons[n].init_DA()\n",
    "            else:\n",
    "                self.neurons[n].init()\n",
    "            self.v_recs.append(neuron.h.Vector())\n",
    "            self.v_recs[n].record(self.neurons[n].soma(0.5)._ref_v, dt*1000)\n",
    "            self.spk_vecs.append(neuron.h.Vector())\n",
    "            self.spk_recs.append(neuron.h.APCount(self.neurons[n].soma(0.5)))\n",
    "            self.spk_recs[n].record(neuron.h.ref(self.spk_vecs[n]), dt*1000)\n",
    "        neuron.h.dt = self.neuron_type.dt_neuron\n",
    "        neuron.h.tstop = 0\n",
    "    def make_step(self, signals, dt, rng):\n",
    "        J = signals[self.current]\n",
    "        output = signals[self.output]\n",
    "        voltage = signals[self.voltage]\n",
    "        time = signals[self.time]\n",
    "        def step_nrn():\n",
    "            self.neuron_type.step_math(\n",
    "                self.v_recs, self.spk_vecs, self.spk_recs, self.spk_before,\n",
    "                voltage, output, time, dt)\n",
    "        return step_nrn\n",
    "    @property\n",
    "    def time(self):\n",
    "        return self.reads[0]\n",
    "    @property\n",
    "    def current(self):\n",
    "        return self.reads[1]\n",
    "    @property\n",
    "    def output(self):\n",
    "        return self.sets[0]\n",
    "    @property\n",
    "    def voltage(self):\n",
    "        return self.sets[1]\n",
    "\n",
    "class TransmitSpikes(Operator):\n",
    "    def __init__(self, neurons, taus, weights, spikes, states, dt):\n",
    "        super(TransmitSpikes, self).__init__()\n",
    "        self.neurons = neurons\n",
    "        self.taus = taus\n",
    "        self.dt = dt\n",
    "        self.weights = weights\n",
    "        self.time = states[0]\n",
    "        self.reads = [spikes, states[0]]\n",
    "        self.updates = []\n",
    "        self.sets = []\n",
    "        self.incs = []\n",
    "        self.synapses = np.zeros((self.weights.shape), dtype=list)\n",
    "        for pre in range(self.synapses.shape[0]):\n",
    "            for post in range(self.synapses.shape[1]):\n",
    "                self.synapses[pre, post] = []\n",
    "                for loc in [self.neurons[post].basal(0.5),\n",
    "                            self.neurons[post].prox(0.5),\n",
    "                            self.neurons[post].dist(0.5)]:\n",
    "                    if len(self.taus) == 1:\n",
    "                        syn = neuron.h.ExpSyn(loc)\n",
    "                        syn.tau = self.taus[0]*1000\n",
    "                    elif len(taus) == 2:\n",
    "                        syn = neuron.h.Exp2Syn(loc)\n",
    "                        syn.tau1 = np.min(self.taus)*1000\n",
    "                        syn.tau2 = np.max(self.taus)*1000\n",
    "                    syn.e = 0.0 if self.weights[pre, post] > 0 else -70.0\n",
    "                    self.synapses[pre, post].append(syn)\n",
    "#         self.netcons = np.zeros((1,1), dtype=list)\n",
    "#         self.stim = neuron.h.NetStim()\n",
    "#         self.syn = neuron.h.ExpSyn(self.neurons[0].soma(0.5))\n",
    "#         self.syn.tau = 100\n",
    "#         self.netcons[0,0] = [neuron.h.NetCon(None, self.syn, 0, 0, 1e-3)]\n",
    "        self.netcons = np.zeros((self.weights.shape), dtype=list)\n",
    "        for pre in range(self.synapses.shape[0]):\n",
    "            for post in range(self.synapses.shape[1]):\n",
    "                # NetCon(source, target, threshold, delay, weight)\n",
    "                self.netcons[pre, post] = []\n",
    "                for compt in range(len(self.synapses[pre, post])):\n",
    "                    syn = self.synapses[pre, post][compt]\n",
    "                    w = np.abs(self.weights[pre, post])\n",
    "                    nc = neuron.h.NetCon(None, syn, 0, 0, w)\n",
    "                    nc.active(0)  # turn off until build finishes\n",
    "                    self.netcons[pre, post].append(nc)\n",
    "    def make_step(self, signals, dt, rng):\n",
    "        spikes = signals[self.spikes]\n",
    "        time = signals[self.time]\n",
    "        def step():\n",
    "            t_neuron = time.item()*1000\n",
    "#             if int(t_neuron) % 10 == 0:\n",
    "#                 for nc in self.netcons[0,0]:\n",
    "#                     nc.event(t_neuron)\n",
    "#                 for pre in range(spikes.shape[0]):\n",
    "#                     for post in range(len(self.neurons)):\n",
    "#                         for nc in self.netcons[pre, post]:\n",
    "#                             nc.event(t_neuron)\n",
    "            for pre in range(spikes.shape[0]):\n",
    "                if spikes[pre] > 0:\n",
    "#                 if int(t_neuron) % 10 == 0:\n",
    "                    for post in range(len(self.neurons)):\n",
    "                        for nc in self.netcons[pre, post]:\n",
    "                            nc.event(t_neuron)\n",
    "        return step\n",
    "\n",
    "    @property\n",
    "    def spikes(self):\n",
    "        return self.reads[0]\n",
    "    \n",
    "class BiasSpikes(Operator):\n",
    "    def __init__(self, neurons, bias):\n",
    "        super(BiasSpikes, self).__init__()\n",
    "        self.neurons = neurons\n",
    "        self.tau = 0.1\n",
    "        self.bias = bias\n",
    "        self.reads = []\n",
    "        self.updates = []\n",
    "        self.sets = []\n",
    "        self.incs = []\n",
    "        self.stims = []\n",
    "        self.syns = []\n",
    "        self.ncs = []\n",
    "        for n in range(len(self.neurons)):\n",
    "            for loc in [neurons[n].basal(0.5), neurons[n].prox(0.5), neurons[n].dist(0.5)]:\n",
    "                self.stims.append(neuron.h.NetStim())\n",
    "                self.syns.append(neuron.h.ExpSyn(loc))\n",
    "                self.syns[-1].tau = self.tau * 1000  # time constant of synapse on spiking bias input\n",
    "                self.syns[-1].e = 0.0 if self.bias[n] > 0 else -70.0\n",
    "                self.ncs.append(neuron.h.NetCon(self.stims[-1], self.syns[-1], 0, 0, np.abs(self.bias[n])))\n",
    "                self.ncs[-1].pre().start = 0\n",
    "                self.ncs[-1].pre().number = 1e10\n",
    "                self.ncs[-1].pre().interval = 1\n",
    "                self.ncs[-1].pre().noise = 0  # 0 for regular spikes at rate, 1 for poisson spikes at rate\n",
    "                self.ncs[-1].active(0)  # turn off until build finishes\n",
    "    def make_step(self, signals, dt, rng):\n",
    "        def step():\n",
    "            pass\n",
    "        return step\n",
    "\n",
    "@Builder.register(nengo.Connection)\n",
    "def build_connection(model, conn):\n",
    "    rng = np.random.RandomState(model.seeds[conn])\n",
    "    if isinstance(conn.post_obj, nengo.Ensemble) and isinstance(conn.post_obj.neuron_type, DurstewitzNeuron):\n",
    "        assert isinstance(conn.pre_obj, nengo.Ensemble), \"only presynaptic neurons supported\"\n",
    "        assert 'spikes' in conn.pre_obj.neuron_type.probeable, \"only spiking neurons supported\"\n",
    "        assert isinstance(conn.synapse, LinearSystem), \"only nengolib synapses supported\"\n",
    "        assert len(conn.synapse.num) == 0, \"only poles supported\"\n",
    "        assert 0 < len(conn.synapse.den) <= 2, \"only exponential and double exponential synapses supported\"\n",
    "        \n",
    "        # load previously optimized gain/bias\n",
    "        taus = -1.0/np.array(conn.synapse.poles)\n",
    "        model.sig[conn]['in'] = model.sig[conn.pre_obj]['out']\n",
    "        transform = full_transform(conn, slice_pre=False)\n",
    "        eval_points, d, solver_info = model.build(conn.solver, conn, rng, transform)\n",
    "        encoders = model.params[conn.post_obj].encoders\n",
    "        if hasattr(conn, 'gain') and conn.gain is not 0:\n",
    "            gain = conn.gain\n",
    "            bias = conn.bias\n",
    "        else:\n",
    "            gain = 1e-10*np.ones((conn.post_obj.n_neurons))\n",
    "            bias = np.zeros((conn.post_obj.n_neurons))\n",
    "        gain = np.array(gain.reshape((encoders.shape[0], 1)))\n",
    "\n",
    "        # normalize by area under synapse curve, integral PSC(t) |b-a = F(b) - F(a), b=1s, a=0s\n",
    "        tf = 10.0\n",
    "        if len(taus) == 1:\n",
    "            gain /= (taus[0] * (-np.exp(-tf/taus[0]) + 1))\n",
    "        elif len(taus) == 2:\n",
    "            gain /= np.max(taus)/(np.max(taus)-np.min(taus)) * \\\n",
    "                (np.min(taus) + np.max(taus) - \\\n",
    "                 np.min(taus)*np.exp(-tf/np.min(taus)) - np.max(taus)*np.exp(-tf/np.max(taus)))\n",
    "            \n",
    "        # connect spiking poisson input to conn.post, if one doesn't already exist\n",
    "        if not hasattr(conn, 'biasspike'):\n",
    "            biasspike = BiasSpikes(model.params[conn.post_obj.neurons], bias)\n",
    "            model.add_op(biasspike)\n",
    "            with warnings.catch_warnings():\n",
    "                warnings.simplefilter(\"ignore\")\n",
    "                conn.biasspike = biasspike\n",
    "        \n",
    "        # connect spikes from conn.pre to conn.post with computed weight matrix       \n",
    "        scaled_enc = encoders * gain\n",
    "        weights = np.dot(d.T, scaled_enc.T)\n",
    "        transmitspike = TransmitSpikes(model.params[conn.post_obj.neurons], taus, weights,\n",
    "            model.sig[conn.pre_obj]['out'], states=[model.time], dt=model.dt)\n",
    "        model.add_op(transmitspike)\n",
    "        with warnings.catch_warnings():\n",
    "            warnings.simplefilter(\"ignore\")\n",
    "            conn.transmitspike = transmitspike\n",
    "        model.params[conn] = BuiltConnection(\n",
    "            eval_points=eval_points, solver_info=solver_info, transform=transform, weights=d)\n",
    "    \n",
    "    else:\n",
    "        return nengo.builder.connection.build_connection(model, conn)\n",
    "\n",
    "def reset_neuron(sim):\n",
    "    for key in list(sim.model.params.keys()):\n",
    "        if type(key) == nengo.ensemble.Neurons:\n",
    "            del(sim.model.params[key])\n",
    "    for op in sim.model.operators:\n",
    "        if isinstance(op, SimNeuronNeurons):\n",
    "            for v_rec in op.v_recs:\n",
    "                v_rec.play_remove()\n",
    "            for spk_vec in op.spk_vecs:\n",
    "                spk_vec.play_remove()\n",
    "            del(op.neurons)\n",
    "        if isinstance(op, BiasSpikes):\n",
    "            del(op.neurons)\n",
    "            del(op.ncs)\n",
    "        if isinstance(op, TransmitSpikes):\n",
    "            del(op.neurons)\n",
    "            del(op.netcons)\n"
   ]
  },
  {
   "cell_type": "markdown",
   "metadata": {},
   "source": [
    "## Optimization and RMSE"
   ]
  },
  {
   "cell_type": "code",
   "execution_count": 5,
   "metadata": {},
   "outputs": [],
   "source": [
    "def norms(t, dt=0.001, stim_func=lambda t: np.cos(t)):\n",
    "    with nengo.Network() as model:\n",
    "        stim = nengo.Node(stim_func)\n",
    "        p_stimulus = nengo.Probe(stim, synapse=None)\n",
    "        p_integral = nengo.Probe(stim, synapse=1/s)\n",
    "    with nengo.Simulator(model, progress_bar=False, dt=dt) as sim:\n",
    "        sim.run(t, progress_bar=False)\n",
    "    norm_stim = np.max(np.abs(sim.data[p_stimulus]))\n",
    "    norm_int = np.max(np.abs(sim.data[p_integral]))\n",
    "    return norm_stim, norm_int\n",
    "\n",
    "def update_d(target, spk, h, h_tar, lambda_d=1e-1,  dt=0.001):\n",
    "    target = h_tar.filt(target, dt=dt)\n",
    "    A = h.filt(spk, dt=dt)\n",
    "    d_new = LstsqL2(reg=lambda_d)(A, target)[0]\n",
    "    return d_new\n",
    "\n",
    "def update_h_lstsq(stim, target, spikes,\n",
    "        lambda_c=1e-1, lambda_d=1e-1, order=1, n_samples=10000,\n",
    "        min_d=-1e-2, max_d=1e-2, dt=0.001, tau=0.1, \n",
    "        mean_taus=[1e-1, 1e-3], std_taus=[1e-2, 1e-5], max_tau=1e0, maxiter=100):\n",
    "    \n",
    "    \"\"\"Courtesy of Aaron Voelker\"\"\"\n",
    "    mean_taus = np.array(mean_taus)[:order]\n",
    "    std_taus = np.array(std_taus)[:order]\n",
    "\n",
    "    def sample_prior(n_samples, order, mean_taus, std_taus, min_tau=1e-5, rng=np.random.RandomState(seed=0)):\n",
    "        \"\"\"Return n samples (taus) from the prior of a k'th-order synapse.\"\"\"\n",
    "        taus = np.zeros((n_samples, order))\n",
    "        for o in range(order):\n",
    "            taus[:, o] = rng.normal(mean_taus[o], std_taus[o], size=(n_samples, )).clip(min_tau)\n",
    "        return taus\n",
    "    \n",
    "    for iter in range(maxiter):  # maxiter\n",
    "        assert len(mean_taus) == order\n",
    "        assert len(std_taus) == order\n",
    "        taus = sample_prior(n_samples, order, mean_taus, std_taus)\n",
    "\n",
    "        poles = -1. / taus\n",
    "        n_steps = spikes.shape[0]\n",
    "        n_neurons = spikes.shape[1]\n",
    "        assert poles.shape == (n_samples, order)\n",
    "\n",
    "        tf_params = np.zeros((n_samples, order))\n",
    "        for i in range(n_samples):\n",
    "            sys = LinearSystem(([], poles[i, :], 1 / np.prod(taus[i, :])))   # (zeros, poles, gain)\n",
    "            assert len(sys) == order\n",
    "            assert np.allclose(sys.dcgain, 1)\n",
    "            den_normalized = np.asarray(sys.den / sys.num[0])\n",
    "            assert len(den_normalized) == order + 1\n",
    "            assert np.allclose(den_normalized[-1], 1)  # since normalized\n",
    "            # tf_params ordered from lowest to highest, ignoring c_0 = 1, i.e., [c_1, ..., c_k]\n",
    "            tf_params[i, :] = den_normalized[:-1][::-1]\n",
    "\n",
    "        # We assume c_i are independent by setting the off-diagonals to zero\n",
    "        C = np.cov(tf_params, rowvar=False)\n",
    "        if order == 1:\n",
    "            C = C*np.eye(1)\n",
    "        Q = np.abs(np.linalg.inv(C))\n",
    "        c0 = np.mean(tf_params, axis=0)\n",
    "        d0 = np.ones((n_neurons, ))\n",
    "        cd0 = np.hstack((c0, d0))\n",
    "        assert Q.shape == (order, order)\n",
    "        assert cd0.shape == (order+n_neurons,)\n",
    "\n",
    "        diff = (1. - ~z) / dt\n",
    "        A = np.zeros((n_steps, order + n_neurons))\n",
    "        deriv_n = target\n",
    "        for i in range(order):\n",
    "            deriv_n = diff.filt(deriv_n, dt=dt)\n",
    "            A[:, i] = deriv_n.ravel()  # todo: D>1\n",
    "        for n in range(n_neurons):\n",
    "            A[:, order+n] = spikes[:, n]\n",
    "        b = tau  # set on pre_u ==> supv connection in network\n",
    "        Y = (b*stim - target)\n",
    "        smoother = Lowpass(tau)\n",
    "        A = smoother.filt(A, dt=dt, axis=0)\n",
    "        Y = smoother.filt(Y, dt=dt)\n",
    "\n",
    "        # construct block diagonal matrix with different regularizations for filter coefficients and decoders\n",
    "        L = block_diag(lambda_c*Q, lambda_d*np.eye(n_neurons))\n",
    "        gamma = A.T.dot(A) + L\n",
    "        upsilon = A.T.dot(Y) + L.dot(cd0).reshape((order+n_neurons, 1))  # optional term with tikhonov regularization\n",
    "\n",
    "        cd = np.linalg.inv(gamma).dot(upsilon).ravel()\n",
    "        c_new = cd[:order]\n",
    "        d_new = -1.*cd[-n_neurons:]\n",
    "        assert c_new.shape==(order,)\n",
    "        assert d_new.shape==(n_neurons,)\n",
    "        print('taus iteration %s, nonzero d %s, tau=%s: '%(iter, np.count_nonzero(d_new+1), c_new))\n",
    "        for n in range(n_neurons):\n",
    "            if d_new[n] > max_d or d_new[n] < min_d:\n",
    "                d_new[n] = 0\n",
    "        d_new = d_new.reshape((n_neurons, 1))\n",
    "        if order == 1:\n",
    "            h_new = Lowpass(c_new[0])\n",
    "        elif order == 2:\n",
    "            h_new = DoubleExp(c_new[0], c_new[1])\n",
    "#         h_new = 1. / (1 + sum(c_new[i] * s**(i+1) for i in range(order)))\n",
    "        assert np.allclose(h_new.dcgain, 1)\n",
    "        if np.all(c_new > 0):\n",
    "            break\n",
    "        else:\n",
    "            mean_taus[np.argmin(mean_taus)] *= 1.25\n",
    "            lambda_c *= 1.25\n",
    "            lambda_d *= 1.25\n",
    "\n",
    "    return h_new, d_new\n",
    "\n",
    "def update_h_hyperopt(target, spikes, order=1, maxiter=100, seed=0, dt=0.001,\n",
    "        tau_mins=[0.05, 0.001], tau_maxs=[0.2, 0.01], reg_min=1e-1, reg_max=1e-1):\n",
    "\n",
    "    np.savez('spk.npz', spikes=spikes)\n",
    "    np.savez('tar.npz', target=target)\n",
    "    \n",
    "    hyperparams = {}\n",
    "    hyperparams['order'] = order\n",
    "    hyperparams['dt'] = dt\n",
    "    for o in range(order):\n",
    "        hyperparams[str(o)] = hp.uniform(str(o), tau_mins[o], tau_maxs[0])\n",
    "#     hyperparams['reg'] = hp.uniform('reg', reg_min, reg_max)\n",
    "    hyperparams['reg'] = reg_min\n",
    "\n",
    "    def objective(hyperparams):\n",
    "        if hyperparams['order'] == 1:\n",
    "            taus = [hyperparams['0']]\n",
    "            h = Lowpass(taus[0])\n",
    "        elif hyperparams['order'] == 2:\n",
    "            taus = [hyperparams['0'], hyperparams['1']]\n",
    "            h = DoubleExp(taus[0], taus[1])\n",
    "        reg = hyperparams['reg']\n",
    "        spk = np.load('spk.npz')['spikes']\n",
    "        act = h.filt(spk, dt=hyperparams['dt'])\n",
    "        tar = np.load('tar.npz')['target']\n",
    "        d = LstsqL2(reg=reg)(act, tar)[0]\n",
    "        xhat = np.dot(act, d)\n",
    "        loss = nrmse(xhat, target=tar)\n",
    "        return {'loss': loss, 'taus': taus, 'reg': reg, 'status': STATUS_OK }\n",
    "    \n",
    "    trials = Trials()\n",
    "\n",
    "    fmin(objective,\n",
    "        rstate=np.random.RandomState(seed=seed),\n",
    "        space=hyperparams,\n",
    "        algo=tpe.suggest,\n",
    "        max_evals=maxiter,\n",
    "        trials=trials)\n",
    "    best_idx = np.argmin(trials.losses())\n",
    "    best = trials.trials[best_idx]\n",
    "\n",
    "    if order == 1:\n",
    "        h_new = Lowpass(best['result']['taus'][0])\n",
    "    elif order == 2:\n",
    "        h_new = DoubleExp(best['result']['taus'][0], best['result']['taus'][1])\n",
    "    d_new = LstsqL2(reg=best['result']['reg'])(h_new.filt(spikes, dt=dt), target)[0]\n",
    "        \n",
    "    return h_new, d_new"
   ]
  },
  {
   "cell_type": "code",
   "execution_count": 6,
   "metadata": {},
   "outputs": [],
   "source": [
    "def conn_opt(conns, t=4*np.pi, seed=0, maxiter=10, stim_func=lambda t: np.sin(t), dt=0.001, tau_smooth=0.1,\n",
    "        t_trans=0.25, pt=False, neurons_per_plot=5, mean_thr=2, bins=20, delta_gain=1e-4, delta_bias=2e-5, tol=0.01):\n",
    "    gain_bias_dict = dict()\n",
    "    for conn in conns:\n",
    "        print(conn)\n",
    "        n_neurons = conn.post_obj.n_neurons\n",
    "        nrn_idx = list(np.arange(n_neurons))\n",
    "        norm_stim, norm_int = norms(t, dt=dt, stim_func=stim_func)\n",
    "        y_max = conn.post_obj.max_rates.high\n",
    "        gain_bias_dict[conn.label] = {'gain': 1e-10*np.ones((n_neurons)), 'bias': np.zeros((n_neurons))}\n",
    "        gain = 1e-4 * np.ones((n_neurons)) *conn.pre_obj.max_rates.low\n",
    "        bias = np.zeros((n_neurons))\n",
    "        trimmed_gain = gain\n",
    "        trimmed_bias = bias\n",
    "        trimmed_max_rates = conn.post_obj.max_rates\n",
    "        trimmed_intercepts = conn.post_obj.intercepts\n",
    "        trimmed_encoders = conn.post_obj.encoders\n",
    "        if (isinstance(conn.solver, NoSolver) and np.count_nonzero(conn.solver.values) == 0):\n",
    "            solver = LstsqL2(reg=1e-1)\n",
    "        else:\n",
    "            solver = conn.solver\n",
    "        for i in range(maxiter):\n",
    "            if len(nrn_idx) == 0:\n",
    "                break\n",
    "            print('iteration %s, remaining neurons %s' %(i, len(nrn_idx)))\n",
    "            with nengo.Network(seed=seed) as net:\n",
    "                net.T = t\n",
    "                def flip(t, x):\n",
    "                    if t<net.T/2: return x/norm_stim\n",
    "                    elif t>=net.T/2: return -1.0*x/norm_stim\n",
    "                u_raw = nengo.Node(stim_func)\n",
    "                stim = nengo.Node(output=flip, size_in=1)\n",
    "                pre = nengo.Ensemble(\n",
    "                    conn.pre_obj.n_neurons,\n",
    "                    conn.pre_obj.dimensions,\n",
    "                    neuron_type=nengo.LIF(),\n",
    "                    max_rates=conn.pre_obj.max_rates,\n",
    "                    intercepts=conn.pre_obj.intercepts,\n",
    "                    encoders=conn.pre_obj.encoders,\n",
    "                    seed=conn.pre_obj.seed)\n",
    "                ens = nengo.Ensemble(\n",
    "                    len(nrn_idx),\n",
    "                    conn.post_obj.dimensions,\n",
    "                    neuron_type=conn.post_obj.neuron_type,\n",
    "                    max_rates=trimmed_max_rates,\n",
    "                    intercepts=trimmed_intercepts,\n",
    "                    encoders=trimmed_encoders,\n",
    "                    seed=conn.post_obj.seed)\n",
    "                lif = nengo.Ensemble(\n",
    "                    len(nrn_idx),\n",
    "                    conn.post_obj.dimensions,\n",
    "                    neuron_type=nengo.LIF(),\n",
    "                    max_rates=trimmed_max_rates,\n",
    "                    intercepts=trimmed_intercepts,\n",
    "                    encoders=trimmed_encoders,\n",
    "                    seed=conn.post_obj.seed)\n",
    "                nengo.Connection(u_raw, stim, synapse=None)\n",
    "                nengo.Connection(stim, pre, synapse=None)\n",
    "                c = nengo.Connection(pre, ens,\n",
    "                    solver=solver, synapse=conn.synapse, seed=conn.seed)  #  transform=conn.transform,\n",
    "                c2 = nengo.Connection(pre, lif,\n",
    "                    solver=solver, synapse=conn.synapse, seed=conn.seed)  #  transform=conn.transform,\n",
    "                with warnings.catch_warnings():\n",
    "                    warnings.simplefilter(\"ignore\")\n",
    "                    c.gain = trimmed_gain\n",
    "                    c.bias = trimmed_bias\n",
    "                p_stim = nengo.Probe(stim, synapse=tau_smooth)\n",
    "                p_pre = nengo.Probe(pre, synapse=tau_smooth)\n",
    "                p_ens = nengo.Probe(ens.neurons, synapse=tau_smooth)\n",
    "                p_lif = nengo.Probe(lif.neurons, synapse=tau_smooth)\n",
    "            with nengo.Simulator(net, dt=dt, seed=seed, progress_bar=False) as optsim:\n",
    "                optsim.run(t, progress_bar=True)\n",
    "                reset_neuron(optsim) \n",
    "            stim = optsim.data[p_stim][int(t_trans/dt):]\n",
    "            pre = optsim.data[p_pre][int(t_trans/dt):]\n",
    "            a_ens = optsim.data[p_ens][int(t_trans/dt):]\n",
    "            a_lif = optsim.data[p_lif][int(t_trans/dt):]\n",
    "            enc = optsim.data[ens].encoders\n",
    "            if i == 0:\n",
    "                trimmed_max_rates = optsim.data[ens].max_rates\n",
    "                trimmed_intercepts = optsim.data[ens].intercepts\n",
    "                trimmed_encoders = optsim.data[ens].encoders\n",
    "            del(net)\n",
    "            del(optsim)\n",
    "            \n",
    "            ens_bins, ens_means, ens_stds = bin_activities_values_1d(\n",
    "                stim, a_ens, bins=bins, n_neurons=len(nrn_idx))\n",
    "            lif_bins, lif_means, lif_stds = bin_activities_values_1d(\n",
    "                stim, a_lif, bins=bins, n_neurons=len(nrn_idx))\n",
    "\n",
    "            if pt:\n",
    "                cmap = sns.color_palette()\n",
    "                fig, ax = plt.subplots(figsize=(8, 8))\n",
    "                for nrn in range(len(nrn_idx)):\n",
    "                    ax.plot(ens_bins, ens_means[nrn], c=cmap[nrn])\n",
    "                    ax.fill_between(ens_bins,\n",
    "                        ens_means[nrn]+ens_stds[nrn], ens_means[nrn]-ens_stds[nrn], alpha=0.25, facecolor=cmap[nrn])\n",
    "                    ax.plot(lif_bins, lif_means[nrn], c=cmap[nrn], linestyle='--')\n",
    "                    ax.set(xlim=((-1, 1)), ylim=((0, y_max)), xlabel='$\\mathbf{x}$', ylabel='a (Hz)')\n",
    "                    plt.tight_layout()\n",
    "                plt.show()\n",
    "            \n",
    "            to_delete = []\n",
    "            for n, nrn in enumerate(np.copy(nrn_idx)):\n",
    "                if np.all(ens_means[n] < mean_thr):\n",
    "                    trimmed_bias[n] += 0.3 * delta_bias\n",
    "                    continue\n",
    "                if np.all(ens_means[n] > y_max):\n",
    "                    trimmed_bias[n] -= 0.3 * delta_bias\n",
    "                    continue\n",
    "                if int(enc[n][0]) == 1:\n",
    "                    first = 0\n",
    "                    last = -1\n",
    "                elif int(enc[n][0]) == -1:\n",
    "                    first = -1\n",
    "                    last = 0\n",
    "                else:\n",
    "                    raise RuntimeError(\"encoders must be integers for gain/bias conn opt\")\n",
    "                ens_where = np.where(ens_means[n] <= mean_thr)[0]\n",
    "                lif_where = np.where(lif_means[n] <= mean_thr)[0]\n",
    "                if len(ens_where) > 0:\n",
    "                    x_int_ens_idx = ens_where[last]\n",
    "                    x_int_ens = ens_bins[x_int_ens_idx]\n",
    "                else:\n",
    "                    x_int_ens = ens_bins[first]\n",
    "                if len(lif_where) > 0:\n",
    "                    x_int_lif_idx = lif_where[last]\n",
    "                    x_int_lif = lif_bins[x_int_lif_idx]\n",
    "                else:\n",
    "                    x_int_lif = lif_bins[first]\n",
    "                y_int_ens = ens_means[n][last]\n",
    "                y_int_lif = lif_means[n][last]\n",
    "                delta_x = x_int_lif - x_int_ens  # positive ==> x-intercept is too far left\n",
    "                delta_y = y_int_lif - y_int_ens  # positive ==> max firing rate is too low\n",
    "                loss = np.square(delta_x) + np.square(delta_y / y_max)\n",
    "#                 print('gain', trimmed_gain[n])\n",
    "#                 print('bias', trimmed_bias[n])\n",
    "#                 print('neuron %s loss %.5f' %(nrn_idx[n], loss))\n",
    "                if loss < tol:\n",
    "                    to_delete.append(n)\n",
    "                    gain[nrn] = trimmed_gain[n]\n",
    "                    bias[nrn] = trimmed_bias[n]\n",
    "                    continue\n",
    "                if delta_x >= 0:\n",
    "                    trimmed_bias[n] -= delta_bias * np.abs(delta_x) * enc[n]\n",
    "                else:\n",
    "                    trimmed_bias[n] += delta_bias * np.abs(delta_x) * enc[n]\n",
    "                if delta_y >= 0:\n",
    "                    trimmed_gain[n] += delta_gain * np.abs(delta_y)\n",
    "                else:\n",
    "                    trimmed_gain[n] -= delta_gain * np.abs(delta_y)\n",
    "                trimmed_gain[n] = np.abs(trimmed_gain[n])\n",
    "            \n",
    "            trimmed_gain = np.delete(trimmed_gain, to_delete)\n",
    "            trimmed_bias = np.delete(trimmed_bias, to_delete)\n",
    "            trimmed_max_rates = np.delete(trimmed_max_rates, to_delete)\n",
    "            trimmed_intercepts = np.delete(trimmed_intercepts, to_delete)\n",
    "            trimmed_encoders = np.delete(trimmed_encoders, to_delete, axis=0)\n",
    "            nrn_idx = np.delete(np.array(nrn_idx), to_delete)\n",
    "            \n",
    "        \n",
    "        for n, nrn in enumerate(nrn_idx):\n",
    "            gain[nrn] = trimmed_gain[n]\n",
    "            bias[nrn] = trimmed_bias[n]\n",
    "        gain_bias_dict[conn.label]['gain'] = gain\n",
    "        gain_bias_dict[conn.label]['bias'] = bias\n",
    "\n",
    "    return gain_bias_dict"
   ]
  },
  {
   "cell_type": "markdown",
   "metadata": {},
   "source": [
    "## Helper"
   ]
  },
  {
   "cell_type": "code",
   "execution_count": 7,
   "metadata": {},
   "outputs": [],
   "source": [
    "def find_nearest(array,value):\n",
    "    idx = (np.abs(array-value)).argmin()\n",
    "    return idx\n",
    "\n",
    "def bin_activities_values_1d(xhat_pre, act_bio, x_min=-1.0, x_max=1.0, n_neurons=10, bins=20):\n",
    "    x_bins = np.linspace(x_min, x_max, num=bins)\n",
    "    hz_means = np.zeros((n_neurons, bins))\n",
    "    hz_stds = np.zeros((n_neurons, bins))\n",
    "    for i in range(n_neurons):\n",
    "        bin_act = [[] for _ in range(x_bins.shape[0])]\n",
    "        for t in range(act_bio.shape[0]):\n",
    "            idx = find_nearest(x_bins, xhat_pre[t])\n",
    "            bin_act[idx].append(act_bio[t, i])\n",
    "        for x in range(len(bin_act)):\n",
    "            hz_means[i, x] = np.average(bin_act[x]) if len(bin_act[x]) > 0 else 0\n",
    "            hz_stds[i, x] = np.std(bin_act[x]) if len(bin_act[x]) > 1 else 0\n",
    "    return x_bins, hz_means, hz_stds\n",
    "    \n",
    "def isi(all_spikes, dt=0.000025):\n",
    "    nz = []\n",
    "    for n in range(all_spikes.shape[1]):\n",
    "        sts = np.nonzero(all_spikes[:,n])\n",
    "        nz.append((np.diff(sts)*dt).ravel())\n",
    "    return nz"
   ]
  },
  {
   "cell_type": "markdown",
   "metadata": {},
   "source": [
    "# Simulations"
   ]
  },
  {
   "cell_type": "markdown",
   "metadata": {},
   "source": [
    "## Temporal encoding"
   ]
  },
  {
   "cell_type": "code",
   "execution_count": 8,
   "metadata": {},
   "outputs": [],
   "source": [
    "def go_encode(n_neurons=5, t=4*np.pi, max_rates=Uniform(20, 40), intercepts=Uniform(-0.8, 0.8), maxiter=1,\n",
    "        gain_bias_dict=dict(), seed=0, dt=0.001, tau=0.03, n_neurons_pre=100, reg=1e-1, opt=True):\n",
    "\n",
    "    with nengo.Network(seed=0) as model:\n",
    "                    \n",
    "        # Ensembles\n",
    "        u = nengo.Node(lambda t: np.sin(t))\n",
    "        pre = nengo.Ensemble(n_neurons_pre, 1, max_rates=max_rates, seed=0, label='pre')\n",
    "        durstewitz = nengo.Ensemble(n_neurons, 1,\n",
    "            max_rates=max_rates, intercepts=intercepts,\n",
    "            neuron_type=DurstewitzNeuron(), seed=seed, label='durstewitz')\n",
    "\n",
    "        # Connections\n",
    "        nengo.Connection(u, pre, synapse=None, seed=0)\n",
    "        pre_durstewitz = nengo.Connection(pre, durstewitz, synapse=Lowpass(tau), transform=1,\n",
    "            solver=LstsqL2(reg=reg), seed=0, label='pre_durstewitz')\n",
    "\n",
    "        # Probes\n",
    "        p_u = nengo.Probe(u, synapse=None)\n",
    "        p_durstewitz = nengo.Probe(durstewitz.neurons, 'spikes', synapse=None)\n",
    "\n",
    "    if opt:\n",
    "        gain_bias_dict = conn_opt([pre_durstewitz], maxiter=maxiter, pt=True, neurons_per_plot=n_neurons)\n",
    "\n",
    "    with warnings.catch_warnings():\n",
    "        warnings.simplefilter(\"ignore\")\n",
    "        pre_durstewitz.gain = gain_bias_dict['pre_durstewitz']['gain']\n",
    "        pre_durstewitz.bias = gain_bias_dict['pre_durstewitz']['bias']\n",
    "\n",
    "    with nengo.Simulator(model, seed=0, dt=dt) as sim:\n",
    "        sim.run(t)\n",
    "        reset_neuron(sim) \n",
    "        \n",
    "    return dict(\n",
    "        times=sim.trange(sample_every=dt),\n",
    "        u=sim.data[p_u],\n",
    "        durstewitz=sim.data[p_durstewitz])"
   ]
  },
  {
   "cell_type": "code",
   "execution_count": null,
   "metadata": {
    "scrolled": true
   },
   "outputs": [],
   "source": [
    "data_encode = go_encode(n_neurons=5, seed=0, maxiter=10)"
   ]
  },
  {
   "cell_type": "code",
   "execution_count": null,
   "metadata": {},
   "outputs": [],
   "source": [
    "fig, ax = plt.subplots(figsize=((16, 6)))\n",
    "ax.plot(data_encode['times'], Lowpass(0.1).filt(data_encode['durstewitz']))\n",
    "ax.set(xlabel='time (s)', ylabel=r'$a^{\\mathrm{sim}}$ (Hz)', xlim=((0, data_encode['times'][-1])), ylim=((0, 40)))\n",
    "# plt.grid(b=None, axis='y')\n",
    "ax2 = ax.twinx()\n",
    "ax2.plot(data_encode['times'], Lowpass(0.1).filt(data_encode['u']), linestyle=':')\n",
    "ax2.set(ylabel='$\\mathbf{x}$')\n",
    "ax2.grid()\n",
    "ax2.yaxis.set_tick_params(width=5)\n",
    "fig.tight_layout()\n",
    "plt.locator_params(axis='y', nbins=20)\n",
    "# plt.locator_params(axis='x', nbins=10)\n",
    "plt.show()"
   ]
  },
  {
   "cell_type": "code",
   "execution_count": null,
   "metadata": {},
   "outputs": [],
   "source": [
    "data_encode = go_encode(n_neurons=5, seed=2, maxiter=1)"
   ]
  },
  {
   "cell_type": "code",
   "execution_count": null,
   "metadata": {},
   "outputs": [],
   "source": [
    "fig, ax = plt.subplots(figsize=((16, 6)))\n",
    "ax.plot(data_encode['times'], Lowpass(0.1).filt(data_encode['durstewitz']))\n",
    "ax.set(xlabel='time (s)', ylabel=r'$a^{\\mathrm{sim}}$ (Hz)', xlim=((0, data_encode['times'][-1])), ylim=((0, 40)))\n",
    "# plt.grid(b=None, axis='y')\n",
    "ax2 = ax.twinx()\n",
    "ax2.plot(data_encode['times'], Lowpass(0.1).filt(data_encode['u']), linestyle=':')\n",
    "ax2.set(ylabel='$\\mathbf{x}$')\n",
    "ax2.grid()\n",
    "ax2.yaxis.set_tick_params(width=5)\n",
    "fig.tight_layout()\n",
    "plt.locator_params(axis='y', nbins=20)\n",
    "# plt.locator_params(axis='x', nbins=10)\n",
    "plt.show()"
   ]
  },
  {
   "cell_type": "markdown",
   "metadata": {},
   "source": [
    "## Compare voltage traces and interspike intervals"
   ]
  },
  {
   "cell_type": "code",
   "execution_count": null,
   "metadata": {},
   "outputs": [],
   "source": [
    "def go_adapt(n_neurons=1, t=0.5, max_rates=Uniform(40, 40), intercepts=Uniform(-0.8, 0.8), maxiter=5,\n",
    "        gain_bias_dict=dict(), seed=0, dt=0.000025, tau=0.03, n_neurons_pre=100, reg=1e-1, opt=True):\n",
    "\n",
    "    with nengo.Network(seed=0) as model:\n",
    "                    \n",
    "        # Ensembles\n",
    "        u = nengo.Node(lambda t: 1)\n",
    "        pre = nengo.Ensemble(n_neurons_pre, 1, max_rates=max_rates, seed=seed, label='pre')\n",
    "        lif = nengo.Ensemble(n_neurons, 1,\n",
    "            max_rates=max_rates, intercepts=intercepts, encoders=[[1]],\n",
    "            neuron_type=nengo.LIF(), seed=seed, label='lif')\n",
    "        alif = nengo.Ensemble(n_neurons, 1,\n",
    "            max_rates=max_rates, intercepts=intercepts, encoders=[[1]],\n",
    "            neuron_type=AdaptiveLIFT(tau_adapt=0.1, inc_adapt=0.1), seed=seed, label='alif')\n",
    "        wilson = nengo.Ensemble(n_neurons, 1,\n",
    "            max_rates=max_rates, intercepts=intercepts, encoders=[[1]],\n",
    "            neuron_type=WilsonEuler(), seed=seed, label='wilson')\n",
    "        durstewitz = nengo.Ensemble(n_neurons, 1,\n",
    "            max_rates=max_rates, intercepts=intercepts, encoders=[[1]],\n",
    "            neuron_type=DurstewitzNeuron(), seed=seed, label='durstewitz')\n",
    "\n",
    "        # Connections\n",
    "        nengo.Connection(u, pre, synapse=None, seed=seed)\n",
    "        nengo.Connection(pre, lif, synapse=Lowpass(tau), transform=1,\n",
    "            solver=LstsqL2(reg=reg), seed=seed, label='pre_lif')\n",
    "        nengo.Connection(pre, alif, synapse=Lowpass(tau), transform=1,\n",
    "            solver=LstsqL2(reg=reg), seed=seed, label='pre_alif')\n",
    "        nengo.Connection(pre, wilson, synapse=Lowpass(tau), transform=1,\n",
    "            solver=LstsqL2(reg=reg), seed=seed, label='pre_wilson')\n",
    "        pre_durstewitz = nengo.Connection(pre, durstewitz, synapse=Lowpass(tau), transform=1,\n",
    "            solver=LstsqL2(reg=reg), seed=seed, label='pre_durstewitz')\n",
    "\n",
    "        # Probes\n",
    "        p_u = nengo.Probe(u, synapse=None)\n",
    "        p_lif_v = nengo.Probe(lif.neurons, 'voltage', synapse=None)\n",
    "        p_alif_v = nengo.Probe(alif.neurons, 'voltage', synapse=None)\n",
    "        p_wilson_v = nengo.Probe(wilson.neurons, 'voltage', synapse=None)\n",
    "        p_durstewitz_v = nengo.Probe(durstewitz.neurons, 'voltage', synapse=None)\n",
    "        p_lif = nengo.Probe(lif.neurons, 'spikes', synapse=None)\n",
    "        p_alif = nengo.Probe(alif.neurons, 'spikes', synapse=None)\n",
    "        p_wilson = nengo.Probe(wilson.neurons, 'spikes', synapse=None)\n",
    "        p_durstewitz = nengo.Probe(durstewitz.neurons, 'spikes', synapse=None)\n",
    "\n",
    "    if opt:\n",
    "        gain_bias_dict = conn_opt([pre_durstewitz], maxiter=maxiter, pt=False, neurons_per_plot=1)\n",
    "\n",
    "    with warnings.catch_warnings():\n",
    "        warnings.simplefilter(\"ignore\")\n",
    "        pre_durstewitz.gain = gain_bias_dict['pre_durstewitz']['gain']\n",
    "        pre_durstewitz.bias = gain_bias_dict['pre_durstewitz']['bias']\n",
    "\n",
    "    with nengo.Simulator(model, seed=seed, dt=dt) as sim:\n",
    "        sim.run(t)\n",
    "        reset_neuron(sim) \n",
    "        \n",
    "    return dict(\n",
    "        times=sim.trange(sample_every=dt),\n",
    "        u=sim.data[p_u],\n",
    "        lif=sim.data[p_lif],\n",
    "        alif=sim.data[p_alif],\n",
    "        wilson=sim.data[p_wilson],\n",
    "        durstewitz=sim.data[p_durstewitz],\n",
    "        lif_v=sim.data[p_lif_v],\n",
    "        alif_v=sim.data[p_alif_v],\n",
    "        wilson_v=sim.data[p_wilson_v],\n",
    "        durstewitz_v=sim.data[p_durstewitz_v])"
   ]
  },
  {
   "cell_type": "code",
   "execution_count": null,
   "metadata": {},
   "outputs": [],
   "source": [
    "n_trials = 10\n",
    "nts = ['LIF', 'ALIF', 'Wilson', 'Durstewitz']\n",
    "isis = [[] for _ in range(len(nts))]\n",
    "\n",
    "for trial in range(n_trials):\n",
    "    print('trial %s' %trial)\n",
    "    data_adapt = go_adapt(seed=trial, maxiter=10)\n",
    "    all_spikes = np.concatenate((\n",
    "        data_adapt['lif'], data_adapt['alif'], data_adapt['wilson'], data_adapt['durstewitz']), axis=1)\n",
    "    isi_trial = isi(all_spikes)\n",
    "    for nt in range(len(nts)):\n",
    "        isis[nt].append(isi_trial[nt])"
   ]
  },
  {
   "cell_type": "code",
   "execution_count": null,
   "metadata": {},
   "outputs": [],
   "source": [
    "least_spikes = 1e3*np.ones((len(nts)))\n",
    "for nt in range(len(nts)):\n",
    "    for trial in range(n_trials):\n",
    "        if len(isis[nt][trial]) < least_spikes[nt]:\n",
    "            least_spikes[nt] = len(isis[nt][trial])\n",
    "    for trial in range(n_trials):\n",
    "        isis[nt][trial] = np.array(isis[nt][trial])[:int(least_spikes[nt])]\n",
    "    isis[nt] = np.array(isis[nt])\n",
    "\n",
    "df = pd.DataFrame(columns=['spike', 'ISI', 'neuron_type', 'trial'])\n",
    "for nt in range(len(nts)):\n",
    "    for trial in range(n_trials):\n",
    "        for spk in range(len(isis[nt][trial])):\n",
    "            df_new = pd.DataFrame([[spk, isis[nt][trial][spk], nts[nt], trial]],\n",
    "                columns=['spike', 'ISI', 'neuron_type', 'trial'])\n",
    "            df = df.append(df_new, ignore_index=True)\n",
    "\n",
    "sns.set(style='white', context='poster')\n",
    "fig, ax = plt.subplots(figsize=((8, 8)))\n",
    "sns.lineplot(x='spike', y='ISI', hue='neuron_type', data=df)\n",
    "plt.show()"
   ]
  },
  {
   "cell_type": "code",
   "execution_count": null,
   "metadata": {},
   "outputs": [],
   "source": [
    "fig, ax = plt.subplots(figsize=((8, 8)))\n",
    "ax.plot(data_adapt['times'], data_adapt['lif_v']*20, label='LIF')\n",
    "ax.plot(data_adapt['times'], data_adapt['alif_v']*6, label='ALIF')\n",
    "ax.plot(data_adapt['times'], data_adapt['wilson_v']*100, label='Wilson')\n",
    "ax.plot(data_adapt['times'], data_adapt['durstewitz_v'], label='Durstewitz')\n",
    "ax.set(xlabel='time (s)', ylabel='V (mV)', xlim=((0, 0.2)), ylim=((-80, 60)))  # title='adaptation to $J=1$',\n",
    "# plt.legend(loc='upper right')\n",
    "plt.show()"
   ]
  },
  {
   "cell_type": "markdown",
   "metadata": {},
   "source": [
    "## Communication Channel"
   ]
  },
  {
   "cell_type": "code",
   "execution_count": 8,
   "metadata": {},
   "outputs": [],
   "source": [
    "def go_cc(n_neurons=10, t=4*np.pi, max_rates=Uniform(20, 40), intercepts=Uniform(-0.8, 0.8),\n",
    "        maxiter_gainbias=5, stim_func=lambda t: np.sin(t),\n",
    "        gain_bias_dict=dict(), seed=0, dt=0.000025, tau=0.1, n_neurons_pre=100, reg=1e-1, opt=True):\n",
    "\n",
    "    with nengo.Network(seed=0) as model:\n",
    "                    \n",
    "        # Ensembles\n",
    "        u = nengo.Node(stim_func)\n",
    "        pre = nengo.Ensemble(n_neurons_pre, 1, max_rates=max_rates, seed=0, label='pre')\n",
    "        nef = nengo.Ensemble(n_neurons, 1,\n",
    "            max_rates=max_rates, intercepts=intercepts,\n",
    "            neuron_type=nengo.LIF(), seed=0, label='lif')\n",
    "        lif = nengo.Ensemble(n_neurons, 1,\n",
    "            max_rates=max_rates, intercepts=intercepts,\n",
    "            neuron_type=nengo.LIF(), seed=0, label='lif')\n",
    "        alif = nengo.Ensemble(n_neurons, 1,\n",
    "            max_rates=max_rates, intercepts=intercepts,\n",
    "            neuron_type=AdaptiveLIFT(tau_adapt=0.1, inc_adapt=0.1), seed=0, label='alif')\n",
    "        wilson = nengo.Ensemble(n_neurons, 1,\n",
    "            max_rates=max_rates, intercepts=intercepts,\n",
    "            neuron_type=WilsonEuler(), seed=0, label='wilson')\n",
    "        durstewitz = nengo.Ensemble(n_neurons, 1,\n",
    "            max_rates=max_rates, intercepts=intercepts,\n",
    "            neuron_type=DurstewitzNeuron(), seed=0, label='durstewitz')\n",
    "        tar = nengo.Ensemble(1, 1, neuron_type=nengo.Direct())\n",
    "\n",
    "        # Connections\n",
    "        nengo.Connection(u, pre, synapse=None, seed=0)\n",
    "        nengo.Connection(u, tar, synapse=Lowpass(tau), seed=0)\n",
    "        nengo.Connection(pre, nef, synapse=Lowpass(tau),\n",
    "            solver=LstsqL2(reg=reg), seed=0, label='pre_nef')\n",
    "        nengo.Connection(pre, lif, synapse=Lowpass(tau),\n",
    "            solver=LstsqL2(reg=reg), seed=0, label='pre_lif')\n",
    "        nengo.Connection(pre, alif, synapse=Lowpass(tau),\n",
    "            solver=LstsqL2(reg=reg), seed=0, label='pre_alif')\n",
    "        nengo.Connection(pre, wilson, synapse=Lowpass(tau),\n",
    "            solver=LstsqL2(reg=reg), seed=0, label='pre_wilson')\n",
    "        pre_durstewitz = nengo.Connection(pre, durstewitz, synapse=Lowpass(tau),\n",
    "            solver=LstsqL2(reg=reg), seed=0, label='pre_durstewitz')\n",
    "\n",
    "        # Probes\n",
    "        p_u = nengo.Probe(u, synapse=None)\n",
    "        p_tar = nengo.Probe(tar, synapse=None)\n",
    "        p_nef = nengo.Probe(nef, synapse=tau)\n",
    "        p_lif = nengo.Probe(lif.neurons, synapse=None)\n",
    "        p_alif = nengo.Probe(alif.neurons, synapse=None)\n",
    "        p_wilson = nengo.Probe(wilson.neurons, synapse=None)\n",
    "        p_durstewitz = nengo.Probe(durstewitz.neurons, synapse=None)\n",
    "\n",
    "    if opt:\n",
    "        gain_bias_dict = conn_opt([pre_durstewitz], maxiter=maxiter_gainbias, pt=False)\n",
    "\n",
    "    with warnings.catch_warnings():\n",
    "        warnings.simplefilter(\"ignore\")\n",
    "        pre_durstewitz.gain = gain_bias_dict['pre_durstewitz']['gain']\n",
    "        pre_durstewitz.bias = gain_bias_dict['pre_durstewitz']['bias']\n",
    "\n",
    "    with nengo.Simulator(model, seed=0, dt=dt) as sim:\n",
    "        sim.run(t)\n",
    "        reset_neuron(sim) \n",
    "        \n",
    "    return dict(\n",
    "        times=sim.trange(sample_every=dt),\n",
    "        u=sim.data[p_u],\n",
    "        tar=sim.data[p_tar],\n",
    "        nef=sim.data[p_nef],\n",
    "        lif=sim.data[p_lif],\n",
    "        alif=sim.data[p_alif],\n",
    "        wilson=sim.data[p_wilson],\n",
    "        durstewitz=sim.data[p_durstewitz],\n",
    "        gain_bias_dict=gain_bias_dict)"
   ]
  },
  {
   "cell_type": "code",
   "execution_count": 9,
   "metadata": {},
   "outputs": [],
   "source": [
    "def trials_cc(n_neurons, t, tau, dt, maxiter_gainbias, optimize_h, n_trials, pe=False, order=1):\n",
    "    print('optimizing gain and bias')\n",
    "    h_tar = Lowpass(tau)\n",
    "    data_cc = go_cc(n_neurons=n_neurons, t=t, tau=tau, dt=dt,\n",
    "        maxiter_gainbias=maxiter_gainbias)\n",
    "    print('optimizing filters and decoders')\n",
    "    if optimize_h != 'lstsq' and optimize_h != 'hyperopt':\n",
    "        h_lif = Lowpass(tau)\n",
    "        h_alif = Lowpass(tau)\n",
    "        h_wilson = Lowpass(tau)\n",
    "        h_durstewitz = Lowpass(tau)\n",
    "        d_lif = update_d(data_cc['tar'], data_cc['lif'], h_lif, h_tar, lambda_d=1e-1, dt=dt)\n",
    "        d_alif = update_d(data_cc['tar'], data_cc['alif'], h_alif, h_tar, lambda_d=1e-1, dt=dt)\n",
    "        d_wilson = update_d(data_cc['tar'], data_cc['wilson'], h_wilson, h_tar, lambda_d=1e-1, dt=dt)\n",
    "        d_durstewitz = update_d(data_cc['tar'], data_cc['durstewitz'], h_durstewitz, h_tar, lambda_d=1e-1, dt=dt)\n",
    "    elif optimize_h == 'lstsq':\n",
    "        h_lif, d_lif = update_h_lstsq(\n",
    "            data_cc['u'],\n",
    "            data_cc['tar'],\n",
    "            data_cc['lif'],\n",
    "            order=order, dt=dt)\n",
    "        h_alif, d_alif = update_h_lstsq(\n",
    "            data_cc['u'],\n",
    "            data_cc['tar'],\n",
    "            data_cc['alif'],\n",
    "            order=order, dt=dt)\n",
    "        h_wilson, d_wilson = update_h_lstsq(\n",
    "            data_cc['u'],\n",
    "            data_cc['tar'],\n",
    "            data_cc['wilson'],\n",
    "            order=order, dt=dt)\n",
    "        h_durstewitz, d_durstewitz = update_h_lstsq(\n",
    "            data_cc['u'],\n",
    "            data_cc['tar'],\n",
    "            data_cc['durstewitz'],\n",
    "            order=order, dt=dt)\n",
    "    elif optimize_h == 'hyperopt':\n",
    "        h_lif, d_lif = update_h_hyperopt(\n",
    "            h_tar.filt(data_cc['tar'], dt=dt),\n",
    "            data_cc['lif'],\n",
    "            order=order, dt=dt)\n",
    "        h_alif, d_alif = update_h_hyperopt(\n",
    "            h_tar.filt(data_cc['tar'], dt=dt),\n",
    "            data_cc['alif'],\n",
    "            order=order, dt=dt)\n",
    "        h_wilson, d_wilson = update_h_hyperopt(\n",
    "            h_tar.filt(data_cc['tar'], dt=dt),\n",
    "            data_cc['wilson'],\n",
    "            order=order, dt=dt)\n",
    "        h_durstewitz, d_durstewitz = update_h_hyperopt(\n",
    "            h_tar.filt(data_cc['tar'], dt=dt),\n",
    "            data_cc['durstewitz'],\n",
    "            order=order, dt=dt)\n",
    "    print('running experimental trials')\n",
    "    nrmses = np.zeros((5, n_trials))\n",
    "    for trial in range(n_trials):\n",
    "        stim_func = nengo.processes.WhiteSignal(period=2*np.pi, high=1, rms=0.5, seed=trial)\n",
    "        data_cc = go_cc(n_neurons=n_neurons, t=t, tau=tau, dt=dt,\n",
    "            gain_bias_dict=data_cc['gain_bias_dict'], opt=False, stim_func=stim_func)\n",
    "        a_lif = h_lif.filt(data_cc['lif'], dt=dt)\n",
    "        a_alif = h_alif.filt(data_cc['alif'], dt=dt)\n",
    "        a_wilson = h_wilson.filt(data_cc['wilson'], dt=dt)\n",
    "        a_durstewitz = h_durstewitz.filt(data_cc['durstewitz'], dt=dt)\n",
    "        xhat_nef = data_cc['nef']\n",
    "        xhat_lif = np.dot(a_lif, d_lif)\n",
    "        xhat_alif = np.dot(a_alif, d_alif)\n",
    "        xhat_wilson = np.dot(a_wilson, d_wilson)\n",
    "        xhat_durstewitz = np.dot(a_durstewitz, d_durstewitz)\n",
    "        target = h_tar.filt(data_cc['tar'], dt=dt)\n",
    "        nrmses[0, trial] = nrmse(xhat_nef, target=target)\n",
    "        nrmses[1, trial] = nrmse(xhat_lif, target=target)\n",
    "        nrmses[2, trial] = nrmse(xhat_alif, target=target)\n",
    "        nrmses[3, trial] = nrmse(xhat_wilson, target=target)\n",
    "        nrmses[4, trial] = nrmse(xhat_durstewitz, target=target)\n",
    "        if pe:\n",
    "            fig, ax = plt.subplots(figsize=((12, 8)))\n",
    "            ax.plot(data_cc['times'], target, linestyle=\"--\", label='target')\n",
    "            ax.plot(data_cc['times'], xhat_nef, label='NEF, nrmse=%.3f' %nrmses[0, trial])\n",
    "            ax.plot(data_cc['times'], xhat_lif, label='LIF, nrmse=%.3f' %nrmses[1, trial])\n",
    "            ax.plot(data_cc['times'], xhat_alif, label='ALIF, nrmse=%.3f' %nrmses[2, trial])\n",
    "            ax.plot(data_cc['times'], xhat_wilson, label='Wilson, nrmse=%.3f' %nrmses[3, trial])\n",
    "            ax.plot(data_cc['times'], xhat_durstewitz, label='Durstewitz, nrmse=%.3f' %nrmses[4, trial])\n",
    "            ax.set(xlabel='time (s)', ylabel=r'$\\mathbf{x}$')\n",
    "            plt.legend(loc='upper right')\n",
    "            fig.show()\n",
    "    nt_names =  ['LIF\\n(static)', 'LIF\\n(temporal)', 'ALIF', 'Wilson', 'Durstewitz']\n",
    "    fig, ax = plt.subplots(1, 1, figsize=(14, 6))\n",
    "    sns.barplot(data=nrmses.T)\n",
    "    ax.set(ylabel='NRMSE')\n",
    "    plt.xticks(np.arange(len(nt_names)), tuple(nt_names), rotation=0)\n",
    "    plt.show()\n",
    "    return nrmses"
   ]
  },
  {
   "cell_type": "markdown",
   "metadata": {},
   "source": [
    "### no filter optimization"
   ]
  },
  {
   "cell_type": "code",
   "execution_count": null,
   "metadata": {},
   "outputs": [
    {
     "name": "stdout",
     "output_type": "stream",
     "text": [
      "optimizing gain and bias\n",
      "<Connection pre_durstewitz>\n"
     ]
    },
    {
     "name": "stderr",
     "output_type": "stream",
     "text": [
      "/home/pduggins/.virtualenvs/nbn/lib/python3.6/site-packages/nengolib/signal/system.py:197: UserWarning: y0 (None!=0) does not properly initialize the system; see Nengo issue #1124.\n",
      "  \"Nengo issue #1124.\" % y0, UserWarning)\n"
     ]
    },
    {
     "name": "stdout",
     "output_type": "stream",
     "text": [
      "iteration 0, remaining neurons 100\n"
     ]
    },
    {
     "name": "stderr",
     "output_type": "stream",
     "text": [
      "/home/pduggins/.virtualenvs/nbn/lib/python3.6/site-packages/nengolib/signal/system.py:197: UserWarning: y0 (None!=0) does not properly initialize the system; see Nengo issue #1124.\n",
      "  \"Nengo issue #1124.\" % y0, UserWarning)\n"
     ]
    },
    {
     "data": {
      "application/vdom.v1+json": {
       "attributes": {},
       "tagName": "div"
      },
      "text/html": [
       "\n",
       "                <script>\n",
       "                    if (Jupyter.version.split(\".\")[0] < 5) {\n",
       "                        var pb = document.getElementById(\"122c0fd6-3f48-40cb-bffb-cae9490e974a\");\n",
       "                        var text = document.createTextNode(\n",
       "                            \"HMTL progress bar requires Jupyter Notebook >= \" +\n",
       "                            \"5.0 or Jupyter Lab. Alternatively, you can use \" +\n",
       "                            \"TerminalProgressBar().\");\n",
       "                        pb.parentNode.insertBefore(text, pb);\n",
       "                    }\n",
       "                </script>\n",
       "                <div id=\"122c0fd6-3f48-40cb-bffb-cae9490e974a\" style=\"\n",
       "                    width: 100%;\n",
       "                    border: 1px solid #cfcfcf;\n",
       "                    border-radius: 4px;\n",
       "                    text-align: center;\n",
       "                    position: relative;\">\n",
       "                  <div class=\"pb-text\" style=\"\n",
       "                      position: absolute;\n",
       "                      width: 100%;\">\n",
       "                    0%\n",
       "                  </div>\n",
       "                  <div class=\"pb-fill\" style=\"\n",
       "                      background-color: #bdd2e6;\n",
       "                      width: 0%;\">\n",
       "                    <style type=\"text/css\" scoped=\"scoped\">\n",
       "                        @keyframes pb-fill-anim {\n",
       "                            0% { background-position: 0 0; }\n",
       "                            100% { background-position: 100px 0; }\n",
       "                        }\n",
       "                    </style>\n",
       "                    &nbsp;\n",
       "                  </div>\n",
       "                </div>"
      ],
      "text/plain": [
       "HtmlProgressBar cannot be displayed. Please use the TerminalProgressBar. It can be enabled with `nengo.rc.set('progress', 'progress_bar', 'nengo.utils.progress.TerminalProgressBar')`."
      ]
     },
     "metadata": {},
     "output_type": "display_data"
    },
    {
     "data": {
      "application/javascript": [
       "\n",
       "              (function () {\n",
       "                  var root = document.getElementById('122c0fd6-3f48-40cb-bffb-cae9490e974a');\n",
       "                  var text = root.getElementsByClassName('pb-text')[0];\n",
       "                  var fill = root.getElementsByClassName('pb-fill')[0];\n",
       "\n",
       "                  text.innerHTML = 'Simulating&hellip; 4%, ETA: 0:19:14';\n",
       "                  \n",
       "            if (4.249562310997931 > 0.) {\n",
       "                fill.style.transition = 'width 0.1s linear';\n",
       "            } else {\n",
       "                fill.style.transition = 'none';\n",
       "            }\n",
       "\n",
       "            fill.style.width = '4.249562310997931%';\n",
       "            fill.style.animation = 'none';\n",
       "            fill.style.backgroundImage = 'none'\n",
       "        \n",
       "                  \n",
       "              })();\n",
       "        "
      ],
      "application/vdom.v1+json": {
       "attributes": {
        "id": "865fe44d-5b36-4dad-920c-635913fd9d4d",
        "style": {
         "border": "1px solid #cfcfcf",
         "borderRadius": "4px",
         "boxSizing": "border-box",
         "position": "relative",
         "textAlign": "center",
         "width": "100%"
        }
       },
       "children": [
        {
         "attributes": {
          "class": "pb-text",
          "style": {
           "position": "absolute",
           "width": "100%"
          }
         },
         "children": [
          "Simulating… 4%, ETA: 0:19:14"
         ],
         "tagName": "div"
        },
        {
         "attributes": {
          "class": "pb-fill",
          "style": {
           "animation": "none",
           "backgroundColor": "#bdd2e6",
           "backgroundImage": "none",
           "transition": "width 0.1s linear",
           "width": "4%"
          }
         },
         "children": [
          {
           "attributes": {
            "scoped": "scoped",
            "type": "text/css"
           },
           "children": [
            "\n                        @keyframes pb-fill-anim {\n                            0% { background-position: 0 0; }\n                            100% { background-position: 100px 0; }\n                        }}"
           ],
           "tagName": "style"
          },
          " "
         ],
         "tagName": "div"
        }
       ],
       "tagName": "div"
      }
     },
     "metadata": {},
     "output_type": "display_data"
    }
   ],
   "source": [
    "nrmses_none = trials_cc(n_neurons=100, t=4*np.pi, tau=0.1, dt=0.000025, maxiter_gainbias=10, optimize_h='None', n_trials=10)"
   ]
  },
  {
   "cell_type": "markdown",
   "metadata": {},
   "source": [
    "### lstsq filter optimization"
   ]
  },
  {
   "cell_type": "code",
   "execution_count": null,
   "metadata": {},
   "outputs": [],
   "source": [
    "nrmses_lstsq = trials_cc(n_neurons=100, t=4*np.pi, tau=0.1, dt=0.000025, maxiter_gainbias=10, optimize_h='lstsq', n_trials=10)"
   ]
  },
  {
   "cell_type": "markdown",
   "metadata": {},
   "source": [
    "### hyperopt filter optimization"
   ]
  },
  {
   "cell_type": "code",
   "execution_count": null,
   "metadata": {},
   "outputs": [],
   "source": [
    "nrmses_hyperopt = trials_cc(n_neurons=100, t=4*np.pi, tau=0.1, dt=0.000025, maxiter_gainbias=10, optimize_h='hyperopt', n_trials=10)"
   ]
  },
  {
   "cell_type": "markdown",
   "metadata": {},
   "source": [
    "## Computing a Function"
   ]
  },
  {
   "cell_type": "code",
   "execution_count": 34,
   "metadata": {},
   "outputs": [],
   "source": [
    "def go_fx(fx, d_lif, d_alif, d_wilson, d_durstewitz, h_lif, h_alif, h_wilson, h_durstewitz, \n",
    "        n_neurons=10, t=4*np.pi, max_rates=Uniform(20, 40), intercepts=Uniform(-0.8, 0.8), maxiter_gainbias=5,\n",
    "        gain_bias_dict=dict(), seed=0, dt=0.000025, tau=0.1, n_neurons_pre=100, reg=1e-1, opt=True,\n",
    "        stim_func=lambda t: np.sin(t)):\n",
    "\n",
    "    solver_nef = LstsqL2(reg=reg)\n",
    "    solver_lif = NoSolver(d_lif)\n",
    "    solver_alif = NoSolver(d_alif)\n",
    "    solver_wilson = NoSolver(d_wilson)\n",
    "    solver_durstewitz = NoSolver(d_durstewitz)\n",
    "\n",
    "    with nengo.Network(seed=0) as model:\n",
    "                    \n",
    "        # Ensembles\n",
    "        u = nengo.Node(stim_func)\n",
    "        pre = nengo.Ensemble(n_neurons_pre, 1, max_rates=max_rates, seed=0, label='pre')\n",
    "        nef = nengo.Ensemble(n_neurons, 1,\n",
    "            max_rates=max_rates, intercepts=intercepts,\n",
    "            neuron_type=nengo.LIF(), seed=0, label='nef')\n",
    "        lif = nengo.Ensemble(n_neurons, 1,\n",
    "            max_rates=max_rates, intercepts=intercepts,\n",
    "            neuron_type=nengo.LIF(), seed=0, label='lif')\n",
    "        alif = nengo.Ensemble(n_neurons, 1,\n",
    "            max_rates=max_rates, intercepts=intercepts,\n",
    "            neuron_type=AdaptiveLIFT(tau_adapt=0.1, inc_adapt=0.1), seed=0, label='alif')\n",
    "        wilson = nengo.Ensemble(n_neurons, 1,\n",
    "            max_rates=max_rates, intercepts=intercepts,\n",
    "            neuron_type=WilsonEuler(), seed=0, label='wilson')\n",
    "        durstewitz = nengo.Ensemble(n_neurons, 1,\n",
    "            max_rates=max_rates, intercepts=intercepts,\n",
    "            neuron_type=DurstewitzNeuron(), seed=0, label='durstewitz')\n",
    "        nef2 = nengo.Ensemble(n_neurons, 1,\n",
    "            max_rates=max_rates, intercepts=intercepts,\n",
    "            neuron_type=nengo.LIF(), seed=0, label='nef2')\n",
    "        lif2 = nengo.Ensemble(n_neurons, 1,\n",
    "            max_rates=max_rates, intercepts=intercepts,\n",
    "            neuron_type=nengo.LIF(), seed=0, label='lif2')\n",
    "        alif2 = nengo.Ensemble(n_neurons, 1,\n",
    "            max_rates=max_rates, intercepts=intercepts,\n",
    "            neuron_type=AdaptiveLIFT(tau_adapt=0.1, inc_adapt=0.1), seed=0, label='alif2')\n",
    "        wilson2 = nengo.Ensemble(n_neurons, 1,\n",
    "            max_rates=max_rates, intercepts=intercepts,\n",
    "            neuron_type=WilsonEuler(), seed=0, label='wilson2')\n",
    "        durstewitz2 = nengo.Ensemble(n_neurons, 1,\n",
    "            max_rates=max_rates, intercepts=intercepts,\n",
    "            neuron_type=DurstewitzNeuron(), seed=0, label='durstewitz2')\n",
    "        tar = nengo.Ensemble(1, 1, neuron_type=nengo.Direct())\n",
    "        tar2 = nengo.Ensemble(1, 1, neuron_type=nengo.Direct())\n",
    "\n",
    "        # Connections\n",
    "        nengo.Connection(u, pre, synapse=None, seed=0)\n",
    "        nengo.Connection(u, tar, synapse=Lowpass(tau), seed=0, function=fx)\n",
    "        nengo.Connection(tar, tar2, synapse=Lowpass(tau), seed=0)\n",
    "        nengo.Connection(pre, nef, synapse=Lowpass(tau),\n",
    "            solver=LstsqL2(reg=reg), seed=0, label='pre_nef')\n",
    "        nengo.Connection(pre, lif, synapse=Lowpass(tau),\n",
    "            solver=LstsqL2(reg=reg), seed=0, label='pre_lif')\n",
    "        nengo.Connection(pre, alif, synapse=Lowpass(tau),\n",
    "            solver=LstsqL2(reg=reg), seed=0, label='pre_alif')\n",
    "        nengo.Connection(pre, wilson, synapse=Lowpass(tau),\n",
    "            solver=LstsqL2(reg=reg), seed=0, label='pre_wilson')\n",
    "        pre_durstewitz = nengo.Connection(pre, durstewitz, synapse=Lowpass(tau),\n",
    "            solver=LstsqL2(reg=reg), seed=0, label='pre_durstewitz')\n",
    "        nengo.Connection(nef, nef2, synapse=Lowpass(tau),\n",
    "            solver=solver_nef, function=fx, seed=0, label='nef_nef2')\n",
    "        nengo.Connection(lif, lif2, synapse=h_lif,\n",
    "            solver=solver_lif, seed=0, label='lif_lif2')\n",
    "        nengo.Connection(alif, alif2, synapse=h_alif,\n",
    "            solver=solver_alif, seed=0, label='alif_alif2')\n",
    "        nengo.Connection(wilson, wilson2, synapse=h_wilson,\n",
    "            solver=solver_wilson, seed=0, label='wilson_wilson2')\n",
    "        durstewitz_durstewitz2 = nengo.Connection(durstewitz, durstewitz2, synapse=h_durstewitz,\n",
    "            solver=solver_durstewitz, seed=0, label='durstewitz_durstewitz2')\n",
    "\n",
    "        # Probes\n",
    "        p_u = nengo.Probe(u, synapse=None)\n",
    "        p_tar = nengo.Probe(tar, synapse=None)\n",
    "        p_tar2 = nengo.Probe(tar2, synapse=None)\n",
    "        p_nef = nengo.Probe(nef, synapse=tau)\n",
    "        p_lif = nengo.Probe(lif.neurons, synapse=None)\n",
    "        p_alif = nengo.Probe(alif.neurons, synapse=None)\n",
    "        p_wilson = nengo.Probe(wilson.neurons, synapse=None)\n",
    "        p_durstewitz = nengo.Probe(durstewitz.neurons, synapse=None)\n",
    "        p_nef2 = nengo.Probe(nef2, synapse=tau)\n",
    "        p_lif2 = nengo.Probe(lif2.neurons, synapse=None)\n",
    "        p_alif2 = nengo.Probe(alif2.neurons, synapse=None)\n",
    "        p_wilson2 = nengo.Probe(wilson2.neurons, synapse=None)\n",
    "        p_durstewitz2 = nengo.Probe(durstewitz2.neurons, synapse=None)   \n",
    "\n",
    "    if opt:\n",
    "        gain_bias_dict = conn_opt([pre_durstewitz, durstewitz_durstewitz2], maxiter=maxiter_gainbias, pt=False)\n",
    "\n",
    "    with warnings.catch_warnings():\n",
    "        warnings.simplefilter(\"ignore\")\n",
    "        pre_durstewitz.gain = gain_bias_dict['pre_durstewitz']['gain']\n",
    "        pre_durstewitz.bias = gain_bias_dict['pre_durstewitz']['bias']\n",
    "        durstewitz_durstewitz2.gain = gain_bias_dict['durstewitz_durstewitz2']['gain']\n",
    "        durstewitz_durstewitz2.bias = gain_bias_dict['durstewitz_durstewitz2']['bias']\n",
    "\n",
    "    with nengo.Simulator(model, seed=0, dt=dt) as sim:\n",
    "        sim.run(t)\n",
    "        reset_neuron(sim) \n",
    "        \n",
    "    return dict(\n",
    "        times=sim.trange(sample_every=dt),\n",
    "        u=sim.data[p_u],\n",
    "        tar=sim.data[p_tar],\n",
    "        tar2=sim.data[p_tar2],\n",
    "        nef=sim.data[p_nef],\n",
    "        lif=sim.data[p_lif],\n",
    "        alif=sim.data[p_alif],\n",
    "        wilson=sim.data[p_wilson],\n",
    "        durstewitz=sim.data[p_durstewitz],\n",
    "        nef2=sim.data[p_nef2],\n",
    "        lif2=sim.data[p_lif2],\n",
    "        alif2=sim.data[p_alif2],\n",
    "        wilson2=sim.data[p_wilson2],\n",
    "        durstewitz2=sim.data[p_durstewitz2],\n",
    "        gain_bias_dict=gain_bias_dict)"
   ]
  },
  {
   "cell_type": "code",
   "execution_count": 38,
   "metadata": {},
   "outputs": [],
   "source": [
    "def trials_fx(fx, n_neurons, t, tau, dt, maxiter_gainbias, optimize_h, n_trials, pe=False, order=1):\n",
    "    h_lif = Lowpass(tau)\n",
    "    h_alif = Lowpass(tau)\n",
    "    h_wilson = Lowpass(tau)\n",
    "    h_durstewitz = Lowpass(tau)\n",
    "    h_tar = Lowpass(tau)\n",
    "    d_lif = np.zeros((n_neurons, 1))\n",
    "    d_alif = np.zeros((n_neurons, 1))\n",
    "    d_wilson = np.zeros((n_neurons, 1))\n",
    "    d_durstewitz = np.zeros((n_neurons, 1))\n",
    "\n",
    "    print('optimizing gain and bias')\n",
    "    data_fx = go_fx(fx, d_lif, d_alif, d_wilson, d_durstewitz, h_lif, h_alif, h_wilson, h_durstewitz, \n",
    "        n_neurons=n_neurons, tau=tau, dt=dt, maxiter_gainbias=maxiter_gainbias)\n",
    "    if optimize_h != 'lstsq' and optimize_h != 'hyperopt':\n",
    "        d_lif = update_d(data_fx['tar'], data_fx['lif'], h_lif, h_tar, lambda_d=1e-1, dt=dt)\n",
    "        d_alif = update_d(data_fx['tar'], data_fx['alif'], h_alif, h_tar, lambda_d=1e-1, dt=dt)\n",
    "        d_wilson = update_d(data_fx['tar'], data_fx['wilson'], h_wilson, h_tar, lambda_d=1e-1, dt=dt)\n",
    "        d_durstewitz = update_d(data_fx['tar'], data_fx['durstewitz'], h_durstewitz, h_tar, lambda_d=1e-1, dt=dt)\n",
    "    elif optimize_h == 'lstsq':\n",
    "        h_lif, d_lif = update_h_lstsq(\n",
    "            data_fx['u'],\n",
    "            data_fx['tar'],\n",
    "            data_fx['lif'],\n",
    "            order=order, dt=dt)\n",
    "        h_alif, d_alif = update_h_lstsq(\n",
    "            data_fx['u'],\n",
    "            data_fx['tar'],\n",
    "            data_fx['alif'],\n",
    "            order=order, dt=dt)\n",
    "        h_wilson, d_wilson = update_h_lstsq(\n",
    "            data_fx['u'],\n",
    "            data_fx['tar'],\n",
    "            data_fx['wilson'],\n",
    "            order=order, dt=dt)\n",
    "        h_durstewitz, d_durstewitz = update_h_lstsq(\n",
    "            data_fx['u'],\n",
    "            data_fx['tar'],\n",
    "            data_fx['durstewitz'],\n",
    "            order=order, dt=dt)\n",
    "    elif optimize_h == 'hyperopt':\n",
    "        h_lif, d_lif = update_h_hyperopt(\n",
    "            h_tar.filt(data_fx['tar'], dt=dt),\n",
    "            data_fx['lif'],\n",
    "            order=order, dt=dt)\n",
    "        h_alif, d_alif = update_h_hyperopt(\n",
    "            h_tar.filt(data_fx['tar'], dt=dt),\n",
    "            data_fx['alif'],\n",
    "            order=order, dt=dt)\n",
    "        h_wilson, d_wilson = update_h_hyperopt(\n",
    "            h_tar.filt(data_fx['tar'], dt=dt),\n",
    "            data_fx['wilson'],\n",
    "            order=order, dt=dt)\n",
    "        h_durstewitz, d_durstewitz = update_h_hyperopt(\n",
    "            h_tar.filt(data_fx['tar'], dt=dt),\n",
    "            data_fx['durstewitz'],\n",
    "            order=order, dt=dt)\n",
    "\n",
    "    print('optimizing filters and decoders')\n",
    "    data_fx2 = go_fx(fx, d_lif, d_alif, d_wilson, d_durstewitz, h_lif, h_alif, h_wilson, h_durstewitz, \n",
    "        n_neurons=n_neurons, tau=tau, dt=dt, gain_bias_dict=data_fx['gain_bias_dict'], opt=False)\n",
    "    if optimize_h != 'lstsq' and optimize_h != 'hyperopt':\n",
    "        d_lif2 = update_d(data_fx2['tar2'], data_fx2['lif2'], h_lif, h_tar=h_tar, lambda_d=1e-1, dt=dt)\n",
    "        d_alif2 = update_d(data_fx2['tar2'], data_fx2['alif2'], h_alif, h_tar=h_tar, lambda_d=1e-1, dt=dt)\n",
    "        d_wilson2 = update_d(data_fx2['tar2'], data_fx2['wilson2'], h_wilson, h_tar=h_tar, lambda_d=1e-1, dt=dt)\n",
    "        d_durstewitz2 = update_d(data_fx2['tar2'], data_fx2['durstewitz2'], h_durstewitz, h_tar=h_tar, lambda_d=1e-1, dt=dt)\n",
    "    elif optimize_h == 'lstsq':\n",
    "        h_lif2, d_lif2 = update_h_lstsq(\n",
    "            data_fx2['tar'],\n",
    "            data_fx2['tar2'],\n",
    "            data_fx2['lif2'],\n",
    "            order=order, dt=dt)\n",
    "        h_alif2, d_alif2 = update_h_lstsq(\n",
    "            data_fx2['tar'],\n",
    "            data_fx2['tar2'],\n",
    "            data_fx2['alif2'],\n",
    "            order=order, dt=dt)\n",
    "        h_wilson2, d_wilson2 = update_h_lstsq(\n",
    "            data_fx2['tar'],\n",
    "            data_fx2['tar2'],\n",
    "            data_fx2['wilson2'],\n",
    "            order=order, dt=dt)\n",
    "        h_durstewitz2, d_durstewitz2 = update_h_lstsq(\n",
    "            data_fx2['tar'],\n",
    "            data_fx2['tar2'],\n",
    "            data_fx2['durstewitz2'],\n",
    "            order=order, dt=dt)\n",
    "    elif optimize_h == 'hyperopt':\n",
    "        h_lif2, d_lif2 = update_h_hyperopt(\n",
    "            h_tar.filt(data_fx2['tar2'], dt=dt),\n",
    "            data_fx2['lif2'],\n",
    "            order=order, dt=dt)\n",
    "        h_alif2, d_alif2 = update_h_hyperopt(\n",
    "            h_tar.filt(data_fx2['tar2'], dt=dt),\n",
    "            data_fx2['alif2'],\n",
    "            order=order, dt=dt)\n",
    "        h_wilson2, d_wilson2 = update_h_hyperopt(\n",
    "            h_tar.filt(data_fx2['tar2'], dt=dt),\n",
    "            data_fx2['wilson2'],\n",
    "            order=order, dt=dt)\n",
    "        h_durstewitz2, d_durstewitz2 = update_h_hyperopt(\n",
    "            h_tar.filt(data_fx2['tar2'], dt=dt),\n",
    "            data_fx2['durstewitz2'],\n",
    "            order=order, dt=dt)     \n",
    "        \n",
    "    print('running experimental trials')\n",
    "    nrmses = np.zeros((5, n_trials))\n",
    "    for trial in range(n_trials):\n",
    "        stim_func = nengo.processes.WhiteSignal(period=2*np.pi, high=1, rms=0.5, seed=trial)\n",
    "        data_fx_test = go_fx(fx, d_lif, d_alif, d_wilson, d_durstewitz,h_lif, h_alif, h_wilson, h_durstewitz, \n",
    "            n_neurons=n_neurons, tau=tau, dt=dt,\n",
    "            gain_bias_dict=data_fx['gain_bias_dict'], opt=False, stim_func=stim_func)\n",
    "        a_lif2 = h_lif2.filt(data_fx_test['lif2'], dt=dt)\n",
    "        a_alif2 = h_alif2.filt(data_fx_test['alif2'], dt=dt)\n",
    "        a_wilson2 = h_wilson2.filt(data_fx_test['wilson2'], dt=dt)\n",
    "        a_durstewitz2 = h_durstewitz2.filt(data_fx_test['durstewitz2'], dt=dt)\n",
    "        xhat_nef = data_fx_test['nef2']\n",
    "        xhat_lif = np.dot(a_lif2, d_lif2)\n",
    "        xhat_alif = np.dot(a_alif2, d_alif2)\n",
    "        xhat_wilson = np.dot(a_wilson2, d_wilson2)\n",
    "        xhat_durstewitz = np.dot(a_durstewitz2, d_durstewitz2)\n",
    "        target = h_tar.filt(data_fx_test['tar2'], dt=dt)\n",
    "        nrmses[0, trial] = nrmse(xhat_nef, target=target)\n",
    "        nrmses[1, trial] = nrmse(xhat_lif, target=target)\n",
    "        nrmses[2, trial] = nrmse(xhat_alif, target=target)\n",
    "        nrmses[3, trial] = nrmse(xhat_wilson, target=target)\n",
    "        nrmses[4, trial] = nrmse(xhat_durstewitz, target=target)\n",
    "        if pe:\n",
    "            fig, ax = plt.subplots(figsize=((12, 8)))\n",
    "            ax.plot(data_fx_test['times'], target, linestyle=\"--\", label='target')\n",
    "            ax.plot(data_fx_test['times'], xhat_nef, label='NEF, nrmse=%.3f' %nrmses[0, trial])\n",
    "            ax.plot(data_fx_test['times'], xhat_lif, label='LIF, nrmse=%.3f' %nrmses[1, trial])\n",
    "            ax.plot(data_fx_test['times'], xhat_alif, label='ALIF, nrmse=%.3f' %nrmses[2, trial])\n",
    "            ax.plot(data_fx_test['times'], xhat_wilson, label='Wilson, nrmse=%.3f' %nrmses[3, trial])\n",
    "            ax.plot(data_fx_test['times'], xhat_durstewitz, label='Durstewitz, nrmse=%.3f' %nrmses[4, trial])\n",
    "            ax.set(xlabel='time (s)', ylabel=r'$\\mathbf{x}$')\n",
    "            plt.legend(loc='upper right')\n",
    "            fig.show()\n",
    "    nt_names =  ['LIF\\n(static)', 'LIF\\n(temporal)', 'ALIF', 'Wilson', 'Durstewitz']\n",
    "    fig, ax = plt.subplots(1, 1, figsize=(14, 6))\n",
    "    sns.barplot(data=nrmses.T)\n",
    "    ax.set(ylabel='NRMSE')\n",
    "    plt.xticks(np.arange(len(nt_names)), tuple(nt_names), rotation=0)\n",
    "    plt.show()\n",
    "    return nrmses"
   ]
  },
  {
   "cell_type": "code",
   "execution_count": 27,
   "metadata": {},
   "outputs": [],
   "source": [
    "def fx(x): return np.square(x)"
   ]
  },
  {
   "cell_type": "markdown",
   "metadata": {},
   "source": [
    "### no filter optimization"
   ]
  },
  {
   "cell_type": "code",
   "execution_count": 28,
   "metadata": {},
   "outputs": [
    {
     "name": "stdout",
     "output_type": "stream",
     "text": [
      "optimizing gain and bias\n",
      "<Connection pre_durstewitz>\n"
     ]
    },
    {
     "name": "stderr",
     "output_type": "stream",
     "text": [
      "/home/pduggins/.virtualenvs/nbn/lib/python3.6/site-packages/nengolib/signal/system.py:197: UserWarning: y0 (None!=0) does not properly initialize the system; see Nengo issue #1124.\n",
      "  \"Nengo issue #1124.\" % y0, UserWarning)\n"
     ]
    },
    {
     "name": "stdout",
     "output_type": "stream",
     "text": [
      "iteration 0, remaining neurons 10\n"
     ]
    },
    {
     "name": "stderr",
     "output_type": "stream",
     "text": [
      "/home/pduggins/.virtualenvs/nbn/lib/python3.6/site-packages/nengolib/signal/system.py:197: UserWarning: y0 (None!=0) does not properly initialize the system; see Nengo issue #1124.\n",
      "  \"Nengo issue #1124.\" % y0, UserWarning)\n"
     ]
    },
    {
     "data": {
      "application/vdom.v1+json": {
       "attributes": {},
       "tagName": "div"
      },
      "text/html": [
       "\n",
       "                <script>\n",
       "                    if (Jupyter.version.split(\".\")[0] < 5) {\n",
       "                        var pb = document.getElementById(\"24b32cf6-c4cd-4145-b246-8dd81760d703\");\n",
       "                        var text = document.createTextNode(\n",
       "                            \"HMTL progress bar requires Jupyter Notebook >= \" +\n",
       "                            \"5.0 or Jupyter Lab. Alternatively, you can use \" +\n",
       "                            \"TerminalProgressBar().\");\n",
       "                        pb.parentNode.insertBefore(text, pb);\n",
       "                    }\n",
       "                </script>\n",
       "                <div id=\"24b32cf6-c4cd-4145-b246-8dd81760d703\" style=\"\n",
       "                    width: 100%;\n",
       "                    border: 1px solid #cfcfcf;\n",
       "                    border-radius: 4px;\n",
       "                    text-align: center;\n",
       "                    position: relative;\">\n",
       "                  <div class=\"pb-text\" style=\"\n",
       "                      position: absolute;\n",
       "                      width: 100%;\">\n",
       "                    0%\n",
       "                  </div>\n",
       "                  <div class=\"pb-fill\" style=\"\n",
       "                      background-color: #bdd2e6;\n",
       "                      width: 0%;\">\n",
       "                    <style type=\"text/css\" scoped=\"scoped\">\n",
       "                        @keyframes pb-fill-anim {\n",
       "                            0% { background-position: 0 0; }\n",
       "                            100% { background-position: 100px 0; }\n",
       "                        }\n",
       "                    </style>\n",
       "                    &nbsp;\n",
       "                  </div>\n",
       "                </div>"
      ],
      "text/plain": [
       "HtmlProgressBar cannot be displayed. Please use the TerminalProgressBar. It can be enabled with `nengo.rc.set('progress', 'progress_bar', 'nengo.utils.progress.TerminalProgressBar')`."
      ]
     },
     "metadata": {},
     "output_type": "display_data"
    },
    {
     "data": {
      "application/javascript": [
       "\n",
       "              (function () {\n",
       "                  var root = document.getElementById('24b32cf6-c4cd-4145-b246-8dd81760d703');\n",
       "                  var text = root.getElementsByClassName('pb-text')[0];\n",
       "                  var fill = root.getElementsByClassName('pb-fill')[0];\n",
       "\n",
       "                  text.innerHTML = 'Simulation finished in 0:02:04.';\n",
       "                  \n",
       "            if (100.0 > 0.) {\n",
       "                fill.style.transition = 'width 0.1s linear';\n",
       "            } else {\n",
       "                fill.style.transition = 'none';\n",
       "            }\n",
       "\n",
       "            fill.style.width = '100.0%';\n",
       "            fill.style.animation = 'none';\n",
       "            fill.style.backgroundImage = 'none'\n",
       "        \n",
       "                  \n",
       "                fill.style.animation = 'none';\n",
       "                fill.style.backgroundImage = 'none';\n",
       "            \n",
       "              })();\n",
       "        "
      ],
      "application/vdom.v1+json": {
       "attributes": {
        "id": "a8500c01-e14c-4349-8830-2e765e53bd23",
        "style": {
         "border": "1px solid #cfcfcf",
         "borderRadius": "4px",
         "boxSizing": "border-box",
         "position": "relative",
         "textAlign": "center",
         "width": "100%"
        }
       },
       "children": [
        {
         "attributes": {
          "class": "pb-text",
          "style": {
           "position": "absolute",
           "width": "100%"
          }
         },
         "children": [
          "Simulation finished in 0:02:04."
         ],
         "tagName": "div"
        },
        {
         "attributes": {
          "class": "pb-fill",
          "style": {
           "animation": "none",
           "backgroundColor": "#bdd2e6",
           "backgroundImage": "none",
           "transition": "width 0.1s linear",
           "width": "100%"
          }
         },
         "children": [
          {
           "attributes": {
            "scoped": "scoped",
            "type": "text/css"
           },
           "children": [
            "\n                        @keyframes pb-fill-anim {\n                            0% { background-position: 0 0; }\n                            100% { background-position: 100px 0; }\n                        }}"
           ],
           "tagName": "style"
          },
          " "
         ],
         "tagName": "div"
        }
       ],
       "tagName": "div"
      }
     },
     "metadata": {},
     "output_type": "display_data"
    },
    {
     "name": "stdout",
     "output_type": "stream",
     "text": [
      "<Connection durstewitz_durstewitz2>\n",
      "iteration 0, remaining neurons 10\n"
     ]
    },
    {
     "name": "stderr",
     "output_type": "stream",
     "text": [
      "/home/pduggins/.virtualenvs/nbn/lib/python3.6/site-packages/nengolib/signal/system.py:197: UserWarning: y0 (None!=0) does not properly initialize the system; see Nengo issue #1124.\n",
      "  \"Nengo issue #1124.\" % y0, UserWarning)\n"
     ]
    },
    {
     "data": {
      "application/vdom.v1+json": {
       "attributes": {},
       "tagName": "div"
      },
      "text/html": [
       "\n",
       "                <script>\n",
       "                    if (Jupyter.version.split(\".\")[0] < 5) {\n",
       "                        var pb = document.getElementById(\"fdfc8cbe-af51-4935-ac8a-a453cbc57d6b\");\n",
       "                        var text = document.createTextNode(\n",
       "                            \"HMTL progress bar requires Jupyter Notebook >= \" +\n",
       "                            \"5.0 or Jupyter Lab. Alternatively, you can use \" +\n",
       "                            \"TerminalProgressBar().\");\n",
       "                        pb.parentNode.insertBefore(text, pb);\n",
       "                    }\n",
       "                </script>\n",
       "                <div id=\"fdfc8cbe-af51-4935-ac8a-a453cbc57d6b\" style=\"\n",
       "                    width: 100%;\n",
       "                    border: 1px solid #cfcfcf;\n",
       "                    border-radius: 4px;\n",
       "                    text-align: center;\n",
       "                    position: relative;\">\n",
       "                  <div class=\"pb-text\" style=\"\n",
       "                      position: absolute;\n",
       "                      width: 100%;\">\n",
       "                    0%\n",
       "                  </div>\n",
       "                  <div class=\"pb-fill\" style=\"\n",
       "                      background-color: #bdd2e6;\n",
       "                      width: 0%;\">\n",
       "                    <style type=\"text/css\" scoped=\"scoped\">\n",
       "                        @keyframes pb-fill-anim {\n",
       "                            0% { background-position: 0 0; }\n",
       "                            100% { background-position: 100px 0; }\n",
       "                        }\n",
       "                    </style>\n",
       "                    &nbsp;\n",
       "                  </div>\n",
       "                </div>"
      ],
      "text/plain": [
       "HtmlProgressBar cannot be displayed. Please use the TerminalProgressBar. It can be enabled with `nengo.rc.set('progress', 'progress_bar', 'nengo.utils.progress.TerminalProgressBar')`."
      ]
     },
     "metadata": {},
     "output_type": "display_data"
    },
    {
     "data": {
      "application/javascript": [
       "\n",
       "              (function () {\n",
       "                  var root = document.getElementById('fdfc8cbe-af51-4935-ac8a-a453cbc57d6b');\n",
       "                  var text = root.getElementsByClassName('pb-text')[0];\n",
       "                  var fill = root.getElementsByClassName('pb-fill')[0];\n",
       "\n",
       "                  text.innerHTML = 'Simulation finished in 0:00:43.';\n",
       "                  \n",
       "            if (100.0 > 0.) {\n",
       "                fill.style.transition = 'width 0.1s linear';\n",
       "            } else {\n",
       "                fill.style.transition = 'none';\n",
       "            }\n",
       "\n",
       "            fill.style.width = '100.0%';\n",
       "            fill.style.animation = 'none';\n",
       "            fill.style.backgroundImage = 'none'\n",
       "        \n",
       "                  \n",
       "                fill.style.animation = 'none';\n",
       "                fill.style.backgroundImage = 'none';\n",
       "            \n",
       "              })();\n",
       "        "
      ],
      "application/vdom.v1+json": {
       "attributes": {
        "id": "6994af10-ee02-431c-9b61-a1efb8a3fa5a",
        "style": {
         "border": "1px solid #cfcfcf",
         "borderRadius": "4px",
         "boxSizing": "border-box",
         "position": "relative",
         "textAlign": "center",
         "width": "100%"
        }
       },
       "children": [
        {
         "attributes": {
          "class": "pb-text",
          "style": {
           "position": "absolute",
           "width": "100%"
          }
         },
         "children": [
          "Simulation finished in 0:00:43."
         ],
         "tagName": "div"
        },
        {
         "attributes": {
          "class": "pb-fill",
          "style": {
           "animation": "none",
           "backgroundColor": "#bdd2e6",
           "backgroundImage": "none",
           "transition": "width 0.1s linear",
           "width": "100%"
          }
         },
         "children": [
          {
           "attributes": {
            "scoped": "scoped",
            "type": "text/css"
           },
           "children": [
            "\n                        @keyframes pb-fill-anim {\n                            0% { background-position: 0 0; }\n                            100% { background-position: 100px 0; }\n                        }}"
           ],
           "tagName": "style"
          },
          " "
         ],
         "tagName": "div"
        }
       ],
       "tagName": "div"
      }
     },
     "metadata": {},
     "output_type": "display_data"
    },
    {
     "data": {
      "application/vdom.v1+json": {
       "attributes": {},
       "tagName": "div"
      },
      "text/html": [
       "\n",
       "                <script>\n",
       "                    if (Jupyter.version.split(\".\")[0] < 5) {\n",
       "                        var pb = document.getElementById(\"b05d97b6-9a76-4b11-a7ff-7819cc494247\");\n",
       "                        var text = document.createTextNode(\n",
       "                            \"HMTL progress bar requires Jupyter Notebook >= \" +\n",
       "                            \"5.0 or Jupyter Lab. Alternatively, you can use \" +\n",
       "                            \"TerminalProgressBar().\");\n",
       "                        pb.parentNode.insertBefore(text, pb);\n",
       "                    }\n",
       "                </script>\n",
       "                <div id=\"b05d97b6-9a76-4b11-a7ff-7819cc494247\" style=\"\n",
       "                    width: 100%;\n",
       "                    border: 1px solid #cfcfcf;\n",
       "                    border-radius: 4px;\n",
       "                    text-align: center;\n",
       "                    position: relative;\">\n",
       "                  <div class=\"pb-text\" style=\"\n",
       "                      position: absolute;\n",
       "                      width: 100%;\">\n",
       "                    0%\n",
       "                  </div>\n",
       "                  <div class=\"pb-fill\" style=\"\n",
       "                      background-color: #bdd2e6;\n",
       "                      width: 0%;\">\n",
       "                    <style type=\"text/css\" scoped=\"scoped\">\n",
       "                        @keyframes pb-fill-anim {\n",
       "                            0% { background-position: 0 0; }\n",
       "                            100% { background-position: 100px 0; }\n",
       "                        }\n",
       "                    </style>\n",
       "                    &nbsp;\n",
       "                  </div>\n",
       "                </div>"
      ],
      "text/plain": [
       "HtmlProgressBar cannot be displayed. Please use the TerminalProgressBar. It can be enabled with `nengo.rc.set('progress', 'progress_bar', 'nengo.utils.progress.TerminalProgressBar')`."
      ]
     },
     "metadata": {},
     "output_type": "display_data"
    },
    {
     "data": {
      "application/javascript": [
       "\n",
       "              (function () {\n",
       "                  var root = document.getElementById('b05d97b6-9a76-4b11-a7ff-7819cc494247');\n",
       "                  var text = root.getElementsByClassName('pb-text')[0];\n",
       "                  var fill = root.getElementsByClassName('pb-fill')[0];\n",
       "\n",
       "                  text.innerHTML = 'Build finished in 0:00:12.';\n",
       "                  \n",
       "            fill.style.width = '100%';\n",
       "            fill.style.animation = 'pb-fill-anim 2s linear infinite';\n",
       "            fill.style.backgroundSize = '100px 100%';\n",
       "            fill.style.backgroundImage = 'repeating-linear-gradient(' +\n",
       "                '90deg, #bdd2e6, #edf2f8 40%, #bdd2e6 80%, #bdd2e6)';\n",
       "        \n",
       "                  \n",
       "                fill.style.animation = 'none';\n",
       "                fill.style.backgroundImage = 'none';\n",
       "            \n",
       "              })();\n",
       "        "
      ],
      "application/vdom.v1+json": {
       "attributes": {
        "id": "c8edbec4-f3e4-4227-9c46-c13da9b0f96f",
        "style": {
         "border": "1px solid #cfcfcf",
         "borderRadius": "4px",
         "boxSizing": "border-box",
         "position": "relative",
         "textAlign": "center",
         "width": "100%"
        }
       },
       "children": [
        {
         "attributes": {
          "class": "pb-text",
          "style": {
           "position": "absolute",
           "width": "100%"
          }
         },
         "children": [
          "Build finished in 0:00:12."
         ],
         "tagName": "div"
        },
        {
         "attributes": {
          "class": "pb-fill",
          "style": {
           "animation": "none",
           "backgroundColor": "#bdd2e6",
           "backgroundImage": "none",
           "backgroundSize": "100px 100%",
           "width": "100%"
          }
         },
         "children": [
          {
           "attributes": {
            "scoped": "scoped",
            "type": "text/css"
           },
           "children": [
            "\n                        @keyframes pb-fill-anim {\n                            0% { background-position: 0 0; }\n                            100% { background-position: 100px 0; }\n                        }}"
           ],
           "tagName": "style"
          },
          " "
         ],
         "tagName": "div"
        }
       ],
       "tagName": "div"
      }
     },
     "metadata": {},
     "output_type": "display_data"
    },
    {
     "name": "stderr",
     "output_type": "stream",
     "text": [
      "/home/pduggins/.virtualenvs/nbn/lib/python3.6/site-packages/nengolib/signal/system.py:197: UserWarning: y0 (None!=0) does not properly initialize the system; see Nengo issue #1124.\n",
      "  \"Nengo issue #1124.\" % y0, UserWarning)\n",
      "/home/pduggins/.virtualenvs/nbn/lib/python3.6/site-packages/nengolib/signal/system.py:197: UserWarning: y0 (None!=0) does not properly initialize the system; see Nengo issue #1124.\n",
      "  \"Nengo issue #1124.\" % y0, UserWarning)\n",
      "/home/pduggins/.virtualenvs/nbn/lib/python3.6/site-packages/nengolib/signal/system.py:197: UserWarning: y0 (None!=0) does not properly initialize the system; see Nengo issue #1124.\n",
      "  \"Nengo issue #1124.\" % y0, UserWarning)\n"
     ]
    },
    {
     "data": {
      "application/vdom.v1+json": {
       "attributes": {},
       "tagName": "div"
      },
      "text/html": [
       "\n",
       "                <script>\n",
       "                    if (Jupyter.version.split(\".\")[0] < 5) {\n",
       "                        var pb = document.getElementById(\"b589de67-a4f6-415c-b342-7b9e2360d95f\");\n",
       "                        var text = document.createTextNode(\n",
       "                            \"HMTL progress bar requires Jupyter Notebook >= \" +\n",
       "                            \"5.0 or Jupyter Lab. Alternatively, you can use \" +\n",
       "                            \"TerminalProgressBar().\");\n",
       "                        pb.parentNode.insertBefore(text, pb);\n",
       "                    }\n",
       "                </script>\n",
       "                <div id=\"b589de67-a4f6-415c-b342-7b9e2360d95f\" style=\"\n",
       "                    width: 100%;\n",
       "                    border: 1px solid #cfcfcf;\n",
       "                    border-radius: 4px;\n",
       "                    text-align: center;\n",
       "                    position: relative;\">\n",
       "                  <div class=\"pb-text\" style=\"\n",
       "                      position: absolute;\n",
       "                      width: 100%;\">\n",
       "                    0%\n",
       "                  </div>\n",
       "                  <div class=\"pb-fill\" style=\"\n",
       "                      background-color: #bdd2e6;\n",
       "                      width: 0%;\">\n",
       "                    <style type=\"text/css\" scoped=\"scoped\">\n",
       "                        @keyframes pb-fill-anim {\n",
       "                            0% { background-position: 0 0; }\n",
       "                            100% { background-position: 100px 0; }\n",
       "                        }\n",
       "                    </style>\n",
       "                    &nbsp;\n",
       "                  </div>\n",
       "                </div>"
      ],
      "text/plain": [
       "HtmlProgressBar cannot be displayed. Please use the TerminalProgressBar. It can be enabled with `nengo.rc.set('progress', 'progress_bar', 'nengo.utils.progress.TerminalProgressBar')`."
      ]
     },
     "metadata": {},
     "output_type": "display_data"
    },
    {
     "data": {
      "application/javascript": [
       "\n",
       "              (function () {\n",
       "                  var root = document.getElementById('b589de67-a4f6-415c-b342-7b9e2360d95f');\n",
       "                  var text = root.getElementsByClassName('pb-text')[0];\n",
       "                  var fill = root.getElementsByClassName('pb-fill')[0];\n",
       "\n",
       "                  text.innerHTML = 'Simulation finished in 0:03:10.';\n",
       "                  \n",
       "            if (100.0 > 0.) {\n",
       "                fill.style.transition = 'width 0.1s linear';\n",
       "            } else {\n",
       "                fill.style.transition = 'none';\n",
       "            }\n",
       "\n",
       "            fill.style.width = '100.0%';\n",
       "            fill.style.animation = 'none';\n",
       "            fill.style.backgroundImage = 'none'\n",
       "        \n",
       "                  \n",
       "                fill.style.animation = 'none';\n",
       "                fill.style.backgroundImage = 'none';\n",
       "            \n",
       "              })();\n",
       "        "
      ],
      "application/vdom.v1+json": {
       "attributes": {
        "id": "6c07c6a5-b5a7-40e1-ada7-3266120accd5",
        "style": {
         "border": "1px solid #cfcfcf",
         "borderRadius": "4px",
         "boxSizing": "border-box",
         "position": "relative",
         "textAlign": "center",
         "width": "100%"
        }
       },
       "children": [
        {
         "attributes": {
          "class": "pb-text",
          "style": {
           "position": "absolute",
           "width": "100%"
          }
         },
         "children": [
          "Simulation finished in 0:03:10."
         ],
         "tagName": "div"
        },
        {
         "attributes": {
          "class": "pb-fill",
          "style": {
           "animation": "none",
           "backgroundColor": "#bdd2e6",
           "backgroundImage": "none",
           "transition": "width 0.1s linear",
           "width": "100%"
          }
         },
         "children": [
          {
           "attributes": {
            "scoped": "scoped",
            "type": "text/css"
           },
           "children": [
            "\n                        @keyframes pb-fill-anim {\n                            0% { background-position: 0 0; }\n                            100% { background-position: 100px 0; }\n                        }}"
           ],
           "tagName": "style"
          },
          " "
         ],
         "tagName": "div"
        }
       ],
       "tagName": "div"
      }
     },
     "metadata": {},
     "output_type": "display_data"
    },
    {
     "name": "stdout",
     "output_type": "stream",
     "text": [
      "optimizing filters and decoders\n"
     ]
    },
    {
     "data": {
      "application/vdom.v1+json": {
       "attributes": {},
       "tagName": "div"
      },
      "text/html": [
       "\n",
       "                <script>\n",
       "                    if (Jupyter.version.split(\".\")[0] < 5) {\n",
       "                        var pb = document.getElementById(\"b0ef2b99-4f4d-4f7f-bd30-3767bc982e7c\");\n",
       "                        var text = document.createTextNode(\n",
       "                            \"HMTL progress bar requires Jupyter Notebook >= \" +\n",
       "                            \"5.0 or Jupyter Lab. Alternatively, you can use \" +\n",
       "                            \"TerminalProgressBar().\");\n",
       "                        pb.parentNode.insertBefore(text, pb);\n",
       "                    }\n",
       "                </script>\n",
       "                <div id=\"b0ef2b99-4f4d-4f7f-bd30-3767bc982e7c\" style=\"\n",
       "                    width: 100%;\n",
       "                    border: 1px solid #cfcfcf;\n",
       "                    border-radius: 4px;\n",
       "                    text-align: center;\n",
       "                    position: relative;\">\n",
       "                  <div class=\"pb-text\" style=\"\n",
       "                      position: absolute;\n",
       "                      width: 100%;\">\n",
       "                    0%\n",
       "                  </div>\n",
       "                  <div class=\"pb-fill\" style=\"\n",
       "                      background-color: #bdd2e6;\n",
       "                      width: 0%;\">\n",
       "                    <style type=\"text/css\" scoped=\"scoped\">\n",
       "                        @keyframes pb-fill-anim {\n",
       "                            0% { background-position: 0 0; }\n",
       "                            100% { background-position: 100px 0; }\n",
       "                        }\n",
       "                    </style>\n",
       "                    &nbsp;\n",
       "                  </div>\n",
       "                </div>"
      ],
      "text/plain": [
       "HtmlProgressBar cannot be displayed. Please use the TerminalProgressBar. It can be enabled with `nengo.rc.set('progress', 'progress_bar', 'nengo.utils.progress.TerminalProgressBar')`."
      ]
     },
     "metadata": {},
     "output_type": "display_data"
    },
    {
     "data": {
      "application/javascript": [
       "\n",
       "              (function () {\n",
       "                  var root = document.getElementById('b0ef2b99-4f4d-4f7f-bd30-3767bc982e7c');\n",
       "                  var text = root.getElementsByClassName('pb-text')[0];\n",
       "                  var fill = root.getElementsByClassName('pb-fill')[0];\n",
       "\n",
       "                  text.innerHTML = 'Build finished in 0:00:14.';\n",
       "                  \n",
       "            fill.style.width = '100%';\n",
       "            fill.style.animation = 'pb-fill-anim 2s linear infinite';\n",
       "            fill.style.backgroundSize = '100px 100%';\n",
       "            fill.style.backgroundImage = 'repeating-linear-gradient(' +\n",
       "                '90deg, #bdd2e6, #edf2f8 40%, #bdd2e6 80%, #bdd2e6)';\n",
       "        \n",
       "                  \n",
       "                fill.style.animation = 'none';\n",
       "                fill.style.backgroundImage = 'none';\n",
       "            \n",
       "              })();\n",
       "        "
      ],
      "application/vdom.v1+json": {
       "attributes": {
        "id": "24ea837f-8ee9-4057-b716-006b9029006c",
        "style": {
         "border": "1px solid #cfcfcf",
         "borderRadius": "4px",
         "boxSizing": "border-box",
         "position": "relative",
         "textAlign": "center",
         "width": "100%"
        }
       },
       "children": [
        {
         "attributes": {
          "class": "pb-text",
          "style": {
           "position": "absolute",
           "width": "100%"
          }
         },
         "children": [
          "Build finished in 0:00:14."
         ],
         "tagName": "div"
        },
        {
         "attributes": {
          "class": "pb-fill",
          "style": {
           "animation": "none",
           "backgroundColor": "#bdd2e6",
           "backgroundImage": "none",
           "backgroundSize": "100px 100%",
           "width": "100%"
          }
         },
         "children": [
          {
           "attributes": {
            "scoped": "scoped",
            "type": "text/css"
           },
           "children": [
            "\n                        @keyframes pb-fill-anim {\n                            0% { background-position: 0 0; }\n                            100% { background-position: 100px 0; }\n                        }}"
           ],
           "tagName": "style"
          },
          " "
         ],
         "tagName": "div"
        }
       ],
       "tagName": "div"
      }
     },
     "metadata": {},
     "output_type": "display_data"
    },
    {
     "name": "stderr",
     "output_type": "stream",
     "text": [
      "/home/pduggins/.virtualenvs/nbn/lib/python3.6/site-packages/nengolib/signal/system.py:197: UserWarning: y0 (None!=0) does not properly initialize the system; see Nengo issue #1124.\n",
      "  \"Nengo issue #1124.\" % y0, UserWarning)\n",
      "/home/pduggins/.virtualenvs/nbn/lib/python3.6/site-packages/nengolib/signal/system.py:197: UserWarning: y0 (None!=0) does not properly initialize the system; see Nengo issue #1124.\n",
      "  \"Nengo issue #1124.\" % y0, UserWarning)\n",
      "/home/pduggins/.virtualenvs/nbn/lib/python3.6/site-packages/nengolib/signal/system.py:197: UserWarning: y0 (None!=0) does not properly initialize the system; see Nengo issue #1124.\n",
      "  \"Nengo issue #1124.\" % y0, UserWarning)\n"
     ]
    },
    {
     "data": {
      "application/vdom.v1+json": {
       "attributes": {},
       "tagName": "div"
      },
      "text/html": [
       "\n",
       "                <script>\n",
       "                    if (Jupyter.version.split(\".\")[0] < 5) {\n",
       "                        var pb = document.getElementById(\"1b92affa-4fe8-4106-b8a6-a037e2a79d56\");\n",
       "                        var text = document.createTextNode(\n",
       "                            \"HMTL progress bar requires Jupyter Notebook >= \" +\n",
       "                            \"5.0 or Jupyter Lab. Alternatively, you can use \" +\n",
       "                            \"TerminalProgressBar().\");\n",
       "                        pb.parentNode.insertBefore(text, pb);\n",
       "                    }\n",
       "                </script>\n",
       "                <div id=\"1b92affa-4fe8-4106-b8a6-a037e2a79d56\" style=\"\n",
       "                    width: 100%;\n",
       "                    border: 1px solid #cfcfcf;\n",
       "                    border-radius: 4px;\n",
       "                    text-align: center;\n",
       "                    position: relative;\">\n",
       "                  <div class=\"pb-text\" style=\"\n",
       "                      position: absolute;\n",
       "                      width: 100%;\">\n",
       "                    0%\n",
       "                  </div>\n",
       "                  <div class=\"pb-fill\" style=\"\n",
       "                      background-color: #bdd2e6;\n",
       "                      width: 0%;\">\n",
       "                    <style type=\"text/css\" scoped=\"scoped\">\n",
       "                        @keyframes pb-fill-anim {\n",
       "                            0% { background-position: 0 0; }\n",
       "                            100% { background-position: 100px 0; }\n",
       "                        }\n",
       "                    </style>\n",
       "                    &nbsp;\n",
       "                  </div>\n",
       "                </div>"
      ],
      "text/plain": [
       "HtmlProgressBar cannot be displayed. Please use the TerminalProgressBar. It can be enabled with `nengo.rc.set('progress', 'progress_bar', 'nengo.utils.progress.TerminalProgressBar')`."
      ]
     },
     "metadata": {},
     "output_type": "display_data"
    },
    {
     "data": {
      "application/javascript": [
       "\n",
       "              (function () {\n",
       "                  var root = document.getElementById('1b92affa-4fe8-4106-b8a6-a037e2a79d56');\n",
       "                  var text = root.getElementsByClassName('pb-text')[0];\n",
       "                  var fill = root.getElementsByClassName('pb-fill')[0];\n",
       "\n",
       "                  text.innerHTML = 'Simulation finished in 0:03:12.';\n",
       "                  \n",
       "            if (100.0 > 0.) {\n",
       "                fill.style.transition = 'width 0.1s linear';\n",
       "            } else {\n",
       "                fill.style.transition = 'none';\n",
       "            }\n",
       "\n",
       "            fill.style.width = '100.0%';\n",
       "            fill.style.animation = 'none';\n",
       "            fill.style.backgroundImage = 'none'\n",
       "        \n",
       "                  \n",
       "                fill.style.animation = 'none';\n",
       "                fill.style.backgroundImage = 'none';\n",
       "            \n",
       "              })();\n",
       "        "
      ],
      "application/vdom.v1+json": {
       "attributes": {
        "id": "789378ee-1064-4dd0-9f84-f5f609831a4a",
        "style": {
         "border": "1px solid #cfcfcf",
         "borderRadius": "4px",
         "boxSizing": "border-box",
         "position": "relative",
         "textAlign": "center",
         "width": "100%"
        }
       },
       "children": [
        {
         "attributes": {
          "class": "pb-text",
          "style": {
           "position": "absolute",
           "width": "100%"
          }
         },
         "children": [
          "Simulation finished in 0:03:12."
         ],
         "tagName": "div"
        },
        {
         "attributes": {
          "class": "pb-fill",
          "style": {
           "animation": "none",
           "backgroundColor": "#bdd2e6",
           "backgroundImage": "none",
           "transition": "width 0.1s linear",
           "width": "100%"
          }
         },
         "children": [
          {
           "attributes": {
            "scoped": "scoped",
            "type": "text/css"
           },
           "children": [
            "\n                        @keyframes pb-fill-anim {\n                            0% { background-position: 0 0; }\n                            100% { background-position: 100px 0; }\n                        }}"
           ],
           "tagName": "style"
          },
          " "
         ],
         "tagName": "div"
        }
       ],
       "tagName": "div"
      }
     },
     "metadata": {},
     "output_type": "display_data"
    },
    {
     "name": "stdout",
     "output_type": "stream",
     "text": [
      "running experimental trials\n"
     ]
    },
    {
     "data": {
      "application/vdom.v1+json": {
       "attributes": {},
       "tagName": "div"
      },
      "text/html": [
       "\n",
       "                <script>\n",
       "                    if (Jupyter.version.split(\".\")[0] < 5) {\n",
       "                        var pb = document.getElementById(\"7c168b1b-3f59-44a2-8dd4-9e9c9d2634ef\");\n",
       "                        var text = document.createTextNode(\n",
       "                            \"HMTL progress bar requires Jupyter Notebook >= \" +\n",
       "                            \"5.0 or Jupyter Lab. Alternatively, you can use \" +\n",
       "                            \"TerminalProgressBar().\");\n",
       "                        pb.parentNode.insertBefore(text, pb);\n",
       "                    }\n",
       "                </script>\n",
       "                <div id=\"7c168b1b-3f59-44a2-8dd4-9e9c9d2634ef\" style=\"\n",
       "                    width: 100%;\n",
       "                    border: 1px solid #cfcfcf;\n",
       "                    border-radius: 4px;\n",
       "                    text-align: center;\n",
       "                    position: relative;\">\n",
       "                  <div class=\"pb-text\" style=\"\n",
       "                      position: absolute;\n",
       "                      width: 100%;\">\n",
       "                    0%\n",
       "                  </div>\n",
       "                  <div class=\"pb-fill\" style=\"\n",
       "                      background-color: #bdd2e6;\n",
       "                      width: 0%;\">\n",
       "                    <style type=\"text/css\" scoped=\"scoped\">\n",
       "                        @keyframes pb-fill-anim {\n",
       "                            0% { background-position: 0 0; }\n",
       "                            100% { background-position: 100px 0; }\n",
       "                        }\n",
       "                    </style>\n",
       "                    &nbsp;\n",
       "                  </div>\n",
       "                </div>"
      ],
      "text/plain": [
       "HtmlProgressBar cannot be displayed. Please use the TerminalProgressBar. It can be enabled with `nengo.rc.set('progress', 'progress_bar', 'nengo.utils.progress.TerminalProgressBar')`."
      ]
     },
     "metadata": {},
     "output_type": "display_data"
    },
    {
     "data": {
      "application/javascript": [
       "\n",
       "              (function () {\n",
       "                  var root = document.getElementById('7c168b1b-3f59-44a2-8dd4-9e9c9d2634ef');\n",
       "                  var text = root.getElementsByClassName('pb-text')[0];\n",
       "                  var fill = root.getElementsByClassName('pb-fill')[0];\n",
       "\n",
       "                  text.innerHTML = 'Build finished in 0:00:13.';\n",
       "                  \n",
       "            fill.style.width = '100%';\n",
       "            fill.style.animation = 'pb-fill-anim 2s linear infinite';\n",
       "            fill.style.backgroundSize = '100px 100%';\n",
       "            fill.style.backgroundImage = 'repeating-linear-gradient(' +\n",
       "                '90deg, #bdd2e6, #edf2f8 40%, #bdd2e6 80%, #bdd2e6)';\n",
       "        \n",
       "                  \n",
       "                fill.style.animation = 'none';\n",
       "                fill.style.backgroundImage = 'none';\n",
       "            \n",
       "              })();\n",
       "        "
      ],
      "application/vdom.v1+json": {
       "attributes": {
        "id": "da5ea360-605c-41a9-b3ad-5ce5005707ae",
        "style": {
         "border": "1px solid #cfcfcf",
         "borderRadius": "4px",
         "boxSizing": "border-box",
         "position": "relative",
         "textAlign": "center",
         "width": "100%"
        }
       },
       "children": [
        {
         "attributes": {
          "class": "pb-text",
          "style": {
           "position": "absolute",
           "width": "100%"
          }
         },
         "children": [
          "Build finished in 0:00:13."
         ],
         "tagName": "div"
        },
        {
         "attributes": {
          "class": "pb-fill",
          "style": {
           "animation": "none",
           "backgroundColor": "#bdd2e6",
           "backgroundImage": "none",
           "backgroundSize": "100px 100%",
           "width": "100%"
          }
         },
         "children": [
          {
           "attributes": {
            "scoped": "scoped",
            "type": "text/css"
           },
           "children": [
            "\n                        @keyframes pb-fill-anim {\n                            0% { background-position: 0 0; }\n                            100% { background-position: 100px 0; }\n                        }}"
           ],
           "tagName": "style"
          },
          " "
         ],
         "tagName": "div"
        }
       ],
       "tagName": "div"
      }
     },
     "metadata": {},
     "output_type": "display_data"
    },
    {
     "name": "stderr",
     "output_type": "stream",
     "text": [
      "/home/pduggins/.virtualenvs/nbn/lib/python3.6/site-packages/nengolib/signal/system.py:197: UserWarning: y0 (None!=0) does not properly initialize the system; see Nengo issue #1124.\n",
      "  \"Nengo issue #1124.\" % y0, UserWarning)\n",
      "/home/pduggins/.virtualenvs/nbn/lib/python3.6/site-packages/nengolib/signal/system.py:197: UserWarning: y0 (None!=0) does not properly initialize the system; see Nengo issue #1124.\n",
      "  \"Nengo issue #1124.\" % y0, UserWarning)\n",
      "/home/pduggins/.virtualenvs/nbn/lib/python3.6/site-packages/nengolib/signal/system.py:197: UserWarning: y0 (None!=0) does not properly initialize the system; see Nengo issue #1124.\n",
      "  \"Nengo issue #1124.\" % y0, UserWarning)\n"
     ]
    },
    {
     "data": {
      "application/vdom.v1+json": {
       "attributes": {},
       "tagName": "div"
      },
      "text/html": [
       "\n",
       "                <script>\n",
       "                    if (Jupyter.version.split(\".\")[0] < 5) {\n",
       "                        var pb = document.getElementById(\"40e49668-258f-4e73-a671-39377a8aa2fc\");\n",
       "                        var text = document.createTextNode(\n",
       "                            \"HMTL progress bar requires Jupyter Notebook >= \" +\n",
       "                            \"5.0 or Jupyter Lab. Alternatively, you can use \" +\n",
       "                            \"TerminalProgressBar().\");\n",
       "                        pb.parentNode.insertBefore(text, pb);\n",
       "                    }\n",
       "                </script>\n",
       "                <div id=\"40e49668-258f-4e73-a671-39377a8aa2fc\" style=\"\n",
       "                    width: 100%;\n",
       "                    border: 1px solid #cfcfcf;\n",
       "                    border-radius: 4px;\n",
       "                    text-align: center;\n",
       "                    position: relative;\">\n",
       "                  <div class=\"pb-text\" style=\"\n",
       "                      position: absolute;\n",
       "                      width: 100%;\">\n",
       "                    0%\n",
       "                  </div>\n",
       "                  <div class=\"pb-fill\" style=\"\n",
       "                      background-color: #bdd2e6;\n",
       "                      width: 0%;\">\n",
       "                    <style type=\"text/css\" scoped=\"scoped\">\n",
       "                        @keyframes pb-fill-anim {\n",
       "                            0% { background-position: 0 0; }\n",
       "                            100% { background-position: 100px 0; }\n",
       "                        }\n",
       "                    </style>\n",
       "                    &nbsp;\n",
       "                  </div>\n",
       "                </div>"
      ],
      "text/plain": [
       "HtmlProgressBar cannot be displayed. Please use the TerminalProgressBar. It can be enabled with `nengo.rc.set('progress', 'progress_bar', 'nengo.utils.progress.TerminalProgressBar')`."
      ]
     },
     "metadata": {},
     "output_type": "display_data"
    },
    {
     "data": {
      "application/javascript": [
       "\n",
       "              (function () {\n",
       "                  var root = document.getElementById('40e49668-258f-4e73-a671-39377a8aa2fc');\n",
       "                  var text = root.getElementsByClassName('pb-text')[0];\n",
       "                  var fill = root.getElementsByClassName('pb-fill')[0];\n",
       "\n",
       "                  text.innerHTML = 'Simulation finished in 0:03:18.';\n",
       "                  \n",
       "            if (100.0 > 0.) {\n",
       "                fill.style.transition = 'width 0.1s linear';\n",
       "            } else {\n",
       "                fill.style.transition = 'none';\n",
       "            }\n",
       "\n",
       "            fill.style.width = '100.0%';\n",
       "            fill.style.animation = 'none';\n",
       "            fill.style.backgroundImage = 'none'\n",
       "        \n",
       "                  \n",
       "                fill.style.animation = 'none';\n",
       "                fill.style.backgroundImage = 'none';\n",
       "            \n",
       "              })();\n",
       "        "
      ],
      "application/vdom.v1+json": {
       "attributes": {
        "id": "cc334bfa-984a-42b0-adf1-4f1445654c9c",
        "style": {
         "border": "1px solid #cfcfcf",
         "borderRadius": "4px",
         "boxSizing": "border-box",
         "position": "relative",
         "textAlign": "center",
         "width": "100%"
        }
       },
       "children": [
        {
         "attributes": {
          "class": "pb-text",
          "style": {
           "position": "absolute",
           "width": "100%"
          }
         },
         "children": [
          "Simulation finished in 0:03:18."
         ],
         "tagName": "div"
        },
        {
         "attributes": {
          "class": "pb-fill",
          "style": {
           "animation": "none",
           "backgroundColor": "#bdd2e6",
           "backgroundImage": "none",
           "transition": "width 0.1s linear",
           "width": "100%"
          }
         },
         "children": [
          {
           "attributes": {
            "scoped": "scoped",
            "type": "text/css"
           },
           "children": [
            "\n                        @keyframes pb-fill-anim {\n                            0% { background-position: 0 0; }\n                            100% { background-position: 100px 0; }\n                        }}"
           ],
           "tagName": "style"
          },
          " "
         ],
         "tagName": "div"
        }
       ],
       "tagName": "div"
      }
     },
     "metadata": {},
     "output_type": "display_data"
    },
    {
     "data": {
      "application/vdom.v1+json": {
       "attributes": {},
       "tagName": "div"
      },
      "text/html": [
       "\n",
       "                <script>\n",
       "                    if (Jupyter.version.split(\".\")[0] < 5) {\n",
       "                        var pb = document.getElementById(\"5e5735b9-ccb4-4333-8649-8f159eda404f\");\n",
       "                        var text = document.createTextNode(\n",
       "                            \"HMTL progress bar requires Jupyter Notebook >= \" +\n",
       "                            \"5.0 or Jupyter Lab. Alternatively, you can use \" +\n",
       "                            \"TerminalProgressBar().\");\n",
       "                        pb.parentNode.insertBefore(text, pb);\n",
       "                    }\n",
       "                </script>\n",
       "                <div id=\"5e5735b9-ccb4-4333-8649-8f159eda404f\" style=\"\n",
       "                    width: 100%;\n",
       "                    border: 1px solid #cfcfcf;\n",
       "                    border-radius: 4px;\n",
       "                    text-align: center;\n",
       "                    position: relative;\">\n",
       "                  <div class=\"pb-text\" style=\"\n",
       "                      position: absolute;\n",
       "                      width: 100%;\">\n",
       "                    0%\n",
       "                  </div>\n",
       "                  <div class=\"pb-fill\" style=\"\n",
       "                      background-color: #bdd2e6;\n",
       "                      width: 0%;\">\n",
       "                    <style type=\"text/css\" scoped=\"scoped\">\n",
       "                        @keyframes pb-fill-anim {\n",
       "                            0% { background-position: 0 0; }\n",
       "                            100% { background-position: 100px 0; }\n",
       "                        }\n",
       "                    </style>\n",
       "                    &nbsp;\n",
       "                  </div>\n",
       "                </div>"
      ],
      "text/plain": [
       "HtmlProgressBar cannot be displayed. Please use the TerminalProgressBar. It can be enabled with `nengo.rc.set('progress', 'progress_bar', 'nengo.utils.progress.TerminalProgressBar')`."
      ]
     },
     "metadata": {},
     "output_type": "display_data"
    },
    {
     "data": {
      "application/javascript": [
       "\n",
       "              (function () {\n",
       "                  var root = document.getElementById('5e5735b9-ccb4-4333-8649-8f159eda404f');\n",
       "                  var text = root.getElementsByClassName('pb-text')[0];\n",
       "                  var fill = root.getElementsByClassName('pb-fill')[0];\n",
       "\n",
       "                  text.innerHTML = 'Build finished in 0:00:13.';\n",
       "                  \n",
       "            fill.style.width = '100%';\n",
       "            fill.style.animation = 'pb-fill-anim 2s linear infinite';\n",
       "            fill.style.backgroundSize = '100px 100%';\n",
       "            fill.style.backgroundImage = 'repeating-linear-gradient(' +\n",
       "                '90deg, #bdd2e6, #edf2f8 40%, #bdd2e6 80%, #bdd2e6)';\n",
       "        \n",
       "                  \n",
       "                fill.style.animation = 'none';\n",
       "                fill.style.backgroundImage = 'none';\n",
       "            \n",
       "              })();\n",
       "        "
      ],
      "application/vdom.v1+json": {
       "attributes": {
        "id": "2370535e-a504-4edd-bc5a-67393da25c6d",
        "style": {
         "border": "1px solid #cfcfcf",
         "borderRadius": "4px",
         "boxSizing": "border-box",
         "position": "relative",
         "textAlign": "center",
         "width": "100%"
        }
       },
       "children": [
        {
         "attributes": {
          "class": "pb-text",
          "style": {
           "position": "absolute",
           "width": "100%"
          }
         },
         "children": [
          "Build finished in 0:00:13."
         ],
         "tagName": "div"
        },
        {
         "attributes": {
          "class": "pb-fill",
          "style": {
           "animation": "none",
           "backgroundColor": "#bdd2e6",
           "backgroundImage": "none",
           "backgroundSize": "100px 100%",
           "width": "100%"
          }
         },
         "children": [
          {
           "attributes": {
            "scoped": "scoped",
            "type": "text/css"
           },
           "children": [
            "\n                        @keyframes pb-fill-anim {\n                            0% { background-position: 0 0; }\n                            100% { background-position: 100px 0; }\n                        }}"
           ],
           "tagName": "style"
          },
          " "
         ],
         "tagName": "div"
        }
       ],
       "tagName": "div"
      }
     },
     "metadata": {},
     "output_type": "display_data"
    },
    {
     "name": "stderr",
     "output_type": "stream",
     "text": [
      "/home/pduggins/.virtualenvs/nbn/lib/python3.6/site-packages/nengolib/signal/system.py:197: UserWarning: y0 (None!=0) does not properly initialize the system; see Nengo issue #1124.\n",
      "  \"Nengo issue #1124.\" % y0, UserWarning)\n",
      "/home/pduggins/.virtualenvs/nbn/lib/python3.6/site-packages/nengolib/signal/system.py:197: UserWarning: y0 (None!=0) does not properly initialize the system; see Nengo issue #1124.\n",
      "  \"Nengo issue #1124.\" % y0, UserWarning)\n",
      "/home/pduggins/.virtualenvs/nbn/lib/python3.6/site-packages/nengolib/signal/system.py:197: UserWarning: y0 (None!=0) does not properly initialize the system; see Nengo issue #1124.\n",
      "  \"Nengo issue #1124.\" % y0, UserWarning)\n"
     ]
    },
    {
     "data": {
      "application/vdom.v1+json": {
       "attributes": {},
       "tagName": "div"
      },
      "text/html": [
       "\n",
       "                <script>\n",
       "                    if (Jupyter.version.split(\".\")[0] < 5) {\n",
       "                        var pb = document.getElementById(\"db41028c-c137-4a33-ad90-f08101c1f1d4\");\n",
       "                        var text = document.createTextNode(\n",
       "                            \"HMTL progress bar requires Jupyter Notebook >= \" +\n",
       "                            \"5.0 or Jupyter Lab. Alternatively, you can use \" +\n",
       "                            \"TerminalProgressBar().\");\n",
       "                        pb.parentNode.insertBefore(text, pb);\n",
       "                    }\n",
       "                </script>\n",
       "                <div id=\"db41028c-c137-4a33-ad90-f08101c1f1d4\" style=\"\n",
       "                    width: 100%;\n",
       "                    border: 1px solid #cfcfcf;\n",
       "                    border-radius: 4px;\n",
       "                    text-align: center;\n",
       "                    position: relative;\">\n",
       "                  <div class=\"pb-text\" style=\"\n",
       "                      position: absolute;\n",
       "                      width: 100%;\">\n",
       "                    0%\n",
       "                  </div>\n",
       "                  <div class=\"pb-fill\" style=\"\n",
       "                      background-color: #bdd2e6;\n",
       "                      width: 0%;\">\n",
       "                    <style type=\"text/css\" scoped=\"scoped\">\n",
       "                        @keyframes pb-fill-anim {\n",
       "                            0% { background-position: 0 0; }\n",
       "                            100% { background-position: 100px 0; }\n",
       "                        }\n",
       "                    </style>\n",
       "                    &nbsp;\n",
       "                  </div>\n",
       "                </div>"
      ],
      "text/plain": [
       "HtmlProgressBar cannot be displayed. Please use the TerminalProgressBar. It can be enabled with `nengo.rc.set('progress', 'progress_bar', 'nengo.utils.progress.TerminalProgressBar')`."
      ]
     },
     "metadata": {},
     "output_type": "display_data"
    },
    {
     "data": {
      "application/javascript": [
       "\n",
       "              (function () {\n",
       "                  var root = document.getElementById('db41028c-c137-4a33-ad90-f08101c1f1d4');\n",
       "                  var text = root.getElementsByClassName('pb-text')[0];\n",
       "                  var fill = root.getElementsByClassName('pb-fill')[0];\n",
       "\n",
       "                  text.innerHTML = 'Simulation finished in 0:03:04.';\n",
       "                  \n",
       "            if (100.0 > 0.) {\n",
       "                fill.style.transition = 'width 0.1s linear';\n",
       "            } else {\n",
       "                fill.style.transition = 'none';\n",
       "            }\n",
       "\n",
       "            fill.style.width = '100.0%';\n",
       "            fill.style.animation = 'none';\n",
       "            fill.style.backgroundImage = 'none'\n",
       "        \n",
       "                  \n",
       "                fill.style.animation = 'none';\n",
       "                fill.style.backgroundImage = 'none';\n",
       "            \n",
       "              })();\n",
       "        "
      ],
      "application/vdom.v1+json": {
       "attributes": {
        "id": "49b4766b-072d-42d6-b01a-66a872f9d412",
        "style": {
         "border": "1px solid #cfcfcf",
         "borderRadius": "4px",
         "boxSizing": "border-box",
         "position": "relative",
         "textAlign": "center",
         "width": "100%"
        }
       },
       "children": [
        {
         "attributes": {
          "class": "pb-text",
          "style": {
           "position": "absolute",
           "width": "100%"
          }
         },
         "children": [
          "Simulation finished in 0:03:04."
         ],
         "tagName": "div"
        },
        {
         "attributes": {
          "class": "pb-fill",
          "style": {
           "animation": "none",
           "backgroundColor": "#bdd2e6",
           "backgroundImage": "none",
           "transition": "width 0.1s linear",
           "width": "100%"
          }
         },
         "children": [
          {
           "attributes": {
            "scoped": "scoped",
            "type": "text/css"
           },
           "children": [
            "\n                        @keyframes pb-fill-anim {\n                            0% { background-position: 0 0; }\n                            100% { background-position: 100px 0; }\n                        }}"
           ],
           "tagName": "style"
          },
          " "
         ],
         "tagName": "div"
        }
       ],
       "tagName": "div"
      }
     },
     "metadata": {},
     "output_type": "display_data"
    },
    {
     "name": "stderr",
     "output_type": "stream",
     "text": [
      "/home/pduggins/.virtualenvs/nbn/lib/python3.6/site-packages/scipy/stats/stats.py:1713: FutureWarning: Using a non-tuple sequence for multidimensional indexing is deprecated; use `arr[tuple(seq)]` instead of `arr[seq]`. In the future this will be interpreted as an array index, `arr[np.array(seq)]`, which will result either in an error or a different result.\n",
      "  return np.add.reduce(sorted[indexer] * weights, axis=axis) / sumval\n"
     ]
    },
    {
     "data": {
      "image/png": "[encoded data removed]",
      "text/plain": [
       "<Figure size 1008x432 with 1 Axes>"
      ]
     },
     "metadata": {},
     "output_type": "display_data"
    }
   ],
   "source": [
    "nrmses_none_fx = trials_fx(\n",
    "    fx=fx, n_neurons=10, t=1, tau=0.1, dt=0.001, maxiter_gainbias=1, optimize_h='none', n_trials=2, pe=False)"
   ]
  },
  {
   "cell_type": "markdown",
   "metadata": {},
   "source": [
    "### lstsq filter optimization"
   ]
  },
  {
   "cell_type": "code",
   "execution_count": 36,
   "metadata": {},
   "outputs": [
    {
     "name": "stdout",
     "output_type": "stream",
     "text": [
      "optimizing gain and bias\n",
      "<Connection pre_durstewitz>\n"
     ]
    },
    {
     "name": "stderr",
     "output_type": "stream",
     "text": [
      "/home/pduggins/.virtualenvs/nbn/lib/python3.6/site-packages/nengolib/signal/system.py:197: UserWarning: y0 (None!=0) does not properly initialize the system; see Nengo issue #1124.\n",
      "  \"Nengo issue #1124.\" % y0, UserWarning)\n"
     ]
    },
    {
     "name": "stdout",
     "output_type": "stream",
     "text": [
      "<Connection durstewitz_durstewitz2>\n"
     ]
    },
    {
     "data": {
      "application/vdom.v1+json": {
       "attributes": {},
       "tagName": "div"
      },
      "text/html": [
       "\n",
       "                <script>\n",
       "                    if (Jupyter.version.split(\".\")[0] < 5) {\n",
       "                        var pb = document.getElementById(\"172ac452-4c91-4e54-a9eb-d08fa766addb\");\n",
       "                        var text = document.createTextNode(\n",
       "                            \"HMTL progress bar requires Jupyter Notebook >= \" +\n",
       "                            \"5.0 or Jupyter Lab. Alternatively, you can use \" +\n",
       "                            \"TerminalProgressBar().\");\n",
       "                        pb.parentNode.insertBefore(text, pb);\n",
       "                    }\n",
       "                </script>\n",
       "                <div id=\"172ac452-4c91-4e54-a9eb-d08fa766addb\" style=\"\n",
       "                    width: 100%;\n",
       "                    border: 1px solid #cfcfcf;\n",
       "                    border-radius: 4px;\n",
       "                    text-align: center;\n",
       "                    position: relative;\">\n",
       "                  <div class=\"pb-text\" style=\"\n",
       "                      position: absolute;\n",
       "                      width: 100%;\">\n",
       "                    0%\n",
       "                  </div>\n",
       "                  <div class=\"pb-fill\" style=\"\n",
       "                      background-color: #bdd2e6;\n",
       "                      width: 0%;\">\n",
       "                    <style type=\"text/css\" scoped=\"scoped\">\n",
       "                        @keyframes pb-fill-anim {\n",
       "                            0% { background-position: 0 0; }\n",
       "                            100% { background-position: 100px 0; }\n",
       "                        }\n",
       "                    </style>\n",
       "                    &nbsp;\n",
       "                  </div>\n",
       "                </div>"
      ],
      "text/plain": [
       "HtmlProgressBar cannot be displayed. Please use the TerminalProgressBar. It can be enabled with `nengo.rc.set('progress', 'progress_bar', 'nengo.utils.progress.TerminalProgressBar')`."
      ]
     },
     "metadata": {},
     "output_type": "display_data"
    },
    {
     "data": {
      "application/javascript": [
       "\n",
       "              (function () {\n",
       "                  var root = document.getElementById('172ac452-4c91-4e54-a9eb-d08fa766addb');\n",
       "                  var text = root.getElementsByClassName('pb-text')[0];\n",
       "                  var fill = root.getElementsByClassName('pb-fill')[0];\n",
       "\n",
       "                  text.innerHTML = 'Build finished in 0:00:13.';\n",
       "                  \n",
       "            fill.style.width = '100%';\n",
       "            fill.style.animation = 'pb-fill-anim 2s linear infinite';\n",
       "            fill.style.backgroundSize = '100px 100%';\n",
       "            fill.style.backgroundImage = 'repeating-linear-gradient(' +\n",
       "                '90deg, #bdd2e6, #edf2f8 40%, #bdd2e6 80%, #bdd2e6)';\n",
       "        \n",
       "                  \n",
       "                fill.style.animation = 'none';\n",
       "                fill.style.backgroundImage = 'none';\n",
       "            \n",
       "              })();\n",
       "        "
      ],
      "application/vdom.v1+json": {
       "attributes": {
        "id": "b0baca29-d521-43ba-97e0-24eb65993bfa",
        "style": {
         "border": "1px solid #cfcfcf",
         "borderRadius": "4px",
         "boxSizing": "border-box",
         "position": "relative",
         "textAlign": "center",
         "width": "100%"
        }
       },
       "children": [
        {
         "attributes": {
          "class": "pb-text",
          "style": {
           "position": "absolute",
           "width": "100%"
          }
         },
         "children": [
          "Build finished in 0:00:13."
         ],
         "tagName": "div"
        },
        {
         "attributes": {
          "class": "pb-fill",
          "style": {
           "animation": "none",
           "backgroundColor": "#bdd2e6",
           "backgroundImage": "none",
           "backgroundSize": "100px 100%",
           "width": "100%"
          }
         },
         "children": [
          {
           "attributes": {
            "scoped": "scoped",
            "type": "text/css"
           },
           "children": [
            "\n                        @keyframes pb-fill-anim {\n                            0% { background-position: 0 0; }\n                            100% { background-position: 100px 0; }\n                        }}"
           ],
           "tagName": "style"
          },
          " "
         ],
         "tagName": "div"
        }
       ],
       "tagName": "div"
      }
     },
     "metadata": {},
     "output_type": "display_data"
    },
    {
     "name": "stderr",
     "output_type": "stream",
     "text": [
      "/home/pduggins/.virtualenvs/nbn/lib/python3.6/site-packages/nengolib/signal/system.py:197: UserWarning: y0 (None!=0) does not properly initialize the system; see Nengo issue #1124.\n",
      "  \"Nengo issue #1124.\" % y0, UserWarning)\n",
      "/home/pduggins/.virtualenvs/nbn/lib/python3.6/site-packages/nengolib/signal/system.py:197: UserWarning: y0 (None!=0) does not properly initialize the system; see Nengo issue #1124.\n",
      "  \"Nengo issue #1124.\" % y0, UserWarning)\n",
      "/home/pduggins/.virtualenvs/nbn/lib/python3.6/site-packages/nengolib/signal/system.py:197: UserWarning: y0 (None!=0) does not properly initialize the system; see Nengo issue #1124.\n",
      "  \"Nengo issue #1124.\" % y0, UserWarning)\n"
     ]
    },
    {
     "data": {
      "application/vdom.v1+json": {
       "attributes": {},
       "tagName": "div"
      },
      "text/html": [
       "\n",
       "                <script>\n",
       "                    if (Jupyter.version.split(\".\")[0] < 5) {\n",
       "                        var pb = document.getElementById(\"64b5b66a-fe1d-4270-948e-2d992d815cf6\");\n",
       "                        var text = document.createTextNode(\n",
       "                            \"HMTL progress bar requires Jupyter Notebook >= \" +\n",
       "                            \"5.0 or Jupyter Lab. Alternatively, you can use \" +\n",
       "                            \"TerminalProgressBar().\");\n",
       "                        pb.parentNode.insertBefore(text, pb);\n",
       "                    }\n",
       "                </script>\n",
       "                <div id=\"64b5b66a-fe1d-4270-948e-2d992d815cf6\" style=\"\n",
       "                    width: 100%;\n",
       "                    border: 1px solid #cfcfcf;\n",
       "                    border-radius: 4px;\n",
       "                    text-align: center;\n",
       "                    position: relative;\">\n",
       "                  <div class=\"pb-text\" style=\"\n",
       "                      position: absolute;\n",
       "                      width: 100%;\">\n",
       "                    0%\n",
       "                  </div>\n",
       "                  <div class=\"pb-fill\" style=\"\n",
       "                      background-color: #bdd2e6;\n",
       "                      width: 0%;\">\n",
       "                    <style type=\"text/css\" scoped=\"scoped\">\n",
       "                        @keyframes pb-fill-anim {\n",
       "                            0% { background-position: 0 0; }\n",
       "                            100% { background-position: 100px 0; }\n",
       "                        }\n",
       "                    </style>\n",
       "                    &nbsp;\n",
       "                  </div>\n",
       "                </div>"
      ],
      "text/plain": [
       "HtmlProgressBar cannot be displayed. Please use the TerminalProgressBar. It can be enabled with `nengo.rc.set('progress', 'progress_bar', 'nengo.utils.progress.TerminalProgressBar')`."
      ]
     },
     "metadata": {},
     "output_type": "display_data"
    },
    {
     "data": {
      "application/javascript": [
       "\n",
       "              (function () {\n",
       "                  var root = document.getElementById('64b5b66a-fe1d-4270-948e-2d992d815cf6');\n",
       "                  var text = root.getElementsByClassName('pb-text')[0];\n",
       "                  var fill = root.getElementsByClassName('pb-fill')[0];\n",
       "\n",
       "                  text.innerHTML = 'Simulation finished in 0:03:02.';\n",
       "                  \n",
       "            if (100.0 > 0.) {\n",
       "                fill.style.transition = 'width 0.1s linear';\n",
       "            } else {\n",
       "                fill.style.transition = 'none';\n",
       "            }\n",
       "\n",
       "            fill.style.width = '100.0%';\n",
       "            fill.style.animation = 'none';\n",
       "            fill.style.backgroundImage = 'none'\n",
       "        \n",
       "                  \n",
       "                fill.style.animation = 'none';\n",
       "                fill.style.backgroundImage = 'none';\n",
       "            \n",
       "              })();\n",
       "        "
      ],
      "application/vdom.v1+json": {
       "attributes": {
        "id": "3314837f-dd49-4523-9e97-7f7b32ecc4b3",
        "style": {
         "border": "1px solid #cfcfcf",
         "borderRadius": "4px",
         "boxSizing": "border-box",
         "position": "relative",
         "textAlign": "center",
         "width": "100%"
        }
       },
       "children": [
        {
         "attributes": {
          "class": "pb-text",
          "style": {
           "position": "absolute",
           "width": "100%"
          }
         },
         "children": [
          "Simulation finished in 0:03:02."
         ],
         "tagName": "div"
        },
        {
         "attributes": {
          "class": "pb-fill",
          "style": {
           "animation": "none",
           "backgroundColor": "#bdd2e6",
           "backgroundImage": "none",
           "transition": "width 0.1s linear",
           "width": "100%"
          }
         },
         "children": [
          {
           "attributes": {
            "scoped": "scoped",
            "type": "text/css"
           },
           "children": [
            "\n                        @keyframes pb-fill-anim {\n                            0% { background-position: 0 0; }\n                            100% { background-position: 100px 0; }\n                        }}"
           ],
           "tagName": "style"
          },
          " "
         ],
         "tagName": "div"
        }
       ],
       "tagName": "div"
      }
     },
     "metadata": {},
     "output_type": "display_data"
    },
    {
     "name": "stderr",
     "output_type": "stream",
     "text": [
      "/home/pduggins/.virtualenvs/nbn/lib/python3.6/site-packages/nengolib/signal/system.py:213: UserWarning: Synapse ((num=[ 1000. -1000.], den=[1. 0.], analog=False)) has extra delay due to passthrough (https://github.com/nengo/nengo/issues/938).\n",
      "  \"(https://github.com/nengo/nengo/issues/938).\" % sys)\n"
     ]
    },
    {
     "name": "stdout",
     "output_type": "stream",
     "text": [
      "taus iteration 0, nonzero d 10, tau=[0.04499]: \n",
      "taus iteration 0, nonzero d 10, tau=[0.08958]: \n",
      "taus iteration 0, nonzero d 10, tau=[0.05164]: \n",
      "taus iteration 0, nonzero d 10, tau=[0.05613]: \n",
      "optimizing filters and decoders\n"
     ]
    },
    {
     "data": {
      "application/vdom.v1+json": {
       "attributes": {},
       "tagName": "div"
      },
      "text/html": [
       "\n",
       "                <script>\n",
       "                    if (Jupyter.version.split(\".\")[0] < 5) {\n",
       "                        var pb = document.getElementById(\"5f38dc51-f161-4e59-b63f-6afc42ef2536\");\n",
       "                        var text = document.createTextNode(\n",
       "                            \"HMTL progress bar requires Jupyter Notebook >= \" +\n",
       "                            \"5.0 or Jupyter Lab. Alternatively, you can use \" +\n",
       "                            \"TerminalProgressBar().\");\n",
       "                        pb.parentNode.insertBefore(text, pb);\n",
       "                    }\n",
       "                </script>\n",
       "                <div id=\"5f38dc51-f161-4e59-b63f-6afc42ef2536\" style=\"\n",
       "                    width: 100%;\n",
       "                    border: 1px solid #cfcfcf;\n",
       "                    border-radius: 4px;\n",
       "                    text-align: center;\n",
       "                    position: relative;\">\n",
       "                  <div class=\"pb-text\" style=\"\n",
       "                      position: absolute;\n",
       "                      width: 100%;\">\n",
       "                    0%\n",
       "                  </div>\n",
       "                  <div class=\"pb-fill\" style=\"\n",
       "                      background-color: #bdd2e6;\n",
       "                      width: 0%;\">\n",
       "                    <style type=\"text/css\" scoped=\"scoped\">\n",
       "                        @keyframes pb-fill-anim {\n",
       "                            0% { background-position: 0 0; }\n",
       "                            100% { background-position: 100px 0; }\n",
       "                        }\n",
       "                    </style>\n",
       "                    &nbsp;\n",
       "                  </div>\n",
       "                </div>"
      ],
      "text/plain": [
       "HtmlProgressBar cannot be displayed. Please use the TerminalProgressBar. It can be enabled with `nengo.rc.set('progress', 'progress_bar', 'nengo.utils.progress.TerminalProgressBar')`."
      ]
     },
     "metadata": {},
     "output_type": "display_data"
    },
    {
     "data": {
      "application/javascript": [
       "\n",
       "              (function () {\n",
       "                  var root = document.getElementById('5f38dc51-f161-4e59-b63f-6afc42ef2536');\n",
       "                  var text = root.getElementsByClassName('pb-text')[0];\n",
       "                  var fill = root.getElementsByClassName('pb-fill')[0];\n",
       "\n",
       "                  text.innerHTML = 'Build finished in 0:00:13.';\n",
       "                  \n",
       "            fill.style.width = '100%';\n",
       "            fill.style.animation = 'pb-fill-anim 2s linear infinite';\n",
       "            fill.style.backgroundSize = '100px 100%';\n",
       "            fill.style.backgroundImage = 'repeating-linear-gradient(' +\n",
       "                '90deg, #bdd2e6, #edf2f8 40%, #bdd2e6 80%, #bdd2e6)';\n",
       "        \n",
       "                  \n",
       "                fill.style.animation = 'none';\n",
       "                fill.style.backgroundImage = 'none';\n",
       "            \n",
       "              })();\n",
       "        "
      ],
      "application/vdom.v1+json": {
       "attributes": {
        "id": "f4f39bb8-cf61-45c6-bd39-6b278d435945",
        "style": {
         "border": "1px solid #cfcfcf",
         "borderRadius": "4px",
         "boxSizing": "border-box",
         "position": "relative",
         "textAlign": "center",
         "width": "100%"
        }
       },
       "children": [
        {
         "attributes": {
          "class": "pb-text",
          "style": {
           "position": "absolute",
           "width": "100%"
          }
         },
         "children": [
          "Build finished in 0:00:13."
         ],
         "tagName": "div"
        },
        {
         "attributes": {
          "class": "pb-fill",
          "style": {
           "animation": "none",
           "backgroundColor": "#bdd2e6",
           "backgroundImage": "none",
           "backgroundSize": "100px 100%",
           "width": "100%"
          }
         },
         "children": [
          {
           "attributes": {
            "scoped": "scoped",
            "type": "text/css"
           },
           "children": [
            "\n                        @keyframes pb-fill-anim {\n                            0% { background-position: 0 0; }\n                            100% { background-position: 100px 0; }\n                        }}"
           ],
           "tagName": "style"
          },
          " "
         ],
         "tagName": "div"
        }
       ],
       "tagName": "div"
      }
     },
     "metadata": {},
     "output_type": "display_data"
    },
    {
     "name": "stderr",
     "output_type": "stream",
     "text": [
      "/home/pduggins/.virtualenvs/nbn/lib/python3.6/site-packages/nengolib/signal/system.py:197: UserWarning: y0 (None!=0) does not properly initialize the system; see Nengo issue #1124.\n",
      "  \"Nengo issue #1124.\" % y0, UserWarning)\n",
      "/home/pduggins/.virtualenvs/nbn/lib/python3.6/site-packages/nengolib/signal/system.py:197: UserWarning: y0 (None!=0) does not properly initialize the system; see Nengo issue #1124.\n",
      "  \"Nengo issue #1124.\" % y0, UserWarning)\n",
      "/home/pduggins/.virtualenvs/nbn/lib/python3.6/site-packages/nengolib/signal/system.py:197: UserWarning: y0 (None!=0) does not properly initialize the system; see Nengo issue #1124.\n",
      "  \"Nengo issue #1124.\" % y0, UserWarning)\n"
     ]
    },
    {
     "data": {
      "application/vdom.v1+json": {
       "attributes": {},
       "tagName": "div"
      },
      "text/html": [
       "\n",
       "                <script>\n",
       "                    if (Jupyter.version.split(\".\")[0] < 5) {\n",
       "                        var pb = document.getElementById(\"55a52932-dbfe-48c7-b716-b6e58dd97a31\");\n",
       "                        var text = document.createTextNode(\n",
       "                            \"HMTL progress bar requires Jupyter Notebook >= \" +\n",
       "                            \"5.0 or Jupyter Lab. Alternatively, you can use \" +\n",
       "                            \"TerminalProgressBar().\");\n",
       "                        pb.parentNode.insertBefore(text, pb);\n",
       "                    }\n",
       "                </script>\n",
       "                <div id=\"55a52932-dbfe-48c7-b716-b6e58dd97a31\" style=\"\n",
       "                    width: 100%;\n",
       "                    border: 1px solid #cfcfcf;\n",
       "                    border-radius: 4px;\n",
       "                    text-align: center;\n",
       "                    position: relative;\">\n",
       "                  <div class=\"pb-text\" style=\"\n",
       "                      position: absolute;\n",
       "                      width: 100%;\">\n",
       "                    0%\n",
       "                  </div>\n",
       "                  <div class=\"pb-fill\" style=\"\n",
       "                      background-color: #bdd2e6;\n",
       "                      width: 0%;\">\n",
       "                    <style type=\"text/css\" scoped=\"scoped\">\n",
       "                        @keyframes pb-fill-anim {\n",
       "                            0% { background-position: 0 0; }\n",
       "                            100% { background-position: 100px 0; }\n",
       "                        }\n",
       "                    </style>\n",
       "                    &nbsp;\n",
       "                  </div>\n",
       "                </div>"
      ],
      "text/plain": [
       "HtmlProgressBar cannot be displayed. Please use the TerminalProgressBar. It can be enabled with `nengo.rc.set('progress', 'progress_bar', 'nengo.utils.progress.TerminalProgressBar')`."
      ]
     },
     "metadata": {},
     "output_type": "display_data"
    },
    {
     "data": {
      "application/javascript": [
       "\n",
       "              (function () {\n",
       "                  var root = document.getElementById('55a52932-dbfe-48c7-b716-b6e58dd97a31');\n",
       "                  var text = root.getElementsByClassName('pb-text')[0];\n",
       "                  var fill = root.getElementsByClassName('pb-fill')[0];\n",
       "\n",
       "                  text.innerHTML = 'Simulation finished in 0:02:59.';\n",
       "                  \n",
       "            if (100.0 > 0.) {\n",
       "                fill.style.transition = 'width 0.1s linear';\n",
       "            } else {\n",
       "                fill.style.transition = 'none';\n",
       "            }\n",
       "\n",
       "            fill.style.width = '100.0%';\n",
       "            fill.style.animation = 'none';\n",
       "            fill.style.backgroundImage = 'none'\n",
       "        \n",
       "                  \n",
       "                fill.style.animation = 'none';\n",
       "                fill.style.backgroundImage = 'none';\n",
       "            \n",
       "              })();\n",
       "        "
      ],
      "application/vdom.v1+json": {
       "attributes": {
        "id": "670b94cd-7cbd-4cda-8a9d-a24edc7f0d35",
        "style": {
         "border": "1px solid #cfcfcf",
         "borderRadius": "4px",
         "boxSizing": "border-box",
         "position": "relative",
         "textAlign": "center",
         "width": "100%"
        }
       },
       "children": [
        {
         "attributes": {
          "class": "pb-text",
          "style": {
           "position": "absolute",
           "width": "100%"
          }
         },
         "children": [
          "Simulation finished in 0:02:59."
         ],
         "tagName": "div"
        },
        {
         "attributes": {
          "class": "pb-fill",
          "style": {
           "animation": "none",
           "backgroundColor": "#bdd2e6",
           "backgroundImage": "none",
           "transition": "width 0.1s linear",
           "width": "100%"
          }
         },
         "children": [
          {
           "attributes": {
            "scoped": "scoped",
            "type": "text/css"
           },
           "children": [
            "\n                        @keyframes pb-fill-anim {\n                            0% { background-position: 0 0; }\n                            100% { background-position: 100px 0; }\n                        }}"
           ],
           "tagName": "style"
          },
          " "
         ],
         "tagName": "div"
        }
       ],
       "tagName": "div"
      }
     },
     "metadata": {},
     "output_type": "display_data"
    },
    {
     "name": "stderr",
     "output_type": "stream",
     "text": [
      "/home/pduggins/.virtualenvs/nbn/lib/python3.6/site-packages/nengolib/signal/system.py:213: UserWarning: Synapse ((num=[ 1000. -1000.], den=[1. 0.], analog=False)) has extra delay due to passthrough (https://github.com/nengo/nengo/issues/938).\n",
      "  \"(https://github.com/nengo/nengo/issues/938).\" % sys)\n"
     ]
    },
    {
     "name": "stdout",
     "output_type": "stream",
     "text": [
      "taus iteration 0, nonzero d 6, tau=[0.04074]: \n",
      "taus iteration 0, nonzero d 6, tau=[0.03668]: \n",
      "taus iteration 0, nonzero d 10, tau=[0.10519]: \n",
      "taus iteration 0, nonzero d 1, tau=[0.05263]: \n",
      "running experimental trials\n"
     ]
    },
    {
     "data": {
      "application/vdom.v1+json": {
       "attributes": {},
       "tagName": "div"
      },
      "text/html": [
       "\n",
       "                <script>\n",
       "                    if (Jupyter.version.split(\".\")[0] < 5) {\n",
       "                        var pb = document.getElementById(\"ef79b4a9-aa92-41e5-8bfb-df57759c3dcf\");\n",
       "                        var text = document.createTextNode(\n",
       "                            \"HMTL progress bar requires Jupyter Notebook >= \" +\n",
       "                            \"5.0 or Jupyter Lab. Alternatively, you can use \" +\n",
       "                            \"TerminalProgressBar().\");\n",
       "                        pb.parentNode.insertBefore(text, pb);\n",
       "                    }\n",
       "                </script>\n",
       "                <div id=\"ef79b4a9-aa92-41e5-8bfb-df57759c3dcf\" style=\"\n",
       "                    width: 100%;\n",
       "                    border: 1px solid #cfcfcf;\n",
       "                    border-radius: 4px;\n",
       "                    text-align: center;\n",
       "                    position: relative;\">\n",
       "                  <div class=\"pb-text\" style=\"\n",
       "                      position: absolute;\n",
       "                      width: 100%;\">\n",
       "                    0%\n",
       "                  </div>\n",
       "                  <div class=\"pb-fill\" style=\"\n",
       "                      background-color: #bdd2e6;\n",
       "                      width: 0%;\">\n",
       "                    <style type=\"text/css\" scoped=\"scoped\">\n",
       "                        @keyframes pb-fill-anim {\n",
       "                            0% { background-position: 0 0; }\n",
       "                            100% { background-position: 100px 0; }\n",
       "                        }\n",
       "                    </style>\n",
       "                    &nbsp;\n",
       "                  </div>\n",
       "                </div>"
      ],
      "text/plain": [
       "HtmlProgressBar cannot be displayed. Please use the TerminalProgressBar. It can be enabled with `nengo.rc.set('progress', 'progress_bar', 'nengo.utils.progress.TerminalProgressBar')`."
      ]
     },
     "metadata": {},
     "output_type": "display_data"
    },
    {
     "data": {
      "application/javascript": [
       "\n",
       "              (function () {\n",
       "                  var root = document.getElementById('ef79b4a9-aa92-41e5-8bfb-df57759c3dcf');\n",
       "                  var text = root.getElementsByClassName('pb-text')[0];\n",
       "                  var fill = root.getElementsByClassName('pb-fill')[0];\n",
       "\n",
       "                  text.innerHTML = 'Build finished in 0:00:13.';\n",
       "                  \n",
       "            fill.style.width = '100%';\n",
       "            fill.style.animation = 'pb-fill-anim 2s linear infinite';\n",
       "            fill.style.backgroundSize = '100px 100%';\n",
       "            fill.style.backgroundImage = 'repeating-linear-gradient(' +\n",
       "                '90deg, #bdd2e6, #edf2f8 40%, #bdd2e6 80%, #bdd2e6)';\n",
       "        \n",
       "                  \n",
       "                fill.style.animation = 'none';\n",
       "                fill.style.backgroundImage = 'none';\n",
       "            \n",
       "              })();\n",
       "        "
      ],
      "application/vdom.v1+json": {
       "attributes": {
        "id": "a906ca86-f28f-4be8-ae42-4db86d708861",
        "style": {
         "border": "1px solid #cfcfcf",
         "borderRadius": "4px",
         "boxSizing": "border-box",
         "position": "relative",
         "textAlign": "center",
         "width": "100%"
        }
       },
       "children": [
        {
         "attributes": {
          "class": "pb-text",
          "style": {
           "position": "absolute",
           "width": "100%"
          }
         },
         "children": [
          "Build finished in 0:00:13."
         ],
         "tagName": "div"
        },
        {
         "attributes": {
          "class": "pb-fill",
          "style": {
           "animation": "none",
           "backgroundColor": "#bdd2e6",
           "backgroundImage": "none",
           "backgroundSize": "100px 100%",
           "width": "100%"
          }
         },
         "children": [
          {
           "attributes": {
            "scoped": "scoped",
            "type": "text/css"
           },
           "children": [
            "\n                        @keyframes pb-fill-anim {\n                            0% { background-position: 0 0; }\n                            100% { background-position: 100px 0; }\n                        }}"
           ],
           "tagName": "style"
          },
          " "
         ],
         "tagName": "div"
        }
       ],
       "tagName": "div"
      }
     },
     "metadata": {},
     "output_type": "display_data"
    },
    {
     "name": "stderr",
     "output_type": "stream",
     "text": [
      "/home/pduggins/.virtualenvs/nbn/lib/python3.6/site-packages/nengolib/signal/system.py:197: UserWarning: y0 (None!=0) does not properly initialize the system; see Nengo issue #1124.\n",
      "  \"Nengo issue #1124.\" % y0, UserWarning)\n",
      "/home/pduggins/.virtualenvs/nbn/lib/python3.6/site-packages/nengolib/signal/system.py:197: UserWarning: y0 (None!=0) does not properly initialize the system; see Nengo issue #1124.\n",
      "  \"Nengo issue #1124.\" % y0, UserWarning)\n",
      "/home/pduggins/.virtualenvs/nbn/lib/python3.6/site-packages/nengolib/signal/system.py:197: UserWarning: y0 (None!=0) does not properly initialize the system; see Nengo issue #1124.\n",
      "  \"Nengo issue #1124.\" % y0, UserWarning)\n"
     ]
    },
    {
     "data": {
      "application/vdom.v1+json": {
       "attributes": {},
       "tagName": "div"
      },
      "text/html": [
       "\n",
       "                <script>\n",
       "                    if (Jupyter.version.split(\".\")[0] < 5) {\n",
       "                        var pb = document.getElementById(\"2e569a76-f159-4157-bd73-0b63a15c050d\");\n",
       "                        var text = document.createTextNode(\n",
       "                            \"HMTL progress bar requires Jupyter Notebook >= \" +\n",
       "                            \"5.0 or Jupyter Lab. Alternatively, you can use \" +\n",
       "                            \"TerminalProgressBar().\");\n",
       "                        pb.parentNode.insertBefore(text, pb);\n",
       "                    }\n",
       "                </script>\n",
       "                <div id=\"2e569a76-f159-4157-bd73-0b63a15c050d\" style=\"\n",
       "                    width: 100%;\n",
       "                    border: 1px solid #cfcfcf;\n",
       "                    border-radius: 4px;\n",
       "                    text-align: center;\n",
       "                    position: relative;\">\n",
       "                  <div class=\"pb-text\" style=\"\n",
       "                      position: absolute;\n",
       "                      width: 100%;\">\n",
       "                    0%\n",
       "                  </div>\n",
       "                  <div class=\"pb-fill\" style=\"\n",
       "                      background-color: #bdd2e6;\n",
       "                      width: 0%;\">\n",
       "                    <style type=\"text/css\" scoped=\"scoped\">\n",
       "                        @keyframes pb-fill-anim {\n",
       "                            0% { background-position: 0 0; }\n",
       "                            100% { background-position: 100px 0; }\n",
       "                        }\n",
       "                    </style>\n",
       "                    &nbsp;\n",
       "                  </div>\n",
       "                </div>"
      ],
      "text/plain": [
       "HtmlProgressBar cannot be displayed. Please use the TerminalProgressBar. It can be enabled with `nengo.rc.set('progress', 'progress_bar', 'nengo.utils.progress.TerminalProgressBar')`."
      ]
     },
     "metadata": {},
     "output_type": "display_data"
    },
    {
     "data": {
      "application/javascript": [
       "\n",
       "              (function () {\n",
       "                  var root = document.getElementById('2e569a76-f159-4157-bd73-0b63a15c050d');\n",
       "                  var text = root.getElementsByClassName('pb-text')[0];\n",
       "                  var fill = root.getElementsByClassName('pb-fill')[0];\n",
       "\n",
       "                  text.innerHTML = 'Simulation finished in 0:03:10.';\n",
       "                  \n",
       "            if (100.0 > 0.) {\n",
       "                fill.style.transition = 'width 0.1s linear';\n",
       "            } else {\n",
       "                fill.style.transition = 'none';\n",
       "            }\n",
       "\n",
       "            fill.style.width = '100.0%';\n",
       "            fill.style.animation = 'none';\n",
       "            fill.style.backgroundImage = 'none'\n",
       "        \n",
       "                  \n",
       "                fill.style.animation = 'none';\n",
       "                fill.style.backgroundImage = 'none';\n",
       "            \n",
       "              })();\n",
       "        "
      ],
      "application/vdom.v1+json": {
       "attributes": {
        "id": "829f3452-4e69-441f-ac4e-44e6aae83129",
        "style": {
         "border": "1px solid #cfcfcf",
         "borderRadius": "4px",
         "boxSizing": "border-box",
         "position": "relative",
         "textAlign": "center",
         "width": "100%"
        }
       },
       "children": [
        {
         "attributes": {
          "class": "pb-text",
          "style": {
           "position": "absolute",
           "width": "100%"
          }
         },
         "children": [
          "Simulation finished in 0:03:10."
         ],
         "tagName": "div"
        },
        {
         "attributes": {
          "class": "pb-fill",
          "style": {
           "animation": "none",
           "backgroundColor": "#bdd2e6",
           "backgroundImage": "none",
           "transition": "width 0.1s linear",
           "width": "100%"
          }
         },
         "children": [
          {
           "attributes": {
            "scoped": "scoped",
            "type": "text/css"
           },
           "children": [
            "\n                        @keyframes pb-fill-anim {\n                            0% { background-position: 0 0; }\n                            100% { background-position: 100px 0; }\n                        }}"
           ],
           "tagName": "style"
          },
          " "
         ],
         "tagName": "div"
        }
       ],
       "tagName": "div"
      }
     },
     "metadata": {},
     "output_type": "display_data"
    },
    {
     "data": {
      "application/vdom.v1+json": {
       "attributes": {},
       "tagName": "div"
      },
      "text/html": [
       "\n",
       "                <script>\n",
       "                    if (Jupyter.version.split(\".\")[0] < 5) {\n",
       "                        var pb = document.getElementById(\"4c54c142-3508-49ca-820e-b8999cb0b3f0\");\n",
       "                        var text = document.createTextNode(\n",
       "                            \"HMTL progress bar requires Jupyter Notebook >= \" +\n",
       "                            \"5.0 or Jupyter Lab. Alternatively, you can use \" +\n",
       "                            \"TerminalProgressBar().\");\n",
       "                        pb.parentNode.insertBefore(text, pb);\n",
       "                    }\n",
       "                </script>\n",
       "                <div id=\"4c54c142-3508-49ca-820e-b8999cb0b3f0\" style=\"\n",
       "                    width: 100%;\n",
       "                    border: 1px solid #cfcfcf;\n",
       "                    border-radius: 4px;\n",
       "                    text-align: center;\n",
       "                    position: relative;\">\n",
       "                  <div class=\"pb-text\" style=\"\n",
       "                      position: absolute;\n",
       "                      width: 100%;\">\n",
       "                    0%\n",
       "                  </div>\n",
       "                  <div class=\"pb-fill\" style=\"\n",
       "                      background-color: #bdd2e6;\n",
       "                      width: 0%;\">\n",
       "                    <style type=\"text/css\" scoped=\"scoped\">\n",
       "                        @keyframes pb-fill-anim {\n",
       "                            0% { background-position: 0 0; }\n",
       "                            100% { background-position: 100px 0; }\n",
       "                        }\n",
       "                    </style>\n",
       "                    &nbsp;\n",
       "                  </div>\n",
       "                </div>"
      ],
      "text/plain": [
       "HtmlProgressBar cannot be displayed. Please use the TerminalProgressBar. It can be enabled with `nengo.rc.set('progress', 'progress_bar', 'nengo.utils.progress.TerminalProgressBar')`."
      ]
     },
     "metadata": {},
     "output_type": "display_data"
    },
    {
     "data": {
      "application/javascript": [
       "\n",
       "              (function () {\n",
       "                  var root = document.getElementById('4c54c142-3508-49ca-820e-b8999cb0b3f0');\n",
       "                  var text = root.getElementsByClassName('pb-text')[0];\n",
       "                  var fill = root.getElementsByClassName('pb-fill')[0];\n",
       "\n",
       "                  text.innerHTML = 'Build finished in 0:00:13.';\n",
       "                  \n",
       "            fill.style.width = '100%';\n",
       "            fill.style.animation = 'pb-fill-anim 2s linear infinite';\n",
       "            fill.style.backgroundSize = '100px 100%';\n",
       "            fill.style.backgroundImage = 'repeating-linear-gradient(' +\n",
       "                '90deg, #bdd2e6, #edf2f8 40%, #bdd2e6 80%, #bdd2e6)';\n",
       "        \n",
       "                  \n",
       "                fill.style.animation = 'none';\n",
       "                fill.style.backgroundImage = 'none';\n",
       "            \n",
       "              })();\n",
       "        "
      ],
      "application/vdom.v1+json": {
       "attributes": {
        "id": "7346a9a2-c636-44bf-b814-60afc1e073d0",
        "style": {
         "border": "1px solid #cfcfcf",
         "borderRadius": "4px",
         "boxSizing": "border-box",
         "position": "relative",
         "textAlign": "center",
         "width": "100%"
        }
       },
       "children": [
        {
         "attributes": {
          "class": "pb-text",
          "style": {
           "position": "absolute",
           "width": "100%"
          }
         },
         "children": [
          "Build finished in 0:00:13."
         ],
         "tagName": "div"
        },
        {
         "attributes": {
          "class": "pb-fill",
          "style": {
           "animation": "none",
           "backgroundColor": "#bdd2e6",
           "backgroundImage": "none",
           "backgroundSize": "100px 100%",
           "width": "100%"
          }
         },
         "children": [
          {
           "attributes": {
            "scoped": "scoped",
            "type": "text/css"
           },
           "children": [
            "\n                        @keyframes pb-fill-anim {\n                            0% { background-position: 0 0; }\n                            100% { background-position: 100px 0; }\n                        }}"
           ],
           "tagName": "style"
          },
          " "
         ],
         "tagName": "div"
        }
       ],
       "tagName": "div"
      }
     },
     "metadata": {},
     "output_type": "display_data"
    },
    {
     "name": "stderr",
     "output_type": "stream",
     "text": [
      "/home/pduggins/.virtualenvs/nbn/lib/python3.6/site-packages/nengolib/signal/system.py:197: UserWarning: y0 (None!=0) does not properly initialize the system; see Nengo issue #1124.\n",
      "  \"Nengo issue #1124.\" % y0, UserWarning)\n",
      "/home/pduggins/.virtualenvs/nbn/lib/python3.6/site-packages/nengolib/signal/system.py:197: UserWarning: y0 (None!=0) does not properly initialize the system; see Nengo issue #1124.\n",
      "  \"Nengo issue #1124.\" % y0, UserWarning)\n",
      "/home/pduggins/.virtualenvs/nbn/lib/python3.6/site-packages/nengolib/signal/system.py:197: UserWarning: y0 (None!=0) does not properly initialize the system; see Nengo issue #1124.\n",
      "  \"Nengo issue #1124.\" % y0, UserWarning)\n"
     ]
    },
    {
     "data": {
      "application/vdom.v1+json": {
       "attributes": {},
       "tagName": "div"
      },
      "text/html": [
       "\n",
       "                <script>\n",
       "                    if (Jupyter.version.split(\".\")[0] < 5) {\n",
       "                        var pb = document.getElementById(\"f49f27cd-55d3-46a0-8950-ab1ddd203470\");\n",
       "                        var text = document.createTextNode(\n",
       "                            \"HMTL progress bar requires Jupyter Notebook >= \" +\n",
       "                            \"5.0 or Jupyter Lab. Alternatively, you can use \" +\n",
       "                            \"TerminalProgressBar().\");\n",
       "                        pb.parentNode.insertBefore(text, pb);\n",
       "                    }\n",
       "                </script>\n",
       "                <div id=\"f49f27cd-55d3-46a0-8950-ab1ddd203470\" style=\"\n",
       "                    width: 100%;\n",
       "                    border: 1px solid #cfcfcf;\n",
       "                    border-radius: 4px;\n",
       "                    text-align: center;\n",
       "                    position: relative;\">\n",
       "                  <div class=\"pb-text\" style=\"\n",
       "                      position: absolute;\n",
       "                      width: 100%;\">\n",
       "                    0%\n",
       "                  </div>\n",
       "                  <div class=\"pb-fill\" style=\"\n",
       "                      background-color: #bdd2e6;\n",
       "                      width: 0%;\">\n",
       "                    <style type=\"text/css\" scoped=\"scoped\">\n",
       "                        @keyframes pb-fill-anim {\n",
       "                            0% { background-position: 0 0; }\n",
       "                            100% { background-position: 100px 0; }\n",
       "                        }\n",
       "                    </style>\n",
       "                    &nbsp;\n",
       "                  </div>\n",
       "                </div>"
      ],
      "text/plain": [
       "HtmlProgressBar cannot be displayed. Please use the TerminalProgressBar. It can be enabled with `nengo.rc.set('progress', 'progress_bar', 'nengo.utils.progress.TerminalProgressBar')`."
      ]
     },
     "metadata": {},
     "output_type": "display_data"
    },
    {
     "data": {
      "application/javascript": [
       "\n",
       "              (function () {\n",
       "                  var root = document.getElementById('f49f27cd-55d3-46a0-8950-ab1ddd203470');\n",
       "                  var text = root.getElementsByClassName('pb-text')[0];\n",
       "                  var fill = root.getElementsByClassName('pb-fill')[0];\n",
       "\n",
       "                  text.innerHTML = 'Simulation finished in 0:03:07.';\n",
       "                  \n",
       "            if (100.0 > 0.) {\n",
       "                fill.style.transition = 'width 0.1s linear';\n",
       "            } else {\n",
       "                fill.style.transition = 'none';\n",
       "            }\n",
       "\n",
       "            fill.style.width = '100.0%';\n",
       "            fill.style.animation = 'none';\n",
       "            fill.style.backgroundImage = 'none'\n",
       "        \n",
       "                  \n",
       "                fill.style.animation = 'none';\n",
       "                fill.style.backgroundImage = 'none';\n",
       "            \n",
       "              })();\n",
       "        "
      ],
      "application/vdom.v1+json": {
       "attributes": {
        "id": "06668ab5-a528-4cb0-9995-650ec34aba8e",
        "style": {
         "border": "1px solid #cfcfcf",
         "borderRadius": "4px",
         "boxSizing": "border-box",
         "position": "relative",
         "textAlign": "center",
         "width": "100%"
        }
       },
       "children": [
        {
         "attributes": {
          "class": "pb-text",
          "style": {
           "position": "absolute",
           "width": "100%"
          }
         },
         "children": [
          "Simulation finished in 0:03:07."
         ],
         "tagName": "div"
        },
        {
         "attributes": {
          "class": "pb-fill",
          "style": {
           "animation": "none",
           "backgroundColor": "#bdd2e6",
           "backgroundImage": "none",
           "transition": "width 0.1s linear",
           "width": "100%"
          }
         },
         "children": [
          {
           "attributes": {
            "scoped": "scoped",
            "type": "text/css"
           },
           "children": [
            "\n                        @keyframes pb-fill-anim {\n                            0% { background-position: 0 0; }\n                            100% { background-position: 100px 0; }\n                        }}"
           ],
           "tagName": "style"
          },
          " "
         ],
         "tagName": "div"
        }
       ],
       "tagName": "div"
      }
     },
     "metadata": {},
     "output_type": "display_data"
    },
    {
     "name": "stderr",
     "output_type": "stream",
     "text": [
      "/home/pduggins/.virtualenvs/nbn/lib/python3.6/site-packages/scipy/stats/stats.py:1713: FutureWarning: Using a non-tuple sequence for multidimensional indexing is deprecated; use `arr[tuple(seq)]` instead of `arr[seq]`. In the future this will be interpreted as an array index, `arr[np.array(seq)]`, which will result either in an error or a different result.\n",
      "  return np.add.reduce(sorted[indexer] * weights, axis=axis) / sumval\n"
     ]
    },
    {
     "data": {
      "image/png": "[encoded data removed]",
      "text/plain": [
       "<Figure size 1008x432 with 1 Axes>"
      ]
     },
     "metadata": {},
     "output_type": "display_data"
    }
   ],
   "source": [
    "nrmses_lstsq_fx = trials_fx(\n",
    "    fx=fx, n_neurons=10, t=1, tau=0.1, dt=0.001, maxiter_gainbias=1, optimize_h='lstsq', n_trials=2, pe=False)"
   ]
  },
  {
   "cell_type": "markdown",
   "metadata": {},
   "source": [
    "### hyperopt filter optimization"
   ]
  },
  {
   "cell_type": "code",
   "execution_count": 39,
   "metadata": {
    "scrolled": true
   },
   "outputs": [
    {
     "name": "stdout",
     "output_type": "stream",
     "text": [
      "optimizing gain and bias\n",
      "<Connection pre_durstewitz>\n"
     ]
    },
    {
     "name": "stderr",
     "output_type": "stream",
     "text": [
      "/home/pduggins/.virtualenvs/nbn/lib/python3.6/site-packages/nengolib/signal/system.py:197: UserWarning: y0 (None!=0) does not properly initialize the system; see Nengo issue #1124.\n",
      "  \"Nengo issue #1124.\" % y0, UserWarning)\n"
     ]
    },
    {
     "name": "stdout",
     "output_type": "stream",
     "text": [
      "iteration 0, remaining neurons 10\n"
     ]
    },
    {
     "name": "stderr",
     "output_type": "stream",
     "text": [
      "/home/pduggins/.virtualenvs/nbn/lib/python3.6/site-packages/nengolib/signal/system.py:197: UserWarning: y0 (None!=0) does not properly initialize the system; see Nengo issue #1124.\n",
      "  \"Nengo issue #1124.\" % y0, UserWarning)\n"
     ]
    },
    {
     "data": {
      "application/vdom.v1+json": {
       "attributes": {},
       "tagName": "div"
      },
      "text/html": [
       "\n",
       "                <script>\n",
       "                    if (Jupyter.version.split(\".\")[0] < 5) {\n",
       "                        var pb = document.getElementById(\"b115282d-2c89-40c8-895c-a6f922c4af6e\");\n",
       "                        var text = document.createTextNode(\n",
       "                            \"HMTL progress bar requires Jupyter Notebook >= \" +\n",
       "                            \"5.0 or Jupyter Lab. Alternatively, you can use \" +\n",
       "                            \"TerminalProgressBar().\");\n",
       "                        pb.parentNode.insertBefore(text, pb);\n",
       "                    }\n",
       "                </script>\n",
       "                <div id=\"b115282d-2c89-40c8-895c-a6f922c4af6e\" style=\"\n",
       "                    width: 100%;\n",
       "                    border: 1px solid #cfcfcf;\n",
       "                    border-radius: 4px;\n",
       "                    text-align: center;\n",
       "                    position: relative;\">\n",
       "                  <div class=\"pb-text\" style=\"\n",
       "                      position: absolute;\n",
       "                      width: 100%;\">\n",
       "                    0%\n",
       "                  </div>\n",
       "                  <div class=\"pb-fill\" style=\"\n",
       "                      background-color: #bdd2e6;\n",
       "                      width: 0%;\">\n",
       "                    <style type=\"text/css\" scoped=\"scoped\">\n",
       "                        @keyframes pb-fill-anim {\n",
       "                            0% { background-position: 0 0; }\n",
       "                            100% { background-position: 100px 0; }\n",
       "                        }\n",
       "                    </style>\n",
       "                    &nbsp;\n",
       "                  </div>\n",
       "                </div>"
      ],
      "text/plain": [
       "HtmlProgressBar cannot be displayed. Please use the TerminalProgressBar. It can be enabled with `nengo.rc.set('progress', 'progress_bar', 'nengo.utils.progress.TerminalProgressBar')`."
      ]
     },
     "metadata": {},
     "output_type": "display_data"
    },
    {
     "data": {
      "application/javascript": [
       "\n",
       "              (function () {\n",
       "                  var root = document.getElementById('b115282d-2c89-40c8-895c-a6f922c4af6e');\n",
       "                  var text = root.getElementsByClassName('pb-text')[0];\n",
       "                  var fill = root.getElementsByClassName('pb-fill')[0];\n",
       "\n",
       "                  text.innerHTML = 'Simulation finished in 0:02:19.';\n",
       "                  \n",
       "            if (100.0 > 0.) {\n",
       "                fill.style.transition = 'width 0.1s linear';\n",
       "            } else {\n",
       "                fill.style.transition = 'none';\n",
       "            }\n",
       "\n",
       "            fill.style.width = '100.0%';\n",
       "            fill.style.animation = 'none';\n",
       "            fill.style.backgroundImage = 'none'\n",
       "        \n",
       "                  \n",
       "                fill.style.animation = 'none';\n",
       "                fill.style.backgroundImage = 'none';\n",
       "            \n",
       "              })();\n",
       "        "
      ],
      "application/vdom.v1+json": {
       "attributes": {
        "id": "4ce4fdb6-7bb7-4d73-86ac-fa826979eb9c",
        "style": {
         "border": "1px solid #cfcfcf",
         "borderRadius": "4px",
         "boxSizing": "border-box",
         "position": "relative",
         "textAlign": "center",
         "width": "100%"
        }
       },
       "children": [
        {
         "attributes": {
          "class": "pb-text",
          "style": {
           "position": "absolute",
           "width": "100%"
          }
         },
         "children": [
          "Simulation finished in 0:02:19."
         ],
         "tagName": "div"
        },
        {
         "attributes": {
          "class": "pb-fill",
          "style": {
           "animation": "none",
           "backgroundColor": "#bdd2e6",
           "backgroundImage": "none",
           "transition": "width 0.1s linear",
           "width": "100%"
          }
         },
         "children": [
          {
           "attributes": {
            "scoped": "scoped",
            "type": "text/css"
           },
           "children": [
            "\n                        @keyframes pb-fill-anim {\n                            0% { background-position: 0 0; }\n                            100% { background-position: 100px 0; }\n                        }}"
           ],
           "tagName": "style"
          },
          " "
         ],
         "tagName": "div"
        }
       ],
       "tagName": "div"
      }
     },
     "metadata": {},
     "output_type": "display_data"
    },
    {
     "name": "stdout",
     "output_type": "stream",
     "text": [
      "<Connection durstewitz_durstewitz2>\n",
      "iteration 0, remaining neurons 10\n"
     ]
    },
    {
     "name": "stderr",
     "output_type": "stream",
     "text": [
      "/home/pduggins/.virtualenvs/nbn/lib/python3.6/site-packages/nengolib/signal/system.py:197: UserWarning: y0 (None!=0) does not properly initialize the system; see Nengo issue #1124.\n",
      "  \"Nengo issue #1124.\" % y0, UserWarning)\n"
     ]
    },
    {
     "data": {
      "application/vdom.v1+json": {
       "attributes": {},
       "tagName": "div"
      },
      "text/html": [
       "\n",
       "                <script>\n",
       "                    if (Jupyter.version.split(\".\")[0] < 5) {\n",
       "                        var pb = document.getElementById(\"012ec960-6264-49bb-ae4e-f013f5d3c576\");\n",
       "                        var text = document.createTextNode(\n",
       "                            \"HMTL progress bar requires Jupyter Notebook >= \" +\n",
       "                            \"5.0 or Jupyter Lab. Alternatively, you can use \" +\n",
       "                            \"TerminalProgressBar().\");\n",
       "                        pb.parentNode.insertBefore(text, pb);\n",
       "                    }\n",
       "                </script>\n",
       "                <div id=\"012ec960-6264-49bb-ae4e-f013f5d3c576\" style=\"\n",
       "                    width: 100%;\n",
       "                    border: 1px solid #cfcfcf;\n",
       "                    border-radius: 4px;\n",
       "                    text-align: center;\n",
       "                    position: relative;\">\n",
       "                  <div class=\"pb-text\" style=\"\n",
       "                      position: absolute;\n",
       "                      width: 100%;\">\n",
       "                    0%\n",
       "                  </div>\n",
       "                  <div class=\"pb-fill\" style=\"\n",
       "                      background-color: #bdd2e6;\n",
       "                      width: 0%;\">\n",
       "                    <style type=\"text/css\" scoped=\"scoped\">\n",
       "                        @keyframes pb-fill-anim {\n",
       "                            0% { background-position: 0 0; }\n",
       "                            100% { background-position: 100px 0; }\n",
       "                        }\n",
       "                    </style>\n",
       "                    &nbsp;\n",
       "                  </div>\n",
       "                </div>"
      ],
      "text/plain": [
       "HtmlProgressBar cannot be displayed. Please use the TerminalProgressBar. It can be enabled with `nengo.rc.set('progress', 'progress_bar', 'nengo.utils.progress.TerminalProgressBar')`."
      ]
     },
     "metadata": {},
     "output_type": "display_data"
    },
    {
     "data": {
      "application/javascript": [
       "\n",
       "              (function () {\n",
       "                  var root = document.getElementById('012ec960-6264-49bb-ae4e-f013f5d3c576');\n",
       "                  var text = root.getElementsByClassName('pb-text')[0];\n",
       "                  var fill = root.getElementsByClassName('pb-fill')[0];\n",
       "\n",
       "                  text.innerHTML = 'Simulation finished in 0:00:46.';\n",
       "                  \n",
       "            if (100.0 > 0.) {\n",
       "                fill.style.transition = 'width 0.1s linear';\n",
       "            } else {\n",
       "                fill.style.transition = 'none';\n",
       "            }\n",
       "\n",
       "            fill.style.width = '100.0%';\n",
       "            fill.style.animation = 'none';\n",
       "            fill.style.backgroundImage = 'none'\n",
       "        \n",
       "                  \n",
       "                fill.style.animation = 'none';\n",
       "                fill.style.backgroundImage = 'none';\n",
       "            \n",
       "              })();\n",
       "        "
      ],
      "application/vdom.v1+json": {
       "attributes": {
        "id": "434f629e-0800-4520-9b60-18ff7209adeb",
        "style": {
         "border": "1px solid #cfcfcf",
         "borderRadius": "4px",
         "boxSizing": "border-box",
         "position": "relative",
         "textAlign": "center",
         "width": "100%"
        }
       },
       "children": [
        {
         "attributes": {
          "class": "pb-text",
          "style": {
           "position": "absolute",
           "width": "100%"
          }
         },
         "children": [
          "Simulation finished in 0:00:46."
         ],
         "tagName": "div"
        },
        {
         "attributes": {
          "class": "pb-fill",
          "style": {
           "animation": "none",
           "backgroundColor": "#bdd2e6",
           "backgroundImage": "none",
           "transition": "width 0.1s linear",
           "width": "100%"
          }
         },
         "children": [
          {
           "attributes": {
            "scoped": "scoped",
            "type": "text/css"
           },
           "children": [
            "\n                        @keyframes pb-fill-anim {\n                            0% { background-position: 0 0; }\n                            100% { background-position: 100px 0; }\n                        }}"
           ],
           "tagName": "style"
          },
          " "
         ],
         "tagName": "div"
        }
       ],
       "tagName": "div"
      }
     },
     "metadata": {},
     "output_type": "display_data"
    },
    {
     "data": {
      "application/vdom.v1+json": {
       "attributes": {},
       "tagName": "div"
      },
      "text/html": [
       "\n",
       "                <script>\n",
       "                    if (Jupyter.version.split(\".\")[0] < 5) {\n",
       "                        var pb = document.getElementById(\"c909c5d9-8e91-4680-9f58-3d2e87e2acfb\");\n",
       "                        var text = document.createTextNode(\n",
       "                            \"HMTL progress bar requires Jupyter Notebook >= \" +\n",
       "                            \"5.0 or Jupyter Lab. Alternatively, you can use \" +\n",
       "                            \"TerminalProgressBar().\");\n",
       "                        pb.parentNode.insertBefore(text, pb);\n",
       "                    }\n",
       "                </script>\n",
       "                <div id=\"c909c5d9-8e91-4680-9f58-3d2e87e2acfb\" style=\"\n",
       "                    width: 100%;\n",
       "                    border: 1px solid #cfcfcf;\n",
       "                    border-radius: 4px;\n",
       "                    text-align: center;\n",
       "                    position: relative;\">\n",
       "                  <div class=\"pb-text\" style=\"\n",
       "                      position: absolute;\n",
       "                      width: 100%;\">\n",
       "                    0%\n",
       "                  </div>\n",
       "                  <div class=\"pb-fill\" style=\"\n",
       "                      background-color: #bdd2e6;\n",
       "                      width: 0%;\">\n",
       "                    <style type=\"text/css\" scoped=\"scoped\">\n",
       "                        @keyframes pb-fill-anim {\n",
       "                            0% { background-position: 0 0; }\n",
       "                            100% { background-position: 100px 0; }\n",
       "                        }\n",
       "                    </style>\n",
       "                    &nbsp;\n",
       "                  </div>\n",
       "                </div>"
      ],
      "text/plain": [
       "HtmlProgressBar cannot be displayed. Please use the TerminalProgressBar. It can be enabled with `nengo.rc.set('progress', 'progress_bar', 'nengo.utils.progress.TerminalProgressBar')`."
      ]
     },
     "metadata": {},
     "output_type": "display_data"
    },
    {
     "data": {
      "application/javascript": [
       "\n",
       "              (function () {\n",
       "                  var root = document.getElementById('c909c5d9-8e91-4680-9f58-3d2e87e2acfb');\n",
       "                  var text = root.getElementsByClassName('pb-text')[0];\n",
       "                  var fill = root.getElementsByClassName('pb-fill')[0];\n",
       "\n",
       "                  text.innerHTML = 'Build finished in 0:00:13.';\n",
       "                  \n",
       "            fill.style.width = '100%';\n",
       "            fill.style.animation = 'pb-fill-anim 2s linear infinite';\n",
       "            fill.style.backgroundSize = '100px 100%';\n",
       "            fill.style.backgroundImage = 'repeating-linear-gradient(' +\n",
       "                '90deg, #bdd2e6, #edf2f8 40%, #bdd2e6 80%, #bdd2e6)';\n",
       "        \n",
       "                  \n",
       "                fill.style.animation = 'none';\n",
       "                fill.style.backgroundImage = 'none';\n",
       "            \n",
       "              })();\n",
       "        "
      ],
      "application/vdom.v1+json": {
       "attributes": {
        "id": "1be2e655-5db1-43fc-b9c1-be7fd5dea5cd",
        "style": {
         "border": "1px solid #cfcfcf",
         "borderRadius": "4px",
         "boxSizing": "border-box",
         "position": "relative",
         "textAlign": "center",
         "width": "100%"
        }
       },
       "children": [
        {
         "attributes": {
          "class": "pb-text",
          "style": {
           "position": "absolute",
           "width": "100%"
          }
         },
         "children": [
          "Build finished in 0:00:13."
         ],
         "tagName": "div"
        },
        {
         "attributes": {
          "class": "pb-fill",
          "style": {
           "animation": "none",
           "backgroundColor": "#bdd2e6",
           "backgroundImage": "none",
           "backgroundSize": "100px 100%",
           "width": "100%"
          }
         },
         "children": [
          {
           "attributes": {
            "scoped": "scoped",
            "type": "text/css"
           },
           "children": [
            "\n                        @keyframes pb-fill-anim {\n                            0% { background-position: 0 0; }\n                            100% { background-position: 100px 0; }\n                        }}"
           ],
           "tagName": "style"
          },
          " "
         ],
         "tagName": "div"
        }
       ],
       "tagName": "div"
      }
     },
     "metadata": {},
     "output_type": "display_data"
    },
    {
     "name": "stderr",
     "output_type": "stream",
     "text": [
      "/home/pduggins/.virtualenvs/nbn/lib/python3.6/site-packages/nengolib/signal/system.py:197: UserWarning: y0 (None!=0) does not properly initialize the system; see Nengo issue #1124.\n",
      "  \"Nengo issue #1124.\" % y0, UserWarning)\n",
      "/home/pduggins/.virtualenvs/nbn/lib/python3.6/site-packages/nengolib/signal/system.py:197: UserWarning: y0 (None!=0) does not properly initialize the system; see Nengo issue #1124.\n",
      "  \"Nengo issue #1124.\" % y0, UserWarning)\n",
      "/home/pduggins/.virtualenvs/nbn/lib/python3.6/site-packages/nengolib/signal/system.py:197: UserWarning: y0 (None!=0) does not properly initialize the system; see Nengo issue #1124.\n",
      "  \"Nengo issue #1124.\" % y0, UserWarning)\n"
     ]
    },
    {
     "data": {
      "application/vdom.v1+json": {
       "attributes": {},
       "tagName": "div"
      },
      "text/html": [
       "\n",
       "                <script>\n",
       "                    if (Jupyter.version.split(\".\")[0] < 5) {\n",
       "                        var pb = document.getElementById(\"ce428ab3-2553-4c8e-bc83-cd9026b823e6\");\n",
       "                        var text = document.createTextNode(\n",
       "                            \"HMTL progress bar requires Jupyter Notebook >= \" +\n",
       "                            \"5.0 or Jupyter Lab. Alternatively, you can use \" +\n",
       "                            \"TerminalProgressBar().\");\n",
       "                        pb.parentNode.insertBefore(text, pb);\n",
       "                    }\n",
       "                </script>\n",
       "                <div id=\"ce428ab3-2553-4c8e-bc83-cd9026b823e6\" style=\"\n",
       "                    width: 100%;\n",
       "                    border: 1px solid #cfcfcf;\n",
       "                    border-radius: 4px;\n",
       "                    text-align: center;\n",
       "                    position: relative;\">\n",
       "                  <div class=\"pb-text\" style=\"\n",
       "                      position: absolute;\n",
       "                      width: 100%;\">\n",
       "                    0%\n",
       "                  </div>\n",
       "                  <div class=\"pb-fill\" style=\"\n",
       "                      background-color: #bdd2e6;\n",
       "                      width: 0%;\">\n",
       "                    <style type=\"text/css\" scoped=\"scoped\">\n",
       "                        @keyframes pb-fill-anim {\n",
       "                            0% { background-position: 0 0; }\n",
       "                            100% { background-position: 100px 0; }\n",
       "                        }\n",
       "                    </style>\n",
       "                    &nbsp;\n",
       "                  </div>\n",
       "                </div>"
      ],
      "text/plain": [
       "HtmlProgressBar cannot be displayed. Please use the TerminalProgressBar. It can be enabled with `nengo.rc.set('progress', 'progress_bar', 'nengo.utils.progress.TerminalProgressBar')`."
      ]
     },
     "metadata": {},
     "output_type": "display_data"
    },
    {
     "data": {
      "application/javascript": [
       "\n",
       "              (function () {\n",
       "                  var root = document.getElementById('ce428ab3-2553-4c8e-bc83-cd9026b823e6');\n",
       "                  var text = root.getElementsByClassName('pb-text')[0];\n",
       "                  var fill = root.getElementsByClassName('pb-fill')[0];\n",
       "\n",
       "                  text.innerHTML = 'Simulation finished in 0:03:05.';\n",
       "                  \n",
       "            if (100.0 > 0.) {\n",
       "                fill.style.transition = 'width 0.1s linear';\n",
       "            } else {\n",
       "                fill.style.transition = 'none';\n",
       "            }\n",
       "\n",
       "            fill.style.width = '100.0%';\n",
       "            fill.style.animation = 'none';\n",
       "            fill.style.backgroundImage = 'none'\n",
       "        \n",
       "                  \n",
       "                fill.style.animation = 'none';\n",
       "                fill.style.backgroundImage = 'none';\n",
       "            \n",
       "              })();\n",
       "        "
      ],
      "application/vdom.v1+json": {
       "attributes": {
        "id": "1f5ff849-673f-4105-a1d9-0d7859d34068",
        "style": {
         "border": "1px solid #cfcfcf",
         "borderRadius": "4px",
         "boxSizing": "border-box",
         "position": "relative",
         "textAlign": "center",
         "width": "100%"
        }
       },
       "children": [
        {
         "attributes": {
          "class": "pb-text",
          "style": {
           "position": "absolute",
           "width": "100%"
          }
         },
         "children": [
          "Simulation finished in 0:03:05."
         ],
         "tagName": "div"
        },
        {
         "attributes": {
          "class": "pb-fill",
          "style": {
           "animation": "none",
           "backgroundColor": "#bdd2e6",
           "backgroundImage": "none",
           "transition": "width 0.1s linear",
           "width": "100%"
          }
         },
         "children": [
          {
           "attributes": {
            "scoped": "scoped",
            "type": "text/css"
           },
           "children": [
            "\n                        @keyframes pb-fill-anim {\n                            0% { background-position: 0 0; }\n                            100% { background-position: 100px 0; }\n                        }}"
           ],
           "tagName": "style"
          },
          " "
         ],
         "tagName": "div"
        }
       ],
       "tagName": "div"
      }
     },
     "metadata": {},
     "output_type": "display_data"
    },
    {
     "name": "stdout",
     "output_type": "stream",
     "text": [
      "optimizing filters and decoders\n"
     ]
    },
    {
     "data": {
      "application/vdom.v1+json": {
       "attributes": {},
       "tagName": "div"
      },
      "text/html": [
       "\n",
       "                <script>\n",
       "                    if (Jupyter.version.split(\".\")[0] < 5) {\n",
       "                        var pb = document.getElementById(\"250e724f-dea2-4c54-8969-e37faba1d7a0\");\n",
       "                        var text = document.createTextNode(\n",
       "                            \"HMTL progress bar requires Jupyter Notebook >= \" +\n",
       "                            \"5.0 or Jupyter Lab. Alternatively, you can use \" +\n",
       "                            \"TerminalProgressBar().\");\n",
       "                        pb.parentNode.insertBefore(text, pb);\n",
       "                    }\n",
       "                </script>\n",
       "                <div id=\"250e724f-dea2-4c54-8969-e37faba1d7a0\" style=\"\n",
       "                    width: 100%;\n",
       "                    border: 1px solid #cfcfcf;\n",
       "                    border-radius: 4px;\n",
       "                    text-align: center;\n",
       "                    position: relative;\">\n",
       "                  <div class=\"pb-text\" style=\"\n",
       "                      position: absolute;\n",
       "                      width: 100%;\">\n",
       "                    0%\n",
       "                  </div>\n",
       "                  <div class=\"pb-fill\" style=\"\n",
       "                      background-color: #bdd2e6;\n",
       "                      width: 0%;\">\n",
       "                    <style type=\"text/css\" scoped=\"scoped\">\n",
       "                        @keyframes pb-fill-anim {\n",
       "                            0% { background-position: 0 0; }\n",
       "                            100% { background-position: 100px 0; }\n",
       "                        }\n",
       "                    </style>\n",
       "                    &nbsp;\n",
       "                  </div>\n",
       "                </div>"
      ],
      "text/plain": [
       "HtmlProgressBar cannot be displayed. Please use the TerminalProgressBar. It can be enabled with `nengo.rc.set('progress', 'progress_bar', 'nengo.utils.progress.TerminalProgressBar')`."
      ]
     },
     "metadata": {},
     "output_type": "display_data"
    },
    {
     "data": {
      "application/javascript": [
       "\n",
       "              (function () {\n",
       "                  var root = document.getElementById('250e724f-dea2-4c54-8969-e37faba1d7a0');\n",
       "                  var text = root.getElementsByClassName('pb-text')[0];\n",
       "                  var fill = root.getElementsByClassName('pb-fill')[0];\n",
       "\n",
       "                  text.innerHTML = 'Build finished in 0:00:12.';\n",
       "                  \n",
       "            fill.style.width = '100%';\n",
       "            fill.style.animation = 'pb-fill-anim 2s linear infinite';\n",
       "            fill.style.backgroundSize = '100px 100%';\n",
       "            fill.style.backgroundImage = 'repeating-linear-gradient(' +\n",
       "                '90deg, #bdd2e6, #edf2f8 40%, #bdd2e6 80%, #bdd2e6)';\n",
       "        \n",
       "                  \n",
       "                fill.style.animation = 'none';\n",
       "                fill.style.backgroundImage = 'none';\n",
       "            \n",
       "              })();\n",
       "        "
      ],
      "application/vdom.v1+json": {
       "attributes": {
        "id": "89055b56-5a2e-49be-b5b1-d604f1dff671",
        "style": {
         "border": "1px solid #cfcfcf",
         "borderRadius": "4px",
         "boxSizing": "border-box",
         "position": "relative",
         "textAlign": "center",
         "width": "100%"
        }
       },
       "children": [
        {
         "attributes": {
          "class": "pb-text",
          "style": {
           "position": "absolute",
           "width": "100%"
          }
         },
         "children": [
          "Build finished in 0:00:12."
         ],
         "tagName": "div"
        },
        {
         "attributes": {
          "class": "pb-fill",
          "style": {
           "animation": "none",
           "backgroundColor": "#bdd2e6",
           "backgroundImage": "none",
           "backgroundSize": "100px 100%",
           "width": "100%"
          }
         },
         "children": [
          {
           "attributes": {
            "scoped": "scoped",
            "type": "text/css"
           },
           "children": [
            "\n                        @keyframes pb-fill-anim {\n                            0% { background-position: 0 0; }\n                            100% { background-position: 100px 0; }\n                        }}"
           ],
           "tagName": "style"
          },
          " "
         ],
         "tagName": "div"
        }
       ],
       "tagName": "div"
      }
     },
     "metadata": {},
     "output_type": "display_data"
    },
    {
     "name": "stderr",
     "output_type": "stream",
     "text": [
      "/home/pduggins/.virtualenvs/nbn/lib/python3.6/site-packages/nengolib/signal/system.py:197: UserWarning: y0 (None!=0) does not properly initialize the system; see Nengo issue #1124.\n",
      "  \"Nengo issue #1124.\" % y0, UserWarning)\n",
      "/home/pduggins/.virtualenvs/nbn/lib/python3.6/site-packages/nengolib/signal/system.py:197: UserWarning: y0 (None!=0) does not properly initialize the system; see Nengo issue #1124.\n",
      "  \"Nengo issue #1124.\" % y0, UserWarning)\n",
      "/home/pduggins/.virtualenvs/nbn/lib/python3.6/site-packages/nengolib/signal/system.py:197: UserWarning: y0 (None!=0) does not properly initialize the system; see Nengo issue #1124.\n",
      "  \"Nengo issue #1124.\" % y0, UserWarning)\n"
     ]
    },
    {
     "data": {
      "application/vdom.v1+json": {
       "attributes": {},
       "tagName": "div"
      },
      "text/html": [
       "\n",
       "                <script>\n",
       "                    if (Jupyter.version.split(\".\")[0] < 5) {\n",
       "                        var pb = document.getElementById(\"3fa6c878-3ced-4fe7-acf4-a6854f7aca92\");\n",
       "                        var text = document.createTextNode(\n",
       "                            \"HMTL progress bar requires Jupyter Notebook >= \" +\n",
       "                            \"5.0 or Jupyter Lab. Alternatively, you can use \" +\n",
       "                            \"TerminalProgressBar().\");\n",
       "                        pb.parentNode.insertBefore(text, pb);\n",
       "                    }\n",
       "                </script>\n",
       "                <div id=\"3fa6c878-3ced-4fe7-acf4-a6854f7aca92\" style=\"\n",
       "                    width: 100%;\n",
       "                    border: 1px solid #cfcfcf;\n",
       "                    border-radius: 4px;\n",
       "                    text-align: center;\n",
       "                    position: relative;\">\n",
       "                  <div class=\"pb-text\" style=\"\n",
       "                      position: absolute;\n",
       "                      width: 100%;\">\n",
       "                    0%\n",
       "                  </div>\n",
       "                  <div class=\"pb-fill\" style=\"\n",
       "                      background-color: #bdd2e6;\n",
       "                      width: 0%;\">\n",
       "                    <style type=\"text/css\" scoped=\"scoped\">\n",
       "                        @keyframes pb-fill-anim {\n",
       "                            0% { background-position: 0 0; }\n",
       "                            100% { background-position: 100px 0; }\n",
       "                        }\n",
       "                    </style>\n",
       "                    &nbsp;\n",
       "                  </div>\n",
       "                </div>"
      ],
      "text/plain": [
       "HtmlProgressBar cannot be displayed. Please use the TerminalProgressBar. It can be enabled with `nengo.rc.set('progress', 'progress_bar', 'nengo.utils.progress.TerminalProgressBar')`."
      ]
     },
     "metadata": {},
     "output_type": "display_data"
    },
    {
     "data": {
      "application/javascript": [
       "\n",
       "              (function () {\n",
       "                  var root = document.getElementById('3fa6c878-3ced-4fe7-acf4-a6854f7aca92');\n",
       "                  var text = root.getElementsByClassName('pb-text')[0];\n",
       "                  var fill = root.getElementsByClassName('pb-fill')[0];\n",
       "\n",
       "                  text.innerHTML = 'Simulation finished in 0:03:04.';\n",
       "                  \n",
       "            if (100.0 > 0.) {\n",
       "                fill.style.transition = 'width 0.1s linear';\n",
       "            } else {\n",
       "                fill.style.transition = 'none';\n",
       "            }\n",
       "\n",
       "            fill.style.width = '100.0%';\n",
       "            fill.style.animation = 'none';\n",
       "            fill.style.backgroundImage = 'none'\n",
       "        \n",
       "                  \n",
       "                fill.style.animation = 'none';\n",
       "                fill.style.backgroundImage = 'none';\n",
       "            \n",
       "              })();\n",
       "        "
      ],
      "application/vdom.v1+json": {
       "attributes": {
        "id": "537ddecc-3b5a-4874-81ef-ab27de8bb4a4",
        "style": {
         "border": "1px solid #cfcfcf",
         "borderRadius": "4px",
         "boxSizing": "border-box",
         "position": "relative",
         "textAlign": "center",
         "width": "100%"
        }
       },
       "children": [
        {
         "attributes": {
          "class": "pb-text",
          "style": {
           "position": "absolute",
           "width": "100%"
          }
         },
         "children": [
          "Simulation finished in 0:03:04."
         ],
         "tagName": "div"
        },
        {
         "attributes": {
          "class": "pb-fill",
          "style": {
           "animation": "none",
           "backgroundColor": "#bdd2e6",
           "backgroundImage": "none",
           "transition": "width 0.1s linear",
           "width": "100%"
          }
         },
         "children": [
          {
           "attributes": {
            "scoped": "scoped",
            "type": "text/css"
           },
           "children": [
            "\n                        @keyframes pb-fill-anim {\n                            0% { background-position: 0 0; }\n                            100% { background-position: 100px 0; }\n                        }}"
           ],
           "tagName": "style"
          },
          " "
         ],
         "tagName": "div"
        }
       ],
       "tagName": "div"
      }
     },
     "metadata": {},
     "output_type": "display_data"
    },
    {
     "name": "stdout",
     "output_type": "stream",
     "text": [
      "running experimental trials\n"
     ]
    },
    {
     "data": {
      "application/vdom.v1+json": {
       "attributes": {},
       "tagName": "div"
      },
      "text/html": [
       "\n",
       "                <script>\n",
       "                    if (Jupyter.version.split(\".\")[0] < 5) {\n",
       "                        var pb = document.getElementById(\"c8cef3cb-58c5-4f62-9cba-a2cd30ead470\");\n",
       "                        var text = document.createTextNode(\n",
       "                            \"HMTL progress bar requires Jupyter Notebook >= \" +\n",
       "                            \"5.0 or Jupyter Lab. Alternatively, you can use \" +\n",
       "                            \"TerminalProgressBar().\");\n",
       "                        pb.parentNode.insertBefore(text, pb);\n",
       "                    }\n",
       "                </script>\n",
       "                <div id=\"c8cef3cb-58c5-4f62-9cba-a2cd30ead470\" style=\"\n",
       "                    width: 100%;\n",
       "                    border: 1px solid #cfcfcf;\n",
       "                    border-radius: 4px;\n",
       "                    text-align: center;\n",
       "                    position: relative;\">\n",
       "                  <div class=\"pb-text\" style=\"\n",
       "                      position: absolute;\n",
       "                      width: 100%;\">\n",
       "                    0%\n",
       "                  </div>\n",
       "                  <div class=\"pb-fill\" style=\"\n",
       "                      background-color: #bdd2e6;\n",
       "                      width: 0%;\">\n",
       "                    <style type=\"text/css\" scoped=\"scoped\">\n",
       "                        @keyframes pb-fill-anim {\n",
       "                            0% { background-position: 0 0; }\n",
       "                            100% { background-position: 100px 0; }\n",
       "                        }\n",
       "                    </style>\n",
       "                    &nbsp;\n",
       "                  </div>\n",
       "                </div>"
      ],
      "text/plain": [
       "HtmlProgressBar cannot be displayed. Please use the TerminalProgressBar. It can be enabled with `nengo.rc.set('progress', 'progress_bar', 'nengo.utils.progress.TerminalProgressBar')`."
      ]
     },
     "metadata": {},
     "output_type": "display_data"
    },
    {
     "data": {
      "application/javascript": [
       "\n",
       "              (function () {\n",
       "                  var root = document.getElementById('c8cef3cb-58c5-4f62-9cba-a2cd30ead470');\n",
       "                  var text = root.getElementsByClassName('pb-text')[0];\n",
       "                  var fill = root.getElementsByClassName('pb-fill')[0];\n",
       "\n",
       "                  text.innerHTML = 'Build finished in 0:00:12.';\n",
       "                  \n",
       "            fill.style.width = '100%';\n",
       "            fill.style.animation = 'pb-fill-anim 2s linear infinite';\n",
       "            fill.style.backgroundSize = '100px 100%';\n",
       "            fill.style.backgroundImage = 'repeating-linear-gradient(' +\n",
       "                '90deg, #bdd2e6, #edf2f8 40%, #bdd2e6 80%, #bdd2e6)';\n",
       "        \n",
       "                  \n",
       "                fill.style.animation = 'none';\n",
       "                fill.style.backgroundImage = 'none';\n",
       "            \n",
       "              })();\n",
       "        "
      ],
      "application/vdom.v1+json": {
       "attributes": {
        "id": "598521fc-7419-4cba-8062-516dcf91ee17",
        "style": {
         "border": "1px solid #cfcfcf",
         "borderRadius": "4px",
         "boxSizing": "border-box",
         "position": "relative",
         "textAlign": "center",
         "width": "100%"
        }
       },
       "children": [
        {
         "attributes": {
          "class": "pb-text",
          "style": {
           "position": "absolute",
           "width": "100%"
          }
         },
         "children": [
          "Build finished in 0:00:12."
         ],
         "tagName": "div"
        },
        {
         "attributes": {
          "class": "pb-fill",
          "style": {
           "animation": "none",
           "backgroundColor": "#bdd2e6",
           "backgroundImage": "none",
           "backgroundSize": "100px 100%",
           "width": "100%"
          }
         },
         "children": [
          {
           "attributes": {
            "scoped": "scoped",
            "type": "text/css"
           },
           "children": [
            "\n                        @keyframes pb-fill-anim {\n                            0% { background-position: 0 0; }\n                            100% { background-position: 100px 0; }\n                        }}"
           ],
           "tagName": "style"
          },
          " "
         ],
         "tagName": "div"
        }
       ],
       "tagName": "div"
      }
     },
     "metadata": {},
     "output_type": "display_data"
    },
    {
     "name": "stderr",
     "output_type": "stream",
     "text": [
      "/home/pduggins/.virtualenvs/nbn/lib/python3.6/site-packages/nengolib/signal/system.py:197: UserWarning: y0 (None!=0) does not properly initialize the system; see Nengo issue #1124.\n",
      "  \"Nengo issue #1124.\" % y0, UserWarning)\n",
      "/home/pduggins/.virtualenvs/nbn/lib/python3.6/site-packages/nengolib/signal/system.py:197: UserWarning: y0 (None!=0) does not properly initialize the system; see Nengo issue #1124.\n",
      "  \"Nengo issue #1124.\" % y0, UserWarning)\n",
      "/home/pduggins/.virtualenvs/nbn/lib/python3.6/site-packages/nengolib/signal/system.py:197: UserWarning: y0 (None!=0) does not properly initialize the system; see Nengo issue #1124.\n",
      "  \"Nengo issue #1124.\" % y0, UserWarning)\n"
     ]
    },
    {
     "data": {
      "application/vdom.v1+json": {
       "attributes": {},
       "tagName": "div"
      },
      "text/html": [
       "\n",
       "                <script>\n",
       "                    if (Jupyter.version.split(\".\")[0] < 5) {\n",
       "                        var pb = document.getElementById(\"708b6eb3-6fdc-4608-b6b4-c40fa058108a\");\n",
       "                        var text = document.createTextNode(\n",
       "                            \"HMTL progress bar requires Jupyter Notebook >= \" +\n",
       "                            \"5.0 or Jupyter Lab. Alternatively, you can use \" +\n",
       "                            \"TerminalProgressBar().\");\n",
       "                        pb.parentNode.insertBefore(text, pb);\n",
       "                    }\n",
       "                </script>\n",
       "                <div id=\"708b6eb3-6fdc-4608-b6b4-c40fa058108a\" style=\"\n",
       "                    width: 100%;\n",
       "                    border: 1px solid #cfcfcf;\n",
       "                    border-radius: 4px;\n",
       "                    text-align: center;\n",
       "                    position: relative;\">\n",
       "                  <div class=\"pb-text\" style=\"\n",
       "                      position: absolute;\n",
       "                      width: 100%;\">\n",
       "                    0%\n",
       "                  </div>\n",
       "                  <div class=\"pb-fill\" style=\"\n",
       "                      background-color: #bdd2e6;\n",
       "                      width: 0%;\">\n",
       "                    <style type=\"text/css\" scoped=\"scoped\">\n",
       "                        @keyframes pb-fill-anim {\n",
       "                            0% { background-position: 0 0; }\n",
       "                            100% { background-position: 100px 0; }\n",
       "                        }\n",
       "                    </style>\n",
       "                    &nbsp;\n",
       "                  </div>\n",
       "                </div>"
      ],
      "text/plain": [
       "HtmlProgressBar cannot be displayed. Please use the TerminalProgressBar. It can be enabled with `nengo.rc.set('progress', 'progress_bar', 'nengo.utils.progress.TerminalProgressBar')`."
      ]
     },
     "metadata": {},
     "output_type": "display_data"
    },
    {
     "data": {
      "application/javascript": [
       "\n",
       "              (function () {\n",
       "                  var root = document.getElementById('708b6eb3-6fdc-4608-b6b4-c40fa058108a');\n",
       "                  var text = root.getElementsByClassName('pb-text')[0];\n",
       "                  var fill = root.getElementsByClassName('pb-fill')[0];\n",
       "\n",
       "                  text.innerHTML = 'Simulation finished in 0:03:08.';\n",
       "                  \n",
       "            if (100.0 > 0.) {\n",
       "                fill.style.transition = 'width 0.1s linear';\n",
       "            } else {\n",
       "                fill.style.transition = 'none';\n",
       "            }\n",
       "\n",
       "            fill.style.width = '100.0%';\n",
       "            fill.style.animation = 'none';\n",
       "            fill.style.backgroundImage = 'none'\n",
       "        \n",
       "                  \n",
       "                fill.style.animation = 'none';\n",
       "                fill.style.backgroundImage = 'none';\n",
       "            \n",
       "              })();\n",
       "        "
      ],
      "application/vdom.v1+json": {
       "attributes": {
        "id": "28d6f7c3-21a4-4f8c-bc77-8bd0c2b400fd",
        "style": {
         "border": "1px solid #cfcfcf",
         "borderRadius": "4px",
         "boxSizing": "border-box",
         "position": "relative",
         "textAlign": "center",
         "width": "100%"
        }
       },
       "children": [
        {
         "attributes": {
          "class": "pb-text",
          "style": {
           "position": "absolute",
           "width": "100%"
          }
         },
         "children": [
          "Simulation finished in 0:03:08."
         ],
         "tagName": "div"
        },
        {
         "attributes": {
          "class": "pb-fill",
          "style": {
           "animation": "none",
           "backgroundColor": "#bdd2e6",
           "backgroundImage": "none",
           "transition": "width 0.1s linear",
           "width": "100%"
          }
         },
         "children": [
          {
           "attributes": {
            "scoped": "scoped",
            "type": "text/css"
           },
           "children": [
            "\n                        @keyframes pb-fill-anim {\n                            0% { background-position: 0 0; }\n                            100% { background-position: 100px 0; }\n                        }}"
           ],
           "tagName": "style"
          },
          " "
         ],
         "tagName": "div"
        }
       ],
       "tagName": "div"
      }
     },
     "metadata": {},
     "output_type": "display_data"
    },
    {
     "data": {
      "application/vdom.v1+json": {
       "attributes": {},
       "tagName": "div"
      },
      "text/html": [
       "\n",
       "                <script>\n",
       "                    if (Jupyter.version.split(\".\")[0] < 5) {\n",
       "                        var pb = document.getElementById(\"363e00ae-fd12-4519-b4c7-0c1b094882ba\");\n",
       "                        var text = document.createTextNode(\n",
       "                            \"HMTL progress bar requires Jupyter Notebook >= \" +\n",
       "                            \"5.0 or Jupyter Lab. Alternatively, you can use \" +\n",
       "                            \"TerminalProgressBar().\");\n",
       "                        pb.parentNode.insertBefore(text, pb);\n",
       "                    }\n",
       "                </script>\n",
       "                <div id=\"363e00ae-fd12-4519-b4c7-0c1b094882ba\" style=\"\n",
       "                    width: 100%;\n",
       "                    border: 1px solid #cfcfcf;\n",
       "                    border-radius: 4px;\n",
       "                    text-align: center;\n",
       "                    position: relative;\">\n",
       "                  <div class=\"pb-text\" style=\"\n",
       "                      position: absolute;\n",
       "                      width: 100%;\">\n",
       "                    0%\n",
       "                  </div>\n",
       "                  <div class=\"pb-fill\" style=\"\n",
       "                      background-color: #bdd2e6;\n",
       "                      width: 0%;\">\n",
       "                    <style type=\"text/css\" scoped=\"scoped\">\n",
       "                        @keyframes pb-fill-anim {\n",
       "                            0% { background-position: 0 0; }\n",
       "                            100% { background-position: 100px 0; }\n",
       "                        }\n",
       "                    </style>\n",
       "                    &nbsp;\n",
       "                  </div>\n",
       "                </div>"
      ],
      "text/plain": [
       "HtmlProgressBar cannot be displayed. Please use the TerminalProgressBar. It can be enabled with `nengo.rc.set('progress', 'progress_bar', 'nengo.utils.progress.TerminalProgressBar')`."
      ]
     },
     "metadata": {},
     "output_type": "display_data"
    },
    {
     "data": {
      "application/javascript": [
       "\n",
       "              (function () {\n",
       "                  var root = document.getElementById('363e00ae-fd12-4519-b4c7-0c1b094882ba');\n",
       "                  var text = root.getElementsByClassName('pb-text')[0];\n",
       "                  var fill = root.getElementsByClassName('pb-fill')[0];\n",
       "\n",
       "                  text.innerHTML = 'Build finished in 0:00:12.';\n",
       "                  \n",
       "            fill.style.width = '100%';\n",
       "            fill.style.animation = 'pb-fill-anim 2s linear infinite';\n",
       "            fill.style.backgroundSize = '100px 100%';\n",
       "            fill.style.backgroundImage = 'repeating-linear-gradient(' +\n",
       "                '90deg, #bdd2e6, #edf2f8 40%, #bdd2e6 80%, #bdd2e6)';\n",
       "        \n",
       "                  \n",
       "                fill.style.animation = 'none';\n",
       "                fill.style.backgroundImage = 'none';\n",
       "            \n",
       "              })();\n",
       "        "
      ],
      "application/vdom.v1+json": {
       "attributes": {
        "id": "299dd1b0-16ec-446f-a4e7-bb8f4da6bc67",
        "style": {
         "border": "1px solid #cfcfcf",
         "borderRadius": "4px",
         "boxSizing": "border-box",
         "position": "relative",
         "textAlign": "center",
         "width": "100%"
        }
       },
       "children": [
        {
         "attributes": {
          "class": "pb-text",
          "style": {
           "position": "absolute",
           "width": "100%"
          }
         },
         "children": [
          "Build finished in 0:00:12."
         ],
         "tagName": "div"
        },
        {
         "attributes": {
          "class": "pb-fill",
          "style": {
           "animation": "none",
           "backgroundColor": "#bdd2e6",
           "backgroundImage": "none",
           "backgroundSize": "100px 100%",
           "width": "100%"
          }
         },
         "children": [
          {
           "attributes": {
            "scoped": "scoped",
            "type": "text/css"
           },
           "children": [
            "\n                        @keyframes pb-fill-anim {\n                            0% { background-position: 0 0; }\n                            100% { background-position: 100px 0; }\n                        }}"
           ],
           "tagName": "style"
          },
          " "
         ],
         "tagName": "div"
        }
       ],
       "tagName": "div"
      }
     },
     "metadata": {},
     "output_type": "display_data"
    },
    {
     "name": "stderr",
     "output_type": "stream",
     "text": [
      "/home/pduggins/.virtualenvs/nbn/lib/python3.6/site-packages/nengolib/signal/system.py:197: UserWarning: y0 (None!=0) does not properly initialize the system; see Nengo issue #1124.\n",
      "  \"Nengo issue #1124.\" % y0, UserWarning)\n",
      "/home/pduggins/.virtualenvs/nbn/lib/python3.6/site-packages/nengolib/signal/system.py:197: UserWarning: y0 (None!=0) does not properly initialize the system; see Nengo issue #1124.\n",
      "  \"Nengo issue #1124.\" % y0, UserWarning)\n",
      "/home/pduggins/.virtualenvs/nbn/lib/python3.6/site-packages/nengolib/signal/system.py:197: UserWarning: y0 (None!=0) does not properly initialize the system; see Nengo issue #1124.\n",
      "  \"Nengo issue #1124.\" % y0, UserWarning)\n"
     ]
    },
    {
     "data": {
      "application/vdom.v1+json": {
       "attributes": {},
       "tagName": "div"
      },
      "text/html": [
       "\n",
       "                <script>\n",
       "                    if (Jupyter.version.split(\".\")[0] < 5) {\n",
       "                        var pb = document.getElementById(\"961213af-7eed-431c-8793-fa106b8d9ebe\");\n",
       "                        var text = document.createTextNode(\n",
       "                            \"HMTL progress bar requires Jupyter Notebook >= \" +\n",
       "                            \"5.0 or Jupyter Lab. Alternatively, you can use \" +\n",
       "                            \"TerminalProgressBar().\");\n",
       "                        pb.parentNode.insertBefore(text, pb);\n",
       "                    }\n",
       "                </script>\n",
       "                <div id=\"961213af-7eed-431c-8793-fa106b8d9ebe\" style=\"\n",
       "                    width: 100%;\n",
       "                    border: 1px solid #cfcfcf;\n",
       "                    border-radius: 4px;\n",
       "                    text-align: center;\n",
       "                    position: relative;\">\n",
       "                  <div class=\"pb-text\" style=\"\n",
       "                      position: absolute;\n",
       "                      width: 100%;\">\n",
       "                    0%\n",
       "                  </div>\n",
       "                  <div class=\"pb-fill\" style=\"\n",
       "                      background-color: #bdd2e6;\n",
       "                      width: 0%;\">\n",
       "                    <style type=\"text/css\" scoped=\"scoped\">\n",
       "                        @keyframes pb-fill-anim {\n",
       "                            0% { background-position: 0 0; }\n",
       "                            100% { background-position: 100px 0; }\n",
       "                        }\n",
       "                    </style>\n",
       "                    &nbsp;\n",
       "                  </div>\n",
       "                </div>"
      ],
      "text/plain": [
       "HtmlProgressBar cannot be displayed. Please use the TerminalProgressBar. It can be enabled with `nengo.rc.set('progress', 'progress_bar', 'nengo.utils.progress.TerminalProgressBar')`."
      ]
     },
     "metadata": {},
     "output_type": "display_data"
    },
    {
     "data": {
      "application/javascript": [
       "\n",
       "              (function () {\n",
       "                  var root = document.getElementById('961213af-7eed-431c-8793-fa106b8d9ebe');\n",
       "                  var text = root.getElementsByClassName('pb-text')[0];\n",
       "                  var fill = root.getElementsByClassName('pb-fill')[0];\n",
       "\n",
       "                  text.innerHTML = 'Simulation finished in 0:03:04.';\n",
       "                  \n",
       "            if (100.0 > 0.) {\n",
       "                fill.style.transition = 'width 0.1s linear';\n",
       "            } else {\n",
       "                fill.style.transition = 'none';\n",
       "            }\n",
       "\n",
       "            fill.style.width = '100.0%';\n",
       "            fill.style.animation = 'none';\n",
       "            fill.style.backgroundImage = 'none'\n",
       "        \n",
       "                  \n",
       "                fill.style.animation = 'none';\n",
       "                fill.style.backgroundImage = 'none';\n",
       "            \n",
       "              })();\n",
       "        "
      ],
      "application/vdom.v1+json": {
       "attributes": {
        "id": "7a54ec89-8ee3-46a8-b9ee-193e97441c21",
        "style": {
         "border": "1px solid #cfcfcf",
         "borderRadius": "4px",
         "boxSizing": "border-box",
         "position": "relative",
         "textAlign": "center",
         "width": "100%"
        }
       },
       "children": [
        {
         "attributes": {
          "class": "pb-text",
          "style": {
           "position": "absolute",
           "width": "100%"
          }
         },
         "children": [
          "Simulation finished in 0:03:04."
         ],
         "tagName": "div"
        },
        {
         "attributes": {
          "class": "pb-fill",
          "style": {
           "animation": "none",
           "backgroundColor": "#bdd2e6",
           "backgroundImage": "none",
           "transition": "width 0.1s linear",
           "width": "100%"
          }
         },
         "children": [
          {
           "attributes": {
            "scoped": "scoped",
            "type": "text/css"
           },
           "children": [
            "\n                        @keyframes pb-fill-anim {\n                            0% { background-position: 0 0; }\n                            100% { background-position: 100px 0; }\n                        }}"
           ],
           "tagName": "style"
          },
          " "
         ],
         "tagName": "div"
        }
       ],
       "tagName": "div"
      }
     },
     "metadata": {},
     "output_type": "display_data"
    },
    {
     "name": "stderr",
     "output_type": "stream",
     "text": [
      "/home/pduggins/.virtualenvs/nbn/lib/python3.6/site-packages/scipy/stats/stats.py:1713: FutureWarning: Using a non-tuple sequence for multidimensional indexing is deprecated; use `arr[tuple(seq)]` instead of `arr[seq]`. In the future this will be interpreted as an array index, `arr[np.array(seq)]`, which will result either in an error or a different result.\n",
      "  return np.add.reduce(sorted[indexer] * weights, axis=axis) / sumval\n"
     ]
    },
    {
     "data": {
      "image/png": "[encoded data removed]",
      "text/plain": [
       "<Figure size 1008x432 with 1 Axes>"
      ]
     },
     "metadata": {},
     "output_type": "display_data"
    }
   ],
   "source": [
    "nrmses_hyperopt_fx = trials_fx(\n",
    "    fx=fx, n_neurons=10, t=1, tau=0.1, dt=0.001, maxiter_gainbias=1, optimize_h='hyperopt', n_trials=2, pe=False)"
   ]
  },
  {
   "cell_type": "code",
   "execution_count": null,
   "metadata": {},
   "outputs": [],
   "source": [
    "n_neurons = 100\n",
    "tau = 0.1\n",
    "# dt = 0.001\n",
    "dt = 0.000025\n",
    "d_lif = np.zeros((n_neurons, 1))\n",
    "d_alif = np.zeros((n_neurons, 1))\n",
    "d_wilson = np.zeros((n_neurons, 1))\n",
    "d_durstewitz = np.zeros((n_neurons, 1))\n",
    "def fx(x):\n",
    "    return np.square(x)\n",
    "\n",
    "data_fx = go_fx(fx, d_lif, d_alif, d_wilson, d_durstewitz, n_neurons=n_neurons, tau=tau, dt=dt, maxiter=10)"
   ]
  },
  {
   "cell_type": "code",
   "execution_count": null,
   "metadata": {},
   "outputs": [],
   "source": [
    "h = Lowpass(tau)\n",
    "d_lif = update_d(data_fx['tar'], data_fx['lif'], h, lambda_d=1e-1, tau=tau, dt=dt)\n",
    "d_alif = update_d(data_fx['tar'], data_fx['alif'], h, lambda_d=1e-1, tau=tau, dt=dt)\n",
    "d_wilson = update_d(data_fx['tar'], data_fx['wilson'], h, lambda_d=1e-1, tau=tau, dt=dt)\n",
    "d_durstewitz = update_d(data_fx['tar'], data_fx['durstewitz'], h, lambda_d=1e-1, tau=tau, dt=dt)\n",
    "\n",
    "a_lif = h.filt(data_fx['lif'], dt=dt)\n",
    "a_alif = h.filt(data_fx['alif'], dt=dt)\n",
    "a_wilson = h.filt(data_fx['wilson'], dt=dt)\n",
    "a_durstewitz = h.filt(data_fx['durstewitz'], dt=dt)\n",
    "\n",
    "xhat_lif = np.dot(a_lif, d_lif)\n",
    "xhat_alif = np.dot(a_alif, d_alif)\n",
    "xhat_wilson = np.dot(a_wilson, d_wilson)\n",
    "xhat_durstewitz = np.dot(a_durstewitz, d_durstewitz)\n",
    "\n",
    "target = h.filt(data_fx['tar'], dt=dt)\n",
    "nrmse_lif = nrmse(xhat_lif, target=target)\n",
    "nrmse_alif = nrmse(xhat_alif, target=target)\n",
    "nrmse_wilson = nrmse(xhat_wilson, target=target)\n",
    "nrmse_durstewitz = nrmse(xhat_durstewitz, target=target)\n",
    "\n",
    "fig, ax = plt.subplots(figsize=((12, 8)))\n",
    "ax.plot(data_fx['times'], target, linestyle=\"--\", label='target')\n",
    "ax.plot(data_fx['times'], xhat_lif, label='LIF, nrmse=%.3f' %nrmse_lif)\n",
    "ax.plot(data_fx['times'], xhat_alif, label='ALIF, nrmse=%.3f' %nrmse_alif)\n",
    "ax.plot(data_fx['times'], xhat_wilson, label='Wilson, nrmse=%.3f' %nrmse_wilson)\n",
    "ax.plot(data_fx['times'], xhat_durstewitz, label='Durstewitz, nrmse=%.3f' %nrmse_durstewitz)\n",
    "ax.set(xlabel='time (s)', ylabel=r'$\\mathbf{x}$')\n",
    "plt.legend(loc='upper right')\n",
    "fig.show()"
   ]
  },
  {
   "cell_type": "code",
   "execution_count": null,
   "metadata": {},
   "outputs": [],
   "source": [
    "data_fx2 = go_fx(fx, d_lif, d_alif, d_wilson, d_durstewitz, n_neurons=n_neurons, tau=tau, dt=dt,\n",
    "    gain_bias_dict=data_fx['gain_bias_dict'], opt=False)"
   ]
  },
  {
   "cell_type": "code",
   "execution_count": null,
   "metadata": {},
   "outputs": [],
   "source": [
    "h = Lowpass(tau)\n",
    "d_lif2 = update_d(data_fx['tar2'], data_fx2['lif2'], h, lambda_d=1e-1, tau=tau, dt=dt)\n",
    "d_alif2 = update_d(data_fx['tar2'], data_fx2['alif2'], h, lambda_d=1e-1, tau=tau, dt=dt)\n",
    "d_wilson2 = update_d(data_fx['tar2'], data_fx2['wilson2'], h, lambda_d=1e-1, tau=tau, dt=dt)\n",
    "d_durstewitz2 = update_d(data_fx['tar2'], data_fx2['durstewitz2'], h, lambda_d=1e-1, tau=tau, dt=dt)"
   ]
  },
  {
   "cell_type": "code",
   "execution_count": null,
   "metadata": {},
   "outputs": [],
   "source": [
    "data_fx2 = go_fx(fx, d_lif, d_alif, d_wilson, d_durstewitz, n_neurons=n_neurons, tau=tau, dt=dt,\n",
    "    gain_bias_dict=data_fx['gain_bias_dict'], opt=False,\n",
    "    stim_func=lambda t: np.cos(t))"
   ]
  },
  {
   "cell_type": "code",
   "execution_count": null,
   "metadata": {},
   "outputs": [],
   "source": [
    "a_lif2 = h.filt(data_fx2['lif2'], dt=dt)\n",
    "a_alif2 = h.filt(data_fx2['alif2'], dt=dt)\n",
    "a_wilson2 = h.filt(data_fx2['wilson2'], dt=dt)\n",
    "a_durstewitz2 = h.filt(data_fx2['durstewitz2'], dt=dt)\n",
    "\n",
    "xhat_lif2 = np.dot(a_lif2, d_lif2)\n",
    "xhat_alif2 = np.dot(a_alif2, d_alif2)\n",
    "xhat_wilson2 = np.dot(a_wilson2, d_wilson2)\n",
    "xhat_durstewitz2 = np.dot(a_durstewitz2, d_durstewitz2)\n",
    "\n",
    "target2 = h.filt(data_fx2['tar2'], dt=dt)\n",
    "nrmse_lif2 = nrmse(xhat_lif2, target=target2)\n",
    "nrmse_alif2 = nrmse(xhat_alif2, target=target2)\n",
    "nrmse_wilson2 = nrmse(xhat_wilson2, target=target2)\n",
    "nrmse_durstewitz2 = nrmse(xhat_durstewitz2, target=target2)\n",
    "\n",
    "fig, ax = plt.subplots(figsize=((12, 8)))\n",
    "# ax.plot(data_fx2['times'], target, linestyle=\"--\", label='target')\n",
    "ax.plot(data_fx2['times'], target2, linestyle=\"--\", label='target2')\n",
    "ax.plot(data_fx2['times'], xhat_lif2, label='LIF, nrmse=%.3f' %nrmse_lif2)\n",
    "ax.plot(data_fx2['times'], xhat_alif2, label='ALIF, nrmse=%.3f' %nrmse_alif2)\n",
    "ax.plot(data_fx2['times'], xhat_wilson2, label='Wilson, nrmse=%.3f' %nrmse_wilson2)\n",
    "ax.plot(data_fx2['times'], xhat_durstewitz2, label='Durstewitz, nrmse=%.3f' %nrmse_durstewitz2)\n",
    "ax.set(xlabel='time (s)', ylabel=r'$\\mathbf{x}$')\n",
    "plt.legend(loc='upper right')\n",
    "fig.show()"
   ]
  },
  {
   "cell_type": "markdown",
   "metadata": {},
   "source": [
    "## Integrator"
   ]
  },
  {
   "cell_type": "code",
   "execution_count": 49,
   "metadata": {},
   "outputs": [],
   "source": [
    "def go_integrator(d_lif, d_alif, d_wilson, d_durstewitz, h_lif, h_alif, h_wilson, h_durstewitz,\n",
    "        n_neurons=10, t=4*np.pi, max_rates=Uniform(20, 40), intercepts=Uniform(-0.8, 0.8),\n",
    "        supv=0, maxiter_gainbias=5, gain_bias_dict=dict(), seed=0, dt=0.000025, tau=0.1, n_neurons_pre=100,\n",
    "        reg=1e-1, opt=False, pt=False, stim_func=lambda t: np.sin(t)):\n",
    "\n",
    "    solver_nef = LstsqL2(reg=reg)\n",
    "    solver_lif = NoSolver(d_lif)\n",
    "    solver_alif = NoSolver(d_alif)\n",
    "    solver_wilson = NoSolver(d_wilson)\n",
    "    solver_durstewitz = NoSolver(d_durstewitz)\n",
    "\n",
    "    norm_stim, norm_int = norms(t, dt=dt, stim_func=stim_func)\n",
    "\n",
    "    with nengo.Network(seed=0) as model:\n",
    "        \n",
    "        # Ensembles\n",
    "        u = nengo.Node(stim_func)\n",
    "        pre_u = nengo.Ensemble(n_neurons_pre, 1, max_rates=max_rates,\n",
    "            seed=0, radius=norm_stim, label='pre_u')\n",
    "        pre_x = nengo.Ensemble(n_neurons_pre, 1, max_rates=max_rates,\n",
    "            seed=0, label='pre_x')\n",
    "        nef = nengo.Ensemble(n_neurons, 1,\n",
    "            max_rates=max_rates, intercepts=intercepts,\n",
    "            neuron_type=nengo.LIF(), seed=0, label='lif')\n",
    "        lif = nengo.Ensemble(n_neurons, 1,\n",
    "            max_rates=max_rates, intercepts=intercepts,\n",
    "            neuron_type=nengo.LIF(), seed=0, label='lif')\n",
    "        alif = nengo.Ensemble(n_neurons, 1,\n",
    "            max_rates=max_rates, intercepts=intercepts,\n",
    "            neuron_type=AdaptiveLIFT(tau_adapt=0.1, inc_adapt=0.1), seed=0, label='alif')\n",
    "        wilson = nengo.Ensemble(n_neurons, 1,\n",
    "            max_rates=max_rates, intercepts=intercepts,\n",
    "            neuron_type=WilsonEuler(), seed=0, label='wilson')\n",
    "        durstewitz = nengo.Ensemble(n_neurons, 1,\n",
    "            max_rates=max_rates, intercepts=intercepts,\n",
    "            neuron_type=DurstewitzNeuron(), seed=1, label='durstewitz')\n",
    "        tar = nengo.Ensemble(1, 1, neuron_type=nengo.Direct())\n",
    "\n",
    "        # Normal connections\n",
    "        nengo.Connection(u, pre_u, synapse=None, transform=1.0/norm_int, seed=0)\n",
    "        nengo.Connection(u, pre_x, synapse=1/s, transform=1.0/norm_int, seed=0)\n",
    "        nengo.Connection(u, tar, synapse=1/s, transform=1.0/norm_int)\n",
    "\n",
    "        # Feedforward connections\n",
    "        pre_u_nef = nengo.Connection(pre_u, nef, synapse=Lowpass(tau), transform=tau,\n",
    "            solver=LstsqL2(reg=reg), seed=0, label='pre_u_nef')\n",
    "        pre_u_lif = nengo.Connection(pre_u, lif, synapse=Lowpass(tau), transform=tau,\n",
    "            solver=LstsqL2(reg=reg), seed=0, label='pre_u_lif')\n",
    "        pre_u_alif = nengo.Connection(pre_u, alif, synapse=Lowpass(tau), transform=tau,\n",
    "            solver=LstsqL2(reg=reg), seed=0, label='pre_u_alif')\n",
    "        pre_u_wilson = nengo.Connection(pre_u, wilson, synapse=Lowpass(tau), transform=tau,\n",
    "            solver=LstsqL2(reg=reg), seed=0, label='pre_u_wilson')\n",
    "        pre_u_durstewitz = nengo.Connection(pre_u, durstewitz, synapse=Lowpass(tau), transform=tau,\n",
    "            solver=LstsqL2(reg=reg), seed=0, label='pre_u_durstewitz')\n",
    "        \n",
    "        # Feedback Connections\n",
    "        if supv:\n",
    "            pre_x_lif = nengo.Connection(pre_x, lif, synapse=Lowpass(tau),\n",
    "                solver=LstsqL2(reg=reg), seed=0, label='pre_x_lif')\n",
    "            pre_x_alif = nengo.Connection(pre_x, alif, synapse=Lowpass(tau),\n",
    "                solver=LstsqL2(reg=reg), seed=0, label='pre_x_alif')\n",
    "            pre_x_wilson = nengo.Connection(pre_x, wilson, synapse=Lowpass(tau),\n",
    "                solver=LstsqL2(reg=reg), seed=0, label='pre_x_wilson')\n",
    "            pre_x_durstewitz = nengo.Connection(pre_x, durstewitz, synapse=Lowpass(tau),\n",
    "                solver=LstsqL2(reg=reg), seed=0, label='pre_x_durstewitz')\n",
    "        else:\n",
    "            lif_lif = nengo.Connection(lif, lif, synapse=h_lif,\n",
    "                solver=solver_lif, seed=0, label='lif_lif')\n",
    "            alif_alif = nengo.Connection(alif, alif, synapse=h_alif,\n",
    "                solver=solver_alif, seed=0, label='alif_alif')\n",
    "            wilson_wilson = nengo.Connection(wilson, wilson, synapse=h_wilson,\n",
    "                solver=solver_wilson, seed=0, label='wilson_wilson')\n",
    "            durstewitz_durstewitz = nengo.Connection(durstewitz, durstewitz, synapse=h_durstewitz,\n",
    "                solver=solver_durstewitz, seed=0, label='durstewitz_durstewitz')\n",
    "        nef_nef = nengo.Connection(nef, nef, synapse=Lowpass(tau),\n",
    "            solver=solver_nef, seed=0, label='nef_nef')\n",
    "\n",
    "        # Probes\n",
    "        p_stim = nengo.Probe(u, synapse=None)\n",
    "        p_target = nengo.Probe(tar, synapse=None)\n",
    "        p_nef = nengo.Probe(nef, synapse=tau)\n",
    "        p_lif = nengo.Probe(lif.neurons, synapse=None)\n",
    "        p_alif = nengo.Probe(alif.neurons, synapse=None)\n",
    "        p_wilson = nengo.Probe(wilson.neurons, synapse=None)\n",
    "        p_durstewitz = nengo.Probe(durstewitz.neurons, synapse=None)\n",
    "\n",
    "    if opt:\n",
    "        gain_bias_dict = conn_opt([pre_u_durstewitz], maxiter=maxiter_gainbias, pt=pt, stim_func=stim_func)\n",
    "\n",
    "    with warnings.catch_warnings():\n",
    "        warnings.simplefilter(\"ignore\")\n",
    "        pre_u_durstewitz.gain = gain_bias_dict['pre_u_durstewitz']['gain']\n",
    "        pre_u_durstewitz.bias = gain_bias_dict['pre_u_durstewitz']['bias'] * tau\n",
    "        if supv:\n",
    "            pre_x_durstewitz.gain = gain_bias_dict['pre_u_durstewitz']['gain']\n",
    "            pre_x_durstewitz.bias = gain_bias_dict['pre_u_durstewitz']['bias']\n",
    "        else:\n",
    "            durstewitz_durstewitz.gain = gain_bias_dict['pre_u_durstewitz']['gain']\n",
    "            durstewitz_durstewitz.bias = gain_bias_dict['pre_u_durstewitz']['bias']\n",
    "\n",
    "    with nengo.Simulator(model, seed=0, dt=dt) as sim:\n",
    "        sim.run(t)\n",
    "        reset_neuron(sim) \n",
    "        \n",
    "    return dict(\n",
    "        times=sim.trange(sample_every=dt),\n",
    "        stim=1.0/norm_int*sim.data[p_stim],\n",
    "        tar=sim.data[p_target],\n",
    "        nef=sim.data[p_nef],\n",
    "        lif=sim.data[p_lif],\n",
    "        alif=sim.data[p_alif],\n",
    "        wilson=sim.data[p_wilson],\n",
    "        durstewitz=sim.data[p_durstewitz],\n",
    "        gain_bias_dict=gain_bias_dict)"
   ]
  },
  {
   "cell_type": "code",
   "execution_count": 50,
   "metadata": {},
   "outputs": [],
   "source": [
    "def trials_integrator(n_neurons, t, tau, dt, maxiter_gainbias, optimize_h, n_trials, pe=False, order=1):\n",
    "    h_lif = Lowpass(tau)\n",
    "    h_alif = Lowpass(tau)\n",
    "    h_wilson = Lowpass(tau)\n",
    "    h_durstewitz = Lowpass(tau)\n",
    "    h_tar = Lowpass(tau)\n",
    "    d_lif = np.zeros((n_neurons, 1))\n",
    "    d_alif = np.zeros((n_neurons, 1))\n",
    "    d_wilson = np.zeros((n_neurons, 1))\n",
    "    d_durstewitz = np.zeros((n_neurons, 1))\n",
    "\n",
    "    print('optimizing gain and bias')\n",
    "    data_int = go_integrator(d_lif, d_alif, d_wilson, d_durstewitz, h_lif, h_alif, h_wilson, h_durstewitz, \n",
    "        n_neurons=n_neurons, tau=tau, dt=dt, maxiter_gainbias=maxiter_gainbias, opt=True)\n",
    "\n",
    "    if optimize_h != 'lstsq' and optimize_h != 'hyperopt':\n",
    "        d_lif = update_d(data_int['tar'], data_int['lif'], h_lif, h_tar, lambda_d=1e-1, dt=dt)\n",
    "        d_alif = update_d(data_int['tar'], data_int['alif'], h_alif, h_tar, lambda_d=1e-1, dt=dt)\n",
    "        d_wilson = update_d(data_int['tar'], data_int['wilson'], h_wilson, h_tar, lambda_d=1e-1, dt=dt)\n",
    "        d_durstewitz = update_d(data_int['tar'], data_int['durstewitz'], h_durstewitz, h_tar, lambda_d=1e-1, dt=dt)\n",
    "    elif optimize_h == 'lstsq':\n",
    "        h_lif, d_lif = update_h_lstsq(\n",
    "            data_int['stim'],\n",
    "            data_int['tar'],\n",
    "            data_int['lif'],\n",
    "            order=order, dt=dt)\n",
    "        h_alif, d_alif = update_h_lstsq(\n",
    "            data_int['stim'],\n",
    "            data_int['tar'],\n",
    "            data_int['alif'],\n",
    "            order=order, dt=dt)\n",
    "        h_wilson, d_wilson = update_h_lstsq(\n",
    "            data_int['stim'],\n",
    "            data_int['tar'],\n",
    "            data_int['wilson'],\n",
    "            order=order, dt=dt)\n",
    "        h_durstewitz, d_durstewitz = update_h_lstsq(\n",
    "            data_int['stim'],\n",
    "            data_int['tar'],\n",
    "            data_int['durstewitz'],\n",
    "            order=order, dt=dt)\n",
    "    elif optimize_h == 'hyperopt':\n",
    "        h_lif, d_lif = update_h_hyperopt(\n",
    "            h_tar.filt(data_int['tar'], dt=dt),\n",
    "            data_int['lif'],\n",
    "            order=order, dt=dt)\n",
    "        h_alif, d_alif = update_h_hyperopt(\n",
    "            h_tar.filt(data_int['tar'], dt=dt),\n",
    "            data_int['alif'],\n",
    "            order=order, dt=dt)\n",
    "        h_wilson, d_wilson = update_h_hyperopt(\n",
    "            h_tar.filt(data_int['tar'], dt=dt),\n",
    "            data_int['wilson'],\n",
    "            order=order, dt=dt)\n",
    "        h_durstewitz, d_durstewitz = update_h_hyperopt(\n",
    "            h_tar.filt(data_int['tar'], dt=dt),\n",
    "            data_int['durstewitz'],\n",
    "            order=order, dt=dt)   \n",
    "        \n",
    "    print('running experimental trials')\n",
    "    nrmses = np.zeros((5, n_trials))\n",
    "    for trial in range(n_trials):\n",
    "        stim_func = nengo.processes.WhiteSignal(period=2*np.pi, high=1, rms=0.5, seed=trial)\n",
    "        data_int_test = go_integrator(d_lif, d_alif, d_wilson, d_durstewitz,h_lif, h_alif, h_wilson, h_durstewitz, \n",
    "            n_neurons=n_neurons, tau=tau, dt=dt,\n",
    "            gain_bias_dict=data_int['gain_bias_dict'], opt=False, stim_func=stim_func)\n",
    "        a_lif = h_lif.filt(data_int_test['lif'], dt=dt)\n",
    "        a_alif = h_alif.filt(data_int_test['alif'], dt=dt)\n",
    "        a_wilson = h_wilson.filt(data_int_test['wilson'], dt=dt)\n",
    "        a_durstewitz = h_durstewitz.filt(data_int_test['durstewitz'], dt=dt)\n",
    "        xhat_nef = data_int_test['nef']\n",
    "        xhat_lif = np.dot(a_lif, d_lif)\n",
    "        xhat_alif = np.dot(a_alif, d_alif)\n",
    "        xhat_wilson = np.dot(a_wilson, d_wilson)\n",
    "        xhat_durstewitz = np.dot(a_durstewitz, d_durstewitz)\n",
    "        target = h_tar.filt(data_int_test['tar'], dt=dt)\n",
    "        nrmses[0, trial] = nrmse(xhat_nef, target=target)\n",
    "        nrmses[1, trial] = nrmse(xhat_lif, target=target)\n",
    "        nrmses[2, trial] = nrmse(xhat_alif, target=target)\n",
    "        nrmses[3, trial] = nrmse(xhat_wilson, target=target)\n",
    "        nrmses[4, trial] = nrmse(xhat_durstewitz, target=target)\n",
    "        if pe:\n",
    "            fig, ax = plt.subplots(figsize=((12, 8)))\n",
    "            ax.plot(data_int_test['times'], target, linestyle=\"--\", label='target')\n",
    "            ax.plot(data_int_test['times'], xhat_nef, label='NEF, nrmse=%.3f' %nrmses[0, trial])\n",
    "            ax.plot(data_int_test['times'], xhat_lif, label='LIF, nrmse=%.3f' %nrmses[1, trial])\n",
    "            ax.plot(data_int_test['times'], xhat_alif, label='ALIF, nrmse=%.3f' %nrmses[2, trial])\n",
    "            ax.plot(data_int_test['times'], xhat_wilson, label='Wilson, nrmse=%.3f' %nrmses[3, trial])\n",
    "            ax.plot(data_int_test['times'], xhat_durstewitz, label='Durstewitz, nrmse=%.3f' %nrmses[4, trial])\n",
    "            ax.set(xlabel='time (s)', ylabel=r'$\\mathbf{x}$')\n",
    "            plt.legend(loc='upper right')\n",
    "            fig.show()\n",
    "    nt_names =  ['LIF\\n(static)', 'LIF\\n(temporal)', 'ALIF', 'Wilson', 'Durstewitz']\n",
    "    fig, ax = plt.subplots(1, 1, figsize=(14, 6))\n",
    "    sns.barplot(data=nrmses.T)\n",
    "    ax.set(ylabel='NRMSE')\n",
    "    plt.xticks(np.arange(len(nt_names)), tuple(nt_names), rotation=0)\n",
    "    plt.show()\n",
    "    return nrmses"
   ]
  },
  {
   "cell_type": "markdown",
   "metadata": {},
   "source": [
    "### no filter optimization"
   ]
  },
  {
   "cell_type": "code",
   "execution_count": 51,
   "metadata": {},
   "outputs": [
    {
     "name": "stdout",
     "output_type": "stream",
     "text": [
      "optimizing gain and bias\n"
     ]
    },
    {
     "name": "stderr",
     "output_type": "stream",
     "text": [
      "/home/pduggins/.virtualenvs/nbn/lib/python3.6/site-packages/nengolib/signal/system.py:197: UserWarning: y0 (None!=0) does not properly initialize the system; see Nengo issue #1124.\n",
      "  \"Nengo issue #1124.\" % y0, UserWarning)\n"
     ]
    },
    {
     "name": "stdout",
     "output_type": "stream",
     "text": [
      "<Connection pre_u_durstewitz>\n",
      "iteration 0, remaining neurons 10\n"
     ]
    },
    {
     "name": "stderr",
     "output_type": "stream",
     "text": [
      "/home/pduggins/.virtualenvs/nbn/lib/python3.6/site-packages/nengolib/signal/system.py:197: UserWarning: y0 (None!=0) does not properly initialize the system; see Nengo issue #1124.\n",
      "  \"Nengo issue #1124.\" % y0, UserWarning)\n"
     ]
    },
    {
     "data": {
      "application/vdom.v1+json": {
       "attributes": {},
       "tagName": "div"
      },
      "text/html": [
       "\n",
       "                <script>\n",
       "                    if (Jupyter.version.split(\".\")[0] < 5) {\n",
       "                        var pb = document.getElementById(\"2a5f0cea-f9f8-4e97-809f-79ccf697de30\");\n",
       "                        var text = document.createTextNode(\n",
       "                            \"HMTL progress bar requires Jupyter Notebook >= \" +\n",
       "                            \"5.0 or Jupyter Lab. Alternatively, you can use \" +\n",
       "                            \"TerminalProgressBar().\");\n",
       "                        pb.parentNode.insertBefore(text, pb);\n",
       "                    }\n",
       "                </script>\n",
       "                <div id=\"2a5f0cea-f9f8-4e97-809f-79ccf697de30\" style=\"\n",
       "                    width: 100%;\n",
       "                    border: 1px solid #cfcfcf;\n",
       "                    border-radius: 4px;\n",
       "                    text-align: center;\n",
       "                    position: relative;\">\n",
       "                  <div class=\"pb-text\" style=\"\n",
       "                      position: absolute;\n",
       "                      width: 100%;\">\n",
       "                    0%\n",
       "                  </div>\n",
       "                  <div class=\"pb-fill\" style=\"\n",
       "                      background-color: #bdd2e6;\n",
       "                      width: 0%;\">\n",
       "                    <style type=\"text/css\" scoped=\"scoped\">\n",
       "                        @keyframes pb-fill-anim {\n",
       "                            0% { background-position: 0 0; }\n",
       "                            100% { background-position: 100px 0; }\n",
       "                        }\n",
       "                    </style>\n",
       "                    &nbsp;\n",
       "                  </div>\n",
       "                </div>"
      ],
      "text/plain": [
       "HtmlProgressBar cannot be displayed. Please use the TerminalProgressBar. It can be enabled with `nengo.rc.set('progress', 'progress_bar', 'nengo.utils.progress.TerminalProgressBar')`."
      ]
     },
     "metadata": {},
     "output_type": "display_data"
    },
    {
     "data": {
      "application/javascript": [
       "\n",
       "              (function () {\n",
       "                  var root = document.getElementById('2a5f0cea-f9f8-4e97-809f-79ccf697de30');\n",
       "                  var text = root.getElementsByClassName('pb-text')[0];\n",
       "                  var fill = root.getElementsByClassName('pb-fill')[0];\n",
       "\n",
       "                  text.innerHTML = 'Simulation finished in 0:02:06.';\n",
       "                  \n",
       "            if (100.0 > 0.) {\n",
       "                fill.style.transition = 'width 0.1s linear';\n",
       "            } else {\n",
       "                fill.style.transition = 'none';\n",
       "            }\n",
       "\n",
       "            fill.style.width = '100.0%';\n",
       "            fill.style.animation = 'none';\n",
       "            fill.style.backgroundImage = 'none'\n",
       "        \n",
       "                  \n",
       "                fill.style.animation = 'none';\n",
       "                fill.style.backgroundImage = 'none';\n",
       "            \n",
       "              })();\n",
       "        "
      ],
      "application/vdom.v1+json": {
       "attributes": {
        "id": "64a56594-09be-4607-a724-320336fa3015",
        "style": {
         "border": "1px solid #cfcfcf",
         "borderRadius": "4px",
         "boxSizing": "border-box",
         "position": "relative",
         "textAlign": "center",
         "width": "100%"
        }
       },
       "children": [
        {
         "attributes": {
          "class": "pb-text",
          "style": {
           "position": "absolute",
           "width": "100%"
          }
         },
         "children": [
          "Simulation finished in 0:02:06."
         ],
         "tagName": "div"
        },
        {
         "attributes": {
          "class": "pb-fill",
          "style": {
           "animation": "none",
           "backgroundColor": "#bdd2e6",
           "backgroundImage": "none",
           "transition": "width 0.1s linear",
           "width": "100%"
          }
         },
         "children": [
          {
           "attributes": {
            "scoped": "scoped",
            "type": "text/css"
           },
           "children": [
            "\n                        @keyframes pb-fill-anim {\n                            0% { background-position: 0 0; }\n                            100% { background-position: 100px 0; }\n                        }}"
           ],
           "tagName": "style"
          },
          " "
         ],
         "tagName": "div"
        }
       ],
       "tagName": "div"
      }
     },
     "metadata": {},
     "output_type": "display_data"
    },
    {
     "data": {
      "application/vdom.v1+json": {
       "attributes": {},
       "tagName": "div"
      },
      "text/html": [
       "\n",
       "                <script>\n",
       "                    if (Jupyter.version.split(\".\")[0] < 5) {\n",
       "                        var pb = document.getElementById(\"59bda3c4-cd7f-4609-9e04-81ccae0382f5\");\n",
       "                        var text = document.createTextNode(\n",
       "                            \"HMTL progress bar requires Jupyter Notebook >= \" +\n",
       "                            \"5.0 or Jupyter Lab. Alternatively, you can use \" +\n",
       "                            \"TerminalProgressBar().\");\n",
       "                        pb.parentNode.insertBefore(text, pb);\n",
       "                    }\n",
       "                </script>\n",
       "                <div id=\"59bda3c4-cd7f-4609-9e04-81ccae0382f5\" style=\"\n",
       "                    width: 100%;\n",
       "                    border: 1px solid #cfcfcf;\n",
       "                    border-radius: 4px;\n",
       "                    text-align: center;\n",
       "                    position: relative;\">\n",
       "                  <div class=\"pb-text\" style=\"\n",
       "                      position: absolute;\n",
       "                      width: 100%;\">\n",
       "                    0%\n",
       "                  </div>\n",
       "                  <div class=\"pb-fill\" style=\"\n",
       "                      background-color: #bdd2e6;\n",
       "                      width: 0%;\">\n",
       "                    <style type=\"text/css\" scoped=\"scoped\">\n",
       "                        @keyframes pb-fill-anim {\n",
       "                            0% { background-position: 0 0; }\n",
       "                            100% { background-position: 100px 0; }\n",
       "                        }\n",
       "                    </style>\n",
       "                    &nbsp;\n",
       "                  </div>\n",
       "                </div>"
      ],
      "text/plain": [
       "HtmlProgressBar cannot be displayed. Please use the TerminalProgressBar. It can be enabled with `nengo.rc.set('progress', 'progress_bar', 'nengo.utils.progress.TerminalProgressBar')`."
      ]
     },
     "metadata": {},
     "output_type": "display_data"
    },
    {
     "data": {
      "application/javascript": [
       "\n",
       "              (function () {\n",
       "                  var root = document.getElementById('59bda3c4-cd7f-4609-9e04-81ccae0382f5');\n",
       "                  var text = root.getElementsByClassName('pb-text')[0];\n",
       "                  var fill = root.getElementsByClassName('pb-fill')[0];\n",
       "\n",
       "                  text.innerHTML = 'Build finished in 0:00:06.';\n",
       "                  \n",
       "            fill.style.width = '100%';\n",
       "            fill.style.animation = 'pb-fill-anim 2s linear infinite';\n",
       "            fill.style.backgroundSize = '100px 100%';\n",
       "            fill.style.backgroundImage = 'repeating-linear-gradient(' +\n",
       "                '90deg, #bdd2e6, #edf2f8 40%, #bdd2e6 80%, #bdd2e6)';\n",
       "        \n",
       "                  \n",
       "                fill.style.animation = 'none';\n",
       "                fill.style.backgroundImage = 'none';\n",
       "            \n",
       "              })();\n",
       "        "
      ],
      "application/vdom.v1+json": {
       "attributes": {
        "id": "f9763aa2-03a6-433a-ba16-28228fccb99a",
        "style": {
         "border": "1px solid #cfcfcf",
         "borderRadius": "4px",
         "boxSizing": "border-box",
         "position": "relative",
         "textAlign": "center",
         "width": "100%"
        }
       },
       "children": [
        {
         "attributes": {
          "class": "pb-text",
          "style": {
           "position": "absolute",
           "width": "100%"
          }
         },
         "children": [
          "Build finished in 0:00:06."
         ],
         "tagName": "div"
        },
        {
         "attributes": {
          "class": "pb-fill",
          "style": {
           "animation": "none",
           "backgroundColor": "#bdd2e6",
           "backgroundImage": "none",
           "backgroundSize": "100px 100%",
           "width": "100%"
          }
         },
         "children": [
          {
           "attributes": {
            "scoped": "scoped",
            "type": "text/css"
           },
           "children": [
            "\n                        @keyframes pb-fill-anim {\n                            0% { background-position: 0 0; }\n                            100% { background-position: 100px 0; }\n                        }}"
           ],
           "tagName": "style"
          },
          " "
         ],
         "tagName": "div"
        }
       ],
       "tagName": "div"
      }
     },
     "metadata": {},
     "output_type": "display_data"
    },
    {
     "name": "stderr",
     "output_type": "stream",
     "text": [
      "/home/pduggins/.virtualenvs/nbn/lib/python3.6/site-packages/nengolib/signal/system.py:197: UserWarning: y0 (None!=0) does not properly initialize the system; see Nengo issue #1124.\n",
      "  \"Nengo issue #1124.\" % y0, UserWarning)\n",
      "/home/pduggins/.virtualenvs/nbn/lib/python3.6/site-packages/nengolib/signal/system.py:197: UserWarning: y0 (None!=0) does not properly initialize the system; see Nengo issue #1124.\n",
      "  \"Nengo issue #1124.\" % y0, UserWarning)\n",
      "/home/pduggins/.virtualenvs/nbn/lib/python3.6/site-packages/nengolib/signal/system.py:197: UserWarning: y0 (None!=0) does not properly initialize the system; see Nengo issue #1124.\n",
      "  \"Nengo issue #1124.\" % y0, UserWarning)\n"
     ]
    },
    {
     "data": {
      "application/vdom.v1+json": {
       "attributes": {},
       "tagName": "div"
      },
      "text/html": [
       "\n",
       "                <script>\n",
       "                    if (Jupyter.version.split(\".\")[0] < 5) {\n",
       "                        var pb = document.getElementById(\"aa22bd9d-3f7f-47b7-b133-0a884d9337ff\");\n",
       "                        var text = document.createTextNode(\n",
       "                            \"HMTL progress bar requires Jupyter Notebook >= \" +\n",
       "                            \"5.0 or Jupyter Lab. Alternatively, you can use \" +\n",
       "                            \"TerminalProgressBar().\");\n",
       "                        pb.parentNode.insertBefore(text, pb);\n",
       "                    }\n",
       "                </script>\n",
       "                <div id=\"aa22bd9d-3f7f-47b7-b133-0a884d9337ff\" style=\"\n",
       "                    width: 100%;\n",
       "                    border: 1px solid #cfcfcf;\n",
       "                    border-radius: 4px;\n",
       "                    text-align: center;\n",
       "                    position: relative;\">\n",
       "                  <div class=\"pb-text\" style=\"\n",
       "                      position: absolute;\n",
       "                      width: 100%;\">\n",
       "                    0%\n",
       "                  </div>\n",
       "                  <div class=\"pb-fill\" style=\"\n",
       "                      background-color: #bdd2e6;\n",
       "                      width: 0%;\">\n",
       "                    <style type=\"text/css\" scoped=\"scoped\">\n",
       "                        @keyframes pb-fill-anim {\n",
       "                            0% { background-position: 0 0; }\n",
       "                            100% { background-position: 100px 0; }\n",
       "                        }\n",
       "                    </style>\n",
       "                    &nbsp;\n",
       "                  </div>\n",
       "                </div>"
      ],
      "text/plain": [
       "HtmlProgressBar cannot be displayed. Please use the TerminalProgressBar. It can be enabled with `nengo.rc.set('progress', 'progress_bar', 'nengo.utils.progress.TerminalProgressBar')`."
      ]
     },
     "metadata": {},
     "output_type": "display_data"
    },
    {
     "data": {
      "application/javascript": [
       "\n",
       "              (function () {\n",
       "                  var root = document.getElementById('aa22bd9d-3f7f-47b7-b133-0a884d9337ff');\n",
       "                  var text = root.getElementsByClassName('pb-text')[0];\n",
       "                  var fill = root.getElementsByClassName('pb-fill')[0];\n",
       "\n",
       "                  text.innerHTML = 'Simulation finished in 0:02:27.';\n",
       "                  \n",
       "            if (100.0 > 0.) {\n",
       "                fill.style.transition = 'width 0.1s linear';\n",
       "            } else {\n",
       "                fill.style.transition = 'none';\n",
       "            }\n",
       "\n",
       "            fill.style.width = '100.0%';\n",
       "            fill.style.animation = 'none';\n",
       "            fill.style.backgroundImage = 'none'\n",
       "        \n",
       "                  \n",
       "                fill.style.animation = 'none';\n",
       "                fill.style.backgroundImage = 'none';\n",
       "            \n",
       "              })();\n",
       "        "
      ],
      "application/vdom.v1+json": {
       "attributes": {
        "id": "93a74ea9-377c-498b-ab2b-466f762f896c",
        "style": {
         "border": "1px solid #cfcfcf",
         "borderRadius": "4px",
         "boxSizing": "border-box",
         "position": "relative",
         "textAlign": "center",
         "width": "100%"
        }
       },
       "children": [
        {
         "attributes": {
          "class": "pb-text",
          "style": {
           "position": "absolute",
           "width": "100%"
          }
         },
         "children": [
          "Simulation finished in 0:02:27."
         ],
         "tagName": "div"
        },
        {
         "attributes": {
          "class": "pb-fill",
          "style": {
           "animation": "none",
           "backgroundColor": "#bdd2e6",
           "backgroundImage": "none",
           "transition": "width 0.1s linear",
           "width": "100%"
          }
         },
         "children": [
          {
           "attributes": {
            "scoped": "scoped",
            "type": "text/css"
           },
           "children": [
            "\n                        @keyframes pb-fill-anim {\n                            0% { background-position: 0 0; }\n                            100% { background-position: 100px 0; }\n                        }}"
           ],
           "tagName": "style"
          },
          " "
         ],
         "tagName": "div"
        }
       ],
       "tagName": "div"
      }
     },
     "metadata": {},
     "output_type": "display_data"
    },
    {
     "name": "stdout",
     "output_type": "stream",
     "text": [
      "running experimental trials\n"
     ]
    },
    {
     "data": {
      "application/vdom.v1+json": {
       "attributes": {},
       "tagName": "div"
      },
      "text/html": [
       "\n",
       "                <script>\n",
       "                    if (Jupyter.version.split(\".\")[0] < 5) {\n",
       "                        var pb = document.getElementById(\"f7b56d1b-e922-4afc-af92-6a69c39bcce1\");\n",
       "                        var text = document.createTextNode(\n",
       "                            \"HMTL progress bar requires Jupyter Notebook >= \" +\n",
       "                            \"5.0 or Jupyter Lab. Alternatively, you can use \" +\n",
       "                            \"TerminalProgressBar().\");\n",
       "                        pb.parentNode.insertBefore(text, pb);\n",
       "                    }\n",
       "                </script>\n",
       "                <div id=\"f7b56d1b-e922-4afc-af92-6a69c39bcce1\" style=\"\n",
       "                    width: 100%;\n",
       "                    border: 1px solid #cfcfcf;\n",
       "                    border-radius: 4px;\n",
       "                    text-align: center;\n",
       "                    position: relative;\">\n",
       "                  <div class=\"pb-text\" style=\"\n",
       "                      position: absolute;\n",
       "                      width: 100%;\">\n",
       "                    0%\n",
       "                  </div>\n",
       "                  <div class=\"pb-fill\" style=\"\n",
       "                      background-color: #bdd2e6;\n",
       "                      width: 0%;\">\n",
       "                    <style type=\"text/css\" scoped=\"scoped\">\n",
       "                        @keyframes pb-fill-anim {\n",
       "                            0% { background-position: 0 0; }\n",
       "                            100% { background-position: 100px 0; }\n",
       "                        }\n",
       "                    </style>\n",
       "                    &nbsp;\n",
       "                  </div>\n",
       "                </div>"
      ],
      "text/plain": [
       "HtmlProgressBar cannot be displayed. Please use the TerminalProgressBar. It can be enabled with `nengo.rc.set('progress', 'progress_bar', 'nengo.utils.progress.TerminalProgressBar')`."
      ]
     },
     "metadata": {},
     "output_type": "display_data"
    },
    {
     "data": {
      "application/javascript": [
       "\n",
       "              (function () {\n",
       "                  var root = document.getElementById('f7b56d1b-e922-4afc-af92-6a69c39bcce1');\n",
       "                  var text = root.getElementsByClassName('pb-text')[0];\n",
       "                  var fill = root.getElementsByClassName('pb-fill')[0];\n",
       "\n",
       "                  text.innerHTML = 'Build finished in 0:00:07.';\n",
       "                  \n",
       "            fill.style.width = '100%';\n",
       "            fill.style.animation = 'pb-fill-anim 2s linear infinite';\n",
       "            fill.style.backgroundSize = '100px 100%';\n",
       "            fill.style.backgroundImage = 'repeating-linear-gradient(' +\n",
       "                '90deg, #bdd2e6, #edf2f8 40%, #bdd2e6 80%, #bdd2e6)';\n",
       "        \n",
       "                  \n",
       "                fill.style.animation = 'none';\n",
       "                fill.style.backgroundImage = 'none';\n",
       "            \n",
       "              })();\n",
       "        "
      ],
      "application/vdom.v1+json": {
       "attributes": {
        "id": "32dbcd30-28fc-4b25-8cec-9ddba54ce061",
        "style": {
         "border": "1px solid #cfcfcf",
         "borderRadius": "4px",
         "boxSizing": "border-box",
         "position": "relative",
         "textAlign": "center",
         "width": "100%"
        }
       },
       "children": [
        {
         "attributes": {
          "class": "pb-text",
          "style": {
           "position": "absolute",
           "width": "100%"
          }
         },
         "children": [
          "Build finished in 0:00:07."
         ],
         "tagName": "div"
        },
        {
         "attributes": {
          "class": "pb-fill",
          "style": {
           "animation": "none",
           "backgroundColor": "#bdd2e6",
           "backgroundImage": "none",
           "backgroundSize": "100px 100%",
           "width": "100%"
          }
         },
         "children": [
          {
           "attributes": {
            "scoped": "scoped",
            "type": "text/css"
           },
           "children": [
            "\n                        @keyframes pb-fill-anim {\n                            0% { background-position: 0 0; }\n                            100% { background-position: 100px 0; }\n                        }}"
           ],
           "tagName": "style"
          },
          " "
         ],
         "tagName": "div"
        }
       ],
       "tagName": "div"
      }
     },
     "metadata": {},
     "output_type": "display_data"
    },
    {
     "name": "stderr",
     "output_type": "stream",
     "text": [
      "/home/pduggins/.virtualenvs/nbn/lib/python3.6/site-packages/nengolib/signal/system.py:197: UserWarning: y0 (None!=0) does not properly initialize the system; see Nengo issue #1124.\n",
      "  \"Nengo issue #1124.\" % y0, UserWarning)\n",
      "/home/pduggins/.virtualenvs/nbn/lib/python3.6/site-packages/nengolib/signal/system.py:197: UserWarning: y0 (None!=0) does not properly initialize the system; see Nengo issue #1124.\n",
      "  \"Nengo issue #1124.\" % y0, UserWarning)\n",
      "/home/pduggins/.virtualenvs/nbn/lib/python3.6/site-packages/nengolib/signal/system.py:197: UserWarning: y0 (None!=0) does not properly initialize the system; see Nengo issue #1124.\n",
      "  \"Nengo issue #1124.\" % y0, UserWarning)\n"
     ]
    },
    {
     "data": {
      "application/vdom.v1+json": {
       "attributes": {},
       "tagName": "div"
      },
      "text/html": [
       "\n",
       "                <script>\n",
       "                    if (Jupyter.version.split(\".\")[0] < 5) {\n",
       "                        var pb = document.getElementById(\"08af981a-5ea0-427d-a248-4598c67765b9\");\n",
       "                        var text = document.createTextNode(\n",
       "                            \"HMTL progress bar requires Jupyter Notebook >= \" +\n",
       "                            \"5.0 or Jupyter Lab. Alternatively, you can use \" +\n",
       "                            \"TerminalProgressBar().\");\n",
       "                        pb.parentNode.insertBefore(text, pb);\n",
       "                    }\n",
       "                </script>\n",
       "                <div id=\"08af981a-5ea0-427d-a248-4598c67765b9\" style=\"\n",
       "                    width: 100%;\n",
       "                    border: 1px solid #cfcfcf;\n",
       "                    border-radius: 4px;\n",
       "                    text-align: center;\n",
       "                    position: relative;\">\n",
       "                  <div class=\"pb-text\" style=\"\n",
       "                      position: absolute;\n",
       "                      width: 100%;\">\n",
       "                    0%\n",
       "                  </div>\n",
       "                  <div class=\"pb-fill\" style=\"\n",
       "                      background-color: #bdd2e6;\n",
       "                      width: 0%;\">\n",
       "                    <style type=\"text/css\" scoped=\"scoped\">\n",
       "                        @keyframes pb-fill-anim {\n",
       "                            0% { background-position: 0 0; }\n",
       "                            100% { background-position: 100px 0; }\n",
       "                        }\n",
       "                    </style>\n",
       "                    &nbsp;\n",
       "                  </div>\n",
       "                </div>"
      ],
      "text/plain": [
       "HtmlProgressBar cannot be displayed. Please use the TerminalProgressBar. It can be enabled with `nengo.rc.set('progress', 'progress_bar', 'nengo.utils.progress.TerminalProgressBar')`."
      ]
     },
     "metadata": {},
     "output_type": "display_data"
    },
    {
     "data": {
      "application/javascript": [
       "\n",
       "              (function () {\n",
       "                  var root = document.getElementById('08af981a-5ea0-427d-a248-4598c67765b9');\n",
       "                  var text = root.getElementsByClassName('pb-text')[0];\n",
       "                  var fill = root.getElementsByClassName('pb-fill')[0];\n",
       "\n",
       "                  text.innerHTML = 'Simulation finished in 0:02:38.';\n",
       "                  \n",
       "            if (100.0 > 0.) {\n",
       "                fill.style.transition = 'width 0.1s linear';\n",
       "            } else {\n",
       "                fill.style.transition = 'none';\n",
       "            }\n",
       "\n",
       "            fill.style.width = '100.0%';\n",
       "            fill.style.animation = 'none';\n",
       "            fill.style.backgroundImage = 'none'\n",
       "        \n",
       "                  \n",
       "                fill.style.animation = 'none';\n",
       "                fill.style.backgroundImage = 'none';\n",
       "            \n",
       "              })();\n",
       "        "
      ],
      "application/vdom.v1+json": {
       "attributes": {
        "id": "4d7cae6a-24b2-4009-ac8b-b4f1d6ff8f3f",
        "style": {
         "border": "1px solid #cfcfcf",
         "borderRadius": "4px",
         "boxSizing": "border-box",
         "position": "relative",
         "textAlign": "center",
         "width": "100%"
        }
       },
       "children": [
        {
         "attributes": {
          "class": "pb-text",
          "style": {
           "position": "absolute",
           "width": "100%"
          }
         },
         "children": [
          "Simulation finished in 0:02:38."
         ],
         "tagName": "div"
        },
        {
         "attributes": {
          "class": "pb-fill",
          "style": {
           "animation": "none",
           "backgroundColor": "#bdd2e6",
           "backgroundImage": "none",
           "transition": "width 0.1s linear",
           "width": "100%"
          }
         },
         "children": [
          {
           "attributes": {
            "scoped": "scoped",
            "type": "text/css"
           },
           "children": [
            "\n                        @keyframes pb-fill-anim {\n                            0% { background-position: 0 0; }\n                            100% { background-position: 100px 0; }\n                        }}"
           ],
           "tagName": "style"
          },
          " "
         ],
         "tagName": "div"
        }
       ],
       "tagName": "div"
      }
     },
     "metadata": {},
     "output_type": "display_data"
    },
    {
     "data": {
      "application/vdom.v1+json": {
       "attributes": {},
       "tagName": "div"
      },
      "text/html": [
       "\n",
       "                <script>\n",
       "                    if (Jupyter.version.split(\".\")[0] < 5) {\n",
       "                        var pb = document.getElementById(\"05891592-065d-4d5d-8429-305bdfd980ba\");\n",
       "                        var text = document.createTextNode(\n",
       "                            \"HMTL progress bar requires Jupyter Notebook >= \" +\n",
       "                            \"5.0 or Jupyter Lab. Alternatively, you can use \" +\n",
       "                            \"TerminalProgressBar().\");\n",
       "                        pb.parentNode.insertBefore(text, pb);\n",
       "                    }\n",
       "                </script>\n",
       "                <div id=\"05891592-065d-4d5d-8429-305bdfd980ba\" style=\"\n",
       "                    width: 100%;\n",
       "                    border: 1px solid #cfcfcf;\n",
       "                    border-radius: 4px;\n",
       "                    text-align: center;\n",
       "                    position: relative;\">\n",
       "                  <div class=\"pb-text\" style=\"\n",
       "                      position: absolute;\n",
       "                      width: 100%;\">\n",
       "                    0%\n",
       "                  </div>\n",
       "                  <div class=\"pb-fill\" style=\"\n",
       "                      background-color: #bdd2e6;\n",
       "                      width: 0%;\">\n",
       "                    <style type=\"text/css\" scoped=\"scoped\">\n",
       "                        @keyframes pb-fill-anim {\n",
       "                            0% { background-position: 0 0; }\n",
       "                            100% { background-position: 100px 0; }\n",
       "                        }\n",
       "                    </style>\n",
       "                    &nbsp;\n",
       "                  </div>\n",
       "                </div>"
      ],
      "text/plain": [
       "HtmlProgressBar cannot be displayed. Please use the TerminalProgressBar. It can be enabled with `nengo.rc.set('progress', 'progress_bar', 'nengo.utils.progress.TerminalProgressBar')`."
      ]
     },
     "metadata": {},
     "output_type": "display_data"
    },
    {
     "data": {
      "application/javascript": [
       "\n",
       "              (function () {\n",
       "                  var root = document.getElementById('05891592-065d-4d5d-8429-305bdfd980ba');\n",
       "                  var text = root.getElementsByClassName('pb-text')[0];\n",
       "                  var fill = root.getElementsByClassName('pb-fill')[0];\n",
       "\n",
       "                  text.innerHTML = 'Build finished in 0:00:07.';\n",
       "                  \n",
       "            fill.style.width = '100%';\n",
       "            fill.style.animation = 'pb-fill-anim 2s linear infinite';\n",
       "            fill.style.backgroundSize = '100px 100%';\n",
       "            fill.style.backgroundImage = 'repeating-linear-gradient(' +\n",
       "                '90deg, #bdd2e6, #edf2f8 40%, #bdd2e6 80%, #bdd2e6)';\n",
       "        \n",
       "                  \n",
       "                fill.style.animation = 'none';\n",
       "                fill.style.backgroundImage = 'none';\n",
       "            \n",
       "              })();\n",
       "        "
      ],
      "application/vdom.v1+json": {
       "attributes": {
        "id": "b6abfcdc-e3dc-427a-81dc-869779b2d19b",
        "style": {
         "border": "1px solid #cfcfcf",
         "borderRadius": "4px",
         "boxSizing": "border-box",
         "position": "relative",
         "textAlign": "center",
         "width": "100%"
        }
       },
       "children": [
        {
         "attributes": {
          "class": "pb-text",
          "style": {
           "position": "absolute",
           "width": "100%"
          }
         },
         "children": [
          "Build finished in 0:00:07."
         ],
         "tagName": "div"
        },
        {
         "attributes": {
          "class": "pb-fill",
          "style": {
           "animation": "none",
           "backgroundColor": "#bdd2e6",
           "backgroundImage": "none",
           "backgroundSize": "100px 100%",
           "width": "100%"
          }
         },
         "children": [
          {
           "attributes": {
            "scoped": "scoped",
            "type": "text/css"
           },
           "children": [
            "\n                        @keyframes pb-fill-anim {\n                            0% { background-position: 0 0; }\n                            100% { background-position: 100px 0; }\n                        }}"
           ],
           "tagName": "style"
          },
          " "
         ],
         "tagName": "div"
        }
       ],
       "tagName": "div"
      }
     },
     "metadata": {},
     "output_type": "display_data"
    },
    {
     "name": "stderr",
     "output_type": "stream",
     "text": [
      "/home/pduggins/.virtualenvs/nbn/lib/python3.6/site-packages/nengolib/signal/system.py:197: UserWarning: y0 (None!=0) does not properly initialize the system; see Nengo issue #1124.\n",
      "  \"Nengo issue #1124.\" % y0, UserWarning)\n",
      "/home/pduggins/.virtualenvs/nbn/lib/python3.6/site-packages/nengolib/signal/system.py:197: UserWarning: y0 (None!=0) does not properly initialize the system; see Nengo issue #1124.\n",
      "  \"Nengo issue #1124.\" % y0, UserWarning)\n",
      "/home/pduggins/.virtualenvs/nbn/lib/python3.6/site-packages/nengolib/signal/system.py:197: UserWarning: y0 (None!=0) does not properly initialize the system; see Nengo issue #1124.\n",
      "  \"Nengo issue #1124.\" % y0, UserWarning)\n"
     ]
    },
    {
     "data": {
      "application/vdom.v1+json": {
       "attributes": {},
       "tagName": "div"
      },
      "text/html": [
       "\n",
       "                <script>\n",
       "                    if (Jupyter.version.split(\".\")[0] < 5) {\n",
       "                        var pb = document.getElementById(\"e1c0b322-85bb-4673-8add-53f639be9425\");\n",
       "                        var text = document.createTextNode(\n",
       "                            \"HMTL progress bar requires Jupyter Notebook >= \" +\n",
       "                            \"5.0 or Jupyter Lab. Alternatively, you can use \" +\n",
       "                            \"TerminalProgressBar().\");\n",
       "                        pb.parentNode.insertBefore(text, pb);\n",
       "                    }\n",
       "                </script>\n",
       "                <div id=\"e1c0b322-85bb-4673-8add-53f639be9425\" style=\"\n",
       "                    width: 100%;\n",
       "                    border: 1px solid #cfcfcf;\n",
       "                    border-radius: 4px;\n",
       "                    text-align: center;\n",
       "                    position: relative;\">\n",
       "                  <div class=\"pb-text\" style=\"\n",
       "                      position: absolute;\n",
       "                      width: 100%;\">\n",
       "                    0%\n",
       "                  </div>\n",
       "                  <div class=\"pb-fill\" style=\"\n",
       "                      background-color: #bdd2e6;\n",
       "                      width: 0%;\">\n",
       "                    <style type=\"text/css\" scoped=\"scoped\">\n",
       "                        @keyframes pb-fill-anim {\n",
       "                            0% { background-position: 0 0; }\n",
       "                            100% { background-position: 100px 0; }\n",
       "                        }\n",
       "                    </style>\n",
       "                    &nbsp;\n",
       "                  </div>\n",
       "                </div>"
      ],
      "text/plain": [
       "HtmlProgressBar cannot be displayed. Please use the TerminalProgressBar. It can be enabled with `nengo.rc.set('progress', 'progress_bar', 'nengo.utils.progress.TerminalProgressBar')`."
      ]
     },
     "metadata": {},
     "output_type": "display_data"
    },
    {
     "data": {
      "application/javascript": [
       "\n",
       "              (function () {\n",
       "                  var root = document.getElementById('e1c0b322-85bb-4673-8add-53f639be9425');\n",
       "                  var text = root.getElementsByClassName('pb-text')[0];\n",
       "                  var fill = root.getElementsByClassName('pb-fill')[0];\n",
       "\n",
       "                  text.innerHTML = 'Simulation finished in 0:02:29.';\n",
       "                  \n",
       "            if (100.0 > 0.) {\n",
       "                fill.style.transition = 'width 0.1s linear';\n",
       "            } else {\n",
       "                fill.style.transition = 'none';\n",
       "            }\n",
       "\n",
       "            fill.style.width = '100.0%';\n",
       "            fill.style.animation = 'none';\n",
       "            fill.style.backgroundImage = 'none'\n",
       "        \n",
       "                  \n",
       "                fill.style.animation = 'none';\n",
       "                fill.style.backgroundImage = 'none';\n",
       "            \n",
       "              })();\n",
       "        "
      ],
      "application/vdom.v1+json": {
       "attributes": {
        "id": "9b34b475-36da-489d-b3d3-ea4d9cf28d3a",
        "style": {
         "border": "1px solid #cfcfcf",
         "borderRadius": "4px",
         "boxSizing": "border-box",
         "position": "relative",
         "textAlign": "center",
         "width": "100%"
        }
       },
       "children": [
        {
         "attributes": {
          "class": "pb-text",
          "style": {
           "position": "absolute",
           "width": "100%"
          }
         },
         "children": [
          "Simulation finished in 0:02:29."
         ],
         "tagName": "div"
        },
        {
         "attributes": {
          "class": "pb-fill",
          "style": {
           "animation": "none",
           "backgroundColor": "#bdd2e6",
           "backgroundImage": "none",
           "transition": "width 0.1s linear",
           "width": "100%"
          }
         },
         "children": [
          {
           "attributes": {
            "scoped": "scoped",
            "type": "text/css"
           },
           "children": [
            "\n                        @keyframes pb-fill-anim {\n                            0% { background-position: 0 0; }\n                            100% { background-position: 100px 0; }\n                        }}"
           ],
           "tagName": "style"
          },
          " "
         ],
         "tagName": "div"
        }
       ],
       "tagName": "div"
      }
     },
     "metadata": {},
     "output_type": "display_data"
    },
    {
     "name": "stderr",
     "output_type": "stream",
     "text": [
      "/home/pduggins/.virtualenvs/nbn/lib/python3.6/site-packages/scipy/stats/stats.py:1713: FutureWarning: Using a non-tuple sequence for multidimensional indexing is deprecated; use `arr[tuple(seq)]` instead of `arr[seq]`. In the future this will be interpreted as an array index, `arr[np.array(seq)]`, which will result either in an error or a different result.\n",
      "  return np.add.reduce(sorted[indexer] * weights, axis=axis) / sumval\n"
     ]
    },
    {
     "data": {
      "image/png": "[encoded data removed]",
      "text/plain": [
       "<Figure size 1008x432 with 1 Axes>"
      ]
     },
     "metadata": {},
     "output_type": "display_data"
    }
   ],
   "source": [
    "nrmses_none_int = trials_integrator(\n",
    "    n_neurons=10, t=1, tau=0.1, dt=0.001, maxiter_gainbias=1, optimize_h='none', n_trials=2, pe=False)"
   ]
  },
  {
   "cell_type": "code",
   "execution_count": null,
   "metadata": {},
   "outputs": [],
   "source": []
  },
  {
   "cell_type": "code",
   "execution_count": 52,
   "metadata": {},
   "outputs": [
    {
     "name": "stdout",
     "output_type": "stream",
     "text": [
      "optimizing gain and bias\n"
     ]
    },
    {
     "name": "stderr",
     "output_type": "stream",
     "text": [
      "/home/pduggins/.virtualenvs/nbn/lib/python3.6/site-packages/nengolib/signal/system.py:197: UserWarning: y0 (None!=0) does not properly initialize the system; see Nengo issue #1124.\n",
      "  \"Nengo issue #1124.\" % y0, UserWarning)\n"
     ]
    },
    {
     "name": "stdout",
     "output_type": "stream",
     "text": [
      "<Connection pre_u_durstewitz>\n",
      "iteration 0, remaining neurons 10\n"
     ]
    },
    {
     "name": "stderr",
     "output_type": "stream",
     "text": [
      "/home/pduggins/.virtualenvs/nbn/lib/python3.6/site-packages/nengolib/signal/system.py:197: UserWarning: y0 (None!=0) does not properly initialize the system; see Nengo issue #1124.\n",
      "  \"Nengo issue #1124.\" % y0, UserWarning)\n"
     ]
    },
    {
     "data": {
      "application/vdom.v1+json": {
       "attributes": {},
       "tagName": "div"
      },
      "text/html": [
       "\n",
       "                <script>\n",
       "                    if (Jupyter.version.split(\".\")[0] < 5) {\n",
       "                        var pb = document.getElementById(\"bf4036cf-2292-4171-8c00-5b6edae664a9\");\n",
       "                        var text = document.createTextNode(\n",
       "                            \"HMTL progress bar requires Jupyter Notebook >= \" +\n",
       "                            \"5.0 or Jupyter Lab. Alternatively, you can use \" +\n",
       "                            \"TerminalProgressBar().\");\n",
       "                        pb.parentNode.insertBefore(text, pb);\n",
       "                    }\n",
       "                </script>\n",
       "                <div id=\"bf4036cf-2292-4171-8c00-5b6edae664a9\" style=\"\n",
       "                    width: 100%;\n",
       "                    border: 1px solid #cfcfcf;\n",
       "                    border-radius: 4px;\n",
       "                    text-align: center;\n",
       "                    position: relative;\">\n",
       "                  <div class=\"pb-text\" style=\"\n",
       "                      position: absolute;\n",
       "                      width: 100%;\">\n",
       "                    0%\n",
       "                  </div>\n",
       "                  <div class=\"pb-fill\" style=\"\n",
       "                      background-color: #bdd2e6;\n",
       "                      width: 0%;\">\n",
       "                    <style type=\"text/css\" scoped=\"scoped\">\n",
       "                        @keyframes pb-fill-anim {\n",
       "                            0% { background-position: 0 0; }\n",
       "                            100% { background-position: 100px 0; }\n",
       "                        }\n",
       "                    </style>\n",
       "                    &nbsp;\n",
       "                  </div>\n",
       "                </div>"
      ],
      "text/plain": [
       "HtmlProgressBar cannot be displayed. Please use the TerminalProgressBar. It can be enabled with `nengo.rc.set('progress', 'progress_bar', 'nengo.utils.progress.TerminalProgressBar')`."
      ]
     },
     "metadata": {},
     "output_type": "display_data"
    },
    {
     "data": {
      "application/javascript": [
       "\n",
       "              (function () {\n",
       "                  var root = document.getElementById('bf4036cf-2292-4171-8c00-5b6edae664a9');\n",
       "                  var text = root.getElementsByClassName('pb-text')[0];\n",
       "                  var fill = root.getElementsByClassName('pb-fill')[0];\n",
       "\n",
       "                  text.innerHTML = 'Simulation finished in 0:02:06.';\n",
       "                  \n",
       "            if (100.0 > 0.) {\n",
       "                fill.style.transition = 'width 0.1s linear';\n",
       "            } else {\n",
       "                fill.style.transition = 'none';\n",
       "            }\n",
       "\n",
       "            fill.style.width = '100.0%';\n",
       "            fill.style.animation = 'none';\n",
       "            fill.style.backgroundImage = 'none'\n",
       "        \n",
       "                  \n",
       "                fill.style.animation = 'none';\n",
       "                fill.style.backgroundImage = 'none';\n",
       "            \n",
       "              })();\n",
       "        "
      ],
      "application/vdom.v1+json": {
       "attributes": {
        "id": "e3d8765c-1c01-4e16-8c62-ebbe95ecf64c",
        "style": {
         "border": "1px solid #cfcfcf",
         "borderRadius": "4px",
         "boxSizing": "border-box",
         "position": "relative",
         "textAlign": "center",
         "width": "100%"
        }
       },
       "children": [
        {
         "attributes": {
          "class": "pb-text",
          "style": {
           "position": "absolute",
           "width": "100%"
          }
         },
         "children": [
          "Simulation finished in 0:02:06."
         ],
         "tagName": "div"
        },
        {
         "attributes": {
          "class": "pb-fill",
          "style": {
           "animation": "none",
           "backgroundColor": "#bdd2e6",
           "backgroundImage": "none",
           "transition": "width 0.1s linear",
           "width": "100%"
          }
         },
         "children": [
          {
           "attributes": {
            "scoped": "scoped",
            "type": "text/css"
           },
           "children": [
            "\n                        @keyframes pb-fill-anim {\n                            0% { background-position: 0 0; }\n                            100% { background-position: 100px 0; }\n                        }}"
           ],
           "tagName": "style"
          },
          " "
         ],
         "tagName": "div"
        }
       ],
       "tagName": "div"
      }
     },
     "metadata": {},
     "output_type": "display_data"
    },
    {
     "data": {
      "application/vdom.v1+json": {
       "attributes": {},
       "tagName": "div"
      },
      "text/html": [
       "\n",
       "                <script>\n",
       "                    if (Jupyter.version.split(\".\")[0] < 5) {\n",
       "                        var pb = document.getElementById(\"808ff76e-a857-498e-924e-06cee6a4dbb9\");\n",
       "                        var text = document.createTextNode(\n",
       "                            \"HMTL progress bar requires Jupyter Notebook >= \" +\n",
       "                            \"5.0 or Jupyter Lab. Alternatively, you can use \" +\n",
       "                            \"TerminalProgressBar().\");\n",
       "                        pb.parentNode.insertBefore(text, pb);\n",
       "                    }\n",
       "                </script>\n",
       "                <div id=\"808ff76e-a857-498e-924e-06cee6a4dbb9\" style=\"\n",
       "                    width: 100%;\n",
       "                    border: 1px solid #cfcfcf;\n",
       "                    border-radius: 4px;\n",
       "                    text-align: center;\n",
       "                    position: relative;\">\n",
       "                  <div class=\"pb-text\" style=\"\n",
       "                      position: absolute;\n",
       "                      width: 100%;\">\n",
       "                    0%\n",
       "                  </div>\n",
       "                  <div class=\"pb-fill\" style=\"\n",
       "                      background-color: #bdd2e6;\n",
       "                      width: 0%;\">\n",
       "                    <style type=\"text/css\" scoped=\"scoped\">\n",
       "                        @keyframes pb-fill-anim {\n",
       "                            0% { background-position: 0 0; }\n",
       "                            100% { background-position: 100px 0; }\n",
       "                        }\n",
       "                    </style>\n",
       "                    &nbsp;\n",
       "                  </div>\n",
       "                </div>"
      ],
      "text/plain": [
       "HtmlProgressBar cannot be displayed. Please use the TerminalProgressBar. It can be enabled with `nengo.rc.set('progress', 'progress_bar', 'nengo.utils.progress.TerminalProgressBar')`."
      ]
     },
     "metadata": {},
     "output_type": "display_data"
    },
    {
     "data": {
      "application/javascript": [
       "\n",
       "              (function () {\n",
       "                  var root = document.getElementById('808ff76e-a857-498e-924e-06cee6a4dbb9');\n",
       "                  var text = root.getElementsByClassName('pb-text')[0];\n",
       "                  var fill = root.getElementsByClassName('pb-fill')[0];\n",
       "\n",
       "                  text.innerHTML = 'Build finished in 0:00:06.';\n",
       "                  \n",
       "            fill.style.width = '100%';\n",
       "            fill.style.animation = 'pb-fill-anim 2s linear infinite';\n",
       "            fill.style.backgroundSize = '100px 100%';\n",
       "            fill.style.backgroundImage = 'repeating-linear-gradient(' +\n",
       "                '90deg, #bdd2e6, #edf2f8 40%, #bdd2e6 80%, #bdd2e6)';\n",
       "        \n",
       "                  \n",
       "                fill.style.animation = 'none';\n",
       "                fill.style.backgroundImage = 'none';\n",
       "            \n",
       "              })();\n",
       "        "
      ],
      "application/vdom.v1+json": {
       "attributes": {
        "id": "775d05f9-ea32-4af2-b7a5-a73c6f2ff7bb",
        "style": {
         "border": "1px solid #cfcfcf",
         "borderRadius": "4px",
         "boxSizing": "border-box",
         "position": "relative",
         "textAlign": "center",
         "width": "100%"
        }
       },
       "children": [
        {
         "attributes": {
          "class": "pb-text",
          "style": {
           "position": "absolute",
           "width": "100%"
          }
         },
         "children": [
          "Build finished in 0:00:06."
         ],
         "tagName": "div"
        },
        {
         "attributes": {
          "class": "pb-fill",
          "style": {
           "animation": "none",
           "backgroundColor": "#bdd2e6",
           "backgroundImage": "none",
           "backgroundSize": "100px 100%",
           "width": "100%"
          }
         },
         "children": [
          {
           "attributes": {
            "scoped": "scoped",
            "type": "text/css"
           },
           "children": [
            "\n                        @keyframes pb-fill-anim {\n                            0% { background-position: 0 0; }\n                            100% { background-position: 100px 0; }\n                        }}"
           ],
           "tagName": "style"
          },
          " "
         ],
         "tagName": "div"
        }
       ],
       "tagName": "div"
      }
     },
     "metadata": {},
     "output_type": "display_data"
    },
    {
     "name": "stderr",
     "output_type": "stream",
     "text": [
      "/home/pduggins/.virtualenvs/nbn/lib/python3.6/site-packages/nengolib/signal/system.py:197: UserWarning: y0 (None!=0) does not properly initialize the system; see Nengo issue #1124.\n",
      "  \"Nengo issue #1124.\" % y0, UserWarning)\n",
      "/home/pduggins/.virtualenvs/nbn/lib/python3.6/site-packages/nengolib/signal/system.py:197: UserWarning: y0 (None!=0) does not properly initialize the system; see Nengo issue #1124.\n",
      "  \"Nengo issue #1124.\" % y0, UserWarning)\n",
      "/home/pduggins/.virtualenvs/nbn/lib/python3.6/site-packages/nengolib/signal/system.py:197: UserWarning: y0 (None!=0) does not properly initialize the system; see Nengo issue #1124.\n",
      "  \"Nengo issue #1124.\" % y0, UserWarning)\n"
     ]
    },
    {
     "data": {
      "application/vdom.v1+json": {
       "attributes": {},
       "tagName": "div"
      },
      "text/html": [
       "\n",
       "                <script>\n",
       "                    if (Jupyter.version.split(\".\")[0] < 5) {\n",
       "                        var pb = document.getElementById(\"8ad795d6-5dcf-4c60-ac98-718e336a1ab0\");\n",
       "                        var text = document.createTextNode(\n",
       "                            \"HMTL progress bar requires Jupyter Notebook >= \" +\n",
       "                            \"5.0 or Jupyter Lab. Alternatively, you can use \" +\n",
       "                            \"TerminalProgressBar().\");\n",
       "                        pb.parentNode.insertBefore(text, pb);\n",
       "                    }\n",
       "                </script>\n",
       "                <div id=\"8ad795d6-5dcf-4c60-ac98-718e336a1ab0\" style=\"\n",
       "                    width: 100%;\n",
       "                    border: 1px solid #cfcfcf;\n",
       "                    border-radius: 4px;\n",
       "                    text-align: center;\n",
       "                    position: relative;\">\n",
       "                  <div class=\"pb-text\" style=\"\n",
       "                      position: absolute;\n",
       "                      width: 100%;\">\n",
       "                    0%\n",
       "                  </div>\n",
       "                  <div class=\"pb-fill\" style=\"\n",
       "                      background-color: #bdd2e6;\n",
       "                      width: 0%;\">\n",
       "                    <style type=\"text/css\" scoped=\"scoped\">\n",
       "                        @keyframes pb-fill-anim {\n",
       "                            0% { background-position: 0 0; }\n",
       "                            100% { background-position: 100px 0; }\n",
       "                        }\n",
       "                    </style>\n",
       "                    &nbsp;\n",
       "                  </div>\n",
       "                </div>"
      ],
      "text/plain": [
       "HtmlProgressBar cannot be displayed. Please use the TerminalProgressBar. It can be enabled with `nengo.rc.set('progress', 'progress_bar', 'nengo.utils.progress.TerminalProgressBar')`."
      ]
     },
     "metadata": {},
     "output_type": "display_data"
    },
    {
     "data": {
      "application/javascript": [
       "\n",
       "              (function () {\n",
       "                  var root = document.getElementById('8ad795d6-5dcf-4c60-ac98-718e336a1ab0');\n",
       "                  var text = root.getElementsByClassName('pb-text')[0];\n",
       "                  var fill = root.getElementsByClassName('pb-fill')[0];\n",
       "\n",
       "                  text.innerHTML = 'Simulation finished in 0:02:24.';\n",
       "                  \n",
       "            if (100.0 > 0.) {\n",
       "                fill.style.transition = 'width 0.1s linear';\n",
       "            } else {\n",
       "                fill.style.transition = 'none';\n",
       "            }\n",
       "\n",
       "            fill.style.width = '100.0%';\n",
       "            fill.style.animation = 'none';\n",
       "            fill.style.backgroundImage = 'none'\n",
       "        \n",
       "                  \n",
       "                fill.style.animation = 'none';\n",
       "                fill.style.backgroundImage = 'none';\n",
       "            \n",
       "              })();\n",
       "        "
      ],
      "application/vdom.v1+json": {
       "attributes": {
        "id": "90842c27-155b-466a-b40f-ac9528801d36",
        "style": {
         "border": "1px solid #cfcfcf",
         "borderRadius": "4px",
         "boxSizing": "border-box",
         "position": "relative",
         "textAlign": "center",
         "width": "100%"
        }
       },
       "children": [
        {
         "attributes": {
          "class": "pb-text",
          "style": {
           "position": "absolute",
           "width": "100%"
          }
         },
         "children": [
          "Simulation finished in 0:02:24."
         ],
         "tagName": "div"
        },
        {
         "attributes": {
          "class": "pb-fill",
          "style": {
           "animation": "none",
           "backgroundColor": "#bdd2e6",
           "backgroundImage": "none",
           "transition": "width 0.1s linear",
           "width": "100%"
          }
         },
         "children": [
          {
           "attributes": {
            "scoped": "scoped",
            "type": "text/css"
           },
           "children": [
            "\n                        @keyframes pb-fill-anim {\n                            0% { background-position: 0 0; }\n                            100% { background-position: 100px 0; }\n                        }}"
           ],
           "tagName": "style"
          },
          " "
         ],
         "tagName": "div"
        }
       ],
       "tagName": "div"
      }
     },
     "metadata": {},
     "output_type": "display_data"
    },
    {
     "name": "stderr",
     "output_type": "stream",
     "text": [
      "/home/pduggins/.virtualenvs/nbn/lib/python3.6/site-packages/nengolib/signal/system.py:213: UserWarning: Synapse ((num=[ 1000. -1000.], den=[1. 0.], analog=False)) has extra delay due to passthrough (https://github.com/nengo/nengo/issues/938).\n",
      "  \"(https://github.com/nengo/nengo/issues/938).\" % sys)\n"
     ]
    },
    {
     "name": "stdout",
     "output_type": "stream",
     "text": [
      "taus iteration 0, nonzero d 6, tau=[0.07052]: \n",
      "taus iteration 0, nonzero d 6, tau=[0.04955]: \n",
      "taus iteration 0, nonzero d 10, tau=[0.09883]: \n",
      "taus iteration 0, nonzero d 4, tau=[0.08653]: \n",
      "running experimental trials\n"
     ]
    },
    {
     "data": {
      "application/vdom.v1+json": {
       "attributes": {},
       "tagName": "div"
      },
      "text/html": [
       "\n",
       "                <script>\n",
       "                    if (Jupyter.version.split(\".\")[0] < 5) {\n",
       "                        var pb = document.getElementById(\"2f041425-6499-47fd-b2b9-6ac54399445d\");\n",
       "                        var text = document.createTextNode(\n",
       "                            \"HMTL progress bar requires Jupyter Notebook >= \" +\n",
       "                            \"5.0 or Jupyter Lab. Alternatively, you can use \" +\n",
       "                            \"TerminalProgressBar().\");\n",
       "                        pb.parentNode.insertBefore(text, pb);\n",
       "                    }\n",
       "                </script>\n",
       "                <div id=\"2f041425-6499-47fd-b2b9-6ac54399445d\" style=\"\n",
       "                    width: 100%;\n",
       "                    border: 1px solid #cfcfcf;\n",
       "                    border-radius: 4px;\n",
       "                    text-align: center;\n",
       "                    position: relative;\">\n",
       "                  <div class=\"pb-text\" style=\"\n",
       "                      position: absolute;\n",
       "                      width: 100%;\">\n",
       "                    0%\n",
       "                  </div>\n",
       "                  <div class=\"pb-fill\" style=\"\n",
       "                      background-color: #bdd2e6;\n",
       "                      width: 0%;\">\n",
       "                    <style type=\"text/css\" scoped=\"scoped\">\n",
       "                        @keyframes pb-fill-anim {\n",
       "                            0% { background-position: 0 0; }\n",
       "                            100% { background-position: 100px 0; }\n",
       "                        }\n",
       "                    </style>\n",
       "                    &nbsp;\n",
       "                  </div>\n",
       "                </div>"
      ],
      "text/plain": [
       "HtmlProgressBar cannot be displayed. Please use the TerminalProgressBar. It can be enabled with `nengo.rc.set('progress', 'progress_bar', 'nengo.utils.progress.TerminalProgressBar')`."
      ]
     },
     "metadata": {},
     "output_type": "display_data"
    },
    {
     "data": {
      "application/javascript": [
       "\n",
       "              (function () {\n",
       "                  var root = document.getElementById('2f041425-6499-47fd-b2b9-6ac54399445d');\n",
       "                  var text = root.getElementsByClassName('pb-text')[0];\n",
       "                  var fill = root.getElementsByClassName('pb-fill')[0];\n",
       "\n",
       "                  text.innerHTML = 'Build finished in 0:00:07.';\n",
       "                  \n",
       "            fill.style.width = '100%';\n",
       "            fill.style.animation = 'pb-fill-anim 2s linear infinite';\n",
       "            fill.style.backgroundSize = '100px 100%';\n",
       "            fill.style.backgroundImage = 'repeating-linear-gradient(' +\n",
       "                '90deg, #bdd2e6, #edf2f8 40%, #bdd2e6 80%, #bdd2e6)';\n",
       "        \n",
       "                  \n",
       "                fill.style.animation = 'none';\n",
       "                fill.style.backgroundImage = 'none';\n",
       "            \n",
       "              })();\n",
       "        "
      ],
      "application/vdom.v1+json": {
       "attributes": {
        "id": "cde55266-fd26-4971-aba3-1d51a739f91d",
        "style": {
         "border": "1px solid #cfcfcf",
         "borderRadius": "4px",
         "boxSizing": "border-box",
         "position": "relative",
         "textAlign": "center",
         "width": "100%"
        }
       },
       "children": [
        {
         "attributes": {
          "class": "pb-text",
          "style": {
           "position": "absolute",
           "width": "100%"
          }
         },
         "children": [
          "Build finished in 0:00:07."
         ],
         "tagName": "div"
        },
        {
         "attributes": {
          "class": "pb-fill",
          "style": {
           "animation": "none",
           "backgroundColor": "#bdd2e6",
           "backgroundImage": "none",
           "backgroundSize": "100px 100%",
           "width": "100%"
          }
         },
         "children": [
          {
           "attributes": {
            "scoped": "scoped",
            "type": "text/css"
           },
           "children": [
            "\n                        @keyframes pb-fill-anim {\n                            0% { background-position: 0 0; }\n                            100% { background-position: 100px 0; }\n                        }}"
           ],
           "tagName": "style"
          },
          " "
         ],
         "tagName": "div"
        }
       ],
       "tagName": "div"
      }
     },
     "metadata": {},
     "output_type": "display_data"
    },
    {
     "name": "stderr",
     "output_type": "stream",
     "text": [
      "/home/pduggins/.virtualenvs/nbn/lib/python3.6/site-packages/nengolib/signal/system.py:197: UserWarning: y0 (None!=0) does not properly initialize the system; see Nengo issue #1124.\n",
      "  \"Nengo issue #1124.\" % y0, UserWarning)\n",
      "/home/pduggins/.virtualenvs/nbn/lib/python3.6/site-packages/nengolib/signal/system.py:197: UserWarning: y0 (None!=0) does not properly initialize the system; see Nengo issue #1124.\n",
      "  \"Nengo issue #1124.\" % y0, UserWarning)\n",
      "/home/pduggins/.virtualenvs/nbn/lib/python3.6/site-packages/nengolib/signal/system.py:197: UserWarning: y0 (None!=0) does not properly initialize the system; see Nengo issue #1124.\n",
      "  \"Nengo issue #1124.\" % y0, UserWarning)\n"
     ]
    },
    {
     "data": {
      "application/vdom.v1+json": {
       "attributes": {},
       "tagName": "div"
      },
      "text/html": [
       "\n",
       "                <script>\n",
       "                    if (Jupyter.version.split(\".\")[0] < 5) {\n",
       "                        var pb = document.getElementById(\"cef05b32-33e0-4329-bee6-b58211b188db\");\n",
       "                        var text = document.createTextNode(\n",
       "                            \"HMTL progress bar requires Jupyter Notebook >= \" +\n",
       "                            \"5.0 or Jupyter Lab. Alternatively, you can use \" +\n",
       "                            \"TerminalProgressBar().\");\n",
       "                        pb.parentNode.insertBefore(text, pb);\n",
       "                    }\n",
       "                </script>\n",
       "                <div id=\"cef05b32-33e0-4329-bee6-b58211b188db\" style=\"\n",
       "                    width: 100%;\n",
       "                    border: 1px solid #cfcfcf;\n",
       "                    border-radius: 4px;\n",
       "                    text-align: center;\n",
       "                    position: relative;\">\n",
       "                  <div class=\"pb-text\" style=\"\n",
       "                      position: absolute;\n",
       "                      width: 100%;\">\n",
       "                    0%\n",
       "                  </div>\n",
       "                  <div class=\"pb-fill\" style=\"\n",
       "                      background-color: #bdd2e6;\n",
       "                      width: 0%;\">\n",
       "                    <style type=\"text/css\" scoped=\"scoped\">\n",
       "                        @keyframes pb-fill-anim {\n",
       "                            0% { background-position: 0 0; }\n",
       "                            100% { background-position: 100px 0; }\n",
       "                        }\n",
       "                    </style>\n",
       "                    &nbsp;\n",
       "                  </div>\n",
       "                </div>"
      ],
      "text/plain": [
       "HtmlProgressBar cannot be displayed. Please use the TerminalProgressBar. It can be enabled with `nengo.rc.set('progress', 'progress_bar', 'nengo.utils.progress.TerminalProgressBar')`."
      ]
     },
     "metadata": {},
     "output_type": "display_data"
    },
    {
     "data": {
      "application/javascript": [
       "\n",
       "              (function () {\n",
       "                  var root = document.getElementById('cef05b32-33e0-4329-bee6-b58211b188db');\n",
       "                  var text = root.getElementsByClassName('pb-text')[0];\n",
       "                  var fill = root.getElementsByClassName('pb-fill')[0];\n",
       "\n",
       "                  text.innerHTML = 'Simulation finished in 0:02:24.';\n",
       "                  \n",
       "            if (100.0 > 0.) {\n",
       "                fill.style.transition = 'width 0.1s linear';\n",
       "            } else {\n",
       "                fill.style.transition = 'none';\n",
       "            }\n",
       "\n",
       "            fill.style.width = '100.0%';\n",
       "            fill.style.animation = 'none';\n",
       "            fill.style.backgroundImage = 'none'\n",
       "        \n",
       "                  \n",
       "                fill.style.animation = 'none';\n",
       "                fill.style.backgroundImage = 'none';\n",
       "            \n",
       "              })();\n",
       "        "
      ],
      "application/vdom.v1+json": {
       "attributes": {
        "id": "22541a73-feb7-40c4-aba7-442a855cc32d",
        "style": {
         "border": "1px solid #cfcfcf",
         "borderRadius": "4px",
         "boxSizing": "border-box",
         "position": "relative",
         "textAlign": "center",
         "width": "100%"
        }
       },
       "children": [
        {
         "attributes": {
          "class": "pb-text",
          "style": {
           "position": "absolute",
           "width": "100%"
          }
         },
         "children": [
          "Simulation finished in 0:02:24."
         ],
         "tagName": "div"
        },
        {
         "attributes": {
          "class": "pb-fill",
          "style": {
           "animation": "none",
           "backgroundColor": "#bdd2e6",
           "backgroundImage": "none",
           "transition": "width 0.1s linear",
           "width": "100%"
          }
         },
         "children": [
          {
           "attributes": {
            "scoped": "scoped",
            "type": "text/css"
           },
           "children": [
            "\n                        @keyframes pb-fill-anim {\n                            0% { background-position: 0 0; }\n                            100% { background-position: 100px 0; }\n                        }}"
           ],
           "tagName": "style"
          },
          " "
         ],
         "tagName": "div"
        }
       ],
       "tagName": "div"
      }
     },
     "metadata": {},
     "output_type": "display_data"
    },
    {
     "data": {
      "application/vdom.v1+json": {
       "attributes": {},
       "tagName": "div"
      },
      "text/html": [
       "\n",
       "                <script>\n",
       "                    if (Jupyter.version.split(\".\")[0] < 5) {\n",
       "                        var pb = document.getElementById(\"21412485-6172-49e7-aca8-36806bbe3bcf\");\n",
       "                        var text = document.createTextNode(\n",
       "                            \"HMTL progress bar requires Jupyter Notebook >= \" +\n",
       "                            \"5.0 or Jupyter Lab. Alternatively, you can use \" +\n",
       "                            \"TerminalProgressBar().\");\n",
       "                        pb.parentNode.insertBefore(text, pb);\n",
       "                    }\n",
       "                </script>\n",
       "                <div id=\"21412485-6172-49e7-aca8-36806bbe3bcf\" style=\"\n",
       "                    width: 100%;\n",
       "                    border: 1px solid #cfcfcf;\n",
       "                    border-radius: 4px;\n",
       "                    text-align: center;\n",
       "                    position: relative;\">\n",
       "                  <div class=\"pb-text\" style=\"\n",
       "                      position: absolute;\n",
       "                      width: 100%;\">\n",
       "                    0%\n",
       "                  </div>\n",
       "                  <div class=\"pb-fill\" style=\"\n",
       "                      background-color: #bdd2e6;\n",
       "                      width: 0%;\">\n",
       "                    <style type=\"text/css\" scoped=\"scoped\">\n",
       "                        @keyframes pb-fill-anim {\n",
       "                            0% { background-position: 0 0; }\n",
       "                            100% { background-position: 100px 0; }\n",
       "                        }\n",
       "                    </style>\n",
       "                    &nbsp;\n",
       "                  </div>\n",
       "                </div>"
      ],
      "text/plain": [
       "HtmlProgressBar cannot be displayed. Please use the TerminalProgressBar. It can be enabled with `nengo.rc.set('progress', 'progress_bar', 'nengo.utils.progress.TerminalProgressBar')`."
      ]
     },
     "metadata": {},
     "output_type": "display_data"
    },
    {
     "data": {
      "application/javascript": [
       "\n",
       "              (function () {\n",
       "                  var root = document.getElementById('21412485-6172-49e7-aca8-36806bbe3bcf');\n",
       "                  var text = root.getElementsByClassName('pb-text')[0];\n",
       "                  var fill = root.getElementsByClassName('pb-fill')[0];\n",
       "\n",
       "                  text.innerHTML = 'Build finished in 0:00:07.';\n",
       "                  \n",
       "            fill.style.width = '100%';\n",
       "            fill.style.animation = 'pb-fill-anim 2s linear infinite';\n",
       "            fill.style.backgroundSize = '100px 100%';\n",
       "            fill.style.backgroundImage = 'repeating-linear-gradient(' +\n",
       "                '90deg, #bdd2e6, #edf2f8 40%, #bdd2e6 80%, #bdd2e6)';\n",
       "        \n",
       "                  \n",
       "                fill.style.animation = 'none';\n",
       "                fill.style.backgroundImage = 'none';\n",
       "            \n",
       "              })();\n",
       "        "
      ],
      "application/vdom.v1+json": {
       "attributes": {
        "id": "bba1c759-a3af-46c2-9641-4ffe3551448a",
        "style": {
         "border": "1px solid #cfcfcf",
         "borderRadius": "4px",
         "boxSizing": "border-box",
         "position": "relative",
         "textAlign": "center",
         "width": "100%"
        }
       },
       "children": [
        {
         "attributes": {
          "class": "pb-text",
          "style": {
           "position": "absolute",
           "width": "100%"
          }
         },
         "children": [
          "Build finished in 0:00:07."
         ],
         "tagName": "div"
        },
        {
         "attributes": {
          "class": "pb-fill",
          "style": {
           "animation": "none",
           "backgroundColor": "#bdd2e6",
           "backgroundImage": "none",
           "backgroundSize": "100px 100%",
           "width": "100%"
          }
         },
         "children": [
          {
           "attributes": {
            "scoped": "scoped",
            "type": "text/css"
           },
           "children": [
            "\n                        @keyframes pb-fill-anim {\n                            0% { background-position: 0 0; }\n                            100% { background-position: 100px 0; }\n                        }}"
           ],
           "tagName": "style"
          },
          " "
         ],
         "tagName": "div"
        }
       ],
       "tagName": "div"
      }
     },
     "metadata": {},
     "output_type": "display_data"
    },
    {
     "name": "stderr",
     "output_type": "stream",
     "text": [
      "/home/pduggins/.virtualenvs/nbn/lib/python3.6/site-packages/nengolib/signal/system.py:197: UserWarning: y0 (None!=0) does not properly initialize the system; see Nengo issue #1124.\n",
      "  \"Nengo issue #1124.\" % y0, UserWarning)\n",
      "/home/pduggins/.virtualenvs/nbn/lib/python3.6/site-packages/nengolib/signal/system.py:197: UserWarning: y0 (None!=0) does not properly initialize the system; see Nengo issue #1124.\n",
      "  \"Nengo issue #1124.\" % y0, UserWarning)\n",
      "/home/pduggins/.virtualenvs/nbn/lib/python3.6/site-packages/nengolib/signal/system.py:197: UserWarning: y0 (None!=0) does not properly initialize the system; see Nengo issue #1124.\n",
      "  \"Nengo issue #1124.\" % y0, UserWarning)\n"
     ]
    },
    {
     "data": {
      "application/vdom.v1+json": {
       "attributes": {},
       "tagName": "div"
      },
      "text/html": [
       "\n",
       "                <script>\n",
       "                    if (Jupyter.version.split(\".\")[0] < 5) {\n",
       "                        var pb = document.getElementById(\"737dad2b-ec03-4e51-adec-391d872a061c\");\n",
       "                        var text = document.createTextNode(\n",
       "                            \"HMTL progress bar requires Jupyter Notebook >= \" +\n",
       "                            \"5.0 or Jupyter Lab. Alternatively, you can use \" +\n",
       "                            \"TerminalProgressBar().\");\n",
       "                        pb.parentNode.insertBefore(text, pb);\n",
       "                    }\n",
       "                </script>\n",
       "                <div id=\"737dad2b-ec03-4e51-adec-391d872a061c\" style=\"\n",
       "                    width: 100%;\n",
       "                    border: 1px solid #cfcfcf;\n",
       "                    border-radius: 4px;\n",
       "                    text-align: center;\n",
       "                    position: relative;\">\n",
       "                  <div class=\"pb-text\" style=\"\n",
       "                      position: absolute;\n",
       "                      width: 100%;\">\n",
       "                    0%\n",
       "                  </div>\n",
       "                  <div class=\"pb-fill\" style=\"\n",
       "                      background-color: #bdd2e6;\n",
       "                      width: 0%;\">\n",
       "                    <style type=\"text/css\" scoped=\"scoped\">\n",
       "                        @keyframes pb-fill-anim {\n",
       "                            0% { background-position: 0 0; }\n",
       "                            100% { background-position: 100px 0; }\n",
       "                        }\n",
       "                    </style>\n",
       "                    &nbsp;\n",
       "                  </div>\n",
       "                </div>"
      ],
      "text/plain": [
       "HtmlProgressBar cannot be displayed. Please use the TerminalProgressBar. It can be enabled with `nengo.rc.set('progress', 'progress_bar', 'nengo.utils.progress.TerminalProgressBar')`."
      ]
     },
     "metadata": {},
     "output_type": "display_data"
    },
    {
     "data": {
      "application/javascript": [
       "\n",
       "              (function () {\n",
       "                  var root = document.getElementById('737dad2b-ec03-4e51-adec-391d872a061c');\n",
       "                  var text = root.getElementsByClassName('pb-text')[0];\n",
       "                  var fill = root.getElementsByClassName('pb-fill')[0];\n",
       "\n",
       "                  text.innerHTML = 'Simulation finished in 0:02:22.';\n",
       "                  \n",
       "            if (100.0 > 0.) {\n",
       "                fill.style.transition = 'width 0.1s linear';\n",
       "            } else {\n",
       "                fill.style.transition = 'none';\n",
       "            }\n",
       "\n",
       "            fill.style.width = '100.0%';\n",
       "            fill.style.animation = 'none';\n",
       "            fill.style.backgroundImage = 'none'\n",
       "        \n",
       "                  \n",
       "                fill.style.animation = 'none';\n",
       "                fill.style.backgroundImage = 'none';\n",
       "            \n",
       "              })();\n",
       "        "
      ],
      "application/vdom.v1+json": {
       "attributes": {
        "id": "3aa6484c-bf7f-4153-af5d-e9c65d5212b4",
        "style": {
         "border": "1px solid #cfcfcf",
         "borderRadius": "4px",
         "boxSizing": "border-box",
         "position": "relative",
         "textAlign": "center",
         "width": "100%"
        }
       },
       "children": [
        {
         "attributes": {
          "class": "pb-text",
          "style": {
           "position": "absolute",
           "width": "100%"
          }
         },
         "children": [
          "Simulation finished in 0:02:22."
         ],
         "tagName": "div"
        },
        {
         "attributes": {
          "class": "pb-fill",
          "style": {
           "animation": "none",
           "backgroundColor": "#bdd2e6",
           "backgroundImage": "none",
           "transition": "width 0.1s linear",
           "width": "100%"
          }
         },
         "children": [
          {
           "attributes": {
            "scoped": "scoped",
            "type": "text/css"
           },
           "children": [
            "\n                        @keyframes pb-fill-anim {\n                            0% { background-position: 0 0; }\n                            100% { background-position: 100px 0; }\n                        }}"
           ],
           "tagName": "style"
          },
          " "
         ],
         "tagName": "div"
        }
       ],
       "tagName": "div"
      }
     },
     "metadata": {},
     "output_type": "display_data"
    },
    {
     "name": "stderr",
     "output_type": "stream",
     "text": [
      "/home/pduggins/.virtualenvs/nbn/lib/python3.6/site-packages/scipy/stats/stats.py:1713: FutureWarning: Using a non-tuple sequence for multidimensional indexing is deprecated; use `arr[tuple(seq)]` instead of `arr[seq]`. In the future this will be interpreted as an array index, `arr[np.array(seq)]`, which will result either in an error or a different result.\n",
      "  return np.add.reduce(sorted[indexer] * weights, axis=axis) / sumval\n"
     ]
    },
    {
     "data": {
      "image/png": "[encoded data removed]",
      "text/plain": [
       "<Figure size 1008x432 with 1 Axes>"
      ]
     },
     "metadata": {},
     "output_type": "display_data"
    }
   ],
   "source": [
    "nrmses_lstsq_int = trials_integrator(\n",
    "    n_neurons=10, t=1, tau=0.1, dt=0.001, maxiter_gainbias=1, optimize_h='lstsq', n_trials=2, pe=False)"
   ]
  },
  {
   "cell_type": "code",
   "execution_count": null,
   "metadata": {},
   "outputs": [],
   "source": []
  },
  {
   "cell_type": "code",
   "execution_count": 53,
   "metadata": {},
   "outputs": [
    {
     "name": "stdout",
     "output_type": "stream",
     "text": [
      "optimizing gain and bias\n"
     ]
    },
    {
     "name": "stderr",
     "output_type": "stream",
     "text": [
      "/home/pduggins/.virtualenvs/nbn/lib/python3.6/site-packages/nengolib/signal/system.py:197: UserWarning: y0 (None!=0) does not properly initialize the system; see Nengo issue #1124.\n",
      "  \"Nengo issue #1124.\" % y0, UserWarning)\n"
     ]
    },
    {
     "name": "stdout",
     "output_type": "stream",
     "text": [
      "<Connection pre_u_durstewitz>\n",
      "iteration 0, remaining neurons 10\n"
     ]
    },
    {
     "name": "stderr",
     "output_type": "stream",
     "text": [
      "/home/pduggins/.virtualenvs/nbn/lib/python3.6/site-packages/nengolib/signal/system.py:197: UserWarning: y0 (None!=0) does not properly initialize the system; see Nengo issue #1124.\n",
      "  \"Nengo issue #1124.\" % y0, UserWarning)\n"
     ]
    },
    {
     "data": {
      "application/vdom.v1+json": {
       "attributes": {},
       "tagName": "div"
      },
      "text/html": [
       "\n",
       "                <script>\n",
       "                    if (Jupyter.version.split(\".\")[0] < 5) {\n",
       "                        var pb = document.getElementById(\"5a760609-0616-4995-9d62-248e16b31e8c\");\n",
       "                        var text = document.createTextNode(\n",
       "                            \"HMTL progress bar requires Jupyter Notebook >= \" +\n",
       "                            \"5.0 or Jupyter Lab. Alternatively, you can use \" +\n",
       "                            \"TerminalProgressBar().\");\n",
       "                        pb.parentNode.insertBefore(text, pb);\n",
       "                    }\n",
       "                </script>\n",
       "                <div id=\"5a760609-0616-4995-9d62-248e16b31e8c\" style=\"\n",
       "                    width: 100%;\n",
       "                    border: 1px solid #cfcfcf;\n",
       "                    border-radius: 4px;\n",
       "                    text-align: center;\n",
       "                    position: relative;\">\n",
       "                  <div class=\"pb-text\" style=\"\n",
       "                      position: absolute;\n",
       "                      width: 100%;\">\n",
       "                    0%\n",
       "                  </div>\n",
       "                  <div class=\"pb-fill\" style=\"\n",
       "                      background-color: #bdd2e6;\n",
       "                      width: 0%;\">\n",
       "                    <style type=\"text/css\" scoped=\"scoped\">\n",
       "                        @keyframes pb-fill-anim {\n",
       "                            0% { background-position: 0 0; }\n",
       "                            100% { background-position: 100px 0; }\n",
       "                        }\n",
       "                    </style>\n",
       "                    &nbsp;\n",
       "                  </div>\n",
       "                </div>"
      ],
      "text/plain": [
       "HtmlProgressBar cannot be displayed. Please use the TerminalProgressBar. It can be enabled with `nengo.rc.set('progress', 'progress_bar', 'nengo.utils.progress.TerminalProgressBar')`."
      ]
     },
     "metadata": {},
     "output_type": "display_data"
    },
    {
     "data": {
      "application/javascript": [
       "\n",
       "              (function () {\n",
       "                  var root = document.getElementById('5a760609-0616-4995-9d62-248e16b31e8c');\n",
       "                  var text = root.getElementsByClassName('pb-text')[0];\n",
       "                  var fill = root.getElementsByClassName('pb-fill')[0];\n",
       "\n",
       "                  text.innerHTML = 'Simulation finished in 0:02:08.';\n",
       "                  \n",
       "            if (100.0 > 0.) {\n",
       "                fill.style.transition = 'width 0.1s linear';\n",
       "            } else {\n",
       "                fill.style.transition = 'none';\n",
       "            }\n",
       "\n",
       "            fill.style.width = '100.0%';\n",
       "            fill.style.animation = 'none';\n",
       "            fill.style.backgroundImage = 'none'\n",
       "        \n",
       "                  \n",
       "                fill.style.animation = 'none';\n",
       "                fill.style.backgroundImage = 'none';\n",
       "            \n",
       "              })();\n",
       "        "
      ],
      "application/vdom.v1+json": {
       "attributes": {
        "id": "991d0e9c-cdf8-4d10-8a75-37ae0f286492",
        "style": {
         "border": "1px solid #cfcfcf",
         "borderRadius": "4px",
         "boxSizing": "border-box",
         "position": "relative",
         "textAlign": "center",
         "width": "100%"
        }
       },
       "children": [
        {
         "attributes": {
          "class": "pb-text",
          "style": {
           "position": "absolute",
           "width": "100%"
          }
         },
         "children": [
          "Simulation finished in 0:02:08."
         ],
         "tagName": "div"
        },
        {
         "attributes": {
          "class": "pb-fill",
          "style": {
           "animation": "none",
           "backgroundColor": "#bdd2e6",
           "backgroundImage": "none",
           "transition": "width 0.1s linear",
           "width": "100%"
          }
         },
         "children": [
          {
           "attributes": {
            "scoped": "scoped",
            "type": "text/css"
           },
           "children": [
            "\n                        @keyframes pb-fill-anim {\n                            0% { background-position: 0 0; }\n                            100% { background-position: 100px 0; }\n                        }}"
           ],
           "tagName": "style"
          },
          " "
         ],
         "tagName": "div"
        }
       ],
       "tagName": "div"
      }
     },
     "metadata": {},
     "output_type": "display_data"
    },
    {
     "data": {
      "application/vdom.v1+json": {
       "attributes": {},
       "tagName": "div"
      },
      "text/html": [
       "\n",
       "                <script>\n",
       "                    if (Jupyter.version.split(\".\")[0] < 5) {\n",
       "                        var pb = document.getElementById(\"7db9d9d4-3e78-4a0c-ab93-dac11d5e4fd9\");\n",
       "                        var text = document.createTextNode(\n",
       "                            \"HMTL progress bar requires Jupyter Notebook >= \" +\n",
       "                            \"5.0 or Jupyter Lab. Alternatively, you can use \" +\n",
       "                            \"TerminalProgressBar().\");\n",
       "                        pb.parentNode.insertBefore(text, pb);\n",
       "                    }\n",
       "                </script>\n",
       "                <div id=\"7db9d9d4-3e78-4a0c-ab93-dac11d5e4fd9\" style=\"\n",
       "                    width: 100%;\n",
       "                    border: 1px solid #cfcfcf;\n",
       "                    border-radius: 4px;\n",
       "                    text-align: center;\n",
       "                    position: relative;\">\n",
       "                  <div class=\"pb-text\" style=\"\n",
       "                      position: absolute;\n",
       "                      width: 100%;\">\n",
       "                    0%\n",
       "                  </div>\n",
       "                  <div class=\"pb-fill\" style=\"\n",
       "                      background-color: #bdd2e6;\n",
       "                      width: 0%;\">\n",
       "                    <style type=\"text/css\" scoped=\"scoped\">\n",
       "                        @keyframes pb-fill-anim {\n",
       "                            0% { background-position: 0 0; }\n",
       "                            100% { background-position: 100px 0; }\n",
       "                        }\n",
       "                    </style>\n",
       "                    &nbsp;\n",
       "                  </div>\n",
       "                </div>"
      ],
      "text/plain": [
       "HtmlProgressBar cannot be displayed. Please use the TerminalProgressBar. It can be enabled with `nengo.rc.set('progress', 'progress_bar', 'nengo.utils.progress.TerminalProgressBar')`."
      ]
     },
     "metadata": {},
     "output_type": "display_data"
    },
    {
     "data": {
      "application/javascript": [
       "\n",
       "              (function () {\n",
       "                  var root = document.getElementById('7db9d9d4-3e78-4a0c-ab93-dac11d5e4fd9');\n",
       "                  var text = root.getElementsByClassName('pb-text')[0];\n",
       "                  var fill = root.getElementsByClassName('pb-fill')[0];\n",
       "\n",
       "                  text.innerHTML = 'Build finished in 0:00:07.';\n",
       "                  \n",
       "            fill.style.width = '100%';\n",
       "            fill.style.animation = 'pb-fill-anim 2s linear infinite';\n",
       "            fill.style.backgroundSize = '100px 100%';\n",
       "            fill.style.backgroundImage = 'repeating-linear-gradient(' +\n",
       "                '90deg, #bdd2e6, #edf2f8 40%, #bdd2e6 80%, #bdd2e6)';\n",
       "        \n",
       "                  \n",
       "                fill.style.animation = 'none';\n",
       "                fill.style.backgroundImage = 'none';\n",
       "            \n",
       "              })();\n",
       "        "
      ],
      "application/vdom.v1+json": {
       "attributes": {
        "id": "f9d809fb-53e0-4921-b64c-5c9f789c4bc0",
        "style": {
         "border": "1px solid #cfcfcf",
         "borderRadius": "4px",
         "boxSizing": "border-box",
         "position": "relative",
         "textAlign": "center",
         "width": "100%"
        }
       },
       "children": [
        {
         "attributes": {
          "class": "pb-text",
          "style": {
           "position": "absolute",
           "width": "100%"
          }
         },
         "children": [
          "Build finished in 0:00:07."
         ],
         "tagName": "div"
        },
        {
         "attributes": {
          "class": "pb-fill",
          "style": {
           "animation": "none",
           "backgroundColor": "#bdd2e6",
           "backgroundImage": "none",
           "backgroundSize": "100px 100%",
           "width": "100%"
          }
         },
         "children": [
          {
           "attributes": {
            "scoped": "scoped",
            "type": "text/css"
           },
           "children": [
            "\n                        @keyframes pb-fill-anim {\n                            0% { background-position: 0 0; }\n                            100% { background-position: 100px 0; }\n                        }}"
           ],
           "tagName": "style"
          },
          " "
         ],
         "tagName": "div"
        }
       ],
       "tagName": "div"
      }
     },
     "metadata": {},
     "output_type": "display_data"
    },
    {
     "name": "stderr",
     "output_type": "stream",
     "text": [
      "/home/pduggins/.virtualenvs/nbn/lib/python3.6/site-packages/nengolib/signal/system.py:197: UserWarning: y0 (None!=0) does not properly initialize the system; see Nengo issue #1124.\n",
      "  \"Nengo issue #1124.\" % y0, UserWarning)\n",
      "/home/pduggins/.virtualenvs/nbn/lib/python3.6/site-packages/nengolib/signal/system.py:197: UserWarning: y0 (None!=0) does not properly initialize the system; see Nengo issue #1124.\n",
      "  \"Nengo issue #1124.\" % y0, UserWarning)\n",
      "/home/pduggins/.virtualenvs/nbn/lib/python3.6/site-packages/nengolib/signal/system.py:197: UserWarning: y0 (None!=0) does not properly initialize the system; see Nengo issue #1124.\n",
      "  \"Nengo issue #1124.\" % y0, UserWarning)\n"
     ]
    },
    {
     "data": {
      "application/vdom.v1+json": {
       "attributes": {},
       "tagName": "div"
      },
      "text/html": [
       "\n",
       "                <script>\n",
       "                    if (Jupyter.version.split(\".\")[0] < 5) {\n",
       "                        var pb = document.getElementById(\"6e4d20a6-d158-4864-8d11-49e965ad4c48\");\n",
       "                        var text = document.createTextNode(\n",
       "                            \"HMTL progress bar requires Jupyter Notebook >= \" +\n",
       "                            \"5.0 or Jupyter Lab. Alternatively, you can use \" +\n",
       "                            \"TerminalProgressBar().\");\n",
       "                        pb.parentNode.insertBefore(text, pb);\n",
       "                    }\n",
       "                </script>\n",
       "                <div id=\"6e4d20a6-d158-4864-8d11-49e965ad4c48\" style=\"\n",
       "                    width: 100%;\n",
       "                    border: 1px solid #cfcfcf;\n",
       "                    border-radius: 4px;\n",
       "                    text-align: center;\n",
       "                    position: relative;\">\n",
       "                  <div class=\"pb-text\" style=\"\n",
       "                      position: absolute;\n",
       "                      width: 100%;\">\n",
       "                    0%\n",
       "                  </div>\n",
       "                  <div class=\"pb-fill\" style=\"\n",
       "                      background-color: #bdd2e6;\n",
       "                      width: 0%;\">\n",
       "                    <style type=\"text/css\" scoped=\"scoped\">\n",
       "                        @keyframes pb-fill-anim {\n",
       "                            0% { background-position: 0 0; }\n",
       "                            100% { background-position: 100px 0; }\n",
       "                        }\n",
       "                    </style>\n",
       "                    &nbsp;\n",
       "                  </div>\n",
       "                </div>"
      ],
      "text/plain": [
       "HtmlProgressBar cannot be displayed. Please use the TerminalProgressBar. It can be enabled with `nengo.rc.set('progress', 'progress_bar', 'nengo.utils.progress.TerminalProgressBar')`."
      ]
     },
     "metadata": {},
     "output_type": "display_data"
    },
    {
     "data": {
      "application/javascript": [
       "\n",
       "              (function () {\n",
       "                  var root = document.getElementById('6e4d20a6-d158-4864-8d11-49e965ad4c48');\n",
       "                  var text = root.getElementsByClassName('pb-text')[0];\n",
       "                  var fill = root.getElementsByClassName('pb-fill')[0];\n",
       "\n",
       "                  text.innerHTML = 'Simulation finished in 0:02:23.';\n",
       "                  \n",
       "            if (100.0 > 0.) {\n",
       "                fill.style.transition = 'width 0.1s linear';\n",
       "            } else {\n",
       "                fill.style.transition = 'none';\n",
       "            }\n",
       "\n",
       "            fill.style.width = '100.0%';\n",
       "            fill.style.animation = 'none';\n",
       "            fill.style.backgroundImage = 'none'\n",
       "        \n",
       "                  \n",
       "                fill.style.animation = 'none';\n",
       "                fill.style.backgroundImage = 'none';\n",
       "            \n",
       "              })();\n",
       "        "
      ],
      "application/vdom.v1+json": {
       "attributes": {
        "id": "4a5d6162-05a3-45a9-ab68-a92b3f9fbd63",
        "style": {
         "border": "1px solid #cfcfcf",
         "borderRadius": "4px",
         "boxSizing": "border-box",
         "position": "relative",
         "textAlign": "center",
         "width": "100%"
        }
       },
       "children": [
        {
         "attributes": {
          "class": "pb-text",
          "style": {
           "position": "absolute",
           "width": "100%"
          }
         },
         "children": [
          "Simulation finished in 0:02:23."
         ],
         "tagName": "div"
        },
        {
         "attributes": {
          "class": "pb-fill",
          "style": {
           "animation": "none",
           "backgroundColor": "#bdd2e6",
           "backgroundImage": "none",
           "transition": "width 0.1s linear",
           "width": "100%"
          }
         },
         "children": [
          {
           "attributes": {
            "scoped": "scoped",
            "type": "text/css"
           },
           "children": [
            "\n                        @keyframes pb-fill-anim {\n                            0% { background-position: 0 0; }\n                            100% { background-position: 100px 0; }\n                        }}"
           ],
           "tagName": "style"
          },
          " "
         ],
         "tagName": "div"
        }
       ],
       "tagName": "div"
      }
     },
     "metadata": {},
     "output_type": "display_data"
    },
    {
     "name": "stdout",
     "output_type": "stream",
     "text": [
      "running experimental trials\n"
     ]
    },
    {
     "data": {
      "application/vdom.v1+json": {
       "attributes": {},
       "tagName": "div"
      },
      "text/html": [
       "\n",
       "                <script>\n",
       "                    if (Jupyter.version.split(\".\")[0] < 5) {\n",
       "                        var pb = document.getElementById(\"b44a10ce-d86f-4fd9-acd3-6316af3e372d\");\n",
       "                        var text = document.createTextNode(\n",
       "                            \"HMTL progress bar requires Jupyter Notebook >= \" +\n",
       "                            \"5.0 or Jupyter Lab. Alternatively, you can use \" +\n",
       "                            \"TerminalProgressBar().\");\n",
       "                        pb.parentNode.insertBefore(text, pb);\n",
       "                    }\n",
       "                </script>\n",
       "                <div id=\"b44a10ce-d86f-4fd9-acd3-6316af3e372d\" style=\"\n",
       "                    width: 100%;\n",
       "                    border: 1px solid #cfcfcf;\n",
       "                    border-radius: 4px;\n",
       "                    text-align: center;\n",
       "                    position: relative;\">\n",
       "                  <div class=\"pb-text\" style=\"\n",
       "                      position: absolute;\n",
       "                      width: 100%;\">\n",
       "                    0%\n",
       "                  </div>\n",
       "                  <div class=\"pb-fill\" style=\"\n",
       "                      background-color: #bdd2e6;\n",
       "                      width: 0%;\">\n",
       "                    <style type=\"text/css\" scoped=\"scoped\">\n",
       "                        @keyframes pb-fill-anim {\n",
       "                            0% { background-position: 0 0; }\n",
       "                            100% { background-position: 100px 0; }\n",
       "                        }\n",
       "                    </style>\n",
       "                    &nbsp;\n",
       "                  </div>\n",
       "                </div>"
      ],
      "text/plain": [
       "HtmlProgressBar cannot be displayed. Please use the TerminalProgressBar. It can be enabled with `nengo.rc.set('progress', 'progress_bar', 'nengo.utils.progress.TerminalProgressBar')`."
      ]
     },
     "metadata": {},
     "output_type": "display_data"
    },
    {
     "data": {
      "application/javascript": [
       "\n",
       "              (function () {\n",
       "                  var root = document.getElementById('b44a10ce-d86f-4fd9-acd3-6316af3e372d');\n",
       "                  var text = root.getElementsByClassName('pb-text')[0];\n",
       "                  var fill = root.getElementsByClassName('pb-fill')[0];\n",
       "\n",
       "                  text.innerHTML = 'Build finished in 0:00:07.';\n",
       "                  \n",
       "            fill.style.width = '100%';\n",
       "            fill.style.animation = 'pb-fill-anim 2s linear infinite';\n",
       "            fill.style.backgroundSize = '100px 100%';\n",
       "            fill.style.backgroundImage = 'repeating-linear-gradient(' +\n",
       "                '90deg, #bdd2e6, #edf2f8 40%, #bdd2e6 80%, #bdd2e6)';\n",
       "        \n",
       "                  \n",
       "                fill.style.animation = 'none';\n",
       "                fill.style.backgroundImage = 'none';\n",
       "            \n",
       "              })();\n",
       "        "
      ],
      "application/vdom.v1+json": {
       "attributes": {
        "id": "73261927-76ac-4374-8710-b2cff9790842",
        "style": {
         "border": "1px solid #cfcfcf",
         "borderRadius": "4px",
         "boxSizing": "border-box",
         "position": "relative",
         "textAlign": "center",
         "width": "100%"
        }
       },
       "children": [
        {
         "attributes": {
          "class": "pb-text",
          "style": {
           "position": "absolute",
           "width": "100%"
          }
         },
         "children": [
          "Build finished in 0:00:07."
         ],
         "tagName": "div"
        },
        {
         "attributes": {
          "class": "pb-fill",
          "style": {
           "animation": "none",
           "backgroundColor": "#bdd2e6",
           "backgroundImage": "none",
           "backgroundSize": "100px 100%",
           "width": "100%"
          }
         },
         "children": [
          {
           "attributes": {
            "scoped": "scoped",
            "type": "text/css"
           },
           "children": [
            "\n                        @keyframes pb-fill-anim {\n                            0% { background-position: 0 0; }\n                            100% { background-position: 100px 0; }\n                        }}"
           ],
           "tagName": "style"
          },
          " "
         ],
         "tagName": "div"
        }
       ],
       "tagName": "div"
      }
     },
     "metadata": {},
     "output_type": "display_data"
    },
    {
     "name": "stderr",
     "output_type": "stream",
     "text": [
      "/home/pduggins/.virtualenvs/nbn/lib/python3.6/site-packages/nengolib/signal/system.py:197: UserWarning: y0 (None!=0) does not properly initialize the system; see Nengo issue #1124.\n",
      "  \"Nengo issue #1124.\" % y0, UserWarning)\n",
      "/home/pduggins/.virtualenvs/nbn/lib/python3.6/site-packages/nengolib/signal/system.py:197: UserWarning: y0 (None!=0) does not properly initialize the system; see Nengo issue #1124.\n",
      "  \"Nengo issue #1124.\" % y0, UserWarning)\n",
      "/home/pduggins/.virtualenvs/nbn/lib/python3.6/site-packages/nengolib/signal/system.py:197: UserWarning: y0 (None!=0) does not properly initialize the system; see Nengo issue #1124.\n",
      "  \"Nengo issue #1124.\" % y0, UserWarning)\n"
     ]
    },
    {
     "data": {
      "application/vdom.v1+json": {
       "attributes": {},
       "tagName": "div"
      },
      "text/html": [
       "\n",
       "                <script>\n",
       "                    if (Jupyter.version.split(\".\")[0] < 5) {\n",
       "                        var pb = document.getElementById(\"3d3763f6-a548-4d76-a268-ef7b8455f23d\");\n",
       "                        var text = document.createTextNode(\n",
       "                            \"HMTL progress bar requires Jupyter Notebook >= \" +\n",
       "                            \"5.0 or Jupyter Lab. Alternatively, you can use \" +\n",
       "                            \"TerminalProgressBar().\");\n",
       "                        pb.parentNode.insertBefore(text, pb);\n",
       "                    }\n",
       "                </script>\n",
       "                <div id=\"3d3763f6-a548-4d76-a268-ef7b8455f23d\" style=\"\n",
       "                    width: 100%;\n",
       "                    border: 1px solid #cfcfcf;\n",
       "                    border-radius: 4px;\n",
       "                    text-align: center;\n",
       "                    position: relative;\">\n",
       "                  <div class=\"pb-text\" style=\"\n",
       "                      position: absolute;\n",
       "                      width: 100%;\">\n",
       "                    0%\n",
       "                  </div>\n",
       "                  <div class=\"pb-fill\" style=\"\n",
       "                      background-color: #bdd2e6;\n",
       "                      width: 0%;\">\n",
       "                    <style type=\"text/css\" scoped=\"scoped\">\n",
       "                        @keyframes pb-fill-anim {\n",
       "                            0% { background-position: 0 0; }\n",
       "                            100% { background-position: 100px 0; }\n",
       "                        }\n",
       "                    </style>\n",
       "                    &nbsp;\n",
       "                  </div>\n",
       "                </div>"
      ],
      "text/plain": [
       "HtmlProgressBar cannot be displayed. Please use the TerminalProgressBar. It can be enabled with `nengo.rc.set('progress', 'progress_bar', 'nengo.utils.progress.TerminalProgressBar')`."
      ]
     },
     "metadata": {},
     "output_type": "display_data"
    },
    {
     "data": {
      "application/javascript": [
       "\n",
       "              (function () {\n",
       "                  var root = document.getElementById('3d3763f6-a548-4d76-a268-ef7b8455f23d');\n",
       "                  var text = root.getElementsByClassName('pb-text')[0];\n",
       "                  var fill = root.getElementsByClassName('pb-fill')[0];\n",
       "\n",
       "                  text.innerHTML = 'Simulation finished in 0:02:25.';\n",
       "                  \n",
       "            if (100.0 > 0.) {\n",
       "                fill.style.transition = 'width 0.1s linear';\n",
       "            } else {\n",
       "                fill.style.transition = 'none';\n",
       "            }\n",
       "\n",
       "            fill.style.width = '100.0%';\n",
       "            fill.style.animation = 'none';\n",
       "            fill.style.backgroundImage = 'none'\n",
       "        \n",
       "                  \n",
       "                fill.style.animation = 'none';\n",
       "                fill.style.backgroundImage = 'none';\n",
       "            \n",
       "              })();\n",
       "        "
      ],
      "application/vdom.v1+json": {
       "attributes": {
        "id": "441619f3-eb36-4ddd-ba30-cca3b1a450ea",
        "style": {
         "border": "1px solid #cfcfcf",
         "borderRadius": "4px",
         "boxSizing": "border-box",
         "position": "relative",
         "textAlign": "center",
         "width": "100%"
        }
       },
       "children": [
        {
         "attributes": {
          "class": "pb-text",
          "style": {
           "position": "absolute",
           "width": "100%"
          }
         },
         "children": [
          "Simulation finished in 0:02:25."
         ],
         "tagName": "div"
        },
        {
         "attributes": {
          "class": "pb-fill",
          "style": {
           "animation": "none",
           "backgroundColor": "#bdd2e6",
           "backgroundImage": "none",
           "transition": "width 0.1s linear",
           "width": "100%"
          }
         },
         "children": [
          {
           "attributes": {
            "scoped": "scoped",
            "type": "text/css"
           },
           "children": [
            "\n                        @keyframes pb-fill-anim {\n                            0% { background-position: 0 0; }\n                            100% { background-position: 100px 0; }\n                        }}"
           ],
           "tagName": "style"
          },
          " "
         ],
         "tagName": "div"
        }
       ],
       "tagName": "div"
      }
     },
     "metadata": {},
     "output_type": "display_data"
    },
    {
     "data": {
      "application/vdom.v1+json": {
       "attributes": {},
       "tagName": "div"
      },
      "text/html": [
       "\n",
       "                <script>\n",
       "                    if (Jupyter.version.split(\".\")[0] < 5) {\n",
       "                        var pb = document.getElementById(\"889e9b37-b575-4c3a-bf72-139de54395e5\");\n",
       "                        var text = document.createTextNode(\n",
       "                            \"HMTL progress bar requires Jupyter Notebook >= \" +\n",
       "                            \"5.0 or Jupyter Lab. Alternatively, you can use \" +\n",
       "                            \"TerminalProgressBar().\");\n",
       "                        pb.parentNode.insertBefore(text, pb);\n",
       "                    }\n",
       "                </script>\n",
       "                <div id=\"889e9b37-b575-4c3a-bf72-139de54395e5\" style=\"\n",
       "                    width: 100%;\n",
       "                    border: 1px solid #cfcfcf;\n",
       "                    border-radius: 4px;\n",
       "                    text-align: center;\n",
       "                    position: relative;\">\n",
       "                  <div class=\"pb-text\" style=\"\n",
       "                      position: absolute;\n",
       "                      width: 100%;\">\n",
       "                    0%\n",
       "                  </div>\n",
       "                  <div class=\"pb-fill\" style=\"\n",
       "                      background-color: #bdd2e6;\n",
       "                      width: 0%;\">\n",
       "                    <style type=\"text/css\" scoped=\"scoped\">\n",
       "                        @keyframes pb-fill-anim {\n",
       "                            0% { background-position: 0 0; }\n",
       "                            100% { background-position: 100px 0; }\n",
       "                        }\n",
       "                    </style>\n",
       "                    &nbsp;\n",
       "                  </div>\n",
       "                </div>"
      ],
      "text/plain": [
       "HtmlProgressBar cannot be displayed. Please use the TerminalProgressBar. It can be enabled with `nengo.rc.set('progress', 'progress_bar', 'nengo.utils.progress.TerminalProgressBar')`."
      ]
     },
     "metadata": {},
     "output_type": "display_data"
    },
    {
     "data": {
      "application/javascript": [
       "\n",
       "              (function () {\n",
       "                  var root = document.getElementById('889e9b37-b575-4c3a-bf72-139de54395e5');\n",
       "                  var text = root.getElementsByClassName('pb-text')[0];\n",
       "                  var fill = root.getElementsByClassName('pb-fill')[0];\n",
       "\n",
       "                  text.innerHTML = 'Build finished in 0:00:06.';\n",
       "                  \n",
       "            fill.style.width = '100%';\n",
       "            fill.style.animation = 'pb-fill-anim 2s linear infinite';\n",
       "            fill.style.backgroundSize = '100px 100%';\n",
       "            fill.style.backgroundImage = 'repeating-linear-gradient(' +\n",
       "                '90deg, #bdd2e6, #edf2f8 40%, #bdd2e6 80%, #bdd2e6)';\n",
       "        \n",
       "                  \n",
       "                fill.style.animation = 'none';\n",
       "                fill.style.backgroundImage = 'none';\n",
       "            \n",
       "              })();\n",
       "        "
      ],
      "application/vdom.v1+json": {
       "attributes": {
        "id": "88bd9f5a-092e-4a9d-8509-39e1d78c54ac",
        "style": {
         "border": "1px solid #cfcfcf",
         "borderRadius": "4px",
         "boxSizing": "border-box",
         "position": "relative",
         "textAlign": "center",
         "width": "100%"
        }
       },
       "children": [
        {
         "attributes": {
          "class": "pb-text",
          "style": {
           "position": "absolute",
           "width": "100%"
          }
         },
         "children": [
          "Build finished in 0:00:06."
         ],
         "tagName": "div"
        },
        {
         "attributes": {
          "class": "pb-fill",
          "style": {
           "animation": "none",
           "backgroundColor": "#bdd2e6",
           "backgroundImage": "none",
           "backgroundSize": "100px 100%",
           "width": "100%"
          }
         },
         "children": [
          {
           "attributes": {
            "scoped": "scoped",
            "type": "text/css"
           },
           "children": [
            "\n                        @keyframes pb-fill-anim {\n                            0% { background-position: 0 0; }\n                            100% { background-position: 100px 0; }\n                        }}"
           ],
           "tagName": "style"
          },
          " "
         ],
         "tagName": "div"
        }
       ],
       "tagName": "div"
      }
     },
     "metadata": {},
     "output_type": "display_data"
    },
    {
     "name": "stderr",
     "output_type": "stream",
     "text": [
      "/home/pduggins/.virtualenvs/nbn/lib/python3.6/site-packages/nengolib/signal/system.py:197: UserWarning: y0 (None!=0) does not properly initialize the system; see Nengo issue #1124.\n",
      "  \"Nengo issue #1124.\" % y0, UserWarning)\n",
      "/home/pduggins/.virtualenvs/nbn/lib/python3.6/site-packages/nengolib/signal/system.py:197: UserWarning: y0 (None!=0) does not properly initialize the system; see Nengo issue #1124.\n",
      "  \"Nengo issue #1124.\" % y0, UserWarning)\n",
      "/home/pduggins/.virtualenvs/nbn/lib/python3.6/site-packages/nengolib/signal/system.py:197: UserWarning: y0 (None!=0) does not properly initialize the system; see Nengo issue #1124.\n",
      "  \"Nengo issue #1124.\" % y0, UserWarning)\n"
     ]
    },
    {
     "data": {
      "application/vdom.v1+json": {
       "attributes": {},
       "tagName": "div"
      },
      "text/html": [
       "\n",
       "                <script>\n",
       "                    if (Jupyter.version.split(\".\")[0] < 5) {\n",
       "                        var pb = document.getElementById(\"ba26bbb1-fdb8-4641-9047-55429a66a95f\");\n",
       "                        var text = document.createTextNode(\n",
       "                            \"HMTL progress bar requires Jupyter Notebook >= \" +\n",
       "                            \"5.0 or Jupyter Lab. Alternatively, you can use \" +\n",
       "                            \"TerminalProgressBar().\");\n",
       "                        pb.parentNode.insertBefore(text, pb);\n",
       "                    }\n",
       "                </script>\n",
       "                <div id=\"ba26bbb1-fdb8-4641-9047-55429a66a95f\" style=\"\n",
       "                    width: 100%;\n",
       "                    border: 1px solid #cfcfcf;\n",
       "                    border-radius: 4px;\n",
       "                    text-align: center;\n",
       "                    position: relative;\">\n",
       "                  <div class=\"pb-text\" style=\"\n",
       "                      position: absolute;\n",
       "                      width: 100%;\">\n",
       "                    0%\n",
       "                  </div>\n",
       "                  <div class=\"pb-fill\" style=\"\n",
       "                      background-color: #bdd2e6;\n",
       "                      width: 0%;\">\n",
       "                    <style type=\"text/css\" scoped=\"scoped\">\n",
       "                        @keyframes pb-fill-anim {\n",
       "                            0% { background-position: 0 0; }\n",
       "                            100% { background-position: 100px 0; }\n",
       "                        }\n",
       "                    </style>\n",
       "                    &nbsp;\n",
       "                  </div>\n",
       "                </div>"
      ],
      "text/plain": [
       "HtmlProgressBar cannot be displayed. Please use the TerminalProgressBar. It can be enabled with `nengo.rc.set('progress', 'progress_bar', 'nengo.utils.progress.TerminalProgressBar')`."
      ]
     },
     "metadata": {},
     "output_type": "display_data"
    },
    {
     "data": {
      "application/javascript": [
       "\n",
       "              (function () {\n",
       "                  var root = document.getElementById('ba26bbb1-fdb8-4641-9047-55429a66a95f');\n",
       "                  var text = root.getElementsByClassName('pb-text')[0];\n",
       "                  var fill = root.getElementsByClassName('pb-fill')[0];\n",
       "\n",
       "                  text.innerHTML = 'Simulation finished in 0:02:24.';\n",
       "                  \n",
       "            if (100.0 > 0.) {\n",
       "                fill.style.transition = 'width 0.1s linear';\n",
       "            } else {\n",
       "                fill.style.transition = 'none';\n",
       "            }\n",
       "\n",
       "            fill.style.width = '100.0%';\n",
       "            fill.style.animation = 'none';\n",
       "            fill.style.backgroundImage = 'none'\n",
       "        \n",
       "                  \n",
       "                fill.style.animation = 'none';\n",
       "                fill.style.backgroundImage = 'none';\n",
       "            \n",
       "              })();\n",
       "        "
      ],
      "application/vdom.v1+json": {
       "attributes": {
        "id": "b86f2526-d2f8-4c3c-b75f-fed213aa44eb",
        "style": {
         "border": "1px solid #cfcfcf",
         "borderRadius": "4px",
         "boxSizing": "border-box",
         "position": "relative",
         "textAlign": "center",
         "width": "100%"
        }
       },
       "children": [
        {
         "attributes": {
          "class": "pb-text",
          "style": {
           "position": "absolute",
           "width": "100%"
          }
         },
         "children": [
          "Simulation finished in 0:02:24."
         ],
         "tagName": "div"
        },
        {
         "attributes": {
          "class": "pb-fill",
          "style": {
           "animation": "none",
           "backgroundColor": "#bdd2e6",
           "backgroundImage": "none",
           "transition": "width 0.1s linear",
           "width": "100%"
          }
         },
         "children": [
          {
           "attributes": {
            "scoped": "scoped",
            "type": "text/css"
           },
           "children": [
            "\n                        @keyframes pb-fill-anim {\n                            0% { background-position: 0 0; }\n                            100% { background-position: 100px 0; }\n                        }}"
           ],
           "tagName": "style"
          },
          " "
         ],
         "tagName": "div"
        }
       ],
       "tagName": "div"
      }
     },
     "metadata": {},
     "output_type": "display_data"
    },
    {
     "name": "stderr",
     "output_type": "stream",
     "text": [
      "/home/pduggins/.virtualenvs/nbn/lib/python3.6/site-packages/scipy/stats/stats.py:1713: FutureWarning: Using a non-tuple sequence for multidimensional indexing is deprecated; use `arr[tuple(seq)]` instead of `arr[seq]`. In the future this will be interpreted as an array index, `arr[np.array(seq)]`, which will result either in an error or a different result.\n",
      "  return np.add.reduce(sorted[indexer] * weights, axis=axis) / sumval\n"
     ]
    },
    {
     "data": {
      "image/png": "[encoded data removed]",
      "text/plain": [
       "<Figure size 1008x432 with 1 Axes>"
      ]
     },
     "metadata": {},
     "output_type": "display_data"
    }
   ],
   "source": [
    "nrmses_hyperopt_int = trials_integrator(\n",
    "    n_neurons=10, t=1, tau=0.1, dt=0.001, maxiter_gainbias=1, optimize_h='hyperopt', n_trials=2, pe=False)"
   ]
  }
 ],
 "metadata": {
  "kernelspec": {
   "display_name": "Python 3",
   "language": "python",
   "name": "python3"
  },
  "language_info": {
   "codemirror_mode": {
    "name": "ipython",
    "version": 3
   },
   "file_extension": ".py",
   "mimetype": "text/x-python",
   "name": "python",
   "nbconvert_exporter": "python",
   "pygments_lexer": "ipython3",
   "version": "3.6.4"
  }
 },
 "nbformat": 4,
 "nbformat_minor": 2
}
