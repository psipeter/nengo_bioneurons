{
 "cells": [
  {
   "cell_type": "code",
   "execution_count": 1,
   "metadata": {},
   "outputs": [],
   "source": [
    "from brian2 import *\n",
    "import matplotlib.pyplot as plt\n",
    "import seaborn as sns\n",
    "sns.set(context='poster', style='whitegrid')\n",
    "%matplotlib inline"
   ]
  },
  {
   "cell_type": "markdown",
   "metadata": {},
   "source": [
    "# Nengo Interface"
   ]
  },
  {
   "cell_type": "code",
   "execution_count": 2,
   "metadata": {},
   "outputs": [],
   "source": [
    "from nengo.neurons import *\n",
    "from nengo.builder.neurons import *\n",
    "from brian2 import *\n",
    "import nengo\n",
    "from nengo.dists import Uniform\n",
    "from nengo.solvers import NoSolver\n",
    "from nengo.base import ObjView\n",
    "from nengo.builder import Builder, Operator, Signal\n",
    "from nengo.exceptions import BuildError\n",
    "from nengo.builder.connection import build_decoders, BuiltConnection\n",
    "from nengo.utils.builder import full_transform\n",
    "\n",
    "BrianLogger.suppress_name('resolution_conflict')\n",
    "\n",
    "class WilsonNeuron(NeuronType):\n",
    "    \"\"\"\n",
    "    Wilson Neuron Model.\n",
    "    \n",
    "    Description\n",
    "    -----------\n",
    "    \n",
    "    TODO\n",
    "    \n",
    "    Paramters\n",
    "    ---------\n",
    "    \n",
    "    time constants in seconds\n",
    "    voltages in mV\n",
    "    \n",
    "    References\n",
    "    ----------\n",
    "    [1] Wilson, Hugh R. \"Simplified dynamics of human and mammalian neocortical neurons.\"\n",
    "        Journal of theoretical biology 200.4 (1999): 375-388.\n",
    "\n",
    "    \n",
    "    \"\"\"\n",
    "    \n",
    "    probeable = ('spikes', 'voltage', 'recovery', 'conductance')\n",
    "    tauv = NumberParam('tauv')\n",
    "    taur = NumberParam('taur')\n",
    "    tauc = NumberParam('tauc')\n",
    "    \n",
    "    def __init__(self, thr=-0.20*mV, tauv=0.00097, taur=0.0056, tauc=0.0990):\n",
    "        super(WilsonNeuron, self).__init__()\n",
    "        self.thr = thr\n",
    "        self.tauv = tauv\n",
    "        self.taur = taur\n",
    "        self.tauc = tauc\n",
    "        mag = mamp\n",
    "        res = ohm\n",
    "        freq = 10*pi*Hz\n",
    "        antiunit = siemens/farad\n",
    "        self.namespace = {'tauv': self.tauv, 'taur': self.taur, 'tauc': self.tauc,\n",
    "            'thr': self.thr, 'mag': mag, 'res': res, 'antiunit': antiunit, 'freq': freq}\n",
    "\n",
    "        self.eqns = '''\n",
    "        dv/dt = antiunit/tauv * (-((17.81 + 47.58*(v/mV) + 33.80*(v/mV)**2)*(v - 0.48*mV))\n",
    "                            - 26*r*(v + 0.95*mV)\n",
    "                            - 13*c*(v + 0.95*mV) + I*res) : volt\n",
    "        dr/dt = Hz/taur * (-r + 1.29*(v/mV) + 0.79 + 3.30*((v/mV) + 0.38)**2) : 1\n",
    "        dc/dt = Hz/tauc * (-c + 11*((v/mV) + 0.754)*((v/mV) + 0.69)) : 1\n",
    "        I : amp  # = mag*sin(freq*t)\n",
    "        '''\n",
    "        \n",
    "    @property\n",
    "    def _argreprs(self):\n",
    "        args = []\n",
    "        def add(attr, default):\n",
    "            if getattr(self, attr) != default:\n",
    "                args.append(\"%s=%s\" %(attr, getattr(self, attr)))\n",
    "        add(\"tauv\", 0.00097)\n",
    "        add(\"taur\", 0.0056)\n",
    "        add(\"tauh\", 0.0990)\n",
    "        return args\n",
    "        \n",
    "    def rates(self, x, gain, bias):\n",
    "        return x  # todo\n",
    "    \n",
    "    def max_rates_intercepts(self, gain, bias):\n",
    "        max_rates = self.rates(np.ones_like(gain), gain, bias)\n",
    "        x_range = np.linspace(-1, 1, 101)\n",
    "        rates = np.asarray([self.rates(np.ones_like(gain) * x, gain, bias)\n",
    "                            for x in x_range])\n",
    "        last_zeros = np.maximum(np.argmax(rates > 0, axis=0) - 1, 0)\n",
    "        intercepts = x_range[last_zeros]\n",
    "        return max_rates, intercepts\n",
    "    \n",
    "    def step_math(self, dt, briannet, brianens, brianmon, I, output, voltage, time):\n",
    "        brianens.I = I*mamp\n",
    "        briannet.run(dt*second)\n",
    "        voltage[:] = brianmon.v[:,-1]/mV"
   ]
  },
  {
   "cell_type": "code",
   "execution_count": 3,
   "metadata": {},
   "outputs": [],
   "source": [
    "class SimBrianNeurons(Operator):\n",
    "    def __init__(self, neuron_type, neurons, I, output, states):\n",
    "        super(SimBrianNeurons, self).__init__()\n",
    "        self.neuron_type = neuron_type\n",
    "        self.neurons = neurons        \n",
    "        self.reads = [states[0], I]\n",
    "        self.sets = [output, states[1]]\n",
    "        self.updates = []\n",
    "        self.incs = []\n",
    "        \n",
    "        self.neurons.v = states[1].initial_value*mV\n",
    "        self.neurons.r = states[2].initial_value\n",
    "        self.neurons.c = states[3].initial_value\n",
    "        self.brianens = neurons\n",
    "        self.brianmon = StateMonitor(self.neurons, 'v', record=True)\n",
    "        self.briannet = Network(self.brianens, self.brianmon)  # , update_I\n",
    "\n",
    "    def make_step(self, signals, dt, rng):\n",
    "        current = signals[self.current]\n",
    "        output = signals[self.output]\n",
    "        voltage = signals[self.voltage]\n",
    "        time = signals[self.time]\n",
    "        def step_nrn():\n",
    "            self.neuron_type.step_math(dt, self.briannet, self.brianens, self.brianmon, current, output, voltage, time)\n",
    "        return step_nrn\n",
    "\n",
    "    @property\n",
    "    def time(self):\n",
    "        return self.reads[0]\n",
    "    @property\n",
    "    def current(self):\n",
    "        return self.reads[1]\n",
    "    @property\n",
    "    def output(self):\n",
    "        return self.sets[0]\n",
    "    @property\n",
    "    def voltage(self):\n",
    "        return self.sets[1]"
   ]
  },
  {
   "cell_type": "code",
   "execution_count": 4,
   "metadata": {},
   "outputs": [],
   "source": [
    "@Builder.register(WilsonNeuron)\n",
    "def build_wilsonneuron(model, neuron_type, neurons):\n",
    "    \n",
    "    model.sig[neurons]['voltage'] = Signal(\n",
    "        -0.754*np.ones(neurons.size_in), name=\"%s.voltage\" % neurons)\n",
    "    model.sig[neurons]['recovery'] = Signal(\n",
    "        0.279*np.ones(neurons.size_in), name=\"%s.recovery\" % neurons)\n",
    "    model.sig[neurons]['conductance'] = Signal(\n",
    "        0.0*np.ones(neurons.size_in), name=\"%s.conductance\" % neurons)\n",
    "    thr = neuron_type.thr*mV\n",
    "    \n",
    "    brianens = NeuronGroup(neurons.size_in, neuron_type.eqns,\n",
    "        threshold='v > thr', namespace=neuron_type.namespace, method='rk4')\n",
    "    \n",
    "    brianop = SimBrianNeurons(\n",
    "        neuron_type=neuron_type,\n",
    "        neurons=brianens,\n",
    "        I=model.sig[neurons]['in'],\n",
    "        output=model.sig[neurons]['out'],\n",
    "        states=[\n",
    "            model.time,\n",
    "            model.sig[neurons]['voltage'],\n",
    "            model.sig[neurons]['recovery'],\n",
    "            model.sig[neurons]['conductance']])\n",
    "\n",
    "    model.params[neurons] = {'briannet': brianop.briannet, 'brianens': brianop.brianens}\n",
    "    model.add_op(brianop)"
   ]
  },
  {
   "cell_type": "code",
   "execution_count": 5,
   "metadata": {},
   "outputs": [],
   "source": [
    "class TransmitSpikes(Operator):\n",
    "    def __init__(self, conn, spikes, states):\n",
    "        super(TransmitSpikes, self).__init__()\n",
    "        self.conn = conn\n",
    "        self.time = states[0]\n",
    "        self.reads = [spikes, states[0]]\n",
    "        self.updates = []\n",
    "        self.sets = []\n",
    "        self.incs = []\n",
    "        \n",
    "    def make_step(self, signals, dt, rng):\n",
    "        spikes = signals[self.spikes]\n",
    "        time = signals[self.time]\n",
    "        def step():\n",
    "            spiked = np.where(spikes > 0)[0]\n",
    "            spiketimes = time * np.ones((spiked.shape[0])) * ms\n",
    "            self.conn.briansgg.set_spikes(spiked, spiketimes)\n",
    "        return step\n",
    "\n",
    "    @property\n",
    "    def spikes(self):\n",
    "        return self.reads[0]\n",
    "    "
   ]
  },
  {
   "cell_type": "code",
   "execution_count": 22,
   "metadata": {},
   "outputs": [
    {
     "name": "stderr",
     "output_type": "stream",
     "text": [
      "WARNING    /home/pduggins/.virtualenvs/nbn/lib/python3.6/site-packages/nengo/builder/builder.py:234: UserWarning: Type '<class 'nengo.connection.Connection'>' already has a builder. Overwriting.\n",
      "  % nengo_class)\n",
      " [py.warnings]\n"
     ]
    }
   ],
   "source": [
    "@Builder.register(nengo.Connection)\n",
    "def build_connection(model, conn):\n",
    "    rng = np.random.RandomState(model.seeds[conn])\n",
    "\n",
    "    if isinstance(conn.post_obj, nengo.Ensemble) and isinstance(conn.post_obj.neuron_type, WilsonNeuron):\n",
    "        if not isinstance(conn.solver, NoSolver) and conn.solver.weights is False:\n",
    "            raise BuildError(\"Connections to WilsonNeuorns must provide a NoSolver with weight=True\"\n",
    "                            \" (got %s from %s to %s)\" % (conn.solver, conn.pre_obj, conn.post_obj))\n",
    "        #todo: check that conn_pre is emitting spikes\n",
    "        briannet = model.params[conn.post_obj.neurons]['briannet']\n",
    "        brianens = model.params[conn.post_obj.neurons]['brianens']\n",
    "        briansgg = SpikeGeneratorGroup(conn.pre_obj.n_neurons, indices=[], times=[]*ms)  # filled in during TransmitSpikes\n",
    "        transform = full_transform(conn, slice_pre=False)\n",
    "        w = build_decoders(model, conn, rng, transform)[1]\n",
    "        \n",
    "        syn_eqn = '''\n",
    "        dg/dt = -tau*g/second : 1 (clock-driven)\n",
    "        I_post = g*amp : amp (summed)\n",
    "        w : 1\n",
    "        '''\n",
    "        briansyn = Synapses(briansgg, brianens, namespace={'tau': 0.01},\n",
    "            model=syn_eqn, on_pre='g += w', method='rk4')\n",
    "#         briansyn = Synapses(briansgg, brianens, on_pre='v += 0.1*mV')  # w[i,j]  #todo: synaptic filter eqns\n",
    "        briansyn.connect()\n",
    "        briansyn.w = w.ravel()  # todo: ensure indexing is correct\n",
    "        briannet.add(briansgg)\n",
    "        briannet.add(briansyn)\n",
    "        conn.briansgg = briansgg\n",
    "        \n",
    "        brianspiker = TransmitSpikes(conn, model.sig[conn.pre_obj]['out'], states=[model.time])\n",
    "        model.add_op(brianspiker)\n",
    "\n",
    "    else:\n",
    "        return nengo.builder.connection.build_connection(model, conn)"
   ]
  },
  {
   "cell_type": "markdown",
   "metadata": {},
   "source": [
    "# Test"
   ]
  },
  {
   "cell_type": "code",
   "execution_count": 25,
   "metadata": {},
   "outputs": [
    {
     "name": "stderr",
     "output_type": "stream",
     "text": [
      "WARNING    /home/pduggins/.virtualenvs/nbn/lib/python3.6/site-packages/nengo/base.py:105: SyntaxWarning: Creating new attribute 'briansgg' on '<Connection from <Ensemble (unlabeled) at 0x7f6dae79e0f0> to <Ensemble (unlabeled) at 0x7f6dae79e9b0>>'. Did you mean to change an existing attribute?\n",
      "  SyntaxWarning)\n",
      " [py.warnings]\n"
     ]
    },
    {
     "data": {
      "text/html": [
       "\n",
       "                <div id=\"276ecce2-2ade-42b3-8160-0d165876f394\" style=\"\n",
       "                    width: 100%;\n",
       "                    border: 1px solid #cfcfcf;\n",
       "                    border-radius: 4px;\n",
       "                    text-align: center;\n",
       "                    position: relative;\">\n",
       "                  <div class=\"pb-text\" style=\"\n",
       "                      position: absolute;\n",
       "                      width: 100%;\">\n",
       "                    0%\n",
       "                  </div>\n",
       "                  <div class=\"pb-fill\" style=\"\n",
       "                      background-color: #bdd2e6;\n",
       "                      width: 0%;\">\n",
       "                    <style type=\"text/css\" scoped=\"scoped\">\n",
       "                        @keyframes pb-fill-anim {\n",
       "                            0% { background-position: 0 0; }\n",
       "                            100% { background-position: 100px 0; }\n",
       "                        }\n",
       "                    </style>\n",
       "                    &nbsp;\n",
       "                  </div>\n",
       "                </div>"
      ],
      "text/plain": [
       "HtmlProgressBar cannot be displayed. Please use the TerminalProgressBar. It can be enabled with `nengo.rc.set('progress', 'progress_bar', 'nengo.utils.progress.TerminalProgressBar')`."
      ]
     },
     "metadata": {},
     "output_type": "display_data"
    },
    {
     "data": {
      "application/javascript": [
       "\n",
       "              (function () {\n",
       "                  var root = document.getElementById('276ecce2-2ade-42b3-8160-0d165876f394');\n",
       "                  var text = root.getElementsByClassName('pb-text')[0];\n",
       "                  var fill = root.getElementsByClassName('pb-fill')[0];\n",
       "\n",
       "                  text.innerHTML = 'Build finished in 0:00:01.';\n",
       "                  \n",
       "            fill.style.width = '100%';\n",
       "            fill.style.animation = 'pb-fill-anim 2s linear infinite';\n",
       "            fill.style.backgroundSize = '100px 100%';\n",
       "            fill.style.backgroundImage = 'repeating-linear-gradient(' +\n",
       "                '90deg, #bdd2e6, #edf2f8 40%, #bdd2e6 80%, #bdd2e6)';\n",
       "        \n",
       "                  \n",
       "                fill.style.animation = 'none';\n",
       "                fill.style.backgroundImage = 'none';\n",
       "            \n",
       "              })();\n",
       "        "
      ],
      "text/plain": [
       "<IPython.core.display.Javascript object>"
      ]
     },
     "metadata": {},
     "output_type": "display_data"
    },
    {
     "data": {
      "text/html": [
       "\n",
       "                <div id=\"586a2d38-8511-4eef-b093-90b393008054\" style=\"\n",
       "                    width: 100%;\n",
       "                    border: 1px solid #cfcfcf;\n",
       "                    border-radius: 4px;\n",
       "                    text-align: center;\n",
       "                    position: relative;\">\n",
       "                  <div class=\"pb-text\" style=\"\n",
       "                      position: absolute;\n",
       "                      width: 100%;\">\n",
       "                    0%\n",
       "                  </div>\n",
       "                  <div class=\"pb-fill\" style=\"\n",
       "                      background-color: #bdd2e6;\n",
       "                      width: 0%;\">\n",
       "                    <style type=\"text/css\" scoped=\"scoped\">\n",
       "                        @keyframes pb-fill-anim {\n",
       "                            0% { background-position: 0 0; }\n",
       "                            100% { background-position: 100px 0; }\n",
       "                        }\n",
       "                    </style>\n",
       "                    &nbsp;\n",
       "                  </div>\n",
       "                </div>"
      ],
      "text/plain": [
       "HtmlProgressBar cannot be displayed. Please use the TerminalProgressBar. It can be enabled with `nengo.rc.set('progress', 'progress_bar', 'nengo.utils.progress.TerminalProgressBar')`."
      ]
     },
     "metadata": {},
     "output_type": "display_data"
    },
    {
     "data": {
      "application/javascript": [
       "\n",
       "              (function () {\n",
       "                  var root = document.getElementById('586a2d38-8511-4eef-b093-90b393008054');\n",
       "                  var text = root.getElementsByClassName('pb-text')[0];\n",
       "                  var fill = root.getElementsByClassName('pb-fill')[0];\n",
       "\n",
       "                  text.innerHTML = 'Simulation finished in 0:00:07.';\n",
       "                  \n",
       "            if (100.0 > 0.) {\n",
       "                fill.style.transition = 'width 0.1s linear';\n",
       "            } else {\n",
       "                fill.style.transition = 'none';\n",
       "            }\n",
       "\n",
       "            fill.style.width = '100.0%';\n",
       "            fill.style.animation = 'none';\n",
       "            fill.style.backgroundImage = 'none'\n",
       "        \n",
       "                  \n",
       "                fill.style.animation = 'none';\n",
       "                fill.style.backgroundImage = 'none';\n",
       "            \n",
       "              })();\n",
       "        "
      ],
      "text/plain": [
       "<IPython.core.display.Javascript object>"
      ]
     },
     "metadata": {},
     "output_type": "display_data"
    },
    {
     "data": {
      "image/png": "[encoded data removed]",
      "text/plain": [
       "<Figure size 432x288 with 1 Axes>"
      ]
     },
     "metadata": {},
     "output_type": "display_data"
    }
   ],
   "source": [
    "n_neurons = 10\n",
    "Imag = 1\n",
    "dt_nengo = 0.0005\n",
    "w = 1e-4 * np.random.uniform(-1, 1, size=(n_neurons, n_neurons))\n",
    "\n",
    "with nengo.Network(seed=1) as network:\n",
    "    stim = nengo.Node(Imag * np.ones((n_neurons)))\n",
    "    stim2 = nengo.Node(lambda t: sin(10*pi*t))\n",
    "    lif = nengo.Ensemble(10, 1)\n",
    "    ens = nengo.Ensemble(10, 1, neuron_type=WilsonNeuron(),\n",
    "        encoders=Uniform(-1, 1), gain=Uniform(-1, 1), bias=Uniform(0, 0))\n",
    "#     nengo.Connection(stim, ens.neurons, synapse=None)\n",
    "    nengo.Connection(stim2, lif, synapse=None)\n",
    "    nengo.Connection(lif, lif, synapse=0.01)\n",
    "    nengo.Connection(lif, ens,\n",
    "        solver=NoSolver(w, weights=True),\n",
    "        synapse=0.01)\n",
    "    p = nengo.Probe(ens.neurons, 'voltage')\n",
    "    \n",
    "with nengo.Simulator(network, dt=dt_nengo, seed=1) as sim:\n",
    "    sim.run(0.05)\n",
    "    \n",
    "plt.plot(sim.trange(), sim.data[p])\n",
    "plt.show()"
   ]
  },
  {
   "cell_type": "code",
   "execution_count": null,
   "metadata": {},
   "outputs": [],
   "source": []
  },
  {
   "cell_type": "code",
   "execution_count": null,
   "metadata": {},
   "outputs": [],
   "source": []
  }
 ],
 "metadata": {
  "kernelspec": {
   "display_name": "Python 3",
   "language": "python",
   "name": "python3"
  },
  "language_info": {
   "codemirror_mode": {
    "name": "ipython",
    "version": 3
   },
   "file_extension": ".py",
   "mimetype": "text/x-python",
   "name": "python",
   "nbconvert_exporter": "python",
   "pygments_lexer": "ipython3",
   "version": "3.6.4"
  }
 },
 "nbformat": 4,
 "nbformat_minor": 2
}
