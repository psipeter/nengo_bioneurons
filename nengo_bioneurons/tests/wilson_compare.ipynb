{
 "cells": [
  {
   "cell_type": "code",
   "execution_count": 182,
   "metadata": {},
   "outputs": [],
   "source": [
    "import numpy as np\n",
    "\n",
    "import nengo\n",
    "from nengo.utils.matplotlib import rasterplot\n",
    "from nengo.params import Default, NumberParam\n",
    "from nengo.dists import Uniform\n",
    "from nengo.neurons import *\n",
    "from nengo.builder.neurons import *\n",
    "from nengo.dists import Uniform\n",
    "from nengo.solvers import NoSolver\n",
    "from nengo.base import ObjView\n",
    "from nengo.builder import Builder, Operator, Signal\n",
    "from nengo.exceptions import BuildError\n",
    "from nengo.builder.connection import build_decoders, BuiltConnection\n",
    "from nengo.utils.builder import full_transform\n",
    "\n",
    "import matplotlib.pyplot as plt\n",
    "\n",
    "import seaborn as sns\n",
    "sns.set(context='poster', style='whitegrid')\n",
    "%matplotlib inline\n",
    "\n",
    "import time\n",
    "\n",
    "import sys\n",
    "\n",
    "from brian2 import *"
   ]
  },
  {
   "cell_type": "markdown",
   "metadata": {},
   "source": [
    "## Neuron Type Definitions"
   ]
  },
  {
   "cell_type": "markdown",
   "metadata": {},
   "source": [
    "## 4th order Runge-Kutta"
   ]
  },
  {
   "cell_type": "code",
   "execution_count": 13,
   "metadata": {},
   "outputs": [],
   "source": [
    "class WilsonRK4(NeuronType):\n",
    "\n",
    "    probeable = ('spikes', 'voltage', 'recovery', 'conductance')\n",
    "    threshold = NumberParam('threshold')\n",
    "    tau_V = NumberParam('tau_V')\n",
    "    tau_R = NumberParam('tau_R')\n",
    "    tau_H = NumberParam('tau_H')\n",
    "    \n",
    "    _v0 = -0.754  # initial voltage\n",
    "    _r0 = 0.279  # initial recovery\n",
    "    _maxJ = 2.0  # clip input current at this maximum to avoid catastrophic shutdown\n",
    "    \n",
    "    def __init__(self, threshold=-0.20, tau_V=0.00097, tau_R=0.0056, tau_H=0.0990):\n",
    "        super(WilsonRK4, self).__init__()\n",
    "        self.threshold = threshold\n",
    "        self.tau_V = tau_V\n",
    "        self.tau_R = tau_R\n",
    "        self.tau_H = tau_H\n",
    "        \n",
    "        # TODO(arvoelke): Try replacing this solver with something like\n",
    "        # http://www2.gsu.edu/~matrhc/PyDSTool.htm\n",
    "        # The main consideration is that we need a callback to count spikes\n",
    "        from scipy.integrate import ode\n",
    "        self.solver = ode(self._ode_fun).set_integrator(\n",
    "            'dopri5', first_step=0.00005, nsteps=100,\n",
    "            rtol=1e-2, atol=1e-3)  # runge-kutta method of order (4)5\n",
    "        \n",
    "    def rates(self, x, gain, bias):\n",
    "        \"\"\"Estimates steady-state firing rate given gain and bias.\"\"\"\n",
    "        J = self.current(x, gain, bias)\n",
    "        voltage = self._v0*np.ones_like(J)\n",
    "        recovery = self._r0*np.ones_like(J)\n",
    "        conductance = np.zeros_like(J)\n",
    "\n",
    "        return settled_firingrate(\n",
    "            self.step_math, J, [voltage, recovery, conductance],\n",
    "            dt=0.001, settle_time=0.1, sim_time=1.0)\n",
    "\n",
    "    def _ode_fun(self, dummy_t, y, J):  # first argument to scipy.integrate.ode\n",
    "        V, R, H = np.split(y, 3)\n",
    "        dV = (-(17.81 + 47.58*V + 33.80*np.square(V))*(V - 0.48) -\n",
    "              26*R*(V + 0.95) - 13*H*(V + 0.95) + J)\n",
    "        dR = -R + 1.29*V + 0.79 + 3.30*np.square(V + 0.38)\n",
    "        dH = -H + 11*(V + 0.754)*(V + 0.69)\n",
    "        return np.concatenate((\n",
    "            dV / self.tau_V, dR / self.tau_R, dH / self.tau_H))\n",
    "\n",
    "    def step_math(self, dt, J, spiked, V, R, H):\n",
    "        # It's a little silly to be reinitializing the solver on\n",
    "        # every time-step, but any other ways that I could think of would \n",
    "        # violate the nengo builder's assumption that the neuron's state is\n",
    "        # encapsulated by the signals in SimNeurons\n",
    "        self.solver.set_initial_value(np.concatenate((V, R, H)))\n",
    "        self.solver.set_f_params(J.clip(max=self._maxJ))\n",
    "        \n",
    "        spiked[:] = 0\n",
    "        AP = V > self.threshold\n",
    "        def spike_detector(dummy_t, y):  # callback for each sub-step\n",
    "            V_t = y[:len(V)] > self.threshold\n",
    "            spiked[:] += V_t & (~AP)  # note the \"+=\"\n",
    "            AP[:] = V_t\n",
    "        self.solver.set_solout(spike_detector)\n",
    "\n",
    "        V[:], R[:], H[:] = np.split(self.solver.integrate(self.solver.t + dt), 3)\n",
    "        if not self.solver.successful():\n",
    "            raise ValueError(\"ODE solver failed with status code: %d\" % (\n",
    "                self.solver.get_return_code()))\n",
    "        spiked[:] /= dt\n",
    "\n",
    "        return spiked, V, R, H\n",
    "\n",
    "\n",
    "@Builder.register(WilsonRK4)\n",
    "def build_wilsonneuron(model, neuron_type, neurons):\n",
    "    model.sig[neurons]['voltage'] = Signal(\n",
    "        neuron_type._v0*np.ones(neurons.size_in), name=\"%s.voltage\" % neurons)\n",
    "    model.sig[neurons]['recovery'] = Signal(\n",
    "        neuron_type._r0*np.ones(neurons.size_in), name=\"%s.recovery\" % neurons)\n",
    "    model.sig[neurons]['conductance'] = Signal(\n",
    "        np.zeros(neurons.size_in), name=\"%s.conductance\" % neurons)\n",
    "    model.add_op(SimNeurons(\n",
    "        neurons=neuron_type,\n",
    "        J=model.sig[neurons]['in'],\n",
    "        output=model.sig[neurons]['out'],\n",
    "        states=[model.sig[neurons]['voltage'],\n",
    "                model.sig[neurons]['recovery'],\n",
    "                model.sig[neurons]['conductance']]))"
   ]
  },
  {
   "cell_type": "markdown",
   "metadata": {},
   "source": [
    "## Euler"
   ]
  },
  {
   "cell_type": "code",
   "execution_count": 199,
   "metadata": {},
   "outputs": [],
   "source": [
    "class WilsonEuler(NeuronType):\n",
    "\n",
    "    probeable = ('spikes', 'voltage', 'recovery', 'conductance', 'AP')\n",
    "    threshold = NumberParam('threshold')\n",
    "    tau_V = NumberParam('tau_V')\n",
    "    tau_R = NumberParam('tau_R')\n",
    "    tau_H = NumberParam('tau_H')\n",
    "    \n",
    "    _v0 = -0.754  # initial voltage\n",
    "    _r0 = 0.279  # initial recovery\n",
    "    _maxJ = 2.0  # clip input current at this maximum to avoid catastrophic shutdown\n",
    "    \n",
    "    def __init__(self, threshold=-0.20, tau_V=0.00097, tau_R=0.0056, tau_H=0.0990):\n",
    "        super(WilsonEuler, self).__init__()\n",
    "        self.threshold = threshold\n",
    "        self.tau_V = tau_V\n",
    "        self.tau_R = tau_R\n",
    "        self.tau_H = tau_H\n",
    "        \n",
    "    @property\n",
    "    def _argreprs(self):\n",
    "        args = []\n",
    "        def add(attr, default):\n",
    "            if getattr(self, attr) != default:\n",
    "                args.append(\"%s=%s\" %(attr, getattr(self, attr)))\n",
    "        add(\"threshold\", -0.20)\n",
    "        add(\"tau_V\", 0.00097)\n",
    "        add(\"tau_R\", 0.0056)\n",
    "        add(\"tau_H\", 0.0990)\n",
    "        return args\n",
    "\n",
    "\n",
    "    def gain_bias(self, max_rates, intercepts):\n",
    "        max_rates = np.array(max_rates, dtype=float, copy=False, ndmin=1)\n",
    "        intercepts = np.array(intercepts, dtype=float, copy=False, ndmin=1)\n",
    "\n",
    "        J_steps = 201  # Odd number so that 0 is a sample\n",
    "        max_rate = max_rates.max()\n",
    "\n",
    "        # Find range of J that will achieve max rates (assume monotonic)\n",
    "        J_threshold = None\n",
    "        J_max = None\n",
    "        Jr = 1.0\n",
    "        for _ in range(10):\n",
    "            J = np.linspace(-Jr, Jr, J_steps)\n",
    "            rate = self.rates(J, np.ones(J_steps), np.zeros(J_steps))\n",
    "#             print('J', J, 'euler rate', rate)\n",
    "            if J_threshold is None and (rate <= 0).any():\n",
    "                J_threshold = J[np.where(rate <= 0)[0][-1]]\n",
    "            if J_max is None and (rate >= max_rate).any():\n",
    "                J_max = J[np.where(rate >= max_rate)[0][0]]\n",
    "            if J_threshold is not None and J_max is not None:\n",
    "                break\n",
    "            else:\n",
    "                Jr *= 2\n",
    "        else:\n",
    "            if J_threshold is None:\n",
    "                raise RuntimeError(\"Could not find firing threshold\")\n",
    "            if J_max is None:\n",
    "                raise RuntimeError(\"Could not find max current\")\n",
    "\n",
    "        J = np.linspace(J_threshold, J_max, J_steps)\n",
    "        rate = self.rates(J, np.ones(J_steps), np.zeros(J_steps))\n",
    "        gain = np.zeros_like(max_rates)\n",
    "        bias = np.zeros_like(max_rates)\n",
    "        J_tops = np.interp(max_rates, rate, J)\n",
    "        gain[:] = (J_threshold - J_tops) / (intercepts - 1)\n",
    "        bias[:] = J_tops - gain\n",
    "\n",
    "        return gain, bias\n",
    "\n",
    "    def rates(self, x, gain, bias):\n",
    "        \"\"\"Estimates steady-state firing rate given gain and bias.\"\"\"\n",
    "        J = self.current(x, gain, bias)\n",
    "        voltage = self._v0*np.ones_like(J)\n",
    "        recovery = self._r0*np.ones_like(J)\n",
    "        conductance = np.zeros_like(J)\n",
    "        AP = np.zeros_like(J, dtype=bool)\n",
    "\n",
    "        return settled_firingrate(\n",
    "            self.step_math, J, [voltage, recovery, conductance, AP],\n",
    "            dt=0.00005, settle_time=0.1, sim_time=1.0)\n",
    "\n",
    "\n",
    "    def step_math(self, dt, J, spiked, V, R, H, AP):\n",
    "        if np.abs(J).any() >= 2.0:\n",
    "            warnings.warn(\"input current exceeds failure point; clipping\")\n",
    "            J = J.clip(max=self._maxJ)\n",
    "\n",
    "        dV = -(17.81 + 47.58*V + 33.80*np.square(V))*(V - 0.48) - 26*R*(V + 0.95) - 13*H*(V + 0.95) + J\n",
    "        dR = -R + 1.29*V + 0.79 + 3.30*np.square(V + 0.38)\n",
    "        dH = -H + 11*(V + 0.754)*(V + 0.69)\n",
    "        \n",
    "        V[:] = (V + dV * dt/self.tau_V).clip(-0.9, 0.3)\n",
    "        R[:] = (R + dR * dt/self.tau_R)  # .clip(0.18, 0.42)\n",
    "        H[:] = (H + dH * dt/self.tau_H)  # .clip(0, 0.23)\n",
    "        spiked[:] = (V > self.threshold) & (~AP)\n",
    "        spiked /= dt\n",
    "        AP[:] = V > self.threshold\n",
    "        \n",
    "        return spiked, V, R, H, AP\n",
    "\n",
    "\n",
    "@Builder.register(WilsonEuler)\n",
    "def build_wilsonneuron(model, neuron_type, neurons):\n",
    "    model.sig[neurons]['voltage'] = Signal(\n",
    "        neuron_type._v0*np.ones(neurons.size_in), name=\"%s.voltage\" % neurons)\n",
    "    model.sig[neurons]['recovery'] = Signal(\n",
    "        neuron_type._r0*np.ones(neurons.size_in), name=\"%s.recovery\" % neurons)\n",
    "    model.sig[neurons]['conductance'] = Signal(\n",
    "        np.zeros(neurons.size_in), name=\"%s.conductance\" % neurons)\n",
    "    model.sig[neurons]['AP'] = Signal(\n",
    "        np.zeros(neurons.size_in, dtype=bool), name=\"%s.AP\" % neurons)\n",
    "    model.add_op(SimNeurons(\n",
    "        neurons=neuron_type,\n",
    "        J=model.sig[neurons]['in'],\n",
    "        output=model.sig[neurons]['out'],\n",
    "        states=[model.sig[neurons]['voltage'],\n",
    "            model.sig[neurons]['recovery'],\n",
    "            model.sig[neurons]['conductance'],\n",
    "            model.sig[neurons]['AP']]))"
   ]
  },
  {
   "cell_type": "markdown",
   "metadata": {},
   "source": [
    "## Brian"
   ]
  },
  {
   "cell_type": "code",
   "execution_count": 198,
   "metadata": {},
   "outputs": [
    {
     "name": "stderr",
     "output_type": "stream",
     "text": [
      "WARNING    /home/pduggins/nengo/nengo/builder/builder.py:234: UserWarning: Type '<class 'nengo.connection.Connection'>' already has a builder. Overwriting.\n",
      "  % nengo_class)\n",
      " [py.warnings]\n",
      "WARNING:py.warnings:/home/pduggins/nengo/nengo/builder/builder.py:234: UserWarning: Type '<class 'nengo.connection.Connection'>' already has a builder. Overwriting.\n",
      "  % nengo_class)\n",
      "\n"
     ]
    }
   ],
   "source": [
    "BrianLogger.suppress_name('resolution_conflict')\n",
    "\n",
    "class WilsonBrian(NeuronType):\n",
    "    \n",
    "    probeable = ('spikes', 'voltage', 'recovery', 'conductance')\n",
    "    tauv = NumberParam('tauv')\n",
    "    taur = NumberParam('taur')\n",
    "    tauc = NumberParam('tauc')\n",
    "    \n",
    "    _v0 = -0.754  # initial voltage\n",
    "    _r0 = 0.279  # initial recovery\n",
    "    _maxJ = 2.0  # clip input current at this maximum to avoid catastrophic shutdown\n",
    "\n",
    "    def __init__(self, dt_brian=0.00005, ode='euler', thr=-0.20, tauv=0.00097, taur=0.0056, tauc=0.0990):\n",
    "        super(WilsonBrian, self).__init__()\n",
    "        self.dt_brian = dt_brian\n",
    "        self.ode = ode\n",
    "        self.thr = thr\n",
    "        self.tauv = tauv\n",
    "        self.taur = taur\n",
    "        self.tauc = tauc\n",
    "        self.namespace = {'tauv': self.tauv, 'taur': self.taur, 'tauc': self.tauc, 'thr': self.thr}\n",
    "\n",
    "        self.eqns = '''\n",
    "        # v = clip(v, -0.9, 0.3) : 1\n",
    "        dv/dt = Hz/tauv * (-(17.81 + 47.58*v + 33.80*v*v)*(v - 0.48)\n",
    "            - 26*r*(v + 0.95) - 13*c*(v + 0.95) + J) : 1\n",
    "        dr/dt = Hz/taur * (-r + 1.29*v + 0.79 + 3.30*(v + 0.38)*(v + 0.38)) : 1\n",
    "        dc/dt = Hz/tauc * (-c + 11*(v + 0.754)*(v + 0.69)) : 1\n",
    "        J : 1\n",
    "        '''\n",
    "        \n",
    "    @property\n",
    "    def _argreprs(self):\n",
    "        args = []\n",
    "        def add(attr, default):\n",
    "            if getattr(self, attr) != default:\n",
    "                args.append(\"%s=%s\" %(attr, getattr(self, attr)))\n",
    "        add(\"tauv\", 0.00097)\n",
    "        add(\"taur\", 0.0056)\n",
    "        add(\"tauh\", 0.0990)\n",
    "        return args\n",
    "        \n",
    "    def gain_bias(self, max_rates, intercepts):\n",
    "        max_rates = np.array(max_rates, dtype=float, copy=False, ndmin=1)\n",
    "        intercepts = np.array(intercepts, dtype=float, copy=False, ndmin=1)\n",
    "\n",
    "        J_steps = 101  # Odd number so that 0 is a sample\n",
    "        max_rate = max_rates.max()\n",
    "\n",
    "        # Find range of J that will achieve max rates (assume monotonic)\n",
    "        J_threshold = None\n",
    "        J_max = None\n",
    "        Jr = 1.0\n",
    "        for _ in range(10):\n",
    "            J_test = np.linspace(-Jr, Jr, J_steps)\n",
    "            rate = self.rates(J_test, np.ones(J_steps), np.zeros(J_steps))\n",
    "#             print('J', J_test, 'brian rate', rate)\n",
    "            if J_threshold is None and (rate <= 0).any():\n",
    "                J_threshold = J_test[np.where(rate <= 0)[0][-1]]\n",
    "            if J_max is None and (rate >= max_rate).any():\n",
    "                J_max = J_test[np.where(rate >= max_rate)[0][0]]\n",
    "            if J_threshold is not None and J_max is not None:\n",
    "                break\n",
    "            else:\n",
    "                Jr *= 2\n",
    "        else:\n",
    "            if J_threshold is None:\n",
    "                raise RuntimeError(\"Could not find firing threshold\")\n",
    "            if J_max is None:\n",
    "                raise RuntimeError(\"Could not find max current\")\n",
    "\n",
    "        J = np.linspace(J_threshold, J_max, J_steps)\n",
    "        rate = self.rates(J, np.ones(J_steps), np.zeros(J_steps))\n",
    "        gain = np.zeros_like(max_rates)\n",
    "        bias = np.zeros_like(max_rates)\n",
    "        J_tops = np.interp(max_rates, rate, J)\n",
    "        gain[:] = (J_threshold - J_tops) / (intercepts - 1)\n",
    "        bias[:] = J_tops - gain\n",
    "\n",
    "        return gain, bias\n",
    "\n",
    "    def rates(self, x, gain, bias):\n",
    "        \"\"\"Estimates steady-state firing rate given gain and bias.\"\"\"\n",
    "        J_test = self.current(x, gain, bias)\n",
    "        brianens = NeuronGroup(J_test.shape[0], self.eqns,\n",
    "            threshold='v > thr', namespace=self.namespace, method=self.ode, refractory=5*ms)\n",
    "        brianens.v = self._v0*np.ones_like(J_test)\n",
    "        brianens.r = self._r0*np.ones_like(J_test)\n",
    "        brianens.c = np.zeros_like(J_test)\n",
    "        brianmon_v = StateMonitor(brianens, 'v', record=True)\n",
    "        brianmon_s = SpikeMonitor(brianens, record=True)\n",
    "        briannet = Network(brianens, brianmon_v, brianmon_s)\n",
    "        defaultclock.dt = self.dt_brian*second\n",
    "        \n",
    "        # reimplement settled_firingrate()\n",
    "        settle_time = 0.1\n",
    "        sim_time = 1.0\n",
    "        dt = 0.001  # dt_nengo\n",
    "        settle_steps = int(settle_time / dt)\n",
    "        sim_steps = int(sim_time / dt)\n",
    "        spiked = np.zeros_like(J_test)\n",
    "        voltage = np.array(brianens.v)\n",
    "        all_spikes = np.zeros_like(J_test)\n",
    "        print(\"running transients...\")\n",
    "        for t in range(settle_steps):\n",
    "            v, s = self.step_math(J_test, briannet, brianens, brianmon_v, brianmon_s, voltage, spiked, dt)\n",
    "            sys.stdout.write(\"\\r{:6.2f}% done...\".format(100 * (t + 1) / settle_steps))\n",
    "        sys.stdout.write(\"\\n\")\n",
    "        print(\"calculating rate...\")\n",
    "        for t in range(sim_steps):\n",
    "            v, s = self.step_math(J_test, briannet, brianens, brianmon_v, brianmon_s, voltage, spiked, dt)\n",
    "            all_spikes += s*dt\n",
    "            sys.stdout.write(\"\\r{:6.2f}% done...\".format(100 * (t + 1) / sim_steps))\n",
    "        sys.stdout.write(\"\\n\")\n",
    "\n",
    "        return all_spikes / sim_time\n",
    "    \n",
    "    def step_math(self, J, briannet, brianens, brianmon_v, brianmon_s, voltage, spiked, dt):\n",
    "        spiked_before = brianmon_s.i[:]\n",
    "        brianens.J = J.clip(max=_maxJ)  # drive brian neurons\n",
    "        briannet.run(dt*second)  # run brian neurons\n",
    "        brianens.v = brianens.v[:].clip(-0.9, 0.3)\n",
    "        voltage[:] = brianens.v\n",
    "        spiked = np.zeros_like(voltage)\n",
    "        spiked_after = brianmon_s.i[:]\n",
    "        n_spikes_new = spiked_after.shape[0] - spiked_before.shape[0]\n",
    "        for s in range(n_spikes_new):\n",
    "            spiked[spiked_after[-(s+1)]] = 1.0/dt\n",
    "        return voltage, spiked\n",
    "\n",
    "\n",
    "class SimBrianNeurons(Operator):\n",
    "    def __init__(self, neuron_type, neurons, J, output, states):\n",
    "        super(SimBrianNeurons, self).__init__()\n",
    "        self.neuron_type = neuron_type\n",
    "        self.neurons = neurons\n",
    "        self.reads = [states[0], J]\n",
    "        self.sets = [output, states[1]]\n",
    "        self.updates = []\n",
    "        self.incs = []\n",
    "        \n",
    "        self.neurons.v = states[1].initial_value\n",
    "        self.neurons.r = states[2].initial_value\n",
    "        self.neurons.c = states[3].initial_value\n",
    "        self.brianens = neurons\n",
    "        self.brianmon_v = StateMonitor(self.brianens, 'v', record=True)\n",
    "        self.brianmon_s = SpikeMonitor(self.brianens, record=True)\n",
    "        self.briannet = Network(self.brianens, self.brianmon_v, self.brianmon_s)\n",
    "        defaultclock.dt = self.neuron_type.dt_brian*second\n",
    "\n",
    "    def make_step(self, signals, dt, rng):\n",
    "        J = signals[self.current]\n",
    "        output = signals[self.output]\n",
    "        voltage = signals[self.voltage]\n",
    "        time = signals[self.time]\n",
    "        def step_nrn():\n",
    "            self.neuron_type.step_math(J, self.briannet, self.brianens, \n",
    "                self.brianmon_v, self.brianmon_s, voltage, output, dt)  # output==spiked?\n",
    "        return step_nrn\n",
    "\n",
    "    @property\n",
    "    def time(self):\n",
    "        return self.reads[0]\n",
    "    @property\n",
    "    def current(self):\n",
    "        return self.reads[1]\n",
    "    @property\n",
    "    def output(self):\n",
    "        return self.sets[0]\n",
    "    @property\n",
    "    def voltage(self):\n",
    "        return self.sets[1]\n",
    "    \n",
    "@Builder.register(WilsonBrian)\n",
    "def build_wilsonneuron(model, neuron_type, neurons):\n",
    "    \n",
    "    model.sig[neurons]['voltage'] = Signal(\n",
    "        neuron_type._v0*np.ones(neurons.size_in), name=\"%s.voltage\" % neurons)\n",
    "    model.sig[neurons]['recovery'] = Signal(\n",
    "        neuron_type._r0*np.ones(neurons.size_in), name=\"%s.recovery\" % neurons)\n",
    "    model.sig[neurons]['conductance'] = Signal(\n",
    "        np.zeros(neurons.size_in), name=\"%s.conductance\" % neurons)\n",
    "    thr = neuron_type.thr\n",
    "\n",
    "    brianens = NeuronGroup(neurons.size_in, neuron_type.eqns,\n",
    "        threshold='v > thr', namespace=neuron_type.namespace, method=neuron_type.ode, refractory=5*ms)\n",
    "    \n",
    "    brianop = SimBrianNeurons(\n",
    "        neuron_type=neuron_type,\n",
    "        neurons=brianens,\n",
    "        J=model.sig[neurons]['in'],\n",
    "        output=model.sig[neurons]['out'],\n",
    "        states=[\n",
    "            model.time,\n",
    "            model.sig[neurons]['voltage'],\n",
    "            model.sig[neurons]['recovery'],\n",
    "            model.sig[neurons]['conductance']])\n",
    "\n",
    "    model.params[neurons] = {'briannet': brianop.briannet, 'brianens': brianop.brianens}\n",
    "    model.add_op(brianop)\n",
    "\n",
    "\n",
    "class TransmitSpikes(Operator):\n",
    "    def __init__(self, conn, spikes, states):\n",
    "        super(TransmitSpikes, self).__init__()\n",
    "        self.conn = conn\n",
    "        self.time = states[0]\n",
    "        self.reads = [spikes, states[0]]\n",
    "        self.updates = []\n",
    "        self.sets = []\n",
    "        self.incs = []\n",
    "        \n",
    "    def make_step(self, signals, dt, rng):\n",
    "        spikes = signals[self.spikes]\n",
    "        time = signals[self.time]\n",
    "        def step():\n",
    "            spiked = np.where(spikes > 0)[0]\n",
    "            spiketimes = time * np.ones((spiked.shape[0])) * ms\n",
    "            self.conn.briansgg.set_spikes(spiked, spiketimes)\n",
    "        return step\n",
    "\n",
    "    @property\n",
    "    def spikes(self):\n",
    "        return self.reads[0]\n",
    "\n",
    "\n",
    "@Builder.register(nengo.Connection)\n",
    "def build_connection(model, conn):\n",
    "    rng = np.random.RandomState(model.seeds[conn])\n",
    "\n",
    "    if isinstance(conn.post_obj, nengo.Ensemble) and isinstance(conn.post_obj.neuron_type, WilsonBrian) \\\n",
    "            and isinstance(conn.pre_obj, nengo.Ensemble):\n",
    "        if not isinstance(conn.solver, NoSolver) and conn.solver.weights is False:\n",
    "            raise BuildError(\"Connections to WilsonNeuorns must provide a NoSolver with weight=True\"\n",
    "                            \" (got %s from %s to %s)\" % (conn.solver, conn.pre_obj, conn.post_obj))\n",
    "        #todo: check that conn_pre is emitting spikes\n",
    "        briannet = model.params[conn.post_obj.neurons]['briannet']\n",
    "        brianens = model.params[conn.post_obj.neurons]['brianens']\n",
    "        briansgg = SpikeGeneratorGroup(conn.pre_obj.n_neurons, indices=[], times=[]*ms)  # filled in during TransmitSpikes\n",
    "        transform = full_transform(conn, slice_pre=False)\n",
    "        w = build_decoders(model, conn, rng, transform)[1]\n",
    "        \n",
    "        syn_eqn = '''\n",
    "        dg/dt = -tau*g/second : 1 (clock-driven)\n",
    "        I_post = g : 1 (summed)\n",
    "        w : 1\n",
    "        '''\n",
    "        briansyn = Synapses(briansgg, brianens, namespace={'tau': conn.synapse.tau},\n",
    "            model=syn_eqn, on_pre='g += w', method='rk4')  # rk4\n",
    "        briansyn.connect()\n",
    "        for pre in range(w.shape[0]):\n",
    "            for post in range(w.shape[1]):\n",
    "                briansyn.w[pre, post] = w[pre, post]\n",
    "#         briansyn.w[:, :] = w['i, j']\n",
    "#         briansyn.w = w.ravel()  # todo: ensure indexing is correct\n",
    "        briannet.add(briansgg)\n",
    "        briannet.add(briansyn)\n",
    "        conn.briansgg = briansgg\n",
    "        \n",
    "        brianspiker = TransmitSpikes(conn, model.sig[conn.pre_obj]['out'], states=[model.time])\n",
    "        model.add_op(brianspiker)\n",
    "\n",
    "    else:\n",
    "        return nengo.builder.connection.build_connection(model, conn)"
   ]
  },
  {
   "cell_type": "markdown",
   "metadata": {},
   "source": [
    "## Simulation"
   ]
  },
  {
   "cell_type": "code",
   "execution_count": 16,
   "metadata": {},
   "outputs": [],
   "source": [
    "def go(n_neurons, neuron_type, t, dt, sample_every=0.001, max_rates=Uniform(30, 60), seed=0):\n",
    "    with nengo.Network() as model:\n",
    "        stim = nengo.Node(output=lambda t: np.sin(2*np.pi*5*t))\n",
    "        x = nengo.Ensemble(n_neurons, 1, seed=seed, neuron_type=neuron_type, max_rates=max_rates)\n",
    "        nengo.Connection(stim, x, synapse=None)\n",
    "#         nengo.Connection(stim, x.neurons, synapse=None)\n",
    "        p = nengo.Probe(x.neurons, synapse=0.1, sample_every=sample_every)\n",
    "        p_s = nengo.Probe(x.neurons, 'spikes', synapse=None, sample_every=sample_every)\n",
    "        p_v = nengo.Probe(x.neurons, 'voltage', synapse=None, sample_every=sample_every)\n",
    "    \n",
    "    with nengo.Simulator(model, dt=dt) as sim:\n",
    "        sim.run(t)\n",
    "    \n",
    "    return sim.trange(sample_every=sample_every), sim.data[p], sim.data[p_s], sim.data[p_v]"
   ]
  },
  {
   "cell_type": "markdown",
   "metadata": {},
   "source": [
    "## Euler"
   ]
  },
  {
   "cell_type": "code",
   "execution_count": 203,
   "metadata": {},
   "outputs": [
    {
     "data": {
      "application/vdom.v1+json": {
       "attributes": {},
       "tagName": "div"
      },
      "text/html": [
       "\n",
       "                <script>\n",
       "                    if (Jupyter.version.split(\".\")[0] < 5) {\n",
       "                        var pb = document.getElementById(\"0cd42eba-5dfd-446c-8486-fb4bf7c1d3e5\");\n",
       "                        var text = document.createTextNode(\n",
       "                            \"HMTL progress bar requires Jupyter Notebook >= \" +\n",
       "                            \"5.0 or Jupyter Lab. Alternatively, you can use \" +\n",
       "                            \"TerminalProgressBar().\");\n",
       "                        pb.parentNode.insertBefore(text, pb);\n",
       "                    }\n",
       "                </script>\n",
       "                <div id=\"0cd42eba-5dfd-446c-8486-fb4bf7c1d3e5\" style=\"\n",
       "                    width: 100%;\n",
       "                    border: 1px solid #cfcfcf;\n",
       "                    border-radius: 4px;\n",
       "                    text-align: center;\n",
       "                    position: relative;\">\n",
       "                  <div class=\"pb-text\" style=\"\n",
       "                      position: absolute;\n",
       "                      width: 100%;\">\n",
       "                    0%\n",
       "                  </div>\n",
       "                  <div class=\"pb-fill\" style=\"\n",
       "                      background-color: #bdd2e6;\n",
       "                      width: 0%;\">\n",
       "                    <style type=\"text/css\" scoped=\"scoped\">\n",
       "                        @keyframes pb-fill-anim {\n",
       "                            0% { background-position: 0 0; }\n",
       "                            100% { background-position: 100px 0; }\n",
       "                        }\n",
       "                    </style>\n",
       "                    &nbsp;\n",
       "                  </div>\n",
       "                </div>"
      ],
      "text/plain": [
       "HtmlProgressBar cannot be displayed. Please use the TerminalProgressBar. It can be enabled with `nengo.rc.set('progress', 'progress_bar', 'nengo.utils.progress.TerminalProgressBar')`."
      ]
     },
     "metadata": {},
     "output_type": "display_data"
    },
    {
     "data": {
      "application/javascript": [
       "\n",
       "              (function () {\n",
       "                  var root = document.getElementById('0cd42eba-5dfd-446c-8486-fb4bf7c1d3e5');\n",
       "                  var text = root.getElementsByClassName('pb-text')[0];\n",
       "                  var fill = root.getElementsByClassName('pb-fill')[0];\n",
       "\n",
       "                  text.innerHTML = 'Build finished in 0:00:06.';\n",
       "                  \n",
       "            fill.style.width = '100%';\n",
       "            fill.style.animation = 'pb-fill-anim 2s linear infinite';\n",
       "            fill.style.backgroundSize = '100px 100%';\n",
       "            fill.style.backgroundImage = 'repeating-linear-gradient(' +\n",
       "                '90deg, #bdd2e6, #edf2f8 40%, #bdd2e6 80%, #bdd2e6)';\n",
       "        \n",
       "                  \n",
       "                fill.style.animation = 'none';\n",
       "                fill.style.backgroundImage = 'none';\n",
       "            \n",
       "              })();\n",
       "        "
      ],
      "application/vdom.v1+json": {
       "attributes": {
        "id": "bd9c59be-536e-4d48-8932-b11fc2f0ed7c",
        "style": {
         "border": "1px solid #cfcfcf",
         "borderRadius": "4px",
         "boxSizing": "border-box",
         "position": "relative",
         "textAlign": "center",
         "width": "100%"
        }
       },
       "children": [
        {
         "attributes": {
          "class": "pb-text",
          "style": {
           "position": "absolute",
           "width": "100%"
          }
         },
         "children": [
          "Build finished in 0:00:06."
         ],
         "tagName": "div"
        },
        {
         "attributes": {
          "class": "pb-fill",
          "style": {
           "animation": "none",
           "backgroundColor": "#bdd2e6",
           "backgroundImage": "none",
           "backgroundSize": "100px 100%",
           "width": "100%"
          }
         },
         "children": [
          {
           "attributes": {
            "scoped": "scoped",
            "type": "text/css"
           },
           "children": [
            "\n                        @keyframes pb-fill-anim {\n                            0% { background-position: 0 0; }\n                            100% { background-position: 100px 0; }\n                        }}"
           ],
           "tagName": "style"
          },
          " "
         ],
         "tagName": "div"
        }
       ],
       "tagName": "div"
      }
     },
     "metadata": {},
     "output_type": "display_data"
    },
    {
     "data": {
      "application/vdom.v1+json": {
       "attributes": {},
       "tagName": "div"
      },
      "text/html": [
       "\n",
       "                <script>\n",
       "                    if (Jupyter.version.split(\".\")[0] < 5) {\n",
       "                        var pb = document.getElementById(\"d4663163-e22e-4e1f-92fd-9dfc2ec4bca0\");\n",
       "                        var text = document.createTextNode(\n",
       "                            \"HMTL progress bar requires Jupyter Notebook >= \" +\n",
       "                            \"5.0 or Jupyter Lab. Alternatively, you can use \" +\n",
       "                            \"TerminalProgressBar().\");\n",
       "                        pb.parentNode.insertBefore(text, pb);\n",
       "                    }\n",
       "                </script>\n",
       "                <div id=\"d4663163-e22e-4e1f-92fd-9dfc2ec4bca0\" style=\"\n",
       "                    width: 100%;\n",
       "                    border: 1px solid #cfcfcf;\n",
       "                    border-radius: 4px;\n",
       "                    text-align: center;\n",
       "                    position: relative;\">\n",
       "                  <div class=\"pb-text\" style=\"\n",
       "                      position: absolute;\n",
       "                      width: 100%;\">\n",
       "                    0%\n",
       "                  </div>\n",
       "                  <div class=\"pb-fill\" style=\"\n",
       "                      background-color: #bdd2e6;\n",
       "                      width: 0%;\">\n",
       "                    <style type=\"text/css\" scoped=\"scoped\">\n",
       "                        @keyframes pb-fill-anim {\n",
       "                            0% { background-position: 0 0; }\n",
       "                            100% { background-position: 100px 0; }\n",
       "                        }\n",
       "                    </style>\n",
       "                    &nbsp;\n",
       "                  </div>\n",
       "                </div>"
      ],
      "text/plain": [
       "HtmlProgressBar cannot be displayed. Please use the TerminalProgressBar. It can be enabled with `nengo.rc.set('progress', 'progress_bar', 'nengo.utils.progress.TerminalProgressBar')`."
      ]
     },
     "metadata": {},
     "output_type": "display_data"
    },
    {
     "data": {
      "application/javascript": [
       "\n",
       "              (function () {\n",
       "                  var root = document.getElementById('d4663163-e22e-4e1f-92fd-9dfc2ec4bca0');\n",
       "                  var text = root.getElementsByClassName('pb-text')[0];\n",
       "                  var fill = root.getElementsByClassName('pb-fill')[0];\n",
       "\n",
       "                  text.innerHTML = 'Simulation finished in 0:00:03.';\n",
       "                  \n",
       "            if (100.0 > 0.) {\n",
       "                fill.style.transition = 'width 0.1s linear';\n",
       "            } else {\n",
       "                fill.style.transition = 'none';\n",
       "            }\n",
       "\n",
       "            fill.style.width = '100.0%';\n",
       "            fill.style.animation = 'none';\n",
       "            fill.style.backgroundImage = 'none'\n",
       "        \n",
       "                  \n",
       "                fill.style.animation = 'none';\n",
       "                fill.style.backgroundImage = 'none';\n",
       "            \n",
       "              })();\n",
       "        "
      ],
      "application/vdom.v1+json": {
       "attributes": {
        "id": "a443bb9f-6b90-4f8c-8b65-ed67a57dc9a2",
        "style": {
         "border": "1px solid #cfcfcf",
         "borderRadius": "4px",
         "boxSizing": "border-box",
         "position": "relative",
         "textAlign": "center",
         "width": "100%"
        }
       },
       "children": [
        {
         "attributes": {
          "class": "pb-text",
          "style": {
           "position": "absolute",
           "width": "100%"
          }
         },
         "children": [
          "Simulation finished in 0:00:03."
         ],
         "tagName": "div"
        },
        {
         "attributes": {
          "class": "pb-fill",
          "style": {
           "animation": "none",
           "backgroundColor": "#bdd2e6",
           "backgroundImage": "none",
           "transition": "width 0.1s linear",
           "width": "100%"
          }
         },
         "children": [
          {
           "attributes": {
            "scoped": "scoped",
            "type": "text/css"
           },
           "children": [
            "\n                        @keyframes pb-fill-anim {\n                            0% { background-position: 0 0; }\n                            100% { background-position: 100px 0; }\n                        }}"
           ],
           "tagName": "style"
          },
          " "
         ],
         "tagName": "div"
        }
       ],
       "tagName": "div"
      }
     },
     "metadata": {},
     "output_type": "display_data"
    },
    {
     "name": "stdout",
     "output_type": "stream",
     "text": [
      "runtime = 7.443 s\n"
     ]
    },
    {
     "data": {
      "image/png": "[encoded data removed]",
      "text/plain": [
       "<Figure size 576x576 with 1 Axes>"
      ]
     },
     "metadata": {},
     "output_type": "display_data"
    }
   ],
   "source": [
    "start = time.time()\n",
    "t1, a1, s1, v1 = go(3, t=0.5, dt=0.00005, sample_every=0.00005, neuron_type=WilsonEuler())\n",
    "end = time.time()\n",
    "print('runtime = %.3f s' %(end-start))\n",
    "\n",
    "fig, ax = plt.subplots(1, 1, figsize=(8, 8))\n",
    "ax.plot(t1, v1)\n",
    "ax.set(xlabel='time (s)', ylabel='Voltage (mV)')\n",
    "plt.show()"
   ]
  },
  {
   "cell_type": "code",
   "execution_count": 204,
   "metadata": {},
   "outputs": [
    {
     "data": {
      "application/vdom.v1+json": {
       "attributes": {},
       "tagName": "div"
      },
      "text/html": [
       "\n",
       "                <script>\n",
       "                    if (Jupyter.version.split(\".\")[0] < 5) {\n",
       "                        var pb = document.getElementById(\"626a9cd9-75ae-4cdd-b7f9-e7f02e75cc67\");\n",
       "                        var text = document.createTextNode(\n",
       "                            \"HMTL progress bar requires Jupyter Notebook >= \" +\n",
       "                            \"5.0 or Jupyter Lab. Alternatively, you can use \" +\n",
       "                            \"TerminalProgressBar().\");\n",
       "                        pb.parentNode.insertBefore(text, pb);\n",
       "                    }\n",
       "                </script>\n",
       "                <div id=\"626a9cd9-75ae-4cdd-b7f9-e7f02e75cc67\" style=\"\n",
       "                    width: 100%;\n",
       "                    border: 1px solid #cfcfcf;\n",
       "                    border-radius: 4px;\n",
       "                    text-align: center;\n",
       "                    position: relative;\">\n",
       "                  <div class=\"pb-text\" style=\"\n",
       "                      position: absolute;\n",
       "                      width: 100%;\">\n",
       "                    0%\n",
       "                  </div>\n",
       "                  <div class=\"pb-fill\" style=\"\n",
       "                      background-color: #bdd2e6;\n",
       "                      width: 0%;\">\n",
       "                    <style type=\"text/css\" scoped=\"scoped\">\n",
       "                        @keyframes pb-fill-anim {\n",
       "                            0% { background-position: 0 0; }\n",
       "                            100% { background-position: 100px 0; }\n",
       "                        }\n",
       "                    </style>\n",
       "                    &nbsp;\n",
       "                  </div>\n",
       "                </div>"
      ],
      "text/plain": [
       "HtmlProgressBar cannot be displayed. Please use the TerminalProgressBar. It can be enabled with `nengo.rc.set('progress', 'progress_bar', 'nengo.utils.progress.TerminalProgressBar')`."
      ]
     },
     "metadata": {},
     "output_type": "display_data"
    },
    {
     "data": {
      "application/javascript": [
       "\n",
       "              (function () {\n",
       "                  var root = document.getElementById('626a9cd9-75ae-4cdd-b7f9-e7f02e75cc67');\n",
       "                  var text = root.getElementsByClassName('pb-text')[0];\n",
       "                  var fill = root.getElementsByClassName('pb-fill')[0];\n",
       "\n",
       "                  text.innerHTML = 'Build finished in 0:00:06.';\n",
       "                  \n",
       "            fill.style.width = '100%';\n",
       "            fill.style.animation = 'pb-fill-anim 2s linear infinite';\n",
       "            fill.style.backgroundSize = '100px 100%';\n",
       "            fill.style.backgroundImage = 'repeating-linear-gradient(' +\n",
       "                '90deg, #bdd2e6, #edf2f8 40%, #bdd2e6 80%, #bdd2e6)';\n",
       "        \n",
       "                  \n",
       "                fill.style.animation = 'none';\n",
       "                fill.style.backgroundImage = 'none';\n",
       "            \n",
       "              })();\n",
       "        "
      ],
      "application/vdom.v1+json": {
       "attributes": {
        "id": "c60c4fe2-b60b-444c-98fe-7d5cb3638ed6",
        "style": {
         "border": "1px solid #cfcfcf",
         "borderRadius": "4px",
         "boxSizing": "border-box",
         "position": "relative",
         "textAlign": "center",
         "width": "100%"
        }
       },
       "children": [
        {
         "attributes": {
          "class": "pb-text",
          "style": {
           "position": "absolute",
           "width": "100%"
          }
         },
         "children": [
          "Build finished in 0:00:06."
         ],
         "tagName": "div"
        },
        {
         "attributes": {
          "class": "pb-fill",
          "style": {
           "animation": "none",
           "backgroundColor": "#bdd2e6",
           "backgroundImage": "none",
           "backgroundSize": "100px 100%",
           "width": "100%"
          }
         },
         "children": [
          {
           "attributes": {
            "scoped": "scoped",
            "type": "text/css"
           },
           "children": [
            "\n                        @keyframes pb-fill-anim {\n                            0% { background-position: 0 0; }\n                            100% { background-position: 100px 0; }\n                        }}"
           ],
           "tagName": "style"
          },
          " "
         ],
         "tagName": "div"
        }
       ],
       "tagName": "div"
      }
     },
     "metadata": {},
     "output_type": "display_data"
    },
    {
     "data": {
      "application/vdom.v1+json": {
       "attributes": {},
       "tagName": "div"
      },
      "text/html": [
       "\n",
       "                <script>\n",
       "                    if (Jupyter.version.split(\".\")[0] < 5) {\n",
       "                        var pb = document.getElementById(\"8be0b98e-5f20-495b-b886-a5ce869a4fa1\");\n",
       "                        var text = document.createTextNode(\n",
       "                            \"HMTL progress bar requires Jupyter Notebook >= \" +\n",
       "                            \"5.0 or Jupyter Lab. Alternatively, you can use \" +\n",
       "                            \"TerminalProgressBar().\");\n",
       "                        pb.parentNode.insertBefore(text, pb);\n",
       "                    }\n",
       "                </script>\n",
       "                <div id=\"8be0b98e-5f20-495b-b886-a5ce869a4fa1\" style=\"\n",
       "                    width: 100%;\n",
       "                    border: 1px solid #cfcfcf;\n",
       "                    border-radius: 4px;\n",
       "                    text-align: center;\n",
       "                    position: relative;\">\n",
       "                  <div class=\"pb-text\" style=\"\n",
       "                      position: absolute;\n",
       "                      width: 100%;\">\n",
       "                    0%\n",
       "                  </div>\n",
       "                  <div class=\"pb-fill\" style=\"\n",
       "                      background-color: #bdd2e6;\n",
       "                      width: 0%;\">\n",
       "                    <style type=\"text/css\" scoped=\"scoped\">\n",
       "                        @keyframes pb-fill-anim {\n",
       "                            0% { background-position: 0 0; }\n",
       "                            100% { background-position: 100px 0; }\n",
       "                        }\n",
       "                    </style>\n",
       "                    &nbsp;\n",
       "                  </div>\n",
       "                </div>"
      ],
      "text/plain": [
       "HtmlProgressBar cannot be displayed. Please use the TerminalProgressBar. It can be enabled with `nengo.rc.set('progress', 'progress_bar', 'nengo.utils.progress.TerminalProgressBar')`."
      ]
     },
     "metadata": {},
     "output_type": "display_data"
    },
    {
     "data": {
      "application/javascript": [
       "\n",
       "              (function () {\n",
       "                  var root = document.getElementById('8be0b98e-5f20-495b-b886-a5ce869a4fa1');\n",
       "                  var text = root.getElementsByClassName('pb-text')[0];\n",
       "                  var fill = root.getElementsByClassName('pb-fill')[0];\n",
       "\n",
       "                  text.innerHTML = 'Simulation finished in 0:00:01.';\n",
       "                  \n",
       "            if (100.0 > 0.) {\n",
       "                fill.style.transition = 'width 0.1s linear';\n",
       "            } else {\n",
       "                fill.style.transition = 'none';\n",
       "            }\n",
       "\n",
       "            fill.style.width = '100.0%';\n",
       "            fill.style.animation = 'none';\n",
       "            fill.style.backgroundImage = 'none'\n",
       "        \n",
       "                  \n",
       "                fill.style.animation = 'none';\n",
       "                fill.style.backgroundImage = 'none';\n",
       "            \n",
       "              })();\n",
       "        "
      ],
      "application/vdom.v1+json": {
       "attributes": {
        "id": "7a134a93-c30d-4d29-a016-32226abd0ca9",
        "style": {
         "border": "1px solid #cfcfcf",
         "borderRadius": "4px",
         "boxSizing": "border-box",
         "position": "relative",
         "textAlign": "center",
         "width": "100%"
        }
       },
       "children": [
        {
         "attributes": {
          "class": "pb-text",
          "style": {
           "position": "absolute",
           "width": "100%"
          }
         },
         "children": [
          "Simulation finished in 0:00:01."
         ],
         "tagName": "div"
        },
        {
         "attributes": {
          "class": "pb-fill",
          "style": {
           "animation": "none",
           "backgroundColor": "#bdd2e6",
           "backgroundImage": "none",
           "transition": "width 0.1s linear",
           "width": "100%"
          }
         },
         "children": [
          {
           "attributes": {
            "scoped": "scoped",
            "type": "text/css"
           },
           "children": [
            "\n                        @keyframes pb-fill-anim {\n                            0% { background-position: 0 0; }\n                            100% { background-position: 100px 0; }\n                        }}"
           ],
           "tagName": "style"
          },
          " "
         ],
         "tagName": "div"
        }
       ],
       "tagName": "div"
      }
     },
     "metadata": {},
     "output_type": "display_data"
    },
    {
     "name": "stdout",
     "output_type": "stream",
     "text": [
      "runtime = 5.864 s\n"
     ]
    },
    {
     "data": {
      "image/png": "[encoded data removed]",
      "text/plain": [
       "<Figure size 576x576 with 1 Axes>"
      ]
     },
     "metadata": {},
     "output_type": "display_data"
    }
   ],
   "source": [
    "start = time.time()\n",
    "t1, a1, s1, v1 = go(3, t=0.5, dt=0.0002, sample_every=0.0002, neuron_type=WilsonEuler())\n",
    "end = time.time()\n",
    "print('runtime = %.3f s' %(end-start))\n",
    "\n",
    "fig, ax = plt.subplots(1, 1, figsize=(8, 8))\n",
    "ax.plot(t1, v1)\n",
    "ax.set(xlabel='time (s)', ylabel='Voltage (mV)')\n",
    "plt.show()"
   ]
  },
  {
   "cell_type": "markdown",
   "metadata": {},
   "source": [
    "## RK4"
   ]
  },
  {
   "cell_type": "code",
   "execution_count": 190,
   "metadata": {},
   "outputs": [
    {
     "data": {
      "application/vdom.v1+json": {
       "attributes": {},
       "tagName": "div"
      },
      "text/html": [
       "\n",
       "                <script>\n",
       "                    if (Jupyter.version.split(\".\")[0] < 5) {\n",
       "                        var pb = document.getElementById(\"2001c054-2e5a-4399-971b-aa3b5677e350\");\n",
       "                        var text = document.createTextNode(\n",
       "                            \"HMTL progress bar requires Jupyter Notebook >= \" +\n",
       "                            \"5.0 or Jupyter Lab. Alternatively, you can use \" +\n",
       "                            \"TerminalProgressBar().\");\n",
       "                        pb.parentNode.insertBefore(text, pb);\n",
       "                    }\n",
       "                </script>\n",
       "                <div id=\"2001c054-2e5a-4399-971b-aa3b5677e350\" style=\"\n",
       "                    width: 100%;\n",
       "                    border: 1px solid #cfcfcf;\n",
       "                    border-radius: 4px;\n",
       "                    text-align: center;\n",
       "                    position: relative;\">\n",
       "                  <div class=\"pb-text\" style=\"\n",
       "                      position: absolute;\n",
       "                      width: 100%;\">\n",
       "                    0%\n",
       "                  </div>\n",
       "                  <div class=\"pb-fill\" style=\"\n",
       "                      background-color: #bdd2e6;\n",
       "                      width: 0%;\">\n",
       "                    <style type=\"text/css\" scoped=\"scoped\">\n",
       "                        @keyframes pb-fill-anim {\n",
       "                            0% { background-position: 0 0; }\n",
       "                            100% { background-position: 100px 0; }\n",
       "                        }\n",
       "                    </style>\n",
       "                    &nbsp;\n",
       "                  </div>\n",
       "                </div>"
      ],
      "text/plain": [
       "HtmlProgressBar cannot be displayed. Please use the TerminalProgressBar. It can be enabled with `nengo.rc.set('progress', 'progress_bar', 'nengo.utils.progress.TerminalProgressBar')`."
      ]
     },
     "metadata": {},
     "output_type": "display_data"
    },
    {
     "data": {
      "application/javascript": [
       "\n",
       "              (function () {\n",
       "                  var root = document.getElementById('2001c054-2e5a-4399-971b-aa3b5677e350');\n",
       "                  var text = root.getElementsByClassName('pb-text')[0];\n",
       "                  var fill = root.getElementsByClassName('pb-fill')[0];\n",
       "\n",
       "                  text.innerHTML = 'Build finished in 0:00:22.';\n",
       "                  \n",
       "            fill.style.width = '100%';\n",
       "            fill.style.animation = 'pb-fill-anim 2s linear infinite';\n",
       "            fill.style.backgroundSize = '100px 100%';\n",
       "            fill.style.backgroundImage = 'repeating-linear-gradient(' +\n",
       "                '90deg, #bdd2e6, #edf2f8 40%, #bdd2e6 80%, #bdd2e6)';\n",
       "        \n",
       "                  \n",
       "                fill.style.animation = 'none';\n",
       "                fill.style.backgroundImage = 'none';\n",
       "            \n",
       "              })();\n",
       "        "
      ],
      "application/vdom.v1+json": {
       "attributes": {
        "id": "a3697fda-6bd7-4f1d-9853-780fe061b72c",
        "style": {
         "border": "1px solid #cfcfcf",
         "borderRadius": "4px",
         "boxSizing": "border-box",
         "position": "relative",
         "textAlign": "center",
         "width": "100%"
        }
       },
       "children": [
        {
         "attributes": {
          "class": "pb-text",
          "style": {
           "position": "absolute",
           "width": "100%"
          }
         },
         "children": [
          "Build finished in 0:00:22."
         ],
         "tagName": "div"
        },
        {
         "attributes": {
          "class": "pb-fill",
          "style": {
           "animation": "none",
           "backgroundColor": "#bdd2e6",
           "backgroundImage": "none",
           "backgroundSize": "100px 100%",
           "width": "100%"
          }
         },
         "children": [
          {
           "attributes": {
            "scoped": "scoped",
            "type": "text/css"
           },
           "children": [
            "\n                        @keyframes pb-fill-anim {\n                            0% { background-position: 0 0; }\n                            100% { background-position: 100px 0; }\n                        }}"
           ],
           "tagName": "style"
          },
          " "
         ],
         "tagName": "div"
        }
       ],
       "tagName": "div"
      }
     },
     "metadata": {},
     "output_type": "display_data"
    },
    {
     "data": {
      "application/vdom.v1+json": {
       "attributes": {},
       "tagName": "div"
      },
      "text/html": [
       "\n",
       "                <script>\n",
       "                    if (Jupyter.version.split(\".\")[0] < 5) {\n",
       "                        var pb = document.getElementById(\"f89fc761-af8b-403d-9fe9-d0d6aedee8b3\");\n",
       "                        var text = document.createTextNode(\n",
       "                            \"HMTL progress bar requires Jupyter Notebook >= \" +\n",
       "                            \"5.0 or Jupyter Lab. Alternatively, you can use \" +\n",
       "                            \"TerminalProgressBar().\");\n",
       "                        pb.parentNode.insertBefore(text, pb);\n",
       "                    }\n",
       "                </script>\n",
       "                <div id=\"f89fc761-af8b-403d-9fe9-d0d6aedee8b3\" style=\"\n",
       "                    width: 100%;\n",
       "                    border: 1px solid #cfcfcf;\n",
       "                    border-radius: 4px;\n",
       "                    text-align: center;\n",
       "                    position: relative;\">\n",
       "                  <div class=\"pb-text\" style=\"\n",
       "                      position: absolute;\n",
       "                      width: 100%;\">\n",
       "                    0%\n",
       "                  </div>\n",
       "                  <div class=\"pb-fill\" style=\"\n",
       "                      background-color: #bdd2e6;\n",
       "                      width: 0%;\">\n",
       "                    <style type=\"text/css\" scoped=\"scoped\">\n",
       "                        @keyframes pb-fill-anim {\n",
       "                            0% { background-position: 0 0; }\n",
       "                            100% { background-position: 100px 0; }\n",
       "                        }\n",
       "                    </style>\n",
       "                    &nbsp;\n",
       "                  </div>\n",
       "                </div>"
      ],
      "text/plain": [
       "HtmlProgressBar cannot be displayed. Please use the TerminalProgressBar. It can be enabled with `nengo.rc.set('progress', 'progress_bar', 'nengo.utils.progress.TerminalProgressBar')`."
      ]
     },
     "metadata": {},
     "output_type": "display_data"
    },
    {
     "data": {
      "application/javascript": [
       "\n",
       "              (function () {\n",
       "                  var root = document.getElementById('f89fc761-af8b-403d-9fe9-d0d6aedee8b3');\n",
       "                  var text = root.getElementsByClassName('pb-text')[0];\n",
       "                  var fill = root.getElementsByClassName('pb-fill')[0];\n",
       "\n",
       "                  text.innerHTML = 'Simulation finished in 0:00:07.';\n",
       "                  \n",
       "            if (100.0 > 0.) {\n",
       "                fill.style.transition = 'width 0.1s linear';\n",
       "            } else {\n",
       "                fill.style.transition = 'none';\n",
       "            }\n",
       "\n",
       "            fill.style.width = '100.0%';\n",
       "            fill.style.animation = 'none';\n",
       "            fill.style.backgroundImage = 'none'\n",
       "        \n",
       "                  \n",
       "                fill.style.animation = 'none';\n",
       "                fill.style.backgroundImage = 'none';\n",
       "            \n",
       "              })();\n",
       "        "
      ],
      "application/vdom.v1+json": {
       "attributes": {
        "id": "da9175fc-c49e-488e-8a69-3f932ef5ca35",
        "style": {
         "border": "1px solid #cfcfcf",
         "borderRadius": "4px",
         "boxSizing": "border-box",
         "position": "relative",
         "textAlign": "center",
         "width": "100%"
        }
       },
       "children": [
        {
         "attributes": {
          "class": "pb-text",
          "style": {
           "position": "absolute",
           "width": "100%"
          }
         },
         "children": [
          "Simulation finished in 0:00:07."
         ],
         "tagName": "div"
        },
        {
         "attributes": {
          "class": "pb-fill",
          "style": {
           "animation": "none",
           "backgroundColor": "#bdd2e6",
           "backgroundImage": "none",
           "transition": "width 0.1s linear",
           "width": "100%"
          }
         },
         "children": [
          {
           "attributes": {
            "scoped": "scoped",
            "type": "text/css"
           },
           "children": [
            "\n                        @keyframes pb-fill-anim {\n                            0% { background-position: 0 0; }\n                            100% { background-position: 100px 0; }\n                        }}"
           ],
           "tagName": "style"
          },
          " "
         ],
         "tagName": "div"
        }
       ],
       "tagName": "div"
      }
     },
     "metadata": {},
     "output_type": "display_data"
    },
    {
     "name": "stdout",
     "output_type": "stream",
     "text": [
      "runtime = 28.769 s\n"
     ]
    },
    {
     "data": {
      "image/png": "[encoded data removed]",
      "text/plain": [
       "<Figure size 576x576 with 1 Axes>"
      ]
     },
     "metadata": {},
     "output_type": "display_data"
    }
   ],
   "source": [
    "start = time.time()\n",
    "t1, a1, s1, v1 = go(3, t=0.5, dt=0.00005, sample_every=0.00005, neuron_type=WilsonRK4())\n",
    "end = time.time()\n",
    "print('runtime = %.3f s' %(end-start))\n",
    "\n",
    "fig, ax = plt.subplots(1, 1, figsize=(8, 8))\n",
    "ax.plot(t1, v1)\n",
    "ax.set(xlabel='time (s)', ylabel='Voltage (mV)')\n",
    "plt.show()"
   ]
  },
  {
   "cell_type": "code",
   "execution_count": 8,
   "metadata": {},
   "outputs": [
    {
     "data": {
      "application/vdom.v1+json": {
       "attributes": {},
       "tagName": "div"
      },
      "text/html": [
       "\n",
       "                <script>\n",
       "                    if (Jupyter.version.split(\".\")[0] < 5) {\n",
       "                        var pb = document.getElementById(\"af5f490c-2574-494a-9b8e-d643e0e0fe67\");\n",
       "                        var text = document.createTextNode(\n",
       "                            \"HMTL progress bar requires Jupyter Notebook >= \" +\n",
       "                            \"5.0 or Jupyter Lab. Alternatively, you can use \" +\n",
       "                            \"TerminalProgressBar().\");\n",
       "                        pb.parentNode.insertBefore(text, pb);\n",
       "                    }\n",
       "                </script>\n",
       "                <div id=\"af5f490c-2574-494a-9b8e-d643e0e0fe67\" style=\"\n",
       "                    width: 100%;\n",
       "                    border: 1px solid #cfcfcf;\n",
       "                    border-radius: 4px;\n",
       "                    text-align: center;\n",
       "                    position: relative;\">\n",
       "                  <div class=\"pb-text\" style=\"\n",
       "                      position: absolute;\n",
       "                      width: 100%;\">\n",
       "                    0%\n",
       "                  </div>\n",
       "                  <div class=\"pb-fill\" style=\"\n",
       "                      background-color: #bdd2e6;\n",
       "                      width: 0%;\">\n",
       "                    <style type=\"text/css\" scoped=\"scoped\">\n",
       "                        @keyframes pb-fill-anim {\n",
       "                            0% { background-position: 0 0; }\n",
       "                            100% { background-position: 100px 0; }\n",
       "                        }\n",
       "                    </style>\n",
       "                    &nbsp;\n",
       "                  </div>\n",
       "                </div>"
      ],
      "text/plain": [
       "HtmlProgressBar cannot be displayed. Please use the TerminalProgressBar. It can be enabled with `nengo.rc.set('progress', 'progress_bar', 'nengo.utils.progress.TerminalProgressBar')`."
      ]
     },
     "metadata": {},
     "output_type": "display_data"
    },
    {
     "data": {
      "application/javascript": [
       "\n",
       "              (function () {\n",
       "                  var root = document.getElementById('af5f490c-2574-494a-9b8e-d643e0e0fe67');\n",
       "                  var text = root.getElementsByClassName('pb-text')[0];\n",
       "                  var fill = root.getElementsByClassName('pb-fill')[0];\n",
       "\n",
       "                  text.innerHTML = 'Build finished in 0:00:22.';\n",
       "                  \n",
       "            fill.style.width = '100%';\n",
       "            fill.style.animation = 'pb-fill-anim 2s linear infinite';\n",
       "            fill.style.backgroundSize = '100px 100%';\n",
       "            fill.style.backgroundImage = 'repeating-linear-gradient(' +\n",
       "                '90deg, #bdd2e6, #edf2f8 40%, #bdd2e6 80%, #bdd2e6)';\n",
       "        \n",
       "                  \n",
       "                fill.style.animation = 'none';\n",
       "                fill.style.backgroundImage = 'none';\n",
       "            \n",
       "              })();\n",
       "        "
      ],
      "application/vdom.v1+json": {
       "attributes": {
        "id": "c2aace50-90ff-4d2a-a2fe-b228177766c8",
        "style": {
         "border": "1px solid #cfcfcf",
         "borderRadius": "4px",
         "boxSizing": "border-box",
         "position": "relative",
         "textAlign": "center",
         "width": "100%"
        }
       },
       "children": [
        {
         "attributes": {
          "class": "pb-text",
          "style": {
           "position": "absolute",
           "width": "100%"
          }
         },
         "children": [
          "Build finished in 0:00:22."
         ],
         "tagName": "div"
        },
        {
         "attributes": {
          "class": "pb-fill",
          "style": {
           "animation": "none",
           "backgroundColor": "#bdd2e6",
           "backgroundImage": "none",
           "backgroundSize": "100px 100%",
           "width": "100%"
          }
         },
         "children": [
          {
           "attributes": {
            "scoped": "scoped",
            "type": "text/css"
           },
           "children": [
            "\n                        @keyframes pb-fill-anim {\n                            0% { background-position: 0 0; }\n                            100% { background-position: 100px 0; }\n                        }}"
           ],
           "tagName": "style"
          },
          " "
         ],
         "tagName": "div"
        }
       ],
       "tagName": "div"
      }
     },
     "metadata": {},
     "output_type": "display_data"
    },
    {
     "data": {
      "application/vdom.v1+json": {
       "attributes": {},
       "tagName": "div"
      },
      "text/html": [
       "\n",
       "                <script>\n",
       "                    if (Jupyter.version.split(\".\")[0] < 5) {\n",
       "                        var pb = document.getElementById(\"0535ada1-6bd1-4445-98e9-41c6ced5d892\");\n",
       "                        var text = document.createTextNode(\n",
       "                            \"HMTL progress bar requires Jupyter Notebook >= \" +\n",
       "                            \"5.0 or Jupyter Lab. Alternatively, you can use \" +\n",
       "                            \"TerminalProgressBar().\");\n",
       "                        pb.parentNode.insertBefore(text, pb);\n",
       "                    }\n",
       "                </script>\n",
       "                <div id=\"0535ada1-6bd1-4445-98e9-41c6ced5d892\" style=\"\n",
       "                    width: 100%;\n",
       "                    border: 1px solid #cfcfcf;\n",
       "                    border-radius: 4px;\n",
       "                    text-align: center;\n",
       "                    position: relative;\">\n",
       "                  <div class=\"pb-text\" style=\"\n",
       "                      position: absolute;\n",
       "                      width: 100%;\">\n",
       "                    0%\n",
       "                  </div>\n",
       "                  <div class=\"pb-fill\" style=\"\n",
       "                      background-color: #bdd2e6;\n",
       "                      width: 0%;\">\n",
       "                    <style type=\"text/css\" scoped=\"scoped\">\n",
       "                        @keyframes pb-fill-anim {\n",
       "                            0% { background-position: 0 0; }\n",
       "                            100% { background-position: 100px 0; }\n",
       "                        }\n",
       "                    </style>\n",
       "                    &nbsp;\n",
       "                  </div>\n",
       "                </div>"
      ],
      "text/plain": [
       "HtmlProgressBar cannot be displayed. Please use the TerminalProgressBar. It can be enabled with `nengo.rc.set('progress', 'progress_bar', 'nengo.utils.progress.TerminalProgressBar')`."
      ]
     },
     "metadata": {},
     "output_type": "display_data"
    },
    {
     "data": {
      "application/javascript": [
       "\n",
       "              (function () {\n",
       "                  var root = document.getElementById('0535ada1-6bd1-4445-98e9-41c6ced5d892');\n",
       "                  var text = root.getElementsByClassName('pb-text')[0];\n",
       "                  var fill = root.getElementsByClassName('pb-fill')[0];\n",
       "\n",
       "                  text.innerHTML = 'Simulation finished in 0:00:03.';\n",
       "                  \n",
       "            if (100.0 > 0.) {\n",
       "                fill.style.transition = 'width 0.1s linear';\n",
       "            } else {\n",
       "                fill.style.transition = 'none';\n",
       "            }\n",
       "\n",
       "            fill.style.width = '100.0%';\n",
       "            fill.style.animation = 'none';\n",
       "            fill.style.backgroundImage = 'none'\n",
       "        \n",
       "                  \n",
       "                fill.style.animation = 'none';\n",
       "                fill.style.backgroundImage = 'none';\n",
       "            \n",
       "              })();\n",
       "        "
      ],
      "application/vdom.v1+json": {
       "attributes": {
        "id": "6b1cb620-7b65-4991-8eb6-fdc7d8ef06c7",
        "style": {
         "border": "1px solid #cfcfcf",
         "borderRadius": "4px",
         "boxSizing": "border-box",
         "position": "relative",
         "textAlign": "center",
         "width": "100%"
        }
       },
       "children": [
        {
         "attributes": {
          "class": "pb-text",
          "style": {
           "position": "absolute",
           "width": "100%"
          }
         },
         "children": [
          "Simulation finished in 0:00:03."
         ],
         "tagName": "div"
        },
        {
         "attributes": {
          "class": "pb-fill",
          "style": {
           "animation": "none",
           "backgroundColor": "#bdd2e6",
           "backgroundImage": "none",
           "transition": "width 0.1s linear",
           "width": "100%"
          }
         },
         "children": [
          {
           "attributes": {
            "scoped": "scoped",
            "type": "text/css"
           },
           "children": [
            "\n                        @keyframes pb-fill-anim {\n                            0% { background-position: 0 0; }\n                            100% { background-position: 100px 0; }\n                        }}"
           ],
           "tagName": "style"
          },
          " "
         ],
         "tagName": "div"
        }
       ],
       "tagName": "div"
      }
     },
     "metadata": {},
     "output_type": "display_data"
    },
    {
     "name": "stdout",
     "output_type": "stream",
     "text": [
      "runtime = 24.148 s\n"
     ]
    },
    {
     "data": {
      "image/png": "[encoded data removed]",
      "text/plain": [
       "<Figure size 576x576 with 1 Axes>"
      ]
     },
     "metadata": {},
     "output_type": "display_data"
    }
   ],
   "source": [
    "start = time.time()\n",
    "t1, a1, s1, v1 = go(3, t=0.5, dt=0.001, sample_every=0.001, neuron_type=WilsonRK4())\n",
    "end = time.time()\n",
    "print('runtime = %.3f s' %(end-start))\n",
    "\n",
    "fig, ax = plt.subplots(1, 1, figsize=(8, 8))\n",
    "ax.plot(t1, v1)\n",
    "ax.set(xlabel='time (s)', ylabel='Voltage (mV)')\n",
    "plt.show()"
   ]
  },
  {
   "cell_type": "markdown",
   "metadata": {},
   "source": [
    "## Brian"
   ]
  },
  {
   "cell_type": "code",
   "execution_count": 206,
   "metadata": {},
   "outputs": [
    {
     "name": "stdout",
     "output_type": "stream",
     "text": [
      "running transients...\n",
      " 74.00% done..."
     ]
    },
    {
     "data": {
      "application/vdom.v1+json": {
       "attributes": {},
       "tagName": "div"
      },
      "text/html": [
       "\n",
       "                <script>\n",
       "                    if (Jupyter.version.split(\".\")[0] < 5) {\n",
       "                        var pb = document.getElementById(\"36736c23-08e3-41d8-9073-d38a107d3bdb\");\n",
       "                        var text = document.createTextNode(\n",
       "                            \"HMTL progress bar requires Jupyter Notebook >= \" +\n",
       "                            \"5.0 or Jupyter Lab. Alternatively, you can use \" +\n",
       "                            \"TerminalProgressBar().\");\n",
       "                        pb.parentNode.insertBefore(text, pb);\n",
       "                    }\n",
       "                </script>\n",
       "                <div id=\"36736c23-08e3-41d8-9073-d38a107d3bdb\" style=\"\n",
       "                    width: 100%;\n",
       "                    border: 1px solid #cfcfcf;\n",
       "                    border-radius: 4px;\n",
       "                    text-align: center;\n",
       "                    position: relative;\">\n",
       "                  <div class=\"pb-text\" style=\"\n",
       "                      position: absolute;\n",
       "                      width: 100%;\">\n",
       "                    0%\n",
       "                  </div>\n",
       "                  <div class=\"pb-fill\" style=\"\n",
       "                      background-color: #bdd2e6;\n",
       "                      width: 0%;\">\n",
       "                    <style type=\"text/css\" scoped=\"scoped\">\n",
       "                        @keyframes pb-fill-anim {\n",
       "                            0% { background-position: 0 0; }\n",
       "                            100% { background-position: 100px 0; }\n",
       "                        }\n",
       "                    </style>\n",
       "                    &nbsp;\n",
       "                  </div>\n",
       "                </div>"
      ],
      "text/plain": [
       "HtmlProgressBar cannot be displayed. Please use the TerminalProgressBar. It can be enabled with `nengo.rc.set('progress', 'progress_bar', 'nengo.utils.progress.TerminalProgressBar')`."
      ]
     },
     "metadata": {},
     "output_type": "display_data"
    },
    {
     "name": "stdout",
     "output_type": "stream",
     "text": [
      "\r",
      " 75.00% done..."
     ]
    },
    {
     "data": {
      "application/javascript": [
       "\n",
       "              (function () {\n",
       "                  var root = document.getElementById('36736c23-08e3-41d8-9073-d38a107d3bdb');\n",
       "                  var text = root.getElementsByClassName('pb-text')[0];\n",
       "                  var fill = root.getElementsByClassName('pb-fill')[0];\n",
       "\n",
       "                  text.innerHTML = 'Build finished in 0:01:32.';\n",
       "                  \n",
       "            fill.style.width = '100%';\n",
       "            fill.style.animation = 'pb-fill-anim 2s linear infinite';\n",
       "            fill.style.backgroundSize = '100px 100%';\n",
       "            fill.style.backgroundImage = 'repeating-linear-gradient(' +\n",
       "                '90deg, #bdd2e6, #edf2f8 40%, #bdd2e6 80%, #bdd2e6)';\n",
       "        \n",
       "                  \n",
       "                fill.style.animation = 'none';\n",
       "                fill.style.backgroundImage = 'none';\n",
       "            \n",
       "              })();\n",
       "        "
      ],
      "application/vdom.v1+json": {
       "attributes": {
        "id": "ac5698c3-5a39-493d-81cb-ebab18e693f9",
        "style": {
         "border": "1px solid #cfcfcf",
         "borderRadius": "4px",
         "boxSizing": "border-box",
         "position": "relative",
         "textAlign": "center",
         "width": "100%"
        }
       },
       "children": [
        {
         "attributes": {
          "class": "pb-text",
          "style": {
           "position": "absolute",
           "width": "100%"
          }
         },
         "children": [
          "Build finished in 0:01:32."
         ],
         "tagName": "div"
        },
        {
         "attributes": {
          "class": "pb-fill",
          "style": {
           "animation": "none",
           "backgroundColor": "#bdd2e6",
           "backgroundImage": "none",
           "backgroundSize": "100px 100%",
           "width": "100%"
          }
         },
         "children": [
          {
           "attributes": {
            "scoped": "scoped",
            "type": "text/css"
           },
           "children": [
            "\n                        @keyframes pb-fill-anim {\n                            0% { background-position: 0 0; }\n                            100% { background-position: 100px 0; }\n                        }}"
           ],
           "tagName": "style"
          },
          " "
         ],
         "tagName": "div"
        }
       ],
       "tagName": "div"
      }
     },
     "metadata": {},
     "output_type": "display_data"
    },
    {
     "name": "stdout",
     "output_type": "stream",
     "text": [
      "100.00% done...\n",
      "calculating rate...\n",
      "100.00% done...\n",
      "running transients...\n",
      "100.00% done...\n",
      "calculating rate...\n",
      "100.00% done...\n",
      "running transients...\n",
      "100.00% done...\n",
      "calculating rate...\n",
      "100.00% done...\n"
     ]
    },
    {
     "data": {
      "application/vdom.v1+json": {
       "attributes": {},
       "tagName": "div"
      },
      "text/html": [
       "\n",
       "                <script>\n",
       "                    if (Jupyter.version.split(\".\")[0] < 5) {\n",
       "                        var pb = document.getElementById(\"5ebf55ac-697a-46ed-8061-8890efe4b14d\");\n",
       "                        var text = document.createTextNode(\n",
       "                            \"HMTL progress bar requires Jupyter Notebook >= \" +\n",
       "                            \"5.0 or Jupyter Lab. Alternatively, you can use \" +\n",
       "                            \"TerminalProgressBar().\");\n",
       "                        pb.parentNode.insertBefore(text, pb);\n",
       "                    }\n",
       "                </script>\n",
       "                <div id=\"5ebf55ac-697a-46ed-8061-8890efe4b14d\" style=\"\n",
       "                    width: 100%;\n",
       "                    border: 1px solid #cfcfcf;\n",
       "                    border-radius: 4px;\n",
       "                    text-align: center;\n",
       "                    position: relative;\">\n",
       "                  <div class=\"pb-text\" style=\"\n",
       "                      position: absolute;\n",
       "                      width: 100%;\">\n",
       "                    0%\n",
       "                  </div>\n",
       "                  <div class=\"pb-fill\" style=\"\n",
       "                      background-color: #bdd2e6;\n",
       "                      width: 0%;\">\n",
       "                    <style type=\"text/css\" scoped=\"scoped\">\n",
       "                        @keyframes pb-fill-anim {\n",
       "                            0% { background-position: 0 0; }\n",
       "                            100% { background-position: 100px 0; }\n",
       "                        }\n",
       "                    </style>\n",
       "                    &nbsp;\n",
       "                  </div>\n",
       "                </div>"
      ],
      "text/plain": [
       "HtmlProgressBar cannot be displayed. Please use the TerminalProgressBar. It can be enabled with `nengo.rc.set('progress', 'progress_bar', 'nengo.utils.progress.TerminalProgressBar')`."
      ]
     },
     "metadata": {},
     "output_type": "display_data"
    },
    {
     "data": {
      "application/javascript": [
       "\n",
       "              (function () {\n",
       "                  var root = document.getElementById('5ebf55ac-697a-46ed-8061-8890efe4b14d');\n",
       "                  var text = root.getElementsByClassName('pb-text')[0];\n",
       "                  var fill = root.getElementsByClassName('pb-fill')[0];\n",
       "\n",
       "                  text.innerHTML = 'Simulation finished in 0:00:14.';\n",
       "                  \n",
       "            if (100.0 > 0.) {\n",
       "                fill.style.transition = 'width 0.1s linear';\n",
       "            } else {\n",
       "                fill.style.transition = 'none';\n",
       "            }\n",
       "\n",
       "            fill.style.width = '100.0%';\n",
       "            fill.style.animation = 'none';\n",
       "            fill.style.backgroundImage = 'none'\n",
       "        \n",
       "                  \n",
       "                fill.style.animation = 'none';\n",
       "                fill.style.backgroundImage = 'none';\n",
       "            \n",
       "              })();\n",
       "        "
      ],
      "application/vdom.v1+json": {
       "attributes": {
        "id": "6345a9e7-320c-48eb-a663-e8cb754c18a8",
        "style": {
         "border": "1px solid #cfcfcf",
         "borderRadius": "4px",
         "boxSizing": "border-box",
         "position": "relative",
         "textAlign": "center",
         "width": "100%"
        }
       },
       "children": [
        {
         "attributes": {
          "class": "pb-text",
          "style": {
           "position": "absolute",
           "width": "100%"
          }
         },
         "children": [
          "Simulation finished in 0:00:14."
         ],
         "tagName": "div"
        },
        {
         "attributes": {
          "class": "pb-fill",
          "style": {
           "animation": "none",
           "backgroundColor": "#bdd2e6",
           "backgroundImage": "none",
           "transition": "width 0.1s linear",
           "width": "100%"
          }
         },
         "children": [
          {
           "attributes": {
            "scoped": "scoped",
            "type": "text/css"
           },
           "children": [
            "\n                        @keyframes pb-fill-anim {\n                            0% { background-position: 0 0; }\n                            100% { background-position: 100px 0; }\n                        }}"
           ],
           "tagName": "style"
          },
          " "
         ],
         "tagName": "div"
        }
       ],
       "tagName": "div"
      }
     },
     "metadata": {},
     "output_type": "display_data"
    },
    {
     "name": "stdout",
     "output_type": "stream",
     "text": [
      "runtime = 105.299 s\n"
     ]
    },
    {
     "data": {
      "image/png": "[encoded data removed]",
      "text/plain": [
       "<Figure size 576x576 with 1 Axes>"
      ]
     },
     "metadata": {},
     "output_type": "display_data"
    }
   ],
   "source": [
    "start = time.time()\n",
    "t1, a1, s1, v1 = go(3, t=0.5, dt=0.001, sample_every=0.001, neuron_type=WilsonBrian(dt_brian=0.000025, ode='euler'))\n",
    "end = time.time()\n",
    "print('runtime = %.3f s' %(end-start))\n",
    "\n",
    "fig, ax = plt.subplots(1, 1, figsize=(8, 8))\n",
    "ax.plot(t1, v1)\n",
    "ax.set(xlabel='time (s)', ylabel='Voltage (mV)')\n",
    "plt.show()"
   ]
  },
  {
   "cell_type": "code",
   "execution_count": null,
   "metadata": {},
   "outputs": [],
   "source": []
  }
 ],
 "metadata": {
  "kernelspec": {
   "display_name": "Python 3",
   "language": "python",
   "name": "python3"
  },
  "language_info": {
   "codemirror_mode": {
    "name": "ipython",
    "version": 3
   },
   "file_extension": ".py",
   "mimetype": "text/x-python",
   "name": "python",
   "nbconvert_exporter": "python",
   "pygments_lexer": "ipython3",
   "version": "3.6.4"
  }
 },
 "nbformat": 4,
 "nbformat_minor": 2
}
