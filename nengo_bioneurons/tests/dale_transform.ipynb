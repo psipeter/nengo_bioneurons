{
 "cells": [
  {
   "cell_type": "markdown",
   "metadata": {},
   "source": [
    "## Overview of Dale's Transform\n",
    "\n",
    " 1. Compute non-negative decoders from ```pre``` to ```post```, ```d_ampa``` and ```d_nmda```, that have corresponding synaptic filters h_ampa and h_nmda which have biologically-realistic time constants.\n",
    " \n",
    " 2. These decoders compute a function ```f(x) = func_pos(stim)``` that is non-negative, allowing the non-negative least squares solver ```NnlsL2()``` to optimize effectively. The activity matrix is formed by stacking ```h_ampa.filt(spikes)``` and ```h_nmda.filt(spikes)```, allowing ```NnlsL2()``` to find decoders that account for the mixing of these two synapses. Note that ```func_pos()``` must be chosen to ensure it is the type of function that ```NnlsL2()``` can represent well. Two good choices are adding a positive constant, such that ```f(x) > 0 for all x```, or adding a u-shaped curve derived from summing all the activities of ```pre```.\n",
    " \n",
    " 3. Form two connections between ```pre``` and ```post``` using ```d_ampa/h_amps``` and ```d_nmda/h_nmda```. This should stimulate post to represent ```func_pos(u)```.\n",
    " \n",
    " 4. Use an inhibitory population ```inh``` to cancel the positive shift introduced by ```func_pos()```. This will eventually require a connection between ```inh``` and ```post``` with non-positive ```d_gaba``` and an inhibitory synapse ```h_gaba```.\n",
    " \n",
    " 5. Stimulate ```inh``` with ```pre``` using another non-negative pair of connections, ```d_ampa_shift``` and ```d_nmda_shift```. These decoders calculate the positive shift introduced by ```func_pos()```, so the target for this ```NnlsL2()``` is ```target_shift = fun_pos(u) - target_pre```.\n",
    " \n",
    " 6. To ensure that the ```pre-inh``` connections do not overstimulate ```inh``` (drive to saturation), scale by a constant ```T_inh = 1.0/max(xhat_pos)```\n",
    "   \n",
    " 7. Simulate the network, collect spikes from ```inh```, filter with ```h_gaba```, and compute non-negative decoders ```d_gaba```. The target of these decoders is the same ```target_shift = fun_pos(u) - target_pre```. Afterwards set ```d_gaba = -d_gaba``` to ensure non-positivity.\n",
    " \n",
    " 8. Connect ```inh``` to ```post``` with ```d_gaba/h_gaba```, as well as the inverse of the scaling transform ```T=1.0/T_inh```, effectively computing the negative of the positive shift introduced by func_pos. "
   ]
  },
  {
   "cell_type": "code",
   "execution_count": 1,
   "metadata": {},
   "outputs": [],
   "source": [
    "import numpy as np\n",
    "\n",
    "import nengo\n",
    "from nengo.solvers import LstsqL2, NoSolver, NnlsL2\n",
    "from nengo.dists import Uniform, Choice\n",
    "from nengo.params import Default\n",
    "\n",
    "from nengolib.signal import s, z, nrmse, LinearSystem\n",
    "from nengolib.synapses import Highpass, Lowpass, Alpha, DoubleExp\n",
    "\n",
    "import matplotlib.pyplot as plt\n",
    "import seaborn as sns\n",
    "sns.set(palette='dark', style='whitegrid')"
   ]
  },
  {
   "cell_type": "code",
   "execution_count": 2,
   "metadata": {},
   "outputs": [],
   "source": [
    "def get_norm(t, stim_func):\n",
    "    with nengo.Network() as model:\n",
    "        stim = nengo.Node(stim_func)\n",
    "        p_stim = nengo.Probe(stim, synapse=None)\n",
    "    with nengo.Simulator(model, progress_bar=False) as sim:\n",
    "        sim.run(t, progress_bar=False)\n",
    "    stimulus = sim.data[p_stim]\n",
    "    norm = np.max(np.abs(stimulus))\n",
    "    return norm\n",
    "\n",
    "def func_pos(x):\n",
    "    return x + np.abs(np.min(x)) + np.max(x)"
   ]
  },
  {
   "cell_type": "code",
   "execution_count": 3,
   "metadata": {},
   "outputs": [],
   "source": [
    "def network(\n",
    "    n_neurons=100,\n",
    "    t=10.0,\n",
    "    neuron_type=nengo.LIF(),\n",
    "    d_ampa=None,\n",
    "    d_nmda=None,\n",
    "    d_ampa_shift=None,\n",
    "    d_nmda_shift=None,\n",
    "    d_gaba=None,\n",
    "    h_ampa=DoubleExp(0.00055, 0.0022),\n",
    "    h_nmda=DoubleExp(0.0106, 0.285),\n",
    "    h_gaba=Alpha(0.0015),\n",
    "    h_target=Lowpass(0.05),\n",
    "    T_inh=1,\n",
    "    stim_func=lambda t: np.sin(t),\n",
    "    seed=0,\n",
    "    **kwargs):\n",
    "\n",
    "    solver_ampa = NoSolver() if d_ampa is None else NoSolver(d_ampa)\n",
    "    solver_nmda = NoSolver() if d_nmda is None else NoSolver(d_nmda)\n",
    "    solver_ampa_shift = NoSolver() if d_ampa_shift is None else NoSolver(d_ampa_shift)\n",
    "    solver_nmda_shift = NoSolver() if d_nmda_shift is None else NoSolver(d_nmda_shift)\n",
    "    solver_gaba = NoSolver() if d_gaba is None else NoSolver(np.outer(np.ones((n_neurons, 1)), d_gaba), weights=True)\n",
    "\n",
    "    norm = get_norm(t, stim_func)\n",
    "\n",
    "    with nengo.Network(seed=seed) as network:\n",
    "        stim = nengo.Node(stim_func)\n",
    "        exc = nengo.Ensemble(n_neurons, 1, neuron_type=neuron_type, seed=seed)\n",
    "        inh = nengo.Ensemble(n_neurons, 1, neuron_type=neuron_type, seed=seed, intercepts=Uniform(0, 1), encoders=Choice([[1]]))\n",
    "        post = nengo.Ensemble(n_neurons, 1, neuron_type=neuron_type, seed=seed, intercepts=Uniform(-1, 1), encoders=Choice([[1]]))\n",
    "        tar = nengo.Ensemble(1, 1, neuron_type=nengo.Direct())\n",
    "        tar_post = nengo.Ensemble(1, 1, neuron_type=nengo.Direct())\n",
    "        nengo.Connection(stim, exc, transform=1.0/norm, synapse=Lowpass(0.05), seed=seed)\n",
    "        a=nengo.Connection(exc, inh, transform=T_inh, solver=solver_ampa_shift, synapse=h_ampa, seed=seed)\n",
    "        b=nengo.Connection(exc, inh, transform=T_inh, solver=solver_nmda_shift, synapse=h_nmda, seed=seed)\n",
    "        c=nengo.Connection(exc, post, solver=solver_ampa, synapse=h_ampa, seed=seed)\n",
    "        d=nengo.Connection(exc, post, solver=solver_nmda, synapse=h_nmda, seed=seed)\n",
    "        e=nengo.Connection(inh, post, transform=1.0/T_inh, solver=solver_gaba, synapse=h_gaba, seed=seed)\n",
    "        nengo.Connection(stim, tar, transform=1.0/norm, synapse=Lowpass(0.05))\n",
    "        nengo.Connection(tar, tar_post, synapse=h_target)\n",
    "        p_exc = nengo.Probe(exc.neurons, 'spikes', synapse=None)\n",
    "        p_inh = nengo.Probe(inh.neurons, 'spikes', synapse=None)\n",
    "        p_post = nengo.Probe(post.neurons, 'spikes', synapse=None)\n",
    "        p_tar = nengo.Probe(tar, synapse=None)\n",
    "        p_tar_post = nengo.Probe(tar_post, synapse=None)\n",
    "        \n",
    "    with nengo.Simulator(network) as sim:\n",
    "        sim.run(t)\n",
    "        \n",
    "    print('fraction exc_inh_ampa > 0: %.1f'  %(len(np.where(sim.data[a].weights.ravel() > 0)[0])/n_neurons))\n",
    "    print('fraction exc_inh_ampa == 0: %.1f'  %(len(np.where(sim.data[a].weights.ravel() == 0)[0])/n_neurons))\n",
    "    print('fraction exc_inh_nmda > 0: %.1f' %(len(np.where(sim.data[b].weights.ravel() > 0)[0])/n_neurons))\n",
    "    print('fraction exc_inh_nmda == 0: %.1f' %(len(np.where(sim.data[b].weights.ravel() == 0)[0])/n_neurons))\n",
    "    print('fraction exc_post_ampa > 0: %.1f' %(len(np.where(sim.data[c].weights.ravel() > 0)[0])/n_neurons))\n",
    "    print('fraction exc_post_ampa == 0: %.1f' %(len(np.where(sim.data[c].weights.ravel() == 0)[0])/n_neurons))\n",
    "    print('fraction exc_post_nmda > 0: %.1f' %(len(np.where(sim.data[d].weights.ravel() > 0)[0])/n_neurons))\n",
    "    print('fraction exc_post_nmda == 0: %.1f' %(len(np.where(sim.data[d].weights.ravel() == 0)[0])/n_neurons))\n",
    "    print('fraction inh_post_gaba < 0: %.1f' %(len(np.where(sim.data[e].weights.ravel() < 0)[0])/(n_neurons**2)))\n",
    "    print('fraction inh_post_gaba == 0: %.1f' %(len(np.where(sim.data[e].weights.ravel() == 0)[0])/(n_neurons**2)))\n",
    "        \n",
    "    return dict(\n",
    "        trange=sim.trange(),\n",
    "        exc=sim.data[p_exc],\n",
    "        inh=sim.data[p_inh],\n",
    "        post=sim.data[p_post],\n",
    "        tar=sim.data[p_tar],\n",
    "        tar_post=sim.data[p_tar_post],\n",
    "    )"
   ]
  },
  {
   "cell_type": "code",
   "execution_count": 22,
   "metadata": {},
   "outputs": [],
   "source": [
    "def go(\n",
    "    t_train=10,\n",
    "    t_test=10,\n",
    "    reg_exc=0.1,\n",
    "    reg_shift=0.1,\n",
    "    reg_inh=0.5,\n",
    "    reg_post=0.01,\n",
    "    stim_func=nengo.processes.WhiteSignal(period=10, high=1, rms=1, seed=0),\n",
    "    test_func=nengo.processes.WhiteSignal(period=10, high=1, rms=1, seed=1),\n",
    "    h_target=Lowpass(0.1),\n",
    "    h_ampa=DoubleExp(0.00055, 0.0022),\n",
    "    h_nmda=DoubleExp(0.0106, 0.285),\n",
    "    h_gaba=Alpha(0.0015)):\n",
    "    \n",
    "    dd1 = network(t=t_train, stim_func=stim_func, h_target=h_target)\n",
    "\n",
    "    a_exc_ampa = h_ampa.filt(dd1['exc'])\n",
    "    a_exc_nmda = h_nmda.filt(dd1['exc'])\n",
    "    tar = h_target.filt(dd1['tar'])\n",
    "    tar_exc = func_pos(tar)\n",
    "    tar_shift = tar_exc - tar\n",
    "    T_inh = 1.0 / np.max(tar_shift)\n",
    "    A = np.hstack((a_exc_ampa, a_exc_nmda))\n",
    "    D_exc = NnlsL2(reg=reg_exc)(A, tar_exc)[0]\n",
    "    D_shift = NnlsL2(reg=reg_shift)(A, tar_shift)[0]\n",
    "    d_ampa = D_exc[:a_exc_ampa.shape[1]]\n",
    "    d_nmda = D_exc[a_exc_ampa.shape[1]:]\n",
    "    d_ampa_shift = D_shift[:a_exc_ampa.shape[1]]\n",
    "    d_nmda_shift = D_shift[a_exc_ampa.shape[1]:]\n",
    "\n",
    "    dd2 = network(t=t_train, stim_func=stim_func, h_target=h_target, T_inh=T_inh,\n",
    "        d_ampa=d_ampa, d_nmda=d_nmda, d_ampa_shift=d_ampa_shift, d_nmda_shift=d_nmda_shift)\n",
    "    \n",
    "    a_inh = h_gaba.filt(dd2['inh'])\n",
    "    tar = h_target.filt(dd2['tar'])\n",
    "    tar_exc = func_pos(tar)\n",
    "    tar_inh = tar_exc - tar\n",
    "    d_gaba = -NnlsL2(reg=reg_inh)(a_inh, tar_inh)[0]\n",
    "\n",
    "    dd3 = network(t=t_train, stim_func=stim_func, h_target=h_target, T_inh=T_inh,\n",
    "        d_ampa=d_ampa, d_nmda=d_nmda, d_ampa_shift=d_ampa_shift, d_nmda_shift=d_nmda_shift, d_gaba=d_gaba)\n",
    "\n",
    "    tar_post = Lowpass(0.05).filt(dd3['tar_post'])\n",
    "    a_post = Lowpass(0.05).filt(dd3['post'])\n",
    "    d_post = LstsqL2(reg=reg_post)(a_post, tar_post)[0]\n",
    "    \n",
    "    dd4 = network(t=t_test, stim_func=test_func, h_target=h_target, T_inh=T_inh,\n",
    "        d_ampa=d_ampa, d_nmda=d_nmda, d_ampa_shift=d_ampa_shift, d_nmda_shift=d_nmda_shift, d_gaba=d_gaba)\n",
    "\n",
    "    times = dd4['trange']\n",
    "    a_inh = h_gaba.filt(dd4['inh'])\n",
    "    a_exc_ampa = h_ampa.filt(dd4['exc'])\n",
    "    a_exc_nmda = h_nmda.filt(dd4['exc'])\n",
    "    a_post = Lowpass(0.05).filt(dd4['post'])\n",
    "    tar = h_target.filt(dd4['tar'])\n",
    "    tar_exc = func_pos(tar)\n",
    "    tar_inh = tar_exc - tar\n",
    "    tar_post = Lowpass(0.05).filt(dd4['tar_post'])\n",
    "    \n",
    "    xhat_exc = np.dot(a_exc_ampa, d_ampa) + np.dot(a_exc_nmda, d_nmda)\n",
    "    xhat_shift = np.dot(a_exc_ampa, d_ampa_shift) + np.dot(a_exc_nmda, d_nmda_shift)\n",
    "    xhat_inh = np.dot(a_inh, d_gaba)\n",
    "    xhat_diff = xhat_exc + xhat_inh\n",
    "    xhat_post = np.dot(a_post, d_post)\n",
    "    nrmse_exc = nrmse(xhat_exc, target=tar_exc)\n",
    "    nrmse_shift = nrmse(xhat_shift, target=tar_shift)\n",
    "    nrmse_inh = nrmse(xhat_inh, target=-tar_inh)\n",
    "    nrmse_diff = nrmse(xhat_diff, target=tar)\n",
    "    nrmse_post = nrmse(xhat_post, target=tar_post)\n",
    "\n",
    "    fig, (ax, ax2, ax3) = plt.subplots(1, 3, figsize=((18, 4)))\n",
    "    ax.plot(times, tar_exc, label='tar_exc')\n",
    "    ax.plot(times, xhat_exc, label='xhat_exc, nrmse=%.3f'%nrmse_exc, alpha=0.5)\n",
    "    ax2.plot(times, -tar_inh, label='tar_inh')\n",
    "    ax2.plot(times, xhat_inh, label='inh, nrmse=%.3f'%nrmse_inh, alpha=0.5)\n",
    "    ax3.plot(times, tar_post, label='tar_post')\n",
    "    ax3.plot(times, xhat_post, label='post, nrmse=%.3f'%nrmse_post, alpha=0.5)\n",
    "    ax.set(xlabel='time', title='exc')\n",
    "    ax2.set(xlabel='time', title='inh')\n",
    "    ax3.set(xlabel='time', title='post')\n",
    "    ax.legend(loc='lower left')\n",
    "    ax2.legend(loc='lower left')\n",
    "    ax3.legend(loc='lower left')\n",
    "    plt.show()"
   ]
  },
  {
   "cell_type": "code",
   "execution_count": 23,
   "metadata": {},
   "outputs": [
    {
     "name": "stdout",
     "output_type": "stream",
     "text": [
      "cannot import or initialize NEURON\n",
      "cannot import or initialize NEURON\n"
     ]
    },
    {
     "name": "stderr",
     "output_type": "stream",
     "text": [
      "/home/pduggins/.virtualenvs/nbn/lib/python3.6/site-packages/nengolib/signal/system.py:197: UserWarning: y0 (None!=0) does not properly initialize the system; see Nengo issue #1124.\n",
      "  \"Nengo issue #1124.\" % y0, UserWarning)\n"
     ]
    },
    {
     "data": {
      "application/vdom.v1+json": {
       "attributes": {},
       "tagName": "div"
      },
      "text/html": [
       "\n",
       "                <script>\n",
       "                    if (Jupyter.version.split(\".\")[0] < 5) {\n",
       "                        var pb = document.getElementById(\"571a90de-394c-4217-80f9-52432ab01744\");\n",
       "                        var text = document.createTextNode(\n",
       "                            \"HMTL progress bar requires Jupyter Notebook >= \" +\n",
       "                            \"5.0 or Jupyter Lab. Alternatively, you can use \" +\n",
       "                            \"TerminalProgressBar().\");\n",
       "                        pb.parentNode.insertBefore(text, pb);\n",
       "                    }\n",
       "                </script>\n",
       "                <div id=\"571a90de-394c-4217-80f9-52432ab01744\" style=\"\n",
       "                    width: 100%;\n",
       "                    border: 1px solid #cfcfcf;\n",
       "                    border-radius: 4px;\n",
       "                    text-align: center;\n",
       "                    position: relative;\">\n",
       "                  <div class=\"pb-text\" style=\"\n",
       "                      position: absolute;\n",
       "                      width: 100%;\">\n",
       "                    0%\n",
       "                  </div>\n",
       "                  <div class=\"pb-fill\" style=\"\n",
       "                      background-color: #bdd2e6;\n",
       "                      width: 0%;\">\n",
       "                    <style type=\"text/css\" scoped=\"scoped\">\n",
       "                        @keyframes pb-fill-anim {\n",
       "                            0% { background-position: 0 0; }\n",
       "                            100% { background-position: 100px 0; }\n",
       "                        }\n",
       "                    </style>\n",
       "                    &nbsp;\n",
       "                  </div>\n",
       "                </div>"
      ],
      "text/plain": [
       "HtmlProgressBar cannot be displayed. Please use the TerminalProgressBar. It can be enabled with `nengo.rc.set('progress', 'progress_bar', 'nengo.utils.progress.TerminalProgressBar')`."
      ]
     },
     "metadata": {},
     "output_type": "display_data"
    },
    {
     "data": {
      "application/javascript": [
       "\n",
       "              (function () {\n",
       "                  var root = document.getElementById('571a90de-394c-4217-80f9-52432ab01744');\n",
       "                  var text = root.getElementsByClassName('pb-text')[0];\n",
       "                  var fill = root.getElementsByClassName('pb-fill')[0];\n",
       "\n",
       "                  text.innerHTML = 'Build finished in 0:00:01.';\n",
       "                  \n",
       "            fill.style.width = '100%';\n",
       "            fill.style.animation = 'pb-fill-anim 2s linear infinite';\n",
       "            fill.style.backgroundSize = '100px 100%';\n",
       "            fill.style.backgroundImage = 'repeating-linear-gradient(' +\n",
       "                '90deg, #bdd2e6, #edf2f8 40%, #bdd2e6 80%, #bdd2e6)';\n",
       "        \n",
       "                  \n",
       "                fill.style.animation = 'none';\n",
       "                fill.style.backgroundImage = 'none';\n",
       "            \n",
       "              })();\n",
       "        "
      ],
      "application/vdom.v1+json": {
       "attributes": {
        "id": "737653f5-1f53-4a01-8c86-ea09613d0375",
        "style": {
         "border": "1px solid #cfcfcf",
         "borderRadius": "4px",
         "boxSizing": "border-box",
         "position": "relative",
         "textAlign": "center",
         "width": "100%"
        }
       },
       "children": [
        {
         "attributes": {
          "class": "pb-text",
          "style": {
           "position": "absolute",
           "width": "100%"
          }
         },
         "children": [
          "Build finished in 0:00:01."
         ],
         "tagName": "div"
        },
        {
         "attributes": {
          "class": "pb-fill",
          "style": {
           "animation": "none",
           "backgroundColor": "#bdd2e6",
           "backgroundImage": "none",
           "backgroundSize": "100px 100%",
           "width": "100%"
          }
         },
         "children": [
          {
           "attributes": {
            "scoped": "scoped",
            "type": "text/css"
           },
           "children": [
            "\n                        @keyframes pb-fill-anim {\n                            0% { background-position: 0 0; }\n                            100% { background-position: 100px 0; }\n                        }}"
           ],
           "tagName": "style"
          },
          " "
         ],
         "tagName": "div"
        }
       ],
       "tagName": "div"
      }
     },
     "metadata": {},
     "output_type": "display_data"
    },
    {
     "data": {
      "application/vdom.v1+json": {
       "attributes": {},
       "tagName": "div"
      },
      "text/html": [
       "\n",
       "                <script>\n",
       "                    if (Jupyter.version.split(\".\")[0] < 5) {\n",
       "                        var pb = document.getElementById(\"a1fcece1-733f-4814-956c-f9b0b9335f2f\");\n",
       "                        var text = document.createTextNode(\n",
       "                            \"HMTL progress bar requires Jupyter Notebook >= \" +\n",
       "                            \"5.0 or Jupyter Lab. Alternatively, you can use \" +\n",
       "                            \"TerminalProgressBar().\");\n",
       "                        pb.parentNode.insertBefore(text, pb);\n",
       "                    }\n",
       "                </script>\n",
       "                <div id=\"a1fcece1-733f-4814-956c-f9b0b9335f2f\" style=\"\n",
       "                    width: 100%;\n",
       "                    border: 1px solid #cfcfcf;\n",
       "                    border-radius: 4px;\n",
       "                    text-align: center;\n",
       "                    position: relative;\">\n",
       "                  <div class=\"pb-text\" style=\"\n",
       "                      position: absolute;\n",
       "                      width: 100%;\">\n",
       "                    0%\n",
       "                  </div>\n",
       "                  <div class=\"pb-fill\" style=\"\n",
       "                      background-color: #bdd2e6;\n",
       "                      width: 0%;\">\n",
       "                    <style type=\"text/css\" scoped=\"scoped\">\n",
       "                        @keyframes pb-fill-anim {\n",
       "                            0% { background-position: 0 0; }\n",
       "                            100% { background-position: 100px 0; }\n",
       "                        }\n",
       "                    </style>\n",
       "                    &nbsp;\n",
       "                  </div>\n",
       "                </div>"
      ],
      "text/plain": [
       "HtmlProgressBar cannot be displayed. Please use the TerminalProgressBar. It can be enabled with `nengo.rc.set('progress', 'progress_bar', 'nengo.utils.progress.TerminalProgressBar')`."
      ]
     },
     "metadata": {},
     "output_type": "display_data"
    },
    {
     "data": {
      "application/javascript": [
       "\n",
       "              (function () {\n",
       "                  var root = document.getElementById('a1fcece1-733f-4814-956c-f9b0b9335f2f');\n",
       "                  var text = root.getElementsByClassName('pb-text')[0];\n",
       "                  var fill = root.getElementsByClassName('pb-fill')[0];\n",
       "\n",
       "                  text.innerHTML = 'Simulation finished in 0:00:08.';\n",
       "                  \n",
       "            if (100.0 > 0.) {\n",
       "                fill.style.transition = 'width 0.1s linear';\n",
       "            } else {\n",
       "                fill.style.transition = 'none';\n",
       "            }\n",
       "\n",
       "            fill.style.width = '100.0%';\n",
       "            fill.style.animation = 'none';\n",
       "            fill.style.backgroundImage = 'none'\n",
       "        \n",
       "                  \n",
       "                fill.style.animation = 'none';\n",
       "                fill.style.backgroundImage = 'none';\n",
       "            \n",
       "              })();\n",
       "        "
      ],
      "application/vdom.v1+json": {
       "attributes": {
        "id": "607978ee-966b-4708-8113-4075f8efa6bb",
        "style": {
         "border": "1px solid #cfcfcf",
         "borderRadius": "4px",
         "boxSizing": "border-box",
         "position": "relative",
         "textAlign": "center",
         "width": "100%"
        }
       },
       "children": [
        {
         "attributes": {
          "class": "pb-text",
          "style": {
           "position": "absolute",
           "width": "100%"
          }
         },
         "children": [
          "Simulation finished in 0:00:08."
         ],
         "tagName": "div"
        },
        {
         "attributes": {
          "class": "pb-fill",
          "style": {
           "animation": "none",
           "backgroundColor": "#bdd2e6",
           "backgroundImage": "none",
           "transition": "width 0.1s linear",
           "width": "100%"
          }
         },
         "children": [
          {
           "attributes": {
            "scoped": "scoped",
            "type": "text/css"
           },
           "children": [
            "\n                        @keyframes pb-fill-anim {\n                            0% { background-position: 0 0; }\n                            100% { background-position: 100px 0; }\n                        }}"
           ],
           "tagName": "style"
          },
          " "
         ],
         "tagName": "div"
        }
       ],
       "tagName": "div"
      }
     },
     "metadata": {},
     "output_type": "display_data"
    },
    {
     "name": "stdout",
     "output_type": "stream",
     "text": [
      "fraction exc_inh_ampa > 0: 0.0\n",
      "fraction exc_inh_ampa == 0: 1.0\n",
      "fraction exc_inh_nmda > 0: 0.0\n",
      "fraction exc_inh_nmda == 0: 1.0\n",
      "fraction exc_post_ampa > 0: 0.0\n",
      "fraction exc_post_ampa == 0: 1.0\n",
      "fraction exc_post_nmda > 0: 0.0\n",
      "fraction exc_post_nmda == 0: 1.0\n",
      "fraction inh_post_gaba < 0: 0.0\n",
      "fraction inh_post_gaba == 0: 0.0\n",
      "cannot import or initialize NEURON\n"
     ]
    },
    {
     "name": "stderr",
     "output_type": "stream",
     "text": [
      "/home/pduggins/nengo/nengo/utils/numpy.py:79: FutureWarning: Using a non-tuple sequence for multidimensional indexing is deprecated; use `arr[tuple(seq)]` instead of `arr[seq]`. In the future this will be interpreted as an array index, `arr[np.array(seq)]`, which will result either in an error or a different result.\n",
      "  v = a[inds]\n"
     ]
    },
    {
     "name": "stdout",
     "output_type": "stream",
     "text": [
      "cannot import or initialize NEURON\n"
     ]
    },
    {
     "data": {
      "application/vdom.v1+json": {
       "attributes": {},
       "tagName": "div"
      },
      "text/html": [
       "\n",
       "                <script>\n",
       "                    if (Jupyter.version.split(\".\")[0] < 5) {\n",
       "                        var pb = document.getElementById(\"e9963540-8666-4370-9f35-e9cc0f5dcc22\");\n",
       "                        var text = document.createTextNode(\n",
       "                            \"HMTL progress bar requires Jupyter Notebook >= \" +\n",
       "                            \"5.0 or Jupyter Lab. Alternatively, you can use \" +\n",
       "                            \"TerminalProgressBar().\");\n",
       "                        pb.parentNode.insertBefore(text, pb);\n",
       "                    }\n",
       "                </script>\n",
       "                <div id=\"e9963540-8666-4370-9f35-e9cc0f5dcc22\" style=\"\n",
       "                    width: 100%;\n",
       "                    border: 1px solid #cfcfcf;\n",
       "                    border-radius: 4px;\n",
       "                    text-align: center;\n",
       "                    position: relative;\">\n",
       "                  <div class=\"pb-text\" style=\"\n",
       "                      position: absolute;\n",
       "                      width: 100%;\">\n",
       "                    0%\n",
       "                  </div>\n",
       "                  <div class=\"pb-fill\" style=\"\n",
       "                      background-color: #bdd2e6;\n",
       "                      width: 0%;\">\n",
       "                    <style type=\"text/css\" scoped=\"scoped\">\n",
       "                        @keyframes pb-fill-anim {\n",
       "                            0% { background-position: 0 0; }\n",
       "                            100% { background-position: 100px 0; }\n",
       "                        }\n",
       "                    </style>\n",
       "                    &nbsp;\n",
       "                  </div>\n",
       "                </div>"
      ],
      "text/plain": [
       "HtmlProgressBar cannot be displayed. Please use the TerminalProgressBar. It can be enabled with `nengo.rc.set('progress', 'progress_bar', 'nengo.utils.progress.TerminalProgressBar')`."
      ]
     },
     "metadata": {},
     "output_type": "display_data"
    },
    {
     "data": {
      "application/javascript": [
       "\n",
       "              (function () {\n",
       "                  var root = document.getElementById('e9963540-8666-4370-9f35-e9cc0f5dcc22');\n",
       "                  var text = root.getElementsByClassName('pb-text')[0];\n",
       "                  var fill = root.getElementsByClassName('pb-fill')[0];\n",
       "\n",
       "                  text.innerHTML = 'Build finished in 0:00:01.';\n",
       "                  \n",
       "            fill.style.width = '100%';\n",
       "            fill.style.animation = 'pb-fill-anim 2s linear infinite';\n",
       "            fill.style.backgroundSize = '100px 100%';\n",
       "            fill.style.backgroundImage = 'repeating-linear-gradient(' +\n",
       "                '90deg, #bdd2e6, #edf2f8 40%, #bdd2e6 80%, #bdd2e6)';\n",
       "        \n",
       "                  \n",
       "                fill.style.animation = 'none';\n",
       "                fill.style.backgroundImage = 'none';\n",
       "            \n",
       "              })();\n",
       "        "
      ],
      "application/vdom.v1+json": {
       "attributes": {
        "id": "ec0ece0f-2369-4e0c-aa0d-51d932087923",
        "style": {
         "border": "1px solid #cfcfcf",
         "borderRadius": "4px",
         "boxSizing": "border-box",
         "position": "relative",
         "textAlign": "center",
         "width": "100%"
        }
       },
       "children": [
        {
         "attributes": {
          "class": "pb-text",
          "style": {
           "position": "absolute",
           "width": "100%"
          }
         },
         "children": [
          "Build finished in 0:00:01."
         ],
         "tagName": "div"
        },
        {
         "attributes": {
          "class": "pb-fill",
          "style": {
           "animation": "none",
           "backgroundColor": "#bdd2e6",
           "backgroundImage": "none",
           "backgroundSize": "100px 100%",
           "width": "100%"
          }
         },
         "children": [
          {
           "attributes": {
            "scoped": "scoped",
            "type": "text/css"
           },
           "children": [
            "\n                        @keyframes pb-fill-anim {\n                            0% { background-position: 0 0; }\n                            100% { background-position: 100px 0; }\n                        }}"
           ],
           "tagName": "style"
          },
          " "
         ],
         "tagName": "div"
        }
       ],
       "tagName": "div"
      }
     },
     "metadata": {},
     "output_type": "display_data"
    },
    {
     "data": {
      "application/vdom.v1+json": {
       "attributes": {},
       "tagName": "div"
      },
      "text/html": [
       "\n",
       "                <script>\n",
       "                    if (Jupyter.version.split(\".\")[0] < 5) {\n",
       "                        var pb = document.getElementById(\"4d7fb374-59ed-49dc-8d1b-a82641b0b96b\");\n",
       "                        var text = document.createTextNode(\n",
       "                            \"HMTL progress bar requires Jupyter Notebook >= \" +\n",
       "                            \"5.0 or Jupyter Lab. Alternatively, you can use \" +\n",
       "                            \"TerminalProgressBar().\");\n",
       "                        pb.parentNode.insertBefore(text, pb);\n",
       "                    }\n",
       "                </script>\n",
       "                <div id=\"4d7fb374-59ed-49dc-8d1b-a82641b0b96b\" style=\"\n",
       "                    width: 100%;\n",
       "                    border: 1px solid #cfcfcf;\n",
       "                    border-radius: 4px;\n",
       "                    text-align: center;\n",
       "                    position: relative;\">\n",
       "                  <div class=\"pb-text\" style=\"\n",
       "                      position: absolute;\n",
       "                      width: 100%;\">\n",
       "                    0%\n",
       "                  </div>\n",
       "                  <div class=\"pb-fill\" style=\"\n",
       "                      background-color: #bdd2e6;\n",
       "                      width: 0%;\">\n",
       "                    <style type=\"text/css\" scoped=\"scoped\">\n",
       "                        @keyframes pb-fill-anim {\n",
       "                            0% { background-position: 0 0; }\n",
       "                            100% { background-position: 100px 0; }\n",
       "                        }\n",
       "                    </style>\n",
       "                    &nbsp;\n",
       "                  </div>\n",
       "                </div>"
      ],
      "text/plain": [
       "HtmlProgressBar cannot be displayed. Please use the TerminalProgressBar. It can be enabled with `nengo.rc.set('progress', 'progress_bar', 'nengo.utils.progress.TerminalProgressBar')`."
      ]
     },
     "metadata": {},
     "output_type": "display_data"
    },
    {
     "data": {
      "application/javascript": [
       "\n",
       "              (function () {\n",
       "                  var root = document.getElementById('4d7fb374-59ed-49dc-8d1b-a82641b0b96b');\n",
       "                  var text = root.getElementsByClassName('pb-text')[0];\n",
       "                  var fill = root.getElementsByClassName('pb-fill')[0];\n",
       "\n",
       "                  text.innerHTML = 'Simulation finished in 0:00:09.';\n",
       "                  \n",
       "            if (100.0 > 0.) {\n",
       "                fill.style.transition = 'width 0.1s linear';\n",
       "            } else {\n",
       "                fill.style.transition = 'none';\n",
       "            }\n",
       "\n",
       "            fill.style.width = '100.0%';\n",
       "            fill.style.animation = 'none';\n",
       "            fill.style.backgroundImage = 'none'\n",
       "        \n",
       "                  \n",
       "                fill.style.animation = 'none';\n",
       "                fill.style.backgroundImage = 'none';\n",
       "            \n",
       "              })();\n",
       "        "
      ],
      "application/vdom.v1+json": {
       "attributes": {
        "id": "ad963786-0d20-474b-88ee-393fd480715a",
        "style": {
         "border": "1px solid #cfcfcf",
         "borderRadius": "4px",
         "boxSizing": "border-box",
         "position": "relative",
         "textAlign": "center",
         "width": "100%"
        }
       },
       "children": [
        {
         "attributes": {
          "class": "pb-text",
          "style": {
           "position": "absolute",
           "width": "100%"
          }
         },
         "children": [
          "Simulation finished in 0:00:09."
         ],
         "tagName": "div"
        },
        {
         "attributes": {
          "class": "pb-fill",
          "style": {
           "animation": "none",
           "backgroundColor": "#bdd2e6",
           "backgroundImage": "none",
           "transition": "width 0.1s linear",
           "width": "100%"
          }
         },
         "children": [
          {
           "attributes": {
            "scoped": "scoped",
            "type": "text/css"
           },
           "children": [
            "\n                        @keyframes pb-fill-anim {\n                            0% { background-position: 0 0; }\n                            100% { background-position: 100px 0; }\n                        }}"
           ],
           "tagName": "style"
          },
          " "
         ],
         "tagName": "div"
        }
       ],
       "tagName": "div"
      }
     },
     "metadata": {},
     "output_type": "display_data"
    },
    {
     "name": "stdout",
     "output_type": "stream",
     "text": [
      "fraction exc_inh_ampa > 0: 0.9\n",
      "fraction exc_inh_ampa == 0: 0.1\n",
      "fraction exc_inh_nmda > 0: 0.9\n",
      "fraction exc_inh_nmda == 0: 0.1\n",
      "fraction exc_post_ampa > 0: 0.7\n",
      "fraction exc_post_ampa == 0: 0.3\n",
      "fraction exc_post_nmda > 0: 0.4\n",
      "fraction exc_post_nmda == 0: 0.6\n",
      "fraction inh_post_gaba < 0: 0.0\n",
      "fraction inh_post_gaba == 0: 0.0\n",
      "cannot import or initialize NEURON\n",
      "cannot import or initialize NEURON\n"
     ]
    },
    {
     "data": {
      "application/vdom.v1+json": {
       "attributes": {},
       "tagName": "div"
      },
      "text/html": [
       "\n",
       "                <script>\n",
       "                    if (Jupyter.version.split(\".\")[0] < 5) {\n",
       "                        var pb = document.getElementById(\"a0d5233f-0d76-48c4-b2e2-726e864f10be\");\n",
       "                        var text = document.createTextNode(\n",
       "                            \"HMTL progress bar requires Jupyter Notebook >= \" +\n",
       "                            \"5.0 or Jupyter Lab. Alternatively, you can use \" +\n",
       "                            \"TerminalProgressBar().\");\n",
       "                        pb.parentNode.insertBefore(text, pb);\n",
       "                    }\n",
       "                </script>\n",
       "                <div id=\"a0d5233f-0d76-48c4-b2e2-726e864f10be\" style=\"\n",
       "                    width: 100%;\n",
       "                    border: 1px solid #cfcfcf;\n",
       "                    border-radius: 4px;\n",
       "                    text-align: center;\n",
       "                    position: relative;\">\n",
       "                  <div class=\"pb-text\" style=\"\n",
       "                      position: absolute;\n",
       "                      width: 100%;\">\n",
       "                    0%\n",
       "                  </div>\n",
       "                  <div class=\"pb-fill\" style=\"\n",
       "                      background-color: #bdd2e6;\n",
       "                      width: 0%;\">\n",
       "                    <style type=\"text/css\" scoped=\"scoped\">\n",
       "                        @keyframes pb-fill-anim {\n",
       "                            0% { background-position: 0 0; }\n",
       "                            100% { background-position: 100px 0; }\n",
       "                        }\n",
       "                    </style>\n",
       "                    &nbsp;\n",
       "                  </div>\n",
       "                </div>"
      ],
      "text/plain": [
       "HtmlProgressBar cannot be displayed. Please use the TerminalProgressBar. It can be enabled with `nengo.rc.set('progress', 'progress_bar', 'nengo.utils.progress.TerminalProgressBar')`."
      ]
     },
     "metadata": {},
     "output_type": "display_data"
    },
    {
     "data": {
      "application/javascript": [
       "\n",
       "              (function () {\n",
       "                  var root = document.getElementById('a0d5233f-0d76-48c4-b2e2-726e864f10be');\n",
       "                  var text = root.getElementsByClassName('pb-text')[0];\n",
       "                  var fill = root.getElementsByClassName('pb-fill')[0];\n",
       "\n",
       "                  text.innerHTML = 'Build finished in 0:00:01.';\n",
       "                  \n",
       "            fill.style.width = '100%';\n",
       "            fill.style.animation = 'pb-fill-anim 2s linear infinite';\n",
       "            fill.style.backgroundSize = '100px 100%';\n",
       "            fill.style.backgroundImage = 'repeating-linear-gradient(' +\n",
       "                '90deg, #bdd2e6, #edf2f8 40%, #bdd2e6 80%, #bdd2e6)';\n",
       "        \n",
       "                  \n",
       "                fill.style.animation = 'none';\n",
       "                fill.style.backgroundImage = 'none';\n",
       "            \n",
       "              })();\n",
       "        "
      ],
      "application/vdom.v1+json": {
       "attributes": {
        "id": "e7f579b6-d1c3-4ade-8188-f2594ba621e7",
        "style": {
         "border": "1px solid #cfcfcf",
         "borderRadius": "4px",
         "boxSizing": "border-box",
         "position": "relative",
         "textAlign": "center",
         "width": "100%"
        }
       },
       "children": [
        {
         "attributes": {
          "class": "pb-text",
          "style": {
           "position": "absolute",
           "width": "100%"
          }
         },
         "children": [
          "Build finished in 0:00:01."
         ],
         "tagName": "div"
        },
        {
         "attributes": {
          "class": "pb-fill",
          "style": {
           "animation": "none",
           "backgroundColor": "#bdd2e6",
           "backgroundImage": "none",
           "backgroundSize": "100px 100%",
           "width": "100%"
          }
         },
         "children": [
          {
           "attributes": {
            "scoped": "scoped",
            "type": "text/css"
           },
           "children": [
            "\n                        @keyframes pb-fill-anim {\n                            0% { background-position: 0 0; }\n                            100% { background-position: 100px 0; }\n                        }}"
           ],
           "tagName": "style"
          },
          " "
         ],
         "tagName": "div"
        }
       ],
       "tagName": "div"
      }
     },
     "metadata": {},
     "output_type": "display_data"
    },
    {
     "data": {
      "application/vdom.v1+json": {
       "attributes": {},
       "tagName": "div"
      },
      "text/html": [
       "\n",
       "                <script>\n",
       "                    if (Jupyter.version.split(\".\")[0] < 5) {\n",
       "                        var pb = document.getElementById(\"c3d66495-d028-4267-af51-bb96657bb740\");\n",
       "                        var text = document.createTextNode(\n",
       "                            \"HMTL progress bar requires Jupyter Notebook >= \" +\n",
       "                            \"5.0 or Jupyter Lab. Alternatively, you can use \" +\n",
       "                            \"TerminalProgressBar().\");\n",
       "                        pb.parentNode.insertBefore(text, pb);\n",
       "                    }\n",
       "                </script>\n",
       "                <div id=\"c3d66495-d028-4267-af51-bb96657bb740\" style=\"\n",
       "                    width: 100%;\n",
       "                    border: 1px solid #cfcfcf;\n",
       "                    border-radius: 4px;\n",
       "                    text-align: center;\n",
       "                    position: relative;\">\n",
       "                  <div class=\"pb-text\" style=\"\n",
       "                      position: absolute;\n",
       "                      width: 100%;\">\n",
       "                    0%\n",
       "                  </div>\n",
       "                  <div class=\"pb-fill\" style=\"\n",
       "                      background-color: #bdd2e6;\n",
       "                      width: 0%;\">\n",
       "                    <style type=\"text/css\" scoped=\"scoped\">\n",
       "                        @keyframes pb-fill-anim {\n",
       "                            0% { background-position: 0 0; }\n",
       "                            100% { background-position: 100px 0; }\n",
       "                        }\n",
       "                    </style>\n",
       "                    &nbsp;\n",
       "                  </div>\n",
       "                </div>"
      ],
      "text/plain": [
       "HtmlProgressBar cannot be displayed. Please use the TerminalProgressBar. It can be enabled with `nengo.rc.set('progress', 'progress_bar', 'nengo.utils.progress.TerminalProgressBar')`."
      ]
     },
     "metadata": {},
     "output_type": "display_data"
    },
    {
     "data": {
      "application/javascript": [
       "\n",
       "              (function () {\n",
       "                  var root = document.getElementById('c3d66495-d028-4267-af51-bb96657bb740');\n",
       "                  var text = root.getElementsByClassName('pb-text')[0];\n",
       "                  var fill = root.getElementsByClassName('pb-fill')[0];\n",
       "\n",
       "                  text.innerHTML = 'Simulation finished in 0:00:14.';\n",
       "                  \n",
       "            if (100.0 > 0.) {\n",
       "                fill.style.transition = 'width 0.1s linear';\n",
       "            } else {\n",
       "                fill.style.transition = 'none';\n",
       "            }\n",
       "\n",
       "            fill.style.width = '100.0%';\n",
       "            fill.style.animation = 'none';\n",
       "            fill.style.backgroundImage = 'none'\n",
       "        \n",
       "                  \n",
       "                fill.style.animation = 'none';\n",
       "                fill.style.backgroundImage = 'none';\n",
       "            \n",
       "              })();\n",
       "        "
      ],
      "application/vdom.v1+json": {
       "attributes": {
        "id": "405af09c-a0f9-4b48-ba4c-98aa2aa1af01",
        "style": {
         "border": "1px solid #cfcfcf",
         "borderRadius": "4px",
         "boxSizing": "border-box",
         "position": "relative",
         "textAlign": "center",
         "width": "100%"
        }
       },
       "children": [
        {
         "attributes": {
          "class": "pb-text",
          "style": {
           "position": "absolute",
           "width": "100%"
          }
         },
         "children": [
          "Simulation finished in 0:00:14."
         ],
         "tagName": "div"
        },
        {
         "attributes": {
          "class": "pb-fill",
          "style": {
           "animation": "none",
           "backgroundColor": "#bdd2e6",
           "backgroundImage": "none",
           "transition": "width 0.1s linear",
           "width": "100%"
          }
         },
         "children": [
          {
           "attributes": {
            "scoped": "scoped",
            "type": "text/css"
           },
           "children": [
            "\n                        @keyframes pb-fill-anim {\n                            0% { background-position: 0 0; }\n                            100% { background-position: 100px 0; }\n                        }}"
           ],
           "tagName": "style"
          },
          " "
         ],
         "tagName": "div"
        }
       ],
       "tagName": "div"
      }
     },
     "metadata": {},
     "output_type": "display_data"
    },
    {
     "name": "stdout",
     "output_type": "stream",
     "text": [
      "fraction exc_inh_ampa > 0: 0.9\n",
      "fraction exc_inh_ampa == 0: 0.1\n",
      "fraction exc_inh_nmda > 0: 0.9\n",
      "fraction exc_inh_nmda == 0: 0.1\n",
      "fraction exc_post_ampa > 0: 0.7\n",
      "fraction exc_post_ampa == 0: 0.3\n",
      "fraction exc_post_nmda > 0: 0.4\n",
      "fraction exc_post_nmda == 0: 0.6\n",
      "fraction inh_post_gaba < 0: 1.0\n",
      "fraction inh_post_gaba == 0: 0.0\n",
      "cannot import or initialize NEURON\n",
      "cannot import or initialize NEURON\n"
     ]
    },
    {
     "data": {
      "application/vdom.v1+json": {
       "attributes": {},
       "tagName": "div"
      },
      "text/html": [
       "\n",
       "                <script>\n",
       "                    if (Jupyter.version.split(\".\")[0] < 5) {\n",
       "                        var pb = document.getElementById(\"b6296630-2aa9-420c-9bad-21429e011c88\");\n",
       "                        var text = document.createTextNode(\n",
       "                            \"HMTL progress bar requires Jupyter Notebook >= \" +\n",
       "                            \"5.0 or Jupyter Lab. Alternatively, you can use \" +\n",
       "                            \"TerminalProgressBar().\");\n",
       "                        pb.parentNode.insertBefore(text, pb);\n",
       "                    }\n",
       "                </script>\n",
       "                <div id=\"b6296630-2aa9-420c-9bad-21429e011c88\" style=\"\n",
       "                    width: 100%;\n",
       "                    border: 1px solid #cfcfcf;\n",
       "                    border-radius: 4px;\n",
       "                    text-align: center;\n",
       "                    position: relative;\">\n",
       "                  <div class=\"pb-text\" style=\"\n",
       "                      position: absolute;\n",
       "                      width: 100%;\">\n",
       "                    0%\n",
       "                  </div>\n",
       "                  <div class=\"pb-fill\" style=\"\n",
       "                      background-color: #bdd2e6;\n",
       "                      width: 0%;\">\n",
       "                    <style type=\"text/css\" scoped=\"scoped\">\n",
       "                        @keyframes pb-fill-anim {\n",
       "                            0% { background-position: 0 0; }\n",
       "                            100% { background-position: 100px 0; }\n",
       "                        }\n",
       "                    </style>\n",
       "                    &nbsp;\n",
       "                  </div>\n",
       "                </div>"
      ],
      "text/plain": [
       "HtmlProgressBar cannot be displayed. Please use the TerminalProgressBar. It can be enabled with `nengo.rc.set('progress', 'progress_bar', 'nengo.utils.progress.TerminalProgressBar')`."
      ]
     },
     "metadata": {},
     "output_type": "display_data"
    },
    {
     "data": {
      "application/javascript": [
       "\n",
       "              (function () {\n",
       "                  var root = document.getElementById('b6296630-2aa9-420c-9bad-21429e011c88');\n",
       "                  var text = root.getElementsByClassName('pb-text')[0];\n",
       "                  var fill = root.getElementsByClassName('pb-fill')[0];\n",
       "\n",
       "                  text.innerHTML = 'Build finished in 0:00:01.';\n",
       "                  \n",
       "            fill.style.width = '100%';\n",
       "            fill.style.animation = 'pb-fill-anim 2s linear infinite';\n",
       "            fill.style.backgroundSize = '100px 100%';\n",
       "            fill.style.backgroundImage = 'repeating-linear-gradient(' +\n",
       "                '90deg, #bdd2e6, #edf2f8 40%, #bdd2e6 80%, #bdd2e6)';\n",
       "        \n",
       "                  \n",
       "                fill.style.animation = 'none';\n",
       "                fill.style.backgroundImage = 'none';\n",
       "            \n",
       "              })();\n",
       "        "
      ],
      "application/vdom.v1+json": {
       "attributes": {
        "id": "04bf636b-b460-4281-87cf-ffb180eaa1be",
        "style": {
         "border": "1px solid #cfcfcf",
         "borderRadius": "4px",
         "boxSizing": "border-box",
         "position": "relative",
         "textAlign": "center",
         "width": "100%"
        }
       },
       "children": [
        {
         "attributes": {
          "class": "pb-text",
          "style": {
           "position": "absolute",
           "width": "100%"
          }
         },
         "children": [
          "Build finished in 0:00:01."
         ],
         "tagName": "div"
        },
        {
         "attributes": {
          "class": "pb-fill",
          "style": {
           "animation": "none",
           "backgroundColor": "#bdd2e6",
           "backgroundImage": "none",
           "backgroundSize": "100px 100%",
           "width": "100%"
          }
         },
         "children": [
          {
           "attributes": {
            "scoped": "scoped",
            "type": "text/css"
           },
           "children": [
            "\n                        @keyframes pb-fill-anim {\n                            0% { background-position: 0 0; }\n                            100% { background-position: 100px 0; }\n                        }}"
           ],
           "tagName": "style"
          },
          " "
         ],
         "tagName": "div"
        }
       ],
       "tagName": "div"
      }
     },
     "metadata": {},
     "output_type": "display_data"
    },
    {
     "data": {
      "application/vdom.v1+json": {
       "attributes": {},
       "tagName": "div"
      },
      "text/html": [
       "\n",
       "                <script>\n",
       "                    if (Jupyter.version.split(\".\")[0] < 5) {\n",
       "                        var pb = document.getElementById(\"6d5c138a-c6a1-40ec-8170-99ba24c99e61\");\n",
       "                        var text = document.createTextNode(\n",
       "                            \"HMTL progress bar requires Jupyter Notebook >= \" +\n",
       "                            \"5.0 or Jupyter Lab. Alternatively, you can use \" +\n",
       "                            \"TerminalProgressBar().\");\n",
       "                        pb.parentNode.insertBefore(text, pb);\n",
       "                    }\n",
       "                </script>\n",
       "                <div id=\"6d5c138a-c6a1-40ec-8170-99ba24c99e61\" style=\"\n",
       "                    width: 100%;\n",
       "                    border: 1px solid #cfcfcf;\n",
       "                    border-radius: 4px;\n",
       "                    text-align: center;\n",
       "                    position: relative;\">\n",
       "                  <div class=\"pb-text\" style=\"\n",
       "                      position: absolute;\n",
       "                      width: 100%;\">\n",
       "                    0%\n",
       "                  </div>\n",
       "                  <div class=\"pb-fill\" style=\"\n",
       "                      background-color: #bdd2e6;\n",
       "                      width: 0%;\">\n",
       "                    <style type=\"text/css\" scoped=\"scoped\">\n",
       "                        @keyframes pb-fill-anim {\n",
       "                            0% { background-position: 0 0; }\n",
       "                            100% { background-position: 100px 0; }\n",
       "                        }\n",
       "                    </style>\n",
       "                    &nbsp;\n",
       "                  </div>\n",
       "                </div>"
      ],
      "text/plain": [
       "HtmlProgressBar cannot be displayed. Please use the TerminalProgressBar. It can be enabled with `nengo.rc.set('progress', 'progress_bar', 'nengo.utils.progress.TerminalProgressBar')`."
      ]
     },
     "metadata": {},
     "output_type": "display_data"
    },
    {
     "data": {
      "application/javascript": [
       "\n",
       "              (function () {\n",
       "                  var root = document.getElementById('6d5c138a-c6a1-40ec-8170-99ba24c99e61');\n",
       "                  var text = root.getElementsByClassName('pb-text')[0];\n",
       "                  var fill = root.getElementsByClassName('pb-fill')[0];\n",
       "\n",
       "                  text.innerHTML = 'Simulation finished in 0:00:14.';\n",
       "                  \n",
       "            if (100.0 > 0.) {\n",
       "                fill.style.transition = 'width 0.1s linear';\n",
       "            } else {\n",
       "                fill.style.transition = 'none';\n",
       "            }\n",
       "\n",
       "            fill.style.width = '100.0%';\n",
       "            fill.style.animation = 'none';\n",
       "            fill.style.backgroundImage = 'none'\n",
       "        \n",
       "                  \n",
       "                fill.style.animation = 'none';\n",
       "                fill.style.backgroundImage = 'none';\n",
       "            \n",
       "              })();\n",
       "        "
      ],
      "application/vdom.v1+json": {
       "attributes": {
        "id": "95e88b3d-76c5-4fdc-af0f-234339b05796",
        "style": {
         "border": "1px solid #cfcfcf",
         "borderRadius": "4px",
         "boxSizing": "border-box",
         "position": "relative",
         "textAlign": "center",
         "width": "100%"
        }
       },
       "children": [
        {
         "attributes": {
          "class": "pb-text",
          "style": {
           "position": "absolute",
           "width": "100%"
          }
         },
         "children": [
          "Simulation finished in 0:00:14."
         ],
         "tagName": "div"
        },
        {
         "attributes": {
          "class": "pb-fill",
          "style": {
           "animation": "none",
           "backgroundColor": "#bdd2e6",
           "backgroundImage": "none",
           "transition": "width 0.1s linear",
           "width": "100%"
          }
         },
         "children": [
          {
           "attributes": {
            "scoped": "scoped",
            "type": "text/css"
           },
           "children": [
            "\n                        @keyframes pb-fill-anim {\n                            0% { background-position: 0 0; }\n                            100% { background-position: 100px 0; }\n                        }}"
           ],
           "tagName": "style"
          },
          " "
         ],
         "tagName": "div"
        }
       ],
       "tagName": "div"
      }
     },
     "metadata": {},
     "output_type": "display_data"
    },
    {
     "name": "stdout",
     "output_type": "stream",
     "text": [
      "fraction exc_inh_ampa > 0: 0.9\n",
      "fraction exc_inh_ampa == 0: 0.1\n",
      "fraction exc_inh_nmda > 0: 0.9\n",
      "fraction exc_inh_nmda == 0: 0.1\n",
      "fraction exc_post_ampa > 0: 0.7\n",
      "fraction exc_post_ampa == 0: 0.3\n",
      "fraction exc_post_nmda > 0: 0.4\n",
      "fraction exc_post_nmda == 0: 0.6\n",
      "fraction inh_post_gaba < 0: 1.0\n",
      "fraction inh_post_gaba == 0: 0.0\n"
     ]
    },
    {
     "data": {
      "image/png": "[encoded data removed]",
      "text/plain": [
       "<Figure size 1296x288 with 3 Axes>"
      ]
     },
     "metadata": {},
     "output_type": "display_data"
    }
   ],
   "source": [
    "go()"
   ]
  },
  {
   "cell_type": "code",
   "execution_count": null,
   "metadata": {},
   "outputs": [],
   "source": []
  }
 ],
 "metadata": {
  "kernelspec": {
   "display_name": "Python 3",
   "language": "python",
   "name": "python3"
  },
  "language_info": {
   "codemirror_mode": {
    "name": "ipython",
    "version": 3
   },
   "file_extension": ".py",
   "mimetype": "text/x-python",
   "name": "python",
   "nbconvert_exporter": "python",
   "pygments_lexer": "ipython3",
   "version": "3.6.4"
  }
 },
 "nbformat": 4,
 "nbformat_minor": 2
}
