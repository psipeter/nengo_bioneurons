{
 "cells": [
  {
   "cell_type": "code",
   "execution_count": 1,
   "metadata": {},
   "outputs": [],
   "source": [
    "import numpy as np\n",
    "\n",
    "import nengo\n",
    "from nengo.solvers import LstsqL2, NoSolver, NnlsL2\n",
    "from nengo.dists import Uniform, Choice\n",
    "from nengo.params import Default\n",
    "\n",
    "from nengolib.signal import s, z, nrmse, LinearSystem\n",
    "from nengolib.synapses import Highpass, Lowpass, Alpha, DoubleExp\n",
    "\n",
    "import matplotlib.pyplot as plt\n",
    "import seaborn as sns\n",
    "sns.set(palette='dark', style='whitegrid')"
   ]
  },
  {
   "cell_type": "code",
   "execution_count": 2,
   "metadata": {},
   "outputs": [],
   "source": [
    "def get_norm(t, stim_func):\n",
    "    with nengo.Network() as model:\n",
    "        stim = nengo.Node(stim_func)\n",
    "        p_stim = nengo.Probe(stim, synapse=None)\n",
    "    with nengo.Simulator(model, progress_bar=False) as sim:\n",
    "        sim.run(t, progress_bar=False)\n",
    "    stimulus = sim.data[p_stim]\n",
    "    norm = np.max(np.abs(stimulus))\n",
    "    return norm"
   ]
  },
  {
   "cell_type": "markdown",
   "metadata": {},
   "source": [
    "## Convert arbitrary synapse to mixture of biological synapses"
   ]
  },
  {
   "cell_type": "code",
   "execution_count": 3,
   "metadata": {},
   "outputs": [],
   "source": [
    "def network(\n",
    "    n_neurons=100,\n",
    "    t=10.0,\n",
    "    d_ampa=None,\n",
    "    d_nmda=None,\n",
    "    h_ampa=DoubleExp(0.00055, 0.0022),\n",
    "    h_nmda=DoubleExp(0.0106, 0.285),\n",
    "    h_target=Lowpass(0.05),\n",
    "    stim_func=lambda t: np.sin(t),\n",
    "    seed=0,\n",
    "    **kwargs):\n",
    "\n",
    "    if d_ampa is None and d_nmda is None:\n",
    "        solver_ampa = LstsqL2(reg=0.1)\n",
    "        solver_nmda = LstsqL2(reg=0.1)\n",
    "    else:\n",
    "        solver_ampa = NoSolver(d_ampa)\n",
    "        solver_nmda = NoSolver(d_nmda)\n",
    "        \n",
    "    norm = get_norm(t, stim_func)\n",
    "\n",
    "    with nengo.Network(seed=seed) as network:\n",
    "        stim = nengo.Node(stim_func)\n",
    "        pre = nengo.Ensemble(n_neurons, 1, seed=seed)\n",
    "        post = nengo.Ensemble(n_neurons, 1, seed=seed)\n",
    "        tar_pre = nengo.Ensemble(1, 1, neuron_type=nengo.Direct())\n",
    "        tar_post = nengo.Ensemble(1, 1, neuron_type=nengo.Direct())\n",
    "        nengo.Connection(stim, pre, transform=1.0/norm, synapse=Lowpass(0.05), seed=seed)\n",
    "        ampa = nengo.Connection(pre, post, solver=solver_ampa, synapse=h_ampa, seed=seed)\n",
    "        nmda = nengo.Connection(pre, post, solver=solver_nmda, synapse=h_nmda, seed=seed)\n",
    "        nengo.Connection(stim, tar_pre, transform=1.0/norm, synapse=Lowpass(0.05))\n",
    "        nengo.Connection(tar_pre, tar_post, synapse=h_target)\n",
    "        p_pre = nengo.Probe(pre.neurons, 'spikes', synapse=None)\n",
    "        p_post = nengo.Probe(post.neurons, 'spikes', synapse=None)\n",
    "        p_tar_pre = nengo.Probe(tar_pre, synapse=None)\n",
    "        p_tar_post = nengo.Probe(tar_post, synapse=None)\n",
    "        \n",
    "    with nengo.Simulator(network) as sim:\n",
    "        sim.run(t)\n",
    "        \n",
    "    return dict(\n",
    "        trange=sim.trange(),\n",
    "        pre=sim.data[p_pre], \n",
    "        post=sim.data[p_post],\n",
    "        tar_pre=sim.data[p_tar_pre],\n",
    "        tar_post=sim.data[p_tar_post]\n",
    "    )"
   ]
  },
  {
   "cell_type": "markdown",
   "metadata": {},
   "source": [
    "### collect data for decoder optimization"
   ]
  },
  {
   "cell_type": "code",
   "execution_count": 8,
   "metadata": {},
   "outputs": [
    {
     "name": "stdout",
     "output_type": "stream",
     "text": [
      "cannot import or initialize NEURON\n",
      "cannot import or initialize NEURON\n"
     ]
    },
    {
     "name": "stderr",
     "output_type": "stream",
     "text": [
      "/home/pduggins/.virtualenvs/nbn/lib/python3.6/site-packages/nengolib/signal/system.py:197: UserWarning: y0 (None!=0) does not properly initialize the system; see Nengo issue #1124.\n",
      "  \"Nengo issue #1124.\" % y0, UserWarning)\n"
     ]
    },
    {
     "data": {
      "application/vdom.v1+json": {
       "attributes": {},
       "tagName": "div"
      },
      "text/html": [
       "\n",
       "                <script>\n",
       "                    if (Jupyter.version.split(\".\")[0] < 5) {\n",
       "                        var pb = document.getElementById(\"16b5ffb3-3614-48a9-993e-698e8a7b8379\");\n",
       "                        var text = document.createTextNode(\n",
       "                            \"HMTL progress bar requires Jupyter Notebook >= \" +\n",
       "                            \"5.0 or Jupyter Lab. Alternatively, you can use \" +\n",
       "                            \"TerminalProgressBar().\");\n",
       "                        pb.parentNode.insertBefore(text, pb);\n",
       "                    }\n",
       "                </script>\n",
       "                <div id=\"16b5ffb3-3614-48a9-993e-698e8a7b8379\" style=\"\n",
       "                    width: 100%;\n",
       "                    border: 1px solid #cfcfcf;\n",
       "                    border-radius: 4px;\n",
       "                    text-align: center;\n",
       "                    position: relative;\">\n",
       "                  <div class=\"pb-text\" style=\"\n",
       "                      position: absolute;\n",
       "                      width: 100%;\">\n",
       "                    0%\n",
       "                  </div>\n",
       "                  <div class=\"pb-fill\" style=\"\n",
       "                      background-color: #bdd2e6;\n",
       "                      width: 0%;\">\n",
       "                    <style type=\"text/css\" scoped=\"scoped\">\n",
       "                        @keyframes pb-fill-anim {\n",
       "                            0% { background-position: 0 0; }\n",
       "                            100% { background-position: 100px 0; }\n",
       "                        }\n",
       "                    </style>\n",
       "                    &nbsp;\n",
       "                  </div>\n",
       "                </div>"
      ],
      "text/plain": [
       "HtmlProgressBar cannot be displayed. Please use the TerminalProgressBar. It can be enabled with `nengo.rc.set('progress', 'progress_bar', 'nengo.utils.progress.TerminalProgressBar')`."
      ]
     },
     "metadata": {},
     "output_type": "display_data"
    },
    {
     "data": {
      "application/javascript": [
       "\n",
       "              (function () {\n",
       "                  var root = document.getElementById('16b5ffb3-3614-48a9-993e-698e8a7b8379');\n",
       "                  var text = root.getElementsByClassName('pb-text')[0];\n",
       "                  var fill = root.getElementsByClassName('pb-fill')[0];\n",
       "\n",
       "                  text.innerHTML = 'Build finished in 0:00:01.';\n",
       "                  \n",
       "            fill.style.width = '100%';\n",
       "            fill.style.animation = 'pb-fill-anim 2s linear infinite';\n",
       "            fill.style.backgroundSize = '100px 100%';\n",
       "            fill.style.backgroundImage = 'repeating-linear-gradient(' +\n",
       "                '90deg, #bdd2e6, #edf2f8 40%, #bdd2e6 80%, #bdd2e6)';\n",
       "        \n",
       "                  \n",
       "                fill.style.animation = 'none';\n",
       "                fill.style.backgroundImage = 'none';\n",
       "            \n",
       "              })();\n",
       "        "
      ],
      "application/vdom.v1+json": {
       "attributes": {
        "id": "99e92fdc-cdf0-41e8-a862-6623882c1f1a",
        "style": {
         "border": "1px solid #cfcfcf",
         "borderRadius": "4px",
         "boxSizing": "border-box",
         "position": "relative",
         "textAlign": "center",
         "width": "100%"
        }
       },
       "children": [
        {
         "attributes": {
          "class": "pb-text",
          "style": {
           "position": "absolute",
           "width": "100%"
          }
         },
         "children": [
          "Build finished in 0:00:01."
         ],
         "tagName": "div"
        },
        {
         "attributes": {
          "class": "pb-fill",
          "style": {
           "animation": "none",
           "backgroundColor": "#bdd2e6",
           "backgroundImage": "none",
           "backgroundSize": "100px 100%",
           "width": "100%"
          }
         },
         "children": [
          {
           "attributes": {
            "scoped": "scoped",
            "type": "text/css"
           },
           "children": [
            "\n                        @keyframes pb-fill-anim {\n                            0% { background-position: 0 0; }\n                            100% { background-position: 100px 0; }\n                        }}"
           ],
           "tagName": "style"
          },
          " "
         ],
         "tagName": "div"
        }
       ],
       "tagName": "div"
      }
     },
     "metadata": {},
     "output_type": "display_data"
    },
    {
     "data": {
      "application/vdom.v1+json": {
       "attributes": {},
       "tagName": "div"
      },
      "text/html": [
       "\n",
       "                <script>\n",
       "                    if (Jupyter.version.split(\".\")[0] < 5) {\n",
       "                        var pb = document.getElementById(\"755e2843-2446-4061-b6ed-f165985c356a\");\n",
       "                        var text = document.createTextNode(\n",
       "                            \"HMTL progress bar requires Jupyter Notebook >= \" +\n",
       "                            \"5.0 or Jupyter Lab. Alternatively, you can use \" +\n",
       "                            \"TerminalProgressBar().\");\n",
       "                        pb.parentNode.insertBefore(text, pb);\n",
       "                    }\n",
       "                </script>\n",
       "                <div id=\"755e2843-2446-4061-b6ed-f165985c356a\" style=\"\n",
       "                    width: 100%;\n",
       "                    border: 1px solid #cfcfcf;\n",
       "                    border-radius: 4px;\n",
       "                    text-align: center;\n",
       "                    position: relative;\">\n",
       "                  <div class=\"pb-text\" style=\"\n",
       "                      position: absolute;\n",
       "                      width: 100%;\">\n",
       "                    0%\n",
       "                  </div>\n",
       "                  <div class=\"pb-fill\" style=\"\n",
       "                      background-color: #bdd2e6;\n",
       "                      width: 0%;\">\n",
       "                    <style type=\"text/css\" scoped=\"scoped\">\n",
       "                        @keyframes pb-fill-anim {\n",
       "                            0% { background-position: 0 0; }\n",
       "                            100% { background-position: 100px 0; }\n",
       "                        }\n",
       "                    </style>\n",
       "                    &nbsp;\n",
       "                  </div>\n",
       "                </div>"
      ],
      "text/plain": [
       "HtmlProgressBar cannot be displayed. Please use the TerminalProgressBar. It can be enabled with `nengo.rc.set('progress', 'progress_bar', 'nengo.utils.progress.TerminalProgressBar')`."
      ]
     },
     "metadata": {},
     "output_type": "display_data"
    },
    {
     "data": {
      "application/javascript": [
       "\n",
       "              (function () {\n",
       "                  var root = document.getElementById('755e2843-2446-4061-b6ed-f165985c356a');\n",
       "                  var text = root.getElementsByClassName('pb-text')[0];\n",
       "                  var fill = root.getElementsByClassName('pb-fill')[0];\n",
       "\n",
       "                  text.innerHTML = 'Simulation finished in 0:00:50.';\n",
       "                  \n",
       "            if (100.0 > 0.) {\n",
       "                fill.style.transition = 'width 0.1s linear';\n",
       "            } else {\n",
       "                fill.style.transition = 'none';\n",
       "            }\n",
       "\n",
       "            fill.style.width = '100.0%';\n",
       "            fill.style.animation = 'none';\n",
       "            fill.style.backgroundImage = 'none'\n",
       "        \n",
       "                  \n",
       "                fill.style.animation = 'none';\n",
       "                fill.style.backgroundImage = 'none';\n",
       "            \n",
       "              })();\n",
       "        "
      ],
      "application/vdom.v1+json": {
       "attributes": {
        "id": "1894e497-3314-464b-9f55-8f8c4ae73ee3",
        "style": {
         "border": "1px solid #cfcfcf",
         "borderRadius": "4px",
         "boxSizing": "border-box",
         "position": "relative",
         "textAlign": "center",
         "width": "100%"
        }
       },
       "children": [
        {
         "attributes": {
          "class": "pb-text",
          "style": {
           "position": "absolute",
           "width": "100%"
          }
         },
         "children": [
          "Simulation finished in 0:00:50."
         ],
         "tagName": "div"
        },
        {
         "attributes": {
          "class": "pb-fill",
          "style": {
           "animation": "none",
           "backgroundColor": "#bdd2e6",
           "backgroundImage": "none",
           "transition": "width 0.1s linear",
           "width": "100%"
          }
         },
         "children": [
          {
           "attributes": {
            "scoped": "scoped",
            "type": "text/css"
           },
           "children": [
            "\n                        @keyframes pb-fill-anim {\n                            0% { background-position: 0 0; }\n                            100% { background-position: 100px 0; }\n                        }}"
           ],
           "tagName": "style"
          },
          " "
         ],
         "tagName": "div"
        }
       ],
       "tagName": "div"
      }
     },
     "metadata": {},
     "output_type": "display_data"
    }
   ],
   "source": [
    "t_train = 100\n",
    "stim_func = nengo.processes.WhiteSignal(period=t_train, high=1, rms=1, seed=0)\n",
    "h_target = Lowpass(0.1)\n",
    "\n",
    "dd1 = network(t=t_train, stim_func=stim_func, h_target=h_target)\n",
    "\n",
    "h_ampa = DoubleExp(0.00055, 0.0022)\n",
    "h_nmda = DoubleExp(0.0106, 0.285)  # no voltage-dependent Mg2+ block\n",
    "\n",
    "times = dd1['trange']\n",
    "a_pre_ampa = h_ampa.filt(dd1['pre'])\n",
    "a_pre_nmda = h_nmda.filt(dd1['pre'])\n",
    "tar_pre = h_target.filt(dd1['tar_pre'])"
   ]
  },
  {
   "cell_type": "markdown",
   "metadata": {},
   "source": [
    "### use least squares to compute decoders for ampa and nmda synapse"
   ]
  },
  {
   "cell_type": "code",
   "execution_count": 9,
   "metadata": {},
   "outputs": [],
   "source": [
    "reg = 0.1\n",
    "A = np.hstack((a_pre_ampa, a_pre_nmda))\n",
    "D = LstsqL2(reg=reg)(A, tar_pre)[0]\n",
    "d_ampa = D[:a_pre_ampa.shape[1]]\n",
    "d_nmda = D[a_pre_ampa.shape[1]:]"
   ]
  },
  {
   "cell_type": "markdown",
   "metadata": {},
   "source": [
    "### compute readout decoders for post"
   ]
  },
  {
   "cell_type": "code",
   "execution_count": 10,
   "metadata": {},
   "outputs": [
    {
     "name": "stdout",
     "output_type": "stream",
     "text": [
      "cannot import or initialize NEURON\n",
      "cannot import or initialize NEURON\n"
     ]
    },
    {
     "name": "stderr",
     "output_type": "stream",
     "text": [
      "/home/pduggins/.virtualenvs/nbn/lib/python3.6/site-packages/nengolib/signal/system.py:197: UserWarning: y0 (None!=0) does not properly initialize the system; see Nengo issue #1124.\n",
      "  \"Nengo issue #1124.\" % y0, UserWarning)\n",
      "/home/pduggins/nengo/nengo/utils/numpy.py:79: FutureWarning: Using a non-tuple sequence for multidimensional indexing is deprecated; use `arr[tuple(seq)]` instead of `arr[seq]`. In the future this will be interpreted as an array index, `arr[np.array(seq)]`, which will result either in an error or a different result.\n",
      "  v = a[inds]\n"
     ]
    },
    {
     "data": {
      "application/vdom.v1+json": {
       "attributes": {},
       "tagName": "div"
      },
      "text/html": [
       "\n",
       "                <script>\n",
       "                    if (Jupyter.version.split(\".\")[0] < 5) {\n",
       "                        var pb = document.getElementById(\"2a38867c-5b5e-4787-a9bf-d565bf308d5b\");\n",
       "                        var text = document.createTextNode(\n",
       "                            \"HMTL progress bar requires Jupyter Notebook >= \" +\n",
       "                            \"5.0 or Jupyter Lab. Alternatively, you can use \" +\n",
       "                            \"TerminalProgressBar().\");\n",
       "                        pb.parentNode.insertBefore(text, pb);\n",
       "                    }\n",
       "                </script>\n",
       "                <div id=\"2a38867c-5b5e-4787-a9bf-d565bf308d5b\" style=\"\n",
       "                    width: 100%;\n",
       "                    border: 1px solid #cfcfcf;\n",
       "                    border-radius: 4px;\n",
       "                    text-align: center;\n",
       "                    position: relative;\">\n",
       "                  <div class=\"pb-text\" style=\"\n",
       "                      position: absolute;\n",
       "                      width: 100%;\">\n",
       "                    0%\n",
       "                  </div>\n",
       "                  <div class=\"pb-fill\" style=\"\n",
       "                      background-color: #bdd2e6;\n",
       "                      width: 0%;\">\n",
       "                    <style type=\"text/css\" scoped=\"scoped\">\n",
       "                        @keyframes pb-fill-anim {\n",
       "                            0% { background-position: 0 0; }\n",
       "                            100% { background-position: 100px 0; }\n",
       "                        }\n",
       "                    </style>\n",
       "                    &nbsp;\n",
       "                  </div>\n",
       "                </div>"
      ],
      "text/plain": [
       "HtmlProgressBar cannot be displayed. Please use the TerminalProgressBar. It can be enabled with `nengo.rc.set('progress', 'progress_bar', 'nengo.utils.progress.TerminalProgressBar')`."
      ]
     },
     "metadata": {},
     "output_type": "display_data"
    },
    {
     "data": {
      "application/javascript": [
       "\n",
       "              (function () {\n",
       "                  var root = document.getElementById('2a38867c-5b5e-4787-a9bf-d565bf308d5b');\n",
       "                  var text = root.getElementsByClassName('pb-text')[0];\n",
       "                  var fill = root.getElementsByClassName('pb-fill')[0];\n",
       "\n",
       "                  text.innerHTML = 'Build finished in 0:00:01.';\n",
       "                  \n",
       "            fill.style.width = '100%';\n",
       "            fill.style.animation = 'pb-fill-anim 2s linear infinite';\n",
       "            fill.style.backgroundSize = '100px 100%';\n",
       "            fill.style.backgroundImage = 'repeating-linear-gradient(' +\n",
       "                '90deg, #bdd2e6, #edf2f8 40%, #bdd2e6 80%, #bdd2e6)';\n",
       "        \n",
       "                  \n",
       "                fill.style.animation = 'none';\n",
       "                fill.style.backgroundImage = 'none';\n",
       "            \n",
       "              })();\n",
       "        "
      ],
      "application/vdom.v1+json": {
       "attributes": {
        "id": "63ac0ebe-06f4-4e2b-b09c-003a1ecbadad",
        "style": {
         "border": "1px solid #cfcfcf",
         "borderRadius": "4px",
         "boxSizing": "border-box",
         "position": "relative",
         "textAlign": "center",
         "width": "100%"
        }
       },
       "children": [
        {
         "attributes": {
          "class": "pb-text",
          "style": {
           "position": "absolute",
           "width": "100%"
          }
         },
         "children": [
          "Build finished in 0:00:01."
         ],
         "tagName": "div"
        },
        {
         "attributes": {
          "class": "pb-fill",
          "style": {
           "animation": "none",
           "backgroundColor": "#bdd2e6",
           "backgroundImage": "none",
           "backgroundSize": "100px 100%",
           "width": "100%"
          }
         },
         "children": [
          {
           "attributes": {
            "scoped": "scoped",
            "type": "text/css"
           },
           "children": [
            "\n                        @keyframes pb-fill-anim {\n                            0% { background-position: 0 0; }\n                            100% { background-position: 100px 0; }\n                        }}"
           ],
           "tagName": "style"
          },
          " "
         ],
         "tagName": "div"
        }
       ],
       "tagName": "div"
      }
     },
     "metadata": {},
     "output_type": "display_data"
    },
    {
     "data": {
      "application/vdom.v1+json": {
       "attributes": {},
       "tagName": "div"
      },
      "text/html": [
       "\n",
       "                <script>\n",
       "                    if (Jupyter.version.split(\".\")[0] < 5) {\n",
       "                        var pb = document.getElementById(\"a47e7dc0-047e-4b41-8472-d69e42b4c0be\");\n",
       "                        var text = document.createTextNode(\n",
       "                            \"HMTL progress bar requires Jupyter Notebook >= \" +\n",
       "                            \"5.0 or Jupyter Lab. Alternatively, you can use \" +\n",
       "                            \"TerminalProgressBar().\");\n",
       "                        pb.parentNode.insertBefore(text, pb);\n",
       "                    }\n",
       "                </script>\n",
       "                <div id=\"a47e7dc0-047e-4b41-8472-d69e42b4c0be\" style=\"\n",
       "                    width: 100%;\n",
       "                    border: 1px solid #cfcfcf;\n",
       "                    border-radius: 4px;\n",
       "                    text-align: center;\n",
       "                    position: relative;\">\n",
       "                  <div class=\"pb-text\" style=\"\n",
       "                      position: absolute;\n",
       "                      width: 100%;\">\n",
       "                    0%\n",
       "                  </div>\n",
       "                  <div class=\"pb-fill\" style=\"\n",
       "                      background-color: #bdd2e6;\n",
       "                      width: 0%;\">\n",
       "                    <style type=\"text/css\" scoped=\"scoped\">\n",
       "                        @keyframes pb-fill-anim {\n",
       "                            0% { background-position: 0 0; }\n",
       "                            100% { background-position: 100px 0; }\n",
       "                        }\n",
       "                    </style>\n",
       "                    &nbsp;\n",
       "                  </div>\n",
       "                </div>"
      ],
      "text/plain": [
       "HtmlProgressBar cannot be displayed. Please use the TerminalProgressBar. It can be enabled with `nengo.rc.set('progress', 'progress_bar', 'nengo.utils.progress.TerminalProgressBar')`."
      ]
     },
     "metadata": {},
     "output_type": "display_data"
    },
    {
     "data": {
      "application/javascript": [
       "\n",
       "              (function () {\n",
       "                  var root = document.getElementById('a47e7dc0-047e-4b41-8472-d69e42b4c0be');\n",
       "                  var text = root.getElementsByClassName('pb-text')[0];\n",
       "                  var fill = root.getElementsByClassName('pb-fill')[0];\n",
       "\n",
       "                  text.innerHTML = 'Simulation finished in 0:00:46.';\n",
       "                  \n",
       "            if (100.0 > 0.) {\n",
       "                fill.style.transition = 'width 0.1s linear';\n",
       "            } else {\n",
       "                fill.style.transition = 'none';\n",
       "            }\n",
       "\n",
       "            fill.style.width = '100.0%';\n",
       "            fill.style.animation = 'none';\n",
       "            fill.style.backgroundImage = 'none'\n",
       "        \n",
       "                  \n",
       "                fill.style.animation = 'none';\n",
       "                fill.style.backgroundImage = 'none';\n",
       "            \n",
       "              })();\n",
       "        "
      ],
      "application/vdom.v1+json": {
       "attributes": {
        "id": "69e335cd-d925-445f-b366-71a0d44f69e0",
        "style": {
         "border": "1px solid #cfcfcf",
         "borderRadius": "4px",
         "boxSizing": "border-box",
         "position": "relative",
         "textAlign": "center",
         "width": "100%"
        }
       },
       "children": [
        {
         "attributes": {
          "class": "pb-text",
          "style": {
           "position": "absolute",
           "width": "100%"
          }
         },
         "children": [
          "Simulation finished in 0:00:46."
         ],
         "tagName": "div"
        },
        {
         "attributes": {
          "class": "pb-fill",
          "style": {
           "animation": "none",
           "backgroundColor": "#bdd2e6",
           "backgroundImage": "none",
           "transition": "width 0.1s linear",
           "width": "100%"
          }
         },
         "children": [
          {
           "attributes": {
            "scoped": "scoped",
            "type": "text/css"
           },
           "children": [
            "\n                        @keyframes pb-fill-anim {\n                            0% { background-position: 0 0; }\n                            100% { background-position: 100px 0; }\n                        }}"
           ],
           "tagName": "style"
          },
          " "
         ],
         "tagName": "div"
        }
       ],
       "tagName": "div"
      }
     },
     "metadata": {},
     "output_type": "display_data"
    }
   ],
   "source": [
    "dd2 = network(t=t_train, stim_func=stim_func, h_target=h_target, d_ampa=d_ampa, d_nmda=d_nmda)\n",
    "\n",
    "a_post = Lowpass(0.05).filt(dd2['post'])\n",
    "tar_post = Lowpass(0.05).filt(dd2['tar_post'])\n",
    "d_post = LstsqL2(reg=reg)(a_post, tar_post)[0]"
   ]
  },
  {
   "cell_type": "markdown",
   "metadata": {},
   "source": [
    "### test on training signal"
   ]
  },
  {
   "cell_type": "code",
   "execution_count": 11,
   "metadata": {},
   "outputs": [
    {
     "name": "stdout",
     "output_type": "stream",
     "text": [
      "cannot import or initialize NEURON\n",
      "cannot import or initialize NEURON\n"
     ]
    },
    {
     "name": "stderr",
     "output_type": "stream",
     "text": [
      "/home/pduggins/.virtualenvs/nbn/lib/python3.6/site-packages/nengolib/signal/system.py:197: UserWarning: y0 (None!=0) does not properly initialize the system; see Nengo issue #1124.\n",
      "  \"Nengo issue #1124.\" % y0, UserWarning)\n",
      "/home/pduggins/nengo/nengo/utils/numpy.py:79: FutureWarning: Using a non-tuple sequence for multidimensional indexing is deprecated; use `arr[tuple(seq)]` instead of `arr[seq]`. In the future this will be interpreted as an array index, `arr[np.array(seq)]`, which will result either in an error or a different result.\n",
      "  v = a[inds]\n"
     ]
    },
    {
     "data": {
      "application/vdom.v1+json": {
       "attributes": {},
       "tagName": "div"
      },
      "text/html": [
       "\n",
       "                <script>\n",
       "                    if (Jupyter.version.split(\".\")[0] < 5) {\n",
       "                        var pb = document.getElementById(\"4fddf9bd-86eb-4b63-ba78-f00938d064c4\");\n",
       "                        var text = document.createTextNode(\n",
       "                            \"HMTL progress bar requires Jupyter Notebook >= \" +\n",
       "                            \"5.0 or Jupyter Lab. Alternatively, you can use \" +\n",
       "                            \"TerminalProgressBar().\");\n",
       "                        pb.parentNode.insertBefore(text, pb);\n",
       "                    }\n",
       "                </script>\n",
       "                <div id=\"4fddf9bd-86eb-4b63-ba78-f00938d064c4\" style=\"\n",
       "                    width: 100%;\n",
       "                    border: 1px solid #cfcfcf;\n",
       "                    border-radius: 4px;\n",
       "                    text-align: center;\n",
       "                    position: relative;\">\n",
       "                  <div class=\"pb-text\" style=\"\n",
       "                      position: absolute;\n",
       "                      width: 100%;\">\n",
       "                    0%\n",
       "                  </div>\n",
       "                  <div class=\"pb-fill\" style=\"\n",
       "                      background-color: #bdd2e6;\n",
       "                      width: 0%;\">\n",
       "                    <style type=\"text/css\" scoped=\"scoped\">\n",
       "                        @keyframes pb-fill-anim {\n",
       "                            0% { background-position: 0 0; }\n",
       "                            100% { background-position: 100px 0; }\n",
       "                        }\n",
       "                    </style>\n",
       "                    &nbsp;\n",
       "                  </div>\n",
       "                </div>"
      ],
      "text/plain": [
       "HtmlProgressBar cannot be displayed. Please use the TerminalProgressBar. It can be enabled with `nengo.rc.set('progress', 'progress_bar', 'nengo.utils.progress.TerminalProgressBar')`."
      ]
     },
     "metadata": {},
     "output_type": "display_data"
    },
    {
     "data": {
      "application/javascript": [
       "\n",
       "              (function () {\n",
       "                  var root = document.getElementById('4fddf9bd-86eb-4b63-ba78-f00938d064c4');\n",
       "                  var text = root.getElementsByClassName('pb-text')[0];\n",
       "                  var fill = root.getElementsByClassName('pb-fill')[0];\n",
       "\n",
       "                  text.innerHTML = 'Build finished in 0:00:01.';\n",
       "                  \n",
       "            fill.style.width = '100%';\n",
       "            fill.style.animation = 'pb-fill-anim 2s linear infinite';\n",
       "            fill.style.backgroundSize = '100px 100%';\n",
       "            fill.style.backgroundImage = 'repeating-linear-gradient(' +\n",
       "                '90deg, #bdd2e6, #edf2f8 40%, #bdd2e6 80%, #bdd2e6)';\n",
       "        \n",
       "                  \n",
       "                fill.style.animation = 'none';\n",
       "                fill.style.backgroundImage = 'none';\n",
       "            \n",
       "              })();\n",
       "        "
      ],
      "application/vdom.v1+json": {
       "attributes": {
        "id": "886fc168-ce99-4110-a705-28b1f51ee24c",
        "style": {
         "border": "1px solid #cfcfcf",
         "borderRadius": "4px",
         "boxSizing": "border-box",
         "position": "relative",
         "textAlign": "center",
         "width": "100%"
        }
       },
       "children": [
        {
         "attributes": {
          "class": "pb-text",
          "style": {
           "position": "absolute",
           "width": "100%"
          }
         },
         "children": [
          "Build finished in 0:00:01."
         ],
         "tagName": "div"
        },
        {
         "attributes": {
          "class": "pb-fill",
          "style": {
           "animation": "none",
           "backgroundColor": "#bdd2e6",
           "backgroundImage": "none",
           "backgroundSize": "100px 100%",
           "width": "100%"
          }
         },
         "children": [
          {
           "attributes": {
            "scoped": "scoped",
            "type": "text/css"
           },
           "children": [
            "\n                        @keyframes pb-fill-anim {\n                            0% { background-position: 0 0; }\n                            100% { background-position: 100px 0; }\n                        }}"
           ],
           "tagName": "style"
          },
          " "
         ],
         "tagName": "div"
        }
       ],
       "tagName": "div"
      }
     },
     "metadata": {},
     "output_type": "display_data"
    },
    {
     "data": {
      "application/vdom.v1+json": {
       "attributes": {},
       "tagName": "div"
      },
      "text/html": [
       "\n",
       "                <script>\n",
       "                    if (Jupyter.version.split(\".\")[0] < 5) {\n",
       "                        var pb = document.getElementById(\"9061a30e-80ce-48d6-ab8e-dae9cfc4af5e\");\n",
       "                        var text = document.createTextNode(\n",
       "                            \"HMTL progress bar requires Jupyter Notebook >= \" +\n",
       "                            \"5.0 or Jupyter Lab. Alternatively, you can use \" +\n",
       "                            \"TerminalProgressBar().\");\n",
       "                        pb.parentNode.insertBefore(text, pb);\n",
       "                    }\n",
       "                </script>\n",
       "                <div id=\"9061a30e-80ce-48d6-ab8e-dae9cfc4af5e\" style=\"\n",
       "                    width: 100%;\n",
       "                    border: 1px solid #cfcfcf;\n",
       "                    border-radius: 4px;\n",
       "                    text-align: center;\n",
       "                    position: relative;\">\n",
       "                  <div class=\"pb-text\" style=\"\n",
       "                      position: absolute;\n",
       "                      width: 100%;\">\n",
       "                    0%\n",
       "                  </div>\n",
       "                  <div class=\"pb-fill\" style=\"\n",
       "                      background-color: #bdd2e6;\n",
       "                      width: 0%;\">\n",
       "                    <style type=\"text/css\" scoped=\"scoped\">\n",
       "                        @keyframes pb-fill-anim {\n",
       "                            0% { background-position: 0 0; }\n",
       "                            100% { background-position: 100px 0; }\n",
       "                        }\n",
       "                    </style>\n",
       "                    &nbsp;\n",
       "                  </div>\n",
       "                </div>"
      ],
      "text/plain": [
       "HtmlProgressBar cannot be displayed. Please use the TerminalProgressBar. It can be enabled with `nengo.rc.set('progress', 'progress_bar', 'nengo.utils.progress.TerminalProgressBar')`."
      ]
     },
     "metadata": {},
     "output_type": "display_data"
    },
    {
     "data": {
      "application/javascript": [
       "\n",
       "              (function () {\n",
       "                  var root = document.getElementById('9061a30e-80ce-48d6-ab8e-dae9cfc4af5e');\n",
       "                  var text = root.getElementsByClassName('pb-text')[0];\n",
       "                  var fill = root.getElementsByClassName('pb-fill')[0];\n",
       "\n",
       "                  text.innerHTML = 'Simulation finished in 0:00:06.';\n",
       "                  \n",
       "            if (100.0 > 0.) {\n",
       "                fill.style.transition = 'width 0.1s linear';\n",
       "            } else {\n",
       "                fill.style.transition = 'none';\n",
       "            }\n",
       "\n",
       "            fill.style.width = '100.0%';\n",
       "            fill.style.animation = 'none';\n",
       "            fill.style.backgroundImage = 'none'\n",
       "        \n",
       "                  \n",
       "                fill.style.animation = 'none';\n",
       "                fill.style.backgroundImage = 'none';\n",
       "            \n",
       "              })();\n",
       "        "
      ],
      "application/vdom.v1+json": {
       "attributes": {
        "id": "463825a3-4959-4fbf-b373-58877b021c7d",
        "style": {
         "border": "1px solid #cfcfcf",
         "borderRadius": "4px",
         "boxSizing": "border-box",
         "position": "relative",
         "textAlign": "center",
         "width": "100%"
        }
       },
       "children": [
        {
         "attributes": {
          "class": "pb-text",
          "style": {
           "position": "absolute",
           "width": "100%"
          }
         },
         "children": [
          "Simulation finished in 0:00:06."
         ],
         "tagName": "div"
        },
        {
         "attributes": {
          "class": "pb-fill",
          "style": {
           "animation": "none",
           "backgroundColor": "#bdd2e6",
           "backgroundImage": "none",
           "transition": "width 0.1s linear",
           "width": "100%"
          }
         },
         "children": [
          {
           "attributes": {
            "scoped": "scoped",
            "type": "text/css"
           },
           "children": [
            "\n                        @keyframes pb-fill-anim {\n                            0% { background-position: 0 0; }\n                            100% { background-position: 100px 0; }\n                        }}"
           ],
           "tagName": "style"
          },
          " "
         ],
         "tagName": "div"
        }
       ],
       "tagName": "div"
      }
     },
     "metadata": {},
     "output_type": "display_data"
    },
    {
     "data": {
      "image/png": "[encoded data removed]",
      "text/plain": [
       "<Figure size 864x288 with 2 Axes>"
      ]
     },
     "metadata": {},
     "output_type": "display_data"
    }
   ],
   "source": [
    "t_test = 10\n",
    "dd3 = network(t=t_test, h_target=h_target, d_ampa=d_ampa, d_nmda=d_nmda, stim_func=stim_func)\n",
    "\n",
    "times = dd3['trange']\n",
    "a_pre_ampa = h_ampa.filt(dd3['pre'])\n",
    "a_pre_nmda = h_nmda.filt(dd3['pre'])\n",
    "tar_pre = h_target.filt(dd3['tar_pre'])\n",
    "a_post = Lowpass(0.05).filt(dd3['post'])\n",
    "tar_post = Lowpass(0.05).filt(dd3['tar_post'])\n",
    "\n",
    "xhat_pre = np.dot(a_pre_ampa, d_ampa) + np.dot(a_pre_nmda, d_nmda)\n",
    "xhat_post = np.dot(a_post, d_post)\n",
    "nrmse_pre = nrmse(xhat_pre.reshape((xhat_pre.shape[0]), 1), target=tar_pre)\n",
    "nrmse_post = nrmse(xhat_post, target=tar_post)\n",
    "\n",
    "fig, (ax, ax2) = plt.subplots(1, 2, figsize=((12, 4)))\n",
    "ax.plot(times, tar_pre, label='tar_pre')\n",
    "ax.plot(times, xhat_pre, label='pre, nrmse=%.3f'%nrmse_pre, alpha=0.5)\n",
    "ax2.plot(times, tar_post, label='tar_post')\n",
    "ax2.plot(times, xhat_post, label='post, nrmse=%.3f'%nrmse_post, alpha=0.5)\n",
    "ax.set(xlabel='time', title='pre')\n",
    "ax2.set(xlabel='time', title='post')\n",
    "ax.legend(loc='lower left')\n",
    "ax2.legend(loc='lower left')\n",
    "plt.show()"
   ]
  },
  {
   "cell_type": "markdown",
   "metadata": {},
   "source": [
    "### test on new white noise signal (new seed)"
   ]
  },
  {
   "cell_type": "code",
   "execution_count": 12,
   "metadata": {},
   "outputs": [
    {
     "name": "stdout",
     "output_type": "stream",
     "text": [
      "cannot import or initialize NEURON\n",
      "cannot import or initialize NEURON\n"
     ]
    },
    {
     "name": "stderr",
     "output_type": "stream",
     "text": [
      "/home/pduggins/.virtualenvs/nbn/lib/python3.6/site-packages/nengolib/signal/system.py:197: UserWarning: y0 (None!=0) does not properly initialize the system; see Nengo issue #1124.\n",
      "  \"Nengo issue #1124.\" % y0, UserWarning)\n",
      "/home/pduggins/nengo/nengo/utils/numpy.py:79: FutureWarning: Using a non-tuple sequence for multidimensional indexing is deprecated; use `arr[tuple(seq)]` instead of `arr[seq]`. In the future this will be interpreted as an array index, `arr[np.array(seq)]`, which will result either in an error or a different result.\n",
      "  v = a[inds]\n"
     ]
    },
    {
     "data": {
      "application/vdom.v1+json": {
       "attributes": {},
       "tagName": "div"
      },
      "text/html": [
       "\n",
       "                <script>\n",
       "                    if (Jupyter.version.split(\".\")[0] < 5) {\n",
       "                        var pb = document.getElementById(\"cd76ec5f-932a-4765-913d-3ca0a6b4fe22\");\n",
       "                        var text = document.createTextNode(\n",
       "                            \"HMTL progress bar requires Jupyter Notebook >= \" +\n",
       "                            \"5.0 or Jupyter Lab. Alternatively, you can use \" +\n",
       "                            \"TerminalProgressBar().\");\n",
       "                        pb.parentNode.insertBefore(text, pb);\n",
       "                    }\n",
       "                </script>\n",
       "                <div id=\"cd76ec5f-932a-4765-913d-3ca0a6b4fe22\" style=\"\n",
       "                    width: 100%;\n",
       "                    border: 1px solid #cfcfcf;\n",
       "                    border-radius: 4px;\n",
       "                    text-align: center;\n",
       "                    position: relative;\">\n",
       "                  <div class=\"pb-text\" style=\"\n",
       "                      position: absolute;\n",
       "                      width: 100%;\">\n",
       "                    0%\n",
       "                  </div>\n",
       "                  <div class=\"pb-fill\" style=\"\n",
       "                      background-color: #bdd2e6;\n",
       "                      width: 0%;\">\n",
       "                    <style type=\"text/css\" scoped=\"scoped\">\n",
       "                        @keyframes pb-fill-anim {\n",
       "                            0% { background-position: 0 0; }\n",
       "                            100% { background-position: 100px 0; }\n",
       "                        }\n",
       "                    </style>\n",
       "                    &nbsp;\n",
       "                  </div>\n",
       "                </div>"
      ],
      "text/plain": [
       "HtmlProgressBar cannot be displayed. Please use the TerminalProgressBar. It can be enabled with `nengo.rc.set('progress', 'progress_bar', 'nengo.utils.progress.TerminalProgressBar')`."
      ]
     },
     "metadata": {},
     "output_type": "display_data"
    },
    {
     "data": {
      "application/javascript": [
       "\n",
       "              (function () {\n",
       "                  var root = document.getElementById('cd76ec5f-932a-4765-913d-3ca0a6b4fe22');\n",
       "                  var text = root.getElementsByClassName('pb-text')[0];\n",
       "                  var fill = root.getElementsByClassName('pb-fill')[0];\n",
       "\n",
       "                  text.innerHTML = 'Build finished in 0:00:01.';\n",
       "                  \n",
       "            fill.style.width = '100%';\n",
       "            fill.style.animation = 'pb-fill-anim 2s linear infinite';\n",
       "            fill.style.backgroundSize = '100px 100%';\n",
       "            fill.style.backgroundImage = 'repeating-linear-gradient(' +\n",
       "                '90deg, #bdd2e6, #edf2f8 40%, #bdd2e6 80%, #bdd2e6)';\n",
       "        \n",
       "                  \n",
       "                fill.style.animation = 'none';\n",
       "                fill.style.backgroundImage = 'none';\n",
       "            \n",
       "              })();\n",
       "        "
      ],
      "application/vdom.v1+json": {
       "attributes": {
        "id": "919da775-8950-4dfe-9207-f1a645066d55",
        "style": {
         "border": "1px solid #cfcfcf",
         "borderRadius": "4px",
         "boxSizing": "border-box",
         "position": "relative",
         "textAlign": "center",
         "width": "100%"
        }
       },
       "children": [
        {
         "attributes": {
          "class": "pb-text",
          "style": {
           "position": "absolute",
           "width": "100%"
          }
         },
         "children": [
          "Build finished in 0:00:01."
         ],
         "tagName": "div"
        },
        {
         "attributes": {
          "class": "pb-fill",
          "style": {
           "animation": "none",
           "backgroundColor": "#bdd2e6",
           "backgroundImage": "none",
           "backgroundSize": "100px 100%",
           "width": "100%"
          }
         },
         "children": [
          {
           "attributes": {
            "scoped": "scoped",
            "type": "text/css"
           },
           "children": [
            "\n                        @keyframes pb-fill-anim {\n                            0% { background-position: 0 0; }\n                            100% { background-position: 100px 0; }\n                        }}"
           ],
           "tagName": "style"
          },
          " "
         ],
         "tagName": "div"
        }
       ],
       "tagName": "div"
      }
     },
     "metadata": {},
     "output_type": "display_data"
    },
    {
     "data": {
      "application/vdom.v1+json": {
       "attributes": {},
       "tagName": "div"
      },
      "text/html": [
       "\n",
       "                <script>\n",
       "                    if (Jupyter.version.split(\".\")[0] < 5) {\n",
       "                        var pb = document.getElementById(\"21241dd8-beb7-4e69-a999-9159d92ff4b3\");\n",
       "                        var text = document.createTextNode(\n",
       "                            \"HMTL progress bar requires Jupyter Notebook >= \" +\n",
       "                            \"5.0 or Jupyter Lab. Alternatively, you can use \" +\n",
       "                            \"TerminalProgressBar().\");\n",
       "                        pb.parentNode.insertBefore(text, pb);\n",
       "                    }\n",
       "                </script>\n",
       "                <div id=\"21241dd8-beb7-4e69-a999-9159d92ff4b3\" style=\"\n",
       "                    width: 100%;\n",
       "                    border: 1px solid #cfcfcf;\n",
       "                    border-radius: 4px;\n",
       "                    text-align: center;\n",
       "                    position: relative;\">\n",
       "                  <div class=\"pb-text\" style=\"\n",
       "                      position: absolute;\n",
       "                      width: 100%;\">\n",
       "                    0%\n",
       "                  </div>\n",
       "                  <div class=\"pb-fill\" style=\"\n",
       "                      background-color: #bdd2e6;\n",
       "                      width: 0%;\">\n",
       "                    <style type=\"text/css\" scoped=\"scoped\">\n",
       "                        @keyframes pb-fill-anim {\n",
       "                            0% { background-position: 0 0; }\n",
       "                            100% { background-position: 100px 0; }\n",
       "                        }\n",
       "                    </style>\n",
       "                    &nbsp;\n",
       "                  </div>\n",
       "                </div>"
      ],
      "text/plain": [
       "HtmlProgressBar cannot be displayed. Please use the TerminalProgressBar. It can be enabled with `nengo.rc.set('progress', 'progress_bar', 'nengo.utils.progress.TerminalProgressBar')`."
      ]
     },
     "metadata": {},
     "output_type": "display_data"
    },
    {
     "data": {
      "application/javascript": [
       "\n",
       "              (function () {\n",
       "                  var root = document.getElementById('21241dd8-beb7-4e69-a999-9159d92ff4b3');\n",
       "                  var text = root.getElementsByClassName('pb-text')[0];\n",
       "                  var fill = root.getElementsByClassName('pb-fill')[0];\n",
       "\n",
       "                  text.innerHTML = 'Simulation finished in 0:00:06.';\n",
       "                  \n",
       "            if (100.0 > 0.) {\n",
       "                fill.style.transition = 'width 0.1s linear';\n",
       "            } else {\n",
       "                fill.style.transition = 'none';\n",
       "            }\n",
       "\n",
       "            fill.style.width = '100.0%';\n",
       "            fill.style.animation = 'none';\n",
       "            fill.style.backgroundImage = 'none'\n",
       "        \n",
       "                  \n",
       "                fill.style.animation = 'none';\n",
       "                fill.style.backgroundImage = 'none';\n",
       "            \n",
       "              })();\n",
       "        "
      ],
      "application/vdom.v1+json": {
       "attributes": {
        "id": "ade73b90-8e53-4cbc-99b8-163dfacc543c",
        "style": {
         "border": "1px solid #cfcfcf",
         "borderRadius": "4px",
         "boxSizing": "border-box",
         "position": "relative",
         "textAlign": "center",
         "width": "100%"
        }
       },
       "children": [
        {
         "attributes": {
          "class": "pb-text",
          "style": {
           "position": "absolute",
           "width": "100%"
          }
         },
         "children": [
          "Simulation finished in 0:00:06."
         ],
         "tagName": "div"
        },
        {
         "attributes": {
          "class": "pb-fill",
          "style": {
           "animation": "none",
           "backgroundColor": "#bdd2e6",
           "backgroundImage": "none",
           "transition": "width 0.1s linear",
           "width": "100%"
          }
         },
         "children": [
          {
           "attributes": {
            "scoped": "scoped",
            "type": "text/css"
           },
           "children": [
            "\n                        @keyframes pb-fill-anim {\n                            0% { background-position: 0 0; }\n                            100% { background-position: 100px 0; }\n                        }}"
           ],
           "tagName": "style"
          },
          " "
         ],
         "tagName": "div"
        }
       ],
       "tagName": "div"
      }
     },
     "metadata": {},
     "output_type": "display_data"
    },
    {
     "data": {
      "image/png": "[encoded data removed]",
      "text/plain": [
       "<Figure size 864x288 with 2 Axes>"
      ]
     },
     "metadata": {},
     "output_type": "display_data"
    }
   ],
   "source": [
    "t_test = 10\n",
    "stim_func = nengo.processes.WhiteSignal(period=t_train, high=1, rms=1, seed=1)\n",
    "\n",
    "dd3 = network(t=t_test, h_target=h_target, d_ampa=d_ampa, d_nmda=d_nmda, stim_func=stim_func)\n",
    "\n",
    "times = dd3['trange']\n",
    "a_pre_ampa = h_ampa.filt(dd3['pre'])\n",
    "a_pre_nmda = h_nmda.filt(dd3['pre'])\n",
    "tar_pre = h_target.filt(dd3['tar_pre'])\n",
    "a_post = Lowpass(0.05).filt(dd3['post'])\n",
    "tar_post = Lowpass(0.05).filt(dd3['tar_post'])\n",
    "\n",
    "xhat_pre = np.dot(a_pre_ampa, d_ampa) + np.dot(a_pre_nmda, d_nmda)\n",
    "xhat_post = np.dot(a_post, d_post)\n",
    "nrmse_pre = nrmse(xhat_pre.reshape((xhat_pre.shape[0]), 1), target=tar_pre)\n",
    "nrmse_post = nrmse(xhat_post, target=tar_post)\n",
    "\n",
    "fig, (ax, ax2) = plt.subplots(1, 2, figsize=((12, 4)))\n",
    "ax.plot(times, tar_pre, label='tar_pre')\n",
    "ax.plot(times, xhat_pre, label='pre, nrmse=%.3f'%nrmse_pre, alpha=0.5)\n",
    "ax2.plot(times, tar_post, label='tar_post')\n",
    "ax2.plot(times, xhat_post, label='post, nrmse=%.3f'%nrmse_post, alpha=0.5)\n",
    "ax.set(xlabel='time', title='pre')\n",
    "ax2.set(xlabel='time', title='post')\n",
    "ax.legend(loc='lower left')\n",
    "ax2.legend(loc='lower left')\n",
    "plt.show()"
   ]
  },
  {
   "cell_type": "markdown",
   "metadata": {},
   "source": [
    "## Inhibitory population"
   ]
  },
  {
   "cell_type": "code",
   "execution_count": 156,
   "metadata": {},
   "outputs": [],
   "source": [
    "def network_inh(\n",
    "    n_neurons=100,\n",
    "    t=10.0,\n",
    "    d_ampa=None,\n",
    "    d_nmda=None,\n",
    "    d_ampa_exc=None,\n",
    "    d_nmda_exc=None,\n",
    "    d_gaba=None,\n",
    "    h_ampa=DoubleExp(0.00055, 0.0022),\n",
    "    h_nmda=DoubleExp(0.0106, 0.285),\n",
    "    h_gaba=Alpha(0.0015),\n",
    "    h_target=Lowpass(0.05),\n",
    "#     gain_inh=Default,\n",
    "#     bias_inh=Default,\n",
    "    enc_inh=Choice([[1]]),\n",
    "    stim_func=lambda t: np.sin(t),\n",
    "    seed=0,\n",
    "    **kwargs):\n",
    "\n",
    "    solver_ampa = LstsqL2(reg=0.1) if d_ampa is None else NoSolver(d_ampa)\n",
    "    solver_nmda = LstsqL2(reg=0.1) if d_nmda is None else NoSolver(d_nmda)\n",
    "    solver_ampa_exc = LstsqL2(reg=0.1) if d_ampa_exc is None else NoSolver(d_ampa_exc)\n",
    "    solver_nmda_exc = LstsqL2(reg=0.1) if d_nmda_exc is None else NoSolver(d_nmda_exc)\n",
    "    solver_ampa_shift = LstsqL2(reg=0.1) if d_ampa_shift is None else NoSolver(d_ampa_shift)\n",
    "    solver_nmda_shift = LstsqL2(reg=0.1) if d_nmda_shift is None else NoSolver(d_nmda_shift)\n",
    "    solver_gaba = LstsqL2(reg=0.1) if d_gaba is None else NoSolver(d_gaba)\n",
    "        \n",
    "    norm = get_norm(t, stim_func)\n",
    "\n",
    "    with nengo.Network(seed=seed) as network:\n",
    "        stim = nengo.Node(stim_func)\n",
    "        pre = nengo.Ensemble(n_neurons, 1, seed=seed)\n",
    "        inh = nengo.Ensemble(n_neurons, 1, seed=seed,\n",
    "#             gain=gain_inh, bias=bias_inh,\n",
    "            intercepts=Uniform(0, 1), encoders=enc_inh)\n",
    "        post = nengo.Ensemble(n_neurons, 1, seed=seed)\n",
    "        tar_pre = nengo.Ensemble(1, 1, neuron_type=nengo.Direct())\n",
    "        tar_post = nengo.Ensemble(1, 1, neuron_type=nengo.Direct())\n",
    "        nengo.Connection(stim, pre, transform=1.0/norm, synapse=Lowpass(0.05), seed=seed)\n",
    "        nengo.Connection(pre, inh, solver=solver_ampa_shift, synapse=h_ampa, seed=seed)\n",
    "        nengo.Connection(pre, inh, solver=solver_nmda_shift, synapse=h_nmda, seed=seed)\n",
    "        nengo.Connection(pre, post, solver=solver_ampa_exc, synapse=h_ampa, seed=seed)\n",
    "        nengo.Connection(pre, post, solver=solver_nmda_exc, synapse=h_nmda, seed=seed)\n",
    "        nengo.Connection(inh, post, solver=solver_gaba, synapse=h_gaba, seed=seed)\n",
    "        nengo.Connection(stim, tar_pre, transform=1.0/norm, synapse=Lowpass(0.05))\n",
    "        nengo.Connection(tar_pre, tar_post, synapse=h_target)\n",
    "        p_pre = nengo.Probe(pre.neurons, 'spikes', synapse=None)\n",
    "        p_inh = nengo.Probe(inh.neurons, 'spikes', synapse=None)\n",
    "#         p_post = nengo.Probe(post.neurons, 'spikes', synapse=None)\n",
    "        p_post = nengo.Probe(post, synapse=Lowpass(0.05))\n",
    "        p_tar_pre = nengo.Probe(tar_pre, synapse=None)\n",
    "        p_tar_post = nengo.Probe(tar_post, synapse=None)\n",
    "        \n",
    "    with nengo.Simulator(network) as sim:\n",
    "        sim.run(t)\n",
    "        \n",
    "    return dict(\n",
    "        trange=sim.trange(),\n",
    "        pre=sim.data[p_pre],\n",
    "        inh=sim.data[p_inh],\n",
    "        post=sim.data[p_post],\n",
    "        tar_pre=sim.data[p_tar_pre],\n",
    "        tar_post=sim.data[p_tar_post]\n",
    "    )"
   ]
  },
  {
   "cell_type": "code",
   "execution_count": 157,
   "metadata": {},
   "outputs": [],
   "source": [
    "%%script false\n",
    "def func_pos(x):\n",
    "    # take an input array and add a scaled quadratic centered at the array's midpoint\n",
    "    t = np.linspace(-1, 1, x.shape[0])\n",
    "    q = (t - t[int(x.shape[0]/2)]) * (t - t[int(x.shape[0]/2)])\n",
    "    norm = np.max(q) / np.max(np.abs(x))\n",
    "    q /= norm\n",
    "    q += np.max(np.abs(x))\n",
    "    q = q.reshape((q.shape[0], 1))\n",
    "    pos = x + q\n",
    "    return pos"
   ]
  },
  {
   "cell_type": "code",
   "execution_count": 158,
   "metadata": {},
   "outputs": [],
   "source": [
    "def func_pos(x):\n",
    "    return x + np.abs(np.min(x)) + np.max(x)"
   ]
  },
  {
   "cell_type": "markdown",
   "metadata": {},
   "source": [
    "### optimize excitatory decoders"
   ]
  },
  {
   "cell_type": "code",
   "execution_count": 159,
   "metadata": {},
   "outputs": [
    {
     "name": "stdout",
     "output_type": "stream",
     "text": [
      "cannot import or initialize NEURON\n",
      "cannot import or initialize NEURON\n"
     ]
    },
    {
     "name": "stderr",
     "output_type": "stream",
     "text": [
      "/home/pduggins/.virtualenvs/nbn/lib/python3.6/site-packages/nengolib/signal/system.py:197: UserWarning: y0 (None!=0) does not properly initialize the system; see Nengo issue #1124.\n",
      "  \"Nengo issue #1124.\" % y0, UserWarning)\n",
      "/home/pduggins/nengo/nengo/utils/numpy.py:79: FutureWarning: Using a non-tuple sequence for multidimensional indexing is deprecated; use `arr[tuple(seq)]` instead of `arr[seq]`. In the future this will be interpreted as an array index, `arr[np.array(seq)]`, which will result either in an error or a different result.\n",
      "  v = a[inds]\n"
     ]
    },
    {
     "data": {
      "application/vdom.v1+json": {
       "attributes": {},
       "tagName": "div"
      },
      "text/html": [
       "\n",
       "                <script>\n",
       "                    if (Jupyter.version.split(\".\")[0] < 5) {\n",
       "                        var pb = document.getElementById(\"314bd789-b522-46be-84ef-27191b71e994\");\n",
       "                        var text = document.createTextNode(\n",
       "                            \"HMTL progress bar requires Jupyter Notebook >= \" +\n",
       "                            \"5.0 or Jupyter Lab. Alternatively, you can use \" +\n",
       "                            \"TerminalProgressBar().\");\n",
       "                        pb.parentNode.insertBefore(text, pb);\n",
       "                    }\n",
       "                </script>\n",
       "                <div id=\"314bd789-b522-46be-84ef-27191b71e994\" style=\"\n",
       "                    width: 100%;\n",
       "                    border: 1px solid #cfcfcf;\n",
       "                    border-radius: 4px;\n",
       "                    text-align: center;\n",
       "                    position: relative;\">\n",
       "                  <div class=\"pb-text\" style=\"\n",
       "                      position: absolute;\n",
       "                      width: 100%;\">\n",
       "                    0%\n",
       "                  </div>\n",
       "                  <div class=\"pb-fill\" style=\"\n",
       "                      background-color: #bdd2e6;\n",
       "                      width: 0%;\">\n",
       "                    <style type=\"text/css\" scoped=\"scoped\">\n",
       "                        @keyframes pb-fill-anim {\n",
       "                            0% { background-position: 0 0; }\n",
       "                            100% { background-position: 100px 0; }\n",
       "                        }\n",
       "                    </style>\n",
       "                    &nbsp;\n",
       "                  </div>\n",
       "                </div>"
      ],
      "text/plain": [
       "HtmlProgressBar cannot be displayed. Please use the TerminalProgressBar. It can be enabled with `nengo.rc.set('progress', 'progress_bar', 'nengo.utils.progress.TerminalProgressBar')`."
      ]
     },
     "metadata": {},
     "output_type": "display_data"
    },
    {
     "data": {
      "application/javascript": [
       "\n",
       "              (function () {\n",
       "                  var root = document.getElementById('314bd789-b522-46be-84ef-27191b71e994');\n",
       "                  var text = root.getElementsByClassName('pb-text')[0];\n",
       "                  var fill = root.getElementsByClassName('pb-fill')[0];\n",
       "\n",
       "                  text.innerHTML = 'Build finished in 0:00:01.';\n",
       "                  \n",
       "            fill.style.width = '100%';\n",
       "            fill.style.animation = 'pb-fill-anim 2s linear infinite';\n",
       "            fill.style.backgroundSize = '100px 100%';\n",
       "            fill.style.backgroundImage = 'repeating-linear-gradient(' +\n",
       "                '90deg, #bdd2e6, #edf2f8 40%, #bdd2e6 80%, #bdd2e6)';\n",
       "        \n",
       "                  \n",
       "                fill.style.animation = 'none';\n",
       "                fill.style.backgroundImage = 'none';\n",
       "            \n",
       "              })();\n",
       "        "
      ],
      "application/vdom.v1+json": {
       "attributes": {
        "id": "a4da823c-d1a0-41d5-865e-0f4120a901e6",
        "style": {
         "border": "1px solid #cfcfcf",
         "borderRadius": "4px",
         "boxSizing": "border-box",
         "position": "relative",
         "textAlign": "center",
         "width": "100%"
        }
       },
       "children": [
        {
         "attributes": {
          "class": "pb-text",
          "style": {
           "position": "absolute",
           "width": "100%"
          }
         },
         "children": [
          "Build finished in 0:00:01."
         ],
         "tagName": "div"
        },
        {
         "attributes": {
          "class": "pb-fill",
          "style": {
           "animation": "none",
           "backgroundColor": "#bdd2e6",
           "backgroundImage": "none",
           "backgroundSize": "100px 100%",
           "width": "100%"
          }
         },
         "children": [
          {
           "attributes": {
            "scoped": "scoped",
            "type": "text/css"
           },
           "children": [
            "\n                        @keyframes pb-fill-anim {\n                            0% { background-position: 0 0; }\n                            100% { background-position: 100px 0; }\n                        }}"
           ],
           "tagName": "style"
          },
          " "
         ],
         "tagName": "div"
        }
       ],
       "tagName": "div"
      }
     },
     "metadata": {},
     "output_type": "display_data"
    },
    {
     "data": {
      "application/vdom.v1+json": {
       "attributes": {},
       "tagName": "div"
      },
      "text/html": [
       "\n",
       "                <script>\n",
       "                    if (Jupyter.version.split(\".\")[0] < 5) {\n",
       "                        var pb = document.getElementById(\"aed39811-a5ba-4ac1-9def-34ace6e57f78\");\n",
       "                        var text = document.createTextNode(\n",
       "                            \"HMTL progress bar requires Jupyter Notebook >= \" +\n",
       "                            \"5.0 or Jupyter Lab. Alternatively, you can use \" +\n",
       "                            \"TerminalProgressBar().\");\n",
       "                        pb.parentNode.insertBefore(text, pb);\n",
       "                    }\n",
       "                </script>\n",
       "                <div id=\"aed39811-a5ba-4ac1-9def-34ace6e57f78\" style=\"\n",
       "                    width: 100%;\n",
       "                    border: 1px solid #cfcfcf;\n",
       "                    border-radius: 4px;\n",
       "                    text-align: center;\n",
       "                    position: relative;\">\n",
       "                  <div class=\"pb-text\" style=\"\n",
       "                      position: absolute;\n",
       "                      width: 100%;\">\n",
       "                    0%\n",
       "                  </div>\n",
       "                  <div class=\"pb-fill\" style=\"\n",
       "                      background-color: #bdd2e6;\n",
       "                      width: 0%;\">\n",
       "                    <style type=\"text/css\" scoped=\"scoped\">\n",
       "                        @keyframes pb-fill-anim {\n",
       "                            0% { background-position: 0 0; }\n",
       "                            100% { background-position: 100px 0; }\n",
       "                        }\n",
       "                    </style>\n",
       "                    &nbsp;\n",
       "                  </div>\n",
       "                </div>"
      ],
      "text/plain": [
       "HtmlProgressBar cannot be displayed. Please use the TerminalProgressBar. It can be enabled with `nengo.rc.set('progress', 'progress_bar', 'nengo.utils.progress.TerminalProgressBar')`."
      ]
     },
     "metadata": {},
     "output_type": "display_data"
    },
    {
     "data": {
      "application/javascript": [
       "\n",
       "              (function () {\n",
       "                  var root = document.getElementById('aed39811-a5ba-4ac1-9def-34ace6e57f78');\n",
       "                  var text = root.getElementsByClassName('pb-text')[0];\n",
       "                  var fill = root.getElementsByClassName('pb-fill')[0];\n",
       "\n",
       "                  text.innerHTML = 'Simulation finished in 0:00:08.';\n",
       "                  \n",
       "            if (100.0 > 0.) {\n",
       "                fill.style.transition = 'width 0.1s linear';\n",
       "            } else {\n",
       "                fill.style.transition = 'none';\n",
       "            }\n",
       "\n",
       "            fill.style.width = '100.0%';\n",
       "            fill.style.animation = 'none';\n",
       "            fill.style.backgroundImage = 'none'\n",
       "        \n",
       "                  \n",
       "                fill.style.animation = 'none';\n",
       "                fill.style.backgroundImage = 'none';\n",
       "            \n",
       "              })();\n",
       "        "
      ],
      "application/vdom.v1+json": {
       "attributes": {
        "id": "1092b45d-f33f-4d90-a2cc-e8185f22da4f",
        "style": {
         "border": "1px solid #cfcfcf",
         "borderRadius": "4px",
         "boxSizing": "border-box",
         "position": "relative",
         "textAlign": "center",
         "width": "100%"
        }
       },
       "children": [
        {
         "attributes": {
          "class": "pb-text",
          "style": {
           "position": "absolute",
           "width": "100%"
          }
         },
         "children": [
          "Simulation finished in 0:00:08."
         ],
         "tagName": "div"
        },
        {
         "attributes": {
          "class": "pb-fill",
          "style": {
           "animation": "none",
           "backgroundColor": "#bdd2e6",
           "backgroundImage": "none",
           "transition": "width 0.1s linear",
           "width": "100%"
          }
         },
         "children": [
          {
           "attributes": {
            "scoped": "scoped",
            "type": "text/css"
           },
           "children": [
            "\n                        @keyframes pb-fill-anim {\n                            0% { background-position: 0 0; }\n                            100% { background-position: 100px 0; }\n                        }}"
           ],
           "tagName": "style"
          },
          " "
         ],
         "tagName": "div"
        }
       ],
       "tagName": "div"
      }
     },
     "metadata": {},
     "output_type": "display_data"
    }
   ],
   "source": [
    "t_train = 10\n",
    "stim_func = nengo.processes.WhiteSignal(period=t_train, high=1, rms=1, seed=0)\n",
    "# stim_func = lambda t: -1 + 2*t/t_train\n",
    "h_target = Lowpass(0.1)\n",
    "\n",
    "dd1 = network_inh(t=t_train, stim_func=stim_func, h_target=h_target)"
   ]
  },
  {
   "cell_type": "code",
   "execution_count": 160,
   "metadata": {},
   "outputs": [
    {
     "data": {
      "image/png": "[encoded data removed]",
      "text/plain": [
       "<Figure size 1152x288 with 3 Axes>"
      ]
     },
     "metadata": {},
     "output_type": "display_data"
    },
    {
     "name": "stdout",
     "output_type": "stream",
     "text": [
      "count d_exc=0 / d_total 0.56\n",
      "count d_shift=0 / d_total 0.905\n"
     ]
    }
   ],
   "source": [
    "h_ampa = DoubleExp(0.00055, 0.0022)\n",
    "h_nmda = DoubleExp(0.0106, 0.285)  # no voltage-dependent Mg2+ block\n",
    "h_gaba = Alpha(0.0015)\n",
    "\n",
    "times = dd1['trange']\n",
    "a_pre_ampa = h_ampa.filt(dd1['pre'])\n",
    "a_pre_nmda = h_nmda.filt(dd1['pre'])\n",
    "tar_pre = h_target.filt(dd1['tar_pre'])\n",
    "\n",
    "reg = 0.1\n",
    "\n",
    "A = np.hstack((a_pre_ampa, a_pre_nmda))\n",
    "D = LstsqL2(reg=reg)(A, tar_pre)[0]\n",
    "d_ampa = D[:a_pre_ampa.shape[1]]\n",
    "d_nmda = D[a_pre_ampa.shape[1]:]\n",
    "\n",
    "tar_exc = func_pos(tar_pre)\n",
    "D_exc = NnlsL2(reg=reg)(A, tar_exc)[0]\n",
    "d_ampa_exc = D_exc[:a_pre_ampa.shape[1]]\n",
    "d_nmda_exc = D_exc[a_pre_ampa.shape[1]:]\n",
    "\n",
    "tar_shift = func_pos(tar_pre) - tar_pre\n",
    "D_shift = NnlsL2(reg=reg)(A, tar_shift)[0]\n",
    "d_ampa_shift = D_shift[:a_pre_ampa.shape[1]]\n",
    "d_nmda_shift = D_shift[a_pre_ampa.shape[1]:]\n",
    "\n",
    "xhat_pre = np.dot(a_pre_ampa, d_ampa) + np.dot(a_pre_nmda, d_nmda)\n",
    "xhat_exc = np.dot(a_pre_ampa, d_ampa_exc) + np.dot(a_pre_nmda, d_nmda_exc)\n",
    "xhat_shift = np.dot(a_pre_ampa, d_ampa_shift) + np.dot(a_pre_nmda, d_nmda_shift)\n",
    "nrmse_pre = nrmse(xhat_pre.reshape((xhat_pre.shape[0]), 1), target=tar_pre)\n",
    "nrmse_exc = nrmse(xhat_exc, target=tar_exc)\n",
    "nrmse_shift = nrmse(xhat_shift, target=tar_shift)\n",
    "\n",
    "fig, (ax, ax2, ax3) = plt.subplots(1, 3, figsize=((16, 4)))\n",
    "ax.plot(times, tar_pre, label='tar_pre')\n",
    "ax.plot(times, xhat_pre, label='pre, nrmse=%.3f'%nrmse_pre, alpha=0.5)\n",
    "ax2.plot(times, tar_exc, label='tar_exc')\n",
    "ax2.plot(times, xhat_exc, label='exc, nrmse=%.3f'%nrmse_exc, alpha=0.5)\n",
    "ax3.plot(times, tar_shift, label='tar_shift')\n",
    "ax3.plot(times, xhat_shift, label='shift, nrmse=%.3f'%nrmse_shift, alpha=0.5)\n",
    "ax.set(xlabel='time', title='pre')\n",
    "ax2.set(xlabel='time', title='exc')\n",
    "ax3.set(xlabel='time', title='shift')\n",
    "ax.legend(loc='lower left')\n",
    "ax2.legend(loc='lower left')\n",
    "ax3.legend(loc='lower left')\n",
    "plt.show()\n",
    "\n",
    "print('count d_exc=0 / d_total', np.count_nonzero(D_exc)/D_exc.shape[0])\n",
    "print('count d_shift=0 / d_total', np.count_nonzero(D_shift)/D_shift.shape[0])"
   ]
  },
  {
   "cell_type": "markdown",
   "metadata": {},
   "source": [
    "## divide into positive and negative components\n",
    " - transform d_ampa and d_nmda to be positive (above, using non-negative least squares solver)\n",
    " - calculate the difference between the overall target and estimate computed with these positive decoders\n",
    " - represent this value in the inhibitory population\n",
    " - to do this, compute non-negative decoders that will estimate this function given PC excitatory activity\n",
    " - use these decoders on the PC-inh connection\n",
    " - ensure the that resulting weight matrix does not over- or under-stimulate inh using a further optimization of gains_inh"
   ]
  },
  {
   "cell_type": "code",
   "execution_count": 161,
   "metadata": {},
   "outputs": [],
   "source": [
    "def optimize_inh(xhat_exc, n_neurons=100, n_samples=50, seed=0):\n",
    "    with nengo.Network(seed=seed) as network:\n",
    "        pre = nengo.Ensemble(n_neurons, 1, seed=seed)\n",
    "        inh = nengo.Ensemble(n_neurons, 1, seed=seed, intercepts=Uniform(0, 1), encoders=Choice([[1]]))\n",
    "        post = nengo.Ensemble(n_neurons, 1, seed=seed)\n",
    "    sim = nengo.Simulator(network)\n",
    "    enc = sim.data[inh].encoders  # fix\n",
    "    gain = sim.data[inh].gain  # update\n",
    "    bias = sim.data[inh].bias  # fix\n",
    "    # sample x from state-space range of xhat_enc\n",
    "    x_range = np.linspace(np.min(xhat_exc), np.max(xhat_exc), n_samples).reshape(n_samples, 1)\n",
    "    # specify target input currents for each x in x_range\n",
    "    J_min = 0\n",
    "    J_max = sim.data[inh].max_rates\n",
    "    J_range = np.zeros((n_neurons, n_samples))\n",
    "    for n in range(n_neurons):\n",
    "        J_range[n,:] = np.linspace(J_min, J_max[n], n_samples)\n",
    "    # least squares optimization of new gains\n",
    "    # J = alpha (x dot e) + bias   ==>   (J-bias) = (x dot e) * alpha  <==> target = A * decoders\n",
    "#     print('gain before', gain)\n",
    "    target = J_range - np.dot(bias.reshape(n_neurons, 1), np.ones((1, n_samples)))\n",
    "    A = gain * np.dot(x_range, enc.T)\n",
    "    gain_new = NnlsL2(reg=reg)(A, target.T)[0]\n",
    "    gain_new = gain_new[0,:]\n",
    "#     print('gain after', gain_new)\n",
    "    # roll new gain into encoder to avoid disrupting max_rates and intercepts\n",
    "    enc_new = gain_new * enc\n",
    "    return enc_new[0, :].reshape((n_neurons, 1))"
   ]
  },
  {
   "cell_type": "code",
   "execution_count": 163,
   "metadata": {},
   "outputs": [
    {
     "name": "stdout",
     "output_type": "stream",
     "text": [
      "cannot import or initialize NEURON\n"
     ]
    },
    {
     "data": {
      "application/vdom.v1+json": {
       "attributes": {},
       "tagName": "div"
      },
      "text/html": [
       "\n",
       "                <script>\n",
       "                    if (Jupyter.version.split(\".\")[0] < 5) {\n",
       "                        var pb = document.getElementById(\"b744d5a2-76c8-4057-be78-2e001ff71d4a\");\n",
       "                        var text = document.createTextNode(\n",
       "                            \"HMTL progress bar requires Jupyter Notebook >= \" +\n",
       "                            \"5.0 or Jupyter Lab. Alternatively, you can use \" +\n",
       "                            \"TerminalProgressBar().\");\n",
       "                        pb.parentNode.insertBefore(text, pb);\n",
       "                    }\n",
       "                </script>\n",
       "                <div id=\"b744d5a2-76c8-4057-be78-2e001ff71d4a\" style=\"\n",
       "                    width: 100%;\n",
       "                    border: 1px solid #cfcfcf;\n",
       "                    border-radius: 4px;\n",
       "                    text-align: center;\n",
       "                    position: relative;\">\n",
       "                  <div class=\"pb-text\" style=\"\n",
       "                      position: absolute;\n",
       "                      width: 100%;\">\n",
       "                    0%\n",
       "                  </div>\n",
       "                  <div class=\"pb-fill\" style=\"\n",
       "                      background-color: #bdd2e6;\n",
       "                      width: 0%;\">\n",
       "                    <style type=\"text/css\" scoped=\"scoped\">\n",
       "                        @keyframes pb-fill-anim {\n",
       "                            0% { background-position: 0 0; }\n",
       "                            100% { background-position: 100px 0; }\n",
       "                        }\n",
       "                    </style>\n",
       "                    &nbsp;\n",
       "                  </div>\n",
       "                </div>"
      ],
      "text/plain": [
       "HtmlProgressBar cannot be displayed. Please use the TerminalProgressBar. It can be enabled with `nengo.rc.set('progress', 'progress_bar', 'nengo.utils.progress.TerminalProgressBar')`."
      ]
     },
     "metadata": {},
     "output_type": "display_data"
    },
    {
     "data": {
      "application/javascript": [
       "\n",
       "              (function () {\n",
       "                  var root = document.getElementById('b744d5a2-76c8-4057-be78-2e001ff71d4a');\n",
       "                  var text = root.getElementsByClassName('pb-text')[0];\n",
       "                  var fill = root.getElementsByClassName('pb-fill')[0];\n",
       "\n",
       "                  text.innerHTML = 'Build finished in 0:00:01.';\n",
       "                  \n",
       "            fill.style.width = '100%';\n",
       "            fill.style.animation = 'pb-fill-anim 2s linear infinite';\n",
       "            fill.style.backgroundSize = '100px 100%';\n",
       "            fill.style.backgroundImage = 'repeating-linear-gradient(' +\n",
       "                '90deg, #bdd2e6, #edf2f8 40%, #bdd2e6 80%, #bdd2e6)';\n",
       "        \n",
       "                  \n",
       "                fill.style.animation = 'none';\n",
       "                fill.style.backgroundImage = 'none';\n",
       "            \n",
       "              })();\n",
       "        "
      ],
      "application/vdom.v1+json": {
       "attributes": {
        "id": "876842f8-9c9b-4a7f-931e-703ef57ce47c",
        "style": {
         "border": "1px solid #cfcfcf",
         "borderRadius": "4px",
         "boxSizing": "border-box",
         "position": "relative",
         "textAlign": "center",
         "width": "100%"
        }
       },
       "children": [
        {
         "attributes": {
          "class": "pb-text",
          "style": {
           "position": "absolute",
           "width": "100%"
          }
         },
         "children": [
          "Build finished in 0:00:01."
         ],
         "tagName": "div"
        },
        {
         "attributes": {
          "class": "pb-fill",
          "style": {
           "animation": "none",
           "backgroundColor": "#bdd2e6",
           "backgroundImage": "none",
           "backgroundSize": "100px 100%",
           "width": "100%"
          }
         },
         "children": [
          {
           "attributes": {
            "scoped": "scoped",
            "type": "text/css"
           },
           "children": [
            "\n                        @keyframes pb-fill-anim {\n                            0% { background-position: 0 0; }\n                            100% { background-position: 100px 0; }\n                        }}"
           ],
           "tagName": "style"
          },
          " "
         ],
         "tagName": "div"
        }
       ],
       "tagName": "div"
      }
     },
     "metadata": {},
     "output_type": "display_data"
    },
    {
     "name": "stdout",
     "output_type": "stream",
     "text": [
      "cannot import or initialize NEURON\n",
      "cannot import or initialize NEURON\n"
     ]
    },
    {
     "name": "stderr",
     "output_type": "stream",
     "text": [
      "/home/pduggins/.virtualenvs/nbn/lib/python3.6/site-packages/nengolib/signal/system.py:197: UserWarning: y0 (None!=0) does not properly initialize the system; see Nengo issue #1124.\n",
      "  \"Nengo issue #1124.\" % y0, UserWarning)\n",
      "/home/pduggins/nengo/nengo/utils/numpy.py:79: FutureWarning: Using a non-tuple sequence for multidimensional indexing is deprecated; use `arr[tuple(seq)]` instead of `arr[seq]`. In the future this will be interpreted as an array index, `arr[np.array(seq)]`, which will result either in an error or a different result.\n",
      "  v = a[inds]\n"
     ]
    },
    {
     "data": {
      "application/vdom.v1+json": {
       "attributes": {},
       "tagName": "div"
      },
      "text/html": [
       "\n",
       "                <script>\n",
       "                    if (Jupyter.version.split(\".\")[0] < 5) {\n",
       "                        var pb = document.getElementById(\"f7da463c-1e3a-4959-81ea-a921072a4acb\");\n",
       "                        var text = document.createTextNode(\n",
       "                            \"HMTL progress bar requires Jupyter Notebook >= \" +\n",
       "                            \"5.0 or Jupyter Lab. Alternatively, you can use \" +\n",
       "                            \"TerminalProgressBar().\");\n",
       "                        pb.parentNode.insertBefore(text, pb);\n",
       "                    }\n",
       "                </script>\n",
       "                <div id=\"f7da463c-1e3a-4959-81ea-a921072a4acb\" style=\"\n",
       "                    width: 100%;\n",
       "                    border: 1px solid #cfcfcf;\n",
       "                    border-radius: 4px;\n",
       "                    text-align: center;\n",
       "                    position: relative;\">\n",
       "                  <div class=\"pb-text\" style=\"\n",
       "                      position: absolute;\n",
       "                      width: 100%;\">\n",
       "                    0%\n",
       "                  </div>\n",
       "                  <div class=\"pb-fill\" style=\"\n",
       "                      background-color: #bdd2e6;\n",
       "                      width: 0%;\">\n",
       "                    <style type=\"text/css\" scoped=\"scoped\">\n",
       "                        @keyframes pb-fill-anim {\n",
       "                            0% { background-position: 0 0; }\n",
       "                            100% { background-position: 100px 0; }\n",
       "                        }\n",
       "                    </style>\n",
       "                    &nbsp;\n",
       "                  </div>\n",
       "                </div>"
      ],
      "text/plain": [
       "HtmlProgressBar cannot be displayed. Please use the TerminalProgressBar. It can be enabled with `nengo.rc.set('progress', 'progress_bar', 'nengo.utils.progress.TerminalProgressBar')`."
      ]
     },
     "metadata": {},
     "output_type": "display_data"
    },
    {
     "data": {
      "application/javascript": [
       "\n",
       "              (function () {\n",
       "                  var root = document.getElementById('f7da463c-1e3a-4959-81ea-a921072a4acb');\n",
       "                  var text = root.getElementsByClassName('pb-text')[0];\n",
       "                  var fill = root.getElementsByClassName('pb-fill')[0];\n",
       "\n",
       "                  text.innerHTML = 'Build finished in 0:00:01.';\n",
       "                  \n",
       "            fill.style.width = '100%';\n",
       "            fill.style.animation = 'pb-fill-anim 2s linear infinite';\n",
       "            fill.style.backgroundSize = '100px 100%';\n",
       "            fill.style.backgroundImage = 'repeating-linear-gradient(' +\n",
       "                '90deg, #bdd2e6, #edf2f8 40%, #bdd2e6 80%, #bdd2e6)';\n",
       "        \n",
       "                  \n",
       "                fill.style.animation = 'none';\n",
       "                fill.style.backgroundImage = 'none';\n",
       "            \n",
       "              })();\n",
       "        "
      ],
      "application/vdom.v1+json": {
       "attributes": {
        "id": "5739bfe9-5641-4a11-a359-6bb917fa1e22",
        "style": {
         "border": "1px solid #cfcfcf",
         "borderRadius": "4px",
         "boxSizing": "border-box",
         "position": "relative",
         "textAlign": "center",
         "width": "100%"
        }
       },
       "children": [
        {
         "attributes": {
          "class": "pb-text",
          "style": {
           "position": "absolute",
           "width": "100%"
          }
         },
         "children": [
          "Build finished in 0:00:01."
         ],
         "tagName": "div"
        },
        {
         "attributes": {
          "class": "pb-fill",
          "style": {
           "animation": "none",
           "backgroundColor": "#bdd2e6",
           "backgroundImage": "none",
           "backgroundSize": "100px 100%",
           "width": "100%"
          }
         },
         "children": [
          {
           "attributes": {
            "scoped": "scoped",
            "type": "text/css"
           },
           "children": [
            "\n                        @keyframes pb-fill-anim {\n                            0% { background-position: 0 0; }\n                            100% { background-position: 100px 0; }\n                        }}"
           ],
           "tagName": "style"
          },
          " "
         ],
         "tagName": "div"
        }
       ],
       "tagName": "div"
      }
     },
     "metadata": {},
     "output_type": "display_data"
    },
    {
     "data": {
      "application/vdom.v1+json": {
       "attributes": {},
       "tagName": "div"
      },
      "text/html": [
       "\n",
       "                <script>\n",
       "                    if (Jupyter.version.split(\".\")[0] < 5) {\n",
       "                        var pb = document.getElementById(\"5bf9bcdf-9cdd-4281-8f79-8fc55cd4117a\");\n",
       "                        var text = document.createTextNode(\n",
       "                            \"HMTL progress bar requires Jupyter Notebook >= \" +\n",
       "                            \"5.0 or Jupyter Lab. Alternatively, you can use \" +\n",
       "                            \"TerminalProgressBar().\");\n",
       "                        pb.parentNode.insertBefore(text, pb);\n",
       "                    }\n",
       "                </script>\n",
       "                <div id=\"5bf9bcdf-9cdd-4281-8f79-8fc55cd4117a\" style=\"\n",
       "                    width: 100%;\n",
       "                    border: 1px solid #cfcfcf;\n",
       "                    border-radius: 4px;\n",
       "                    text-align: center;\n",
       "                    position: relative;\">\n",
       "                  <div class=\"pb-text\" style=\"\n",
       "                      position: absolute;\n",
       "                      width: 100%;\">\n",
       "                    0%\n",
       "                  </div>\n",
       "                  <div class=\"pb-fill\" style=\"\n",
       "                      background-color: #bdd2e6;\n",
       "                      width: 0%;\">\n",
       "                    <style type=\"text/css\" scoped=\"scoped\">\n",
       "                        @keyframes pb-fill-anim {\n",
       "                            0% { background-position: 0 0; }\n",
       "                            100% { background-position: 100px 0; }\n",
       "                        }\n",
       "                    </style>\n",
       "                    &nbsp;\n",
       "                  </div>\n",
       "                </div>"
      ],
      "text/plain": [
       "HtmlProgressBar cannot be displayed. Please use the TerminalProgressBar. It can be enabled with `nengo.rc.set('progress', 'progress_bar', 'nengo.utils.progress.TerminalProgressBar')`."
      ]
     },
     "metadata": {},
     "output_type": "display_data"
    },
    {
     "data": {
      "application/javascript": [
       "\n",
       "              (function () {\n",
       "                  var root = document.getElementById('5bf9bcdf-9cdd-4281-8f79-8fc55cd4117a');\n",
       "                  var text = root.getElementsByClassName('pb-text')[0];\n",
       "                  var fill = root.getElementsByClassName('pb-fill')[0];\n",
       "\n",
       "                  text.innerHTML = 'Simulation finished in 0:00:06.';\n",
       "                  \n",
       "            if (100.0 > 0.) {\n",
       "                fill.style.transition = 'width 0.1s linear';\n",
       "            } else {\n",
       "                fill.style.transition = 'none';\n",
       "            }\n",
       "\n",
       "            fill.style.width = '100.0%';\n",
       "            fill.style.animation = 'none';\n",
       "            fill.style.backgroundImage = 'none'\n",
       "        \n",
       "                  \n",
       "                fill.style.animation = 'none';\n",
       "                fill.style.backgroundImage = 'none';\n",
       "            \n",
       "              })();\n",
       "        "
      ],
      "application/vdom.v1+json": {
       "attributes": {
        "id": "080235ea-6fd5-4a23-a515-24dc20446855",
        "style": {
         "border": "1px solid #cfcfcf",
         "borderRadius": "4px",
         "boxSizing": "border-box",
         "position": "relative",
         "textAlign": "center",
         "width": "100%"
        }
       },
       "children": [
        {
         "attributes": {
          "class": "pb-text",
          "style": {
           "position": "absolute",
           "width": "100%"
          }
         },
         "children": [
          "Simulation finished in 0:00:06."
         ],
         "tagName": "div"
        },
        {
         "attributes": {
          "class": "pb-fill",
          "style": {
           "animation": "none",
           "backgroundColor": "#bdd2e6",
           "backgroundImage": "none",
           "transition": "width 0.1s linear",
           "width": "100%"
          }
         },
         "children": [
          {
           "attributes": {
            "scoped": "scoped",
            "type": "text/css"
           },
           "children": [
            "\n                        @keyframes pb-fill-anim {\n                            0% { background-position: 0 0; }\n                            100% { background-position: 100px 0; }\n                        }}"
           ],
           "tagName": "style"
          },
          " "
         ],
         "tagName": "div"
        }
       ],
       "tagName": "div"
      }
     },
     "metadata": {},
     "output_type": "display_data"
    }
   ],
   "source": [
    "# stim_func = lambda t: -1 + 2*t/t_train\n",
    "stim_func = nengo.processes.WhiteSignal(period=t_train, high=1, rms=1, seed=0)\n",
    "\n",
    "enc_inh = optimize_inh(xhat_exc)\n",
    "\n",
    "dd2 = network_inh(t=t_train, stim_func=stim_func, h_target=h_target,\n",
    "    d_ampa=d_ampa, d_nmda=d_nmda,\n",
    "    d_ampa_exc=d_ampa_exc, d_nmda_exc=d_nmda_exc,\n",
    "    d_ampa_shift=d_ampa_shift, d_nmda_shift=d_nmda_shift,\n",
    "    enc_inh=enc_inh)"
   ]
  },
  {
   "cell_type": "code",
   "execution_count": 170,
   "metadata": {},
   "outputs": [
    {
     "name": "stdout",
     "output_type": "stream",
     "text": [
      "nonzero a_inh 1.0\n",
      "count d_inh=0 / d_total 0.89\n"
     ]
    },
    {
     "data": {
      "image/png": "[encoded data removed]",
      "text/plain": [
       "<Figure size 864x288 with 2 Axes>"
      ]
     },
     "metadata": {},
     "output_type": "display_data"
    }
   ],
   "source": [
    "times = dd2['trange']\n",
    "# a_inh = h_gaba.filt(dd2['inh'])\n",
    "a_inh = Lowpass(0.05).filt(dd2['inh'])\n",
    "a_pre_ampa = h_ampa.filt(dd2['pre'])\n",
    "a_pre_nmda = h_nmda.filt(dd2['pre'])\n",
    "a_exc = np.hstack((a_pre_ampa, a_pre_nmda))\n",
    "a_pre = np.hstack((a_pre_ampa, a_pre_nmda))\n",
    "# d_exc = np.vstack((d_ampa_exc, d_nmda_exc))\n",
    "# d_pre = np.vstack((d_ampa, d_nmda))\n",
    "\n",
    "tar_pre = dd2['tar_pre']\n",
    "# tar_exc = tar_pre + np.abs(np.min(tar_pre)) + np.max(tar_pre)\n",
    "tar_exc = func_pos(tar_pre)\n",
    "# xhat_exc = np.dot(a_exc, d_exc)\n",
    "# xhat_pre = np.dot(a_pre, d_pre)\n",
    "xhat_exc = np.dot(a_pre_ampa, d_ampa_exc) + np.dot(a_pre_nmda, d_nmda_exc)\n",
    "xhat_pre = np.dot(a_pre_ampa, d_ampa) + np.dot(a_pre_nmda, d_nmda)\n",
    "nrmse_pre = nrmse(xhat_pre, target=tar_pre)\n",
    "\n",
    "# tar_inh = xhat_exc - xhat_pre  # overshoot estimate from pos decoders minus estimate from mixed decoders\n",
    "tar_inh = tar_exc - tar_pre  # overshoot estimate from pos decoders minus ideal target\n",
    "\n",
    "reg = 0.1\n",
    "d_gaba = -NnlsL2(reg=reg)(a_inh, tar_inh)[0]\n",
    "# fig, ax = plt.subplots(figsize=((6, 4)))\n",
    "# ax.plot(a_inh[:1000,:])\n",
    "# plt.show()\n",
    "print('nonzero a_inh', np.count_nonzero(np.sum(a_inh, axis=0))/a_inh.shape[1])\n",
    "print('count d_inh=0 / d_total', np.count_nonzero(d_gaba)/d_gaba.shape[0])\n",
    "# print(np.sum(a_inh, axis=0))\n",
    "# d_gaba = LstsqL2(reg=reg)(a_inh, tar_inh)[0]\n",
    "\n",
    "xhat_inh = np.dot(a_inh, d_gaba)\n",
    "nrmse_inh = nrmse(xhat_inh, target=-tar_inh)\n",
    "nrmse_diff = nrmse(xhat_exc - xhat_inh, target=xhat_pre)\n",
    "\n",
    "\n",
    "fig, (ax, ax2) = plt.subplots(1, 2, figsize=((12, 4)))\n",
    "ax.plot(times, -tar_inh, label='tar_inh')\n",
    "ax.plot(times, xhat_inh, label='inh, nrmse=%.3f'%nrmse_inh, alpha=0.5)\n",
    "ax2.plot(times, tar_pre, label='tar_pre')\n",
    "ax2.plot(times, xhat_pre, label='xhat_pre, nrmse=%.3f'%nrmse_pre, alpha=0.5)\n",
    "ax2.plot(times, xhat_exc + xhat_inh, label='exc - inh, nrmse=%.3f'%nrmse_diff, alpha=0.5)\n",
    "ax.set(xlabel='time', title='inh')\n",
    "ax2.set(xlabel='time', title='exc - inh')\n",
    "ax.legend(loc='lower left')\n",
    "ax2.legend(loc='lower left')\n",
    "plt.show()"
   ]
  },
  {
   "cell_type": "markdown",
   "metadata": {},
   "source": [
    "### connect inh to post with -d_inh, pre to post with d_exc, and compare to the target"
   ]
  },
  {
   "cell_type": "code",
   "execution_count": null,
   "metadata": {},
   "outputs": [],
   "source": [
    "dd3 = network_inh(t=t_train, stim_func=stim_func, h_target=h_target,\n",
    "    d_ampa=d_ampa, d_nmda=d_nmda,\n",
    "    d_ampa_exc=d_ampa_exc, d_nmda_exc=d_nmda_exc,\n",
    "    d_ampa_shift=d_ampa_shift, d_nmda_shift=d_nmda_shift,\n",
    "    d_gaba=d_gaba, enc_inh=enc_inh)"
   ]
  },
  {
   "cell_type": "code",
   "execution_count": 174,
   "metadata": {},
   "outputs": [
    {
     "data": {
      "image/png": "[encoded data removed]",
      "text/plain": [
       "<Figure size 1296x288 with 3 Axes>"
      ]
     },
     "metadata": {},
     "output_type": "display_data"
    }
   ],
   "source": [
    "a_pre_ampa = h_ampa.filt(dd3['pre'])\n",
    "a_pre_nmda = h_nmda.filt(dd3['pre'])\n",
    "tar_pre = h_target.filt(dd3['tar_pre'])\n",
    "a_post = Lowpass(0.05).filt(dd3['post'])\n",
    "tar_post = Lowpass(0.05).filt(dd3['tar_post'])\n",
    "# d_post = LstsqL2(reg=reg)(a_post, tar_post)[0]\n",
    "a_inh = h_gaba.filt(dd3['inh'])\n",
    "a_pre_ampa = h_ampa.filt(dd3['pre'])\n",
    "a_pre_nmda = h_nmda.filt(dd3['pre'])\n",
    "a_exc = np.hstack((a_pre_ampa, a_pre_nmda))\n",
    "\n",
    "xhat_pre = np.dot(a_pre_ampa, d_ampa) + np.dot(a_pre_nmda, d_nmda)\n",
    "xhat_exc = np.dot(a_pre_ampa, d_ampa_exc) + np.dot(a_pre_nmda, d_nmda_exc)\n",
    "xhat_inh = np.dot(a_inh, d_gaba)\n",
    "xhat_diff = xhat_exc + xhat_inh\n",
    "# xhat_post = np.dot(a_post, d_post)\n",
    "xhat_post = dd3['post']\n",
    "nrmse_pre = nrmse(xhat_pre.reshape((xhat_pre.shape[0]), 1), target=tar_pre)\n",
    "nrmse_post = nrmse(xhat_post, target=tar_post)\n",
    "nrmse_diff = nrmse(xhat_diff, target=tar_post)\n",
    "\n",
    "fig, (ax, ax2, ax3) = plt.subplots(1, 3, figsize=((18, 4)))\n",
    "ax.plot(times, tar_pre, label='tar_pre')\n",
    "ax.plot(times, xhat_pre, label='pre, nrmse=%.3f'%nrmse_pre, alpha=0.5)\n",
    "ax2.plot(times, xhat_exc, label='exc', alpha=0.5)\n",
    "ax2.plot(times, xhat_inh, label='inh', alpha=0.5)\n",
    "ax2.plot(times, xhat_diff, label='diff, nrmse=%.3f'%nrmse_diff, alpha=0.5)\n",
    "ax3.plot(times, tar_post, label='tar_post')\n",
    "ax3.plot(times, xhat_post, label='post, nrmse=%.3f'%nrmse_post, alpha=0.5)\n",
    "ax.set(xlabel='time', title='pre')\n",
    "ax2.set(xlabel='time', title='diff')\n",
    "ax3.set(xlabel='time', title='post')\n",
    "ax.legend(loc='lower left')\n",
    "ax2.legend(loc='lower left')\n",
    "ax3.legend(loc='lower left')\n",
    "plt.show()"
   ]
  },
  {
   "cell_type": "code",
   "execution_count": null,
   "metadata": {},
   "outputs": [],
   "source": []
  }
 ],
 "metadata": {
  "kernelspec": {
   "display_name": "Python 3",
   "language": "python",
   "name": "python3"
  },
  "language_info": {
   "codemirror_mode": {
    "name": "ipython",
    "version": 3
   },
   "file_extension": ".py",
   "mimetype": "text/x-python",
   "name": "python",
   "nbconvert_exporter": "python",
   "pygments_lexer": "ipython3",
   "version": "3.6.4"
  }
 },
 "nbformat": 4,
 "nbformat_minor": 2
}
