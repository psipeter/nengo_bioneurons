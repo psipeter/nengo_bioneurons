{
 "cells": [
  {
   "cell_type": "markdown",
   "metadata": {},
   "source": [
    "## Overview of Dale's Transform\n",
    "\n",
    " 1. Compute non-negative decoders from ```pre``` to ```post```, ```d_ampa``` and ```d_nmda```, that have corresponding synaptic filters h_ampa and h_nmda which have biologically-realistic time constants.\n",
    " \n",
    " 2. These decoders compute a function ```f(x) = func_pos(stim)``` that is non-negative, allowing the non-negative least squares solver ```NnlsL2()``` to optimize effectively. The activity matrix is formed by stacking ```h_ampa.filt(spikes)``` and ```h_nmda.filt(spikes)```, allowing ```NnlsL2()``` to find decoders that account for the mixing of these two synapses. Note that ```func_pos()``` must be chosen to ensure it is the type of function that ```NnlsL2()``` can represent well. Two good choices are adding a positive constant, such that ```f(x) > 0 for all x```, or adding a u-shaped curve derived from summing all the activities of ```pre```.\n",
    " \n",
    " 3. Form two connections between ```pre``` and ```post``` using ```d_ampa/h_amps``` and ```d_nmda/h_nmda```. This should stimulate post to represent ```func_pos(u)```.\n",
    " \n",
    " 4. Use an inhibitory population ```inh``` to cancel the positive shift introduced by ```func_pos()```. This will eventually require a connection between ```inh``` and ```post``` with non-positive ```d_gaba``` and an inhibitory synapse ```h_gaba```.\n",
    " \n",
    " 5. Stimulate ```inh``` with ```pre``` using another non-negative pair of connections, ```d_ampa_shift``` and ```d_nmda_shift```. These decoders calculate the positive shift introduced by ```func_pos()```, so the target for this ```NnlsL2()``` is ```target_shift = fun_pos(u) - target_pre```.\n",
    " \n",
    " 6. To ensure that the ```pre-inh``` connections do not overstimulate ```inh``` (drive to saturation), scale by a constant ```T_inh = 1.0/max(xhat_pos)```\n",
    "   \n",
    " 7. Simulate the network, collect spikes from ```inh```, filter with ```h_gaba```, and compute non-negative decoders ```d_gaba```. The target of these decoders is the same ```target_shift = fun_pos(u) - target_pre```. Afterwards set ```d_gaba = -d_gaba``` to ensure non-positivity.\n",
    " \n",
    " 8. Connect ```inh``` to ```post``` with ```d_gaba/h_gaba```, as well as the inverse of the scaling transform ```T=1.0/T_inh```, effectively computing the negative of the positive shift introduced by func_pos. "
   ]
  },
  {
   "cell_type": "code",
   "execution_count": 1,
   "metadata": {},
   "outputs": [],
   "source": [
    "import numpy as np\n",
    "\n",
    "import nengo\n",
    "from nengo.solvers import LstsqL2, NoSolver, NnlsL2\n",
    "from nengo.dists import Uniform, Choice\n",
    "from nengo.params import Default\n",
    "\n",
    "from nengolib.signal import s, z, nrmse, LinearSystem\n",
    "from nengolib.synapses import Highpass, Lowpass, Alpha, DoubleExp\n",
    "\n",
    "import matplotlib.pyplot as plt\n",
    "import seaborn as sns\n",
    "sns.set(palette='dark', style='whitegrid')"
   ]
  },
  {
   "cell_type": "code",
   "execution_count": 2,
   "metadata": {},
   "outputs": [],
   "source": [
    "def get_norm(t, stim_func):\n",
    "    with nengo.Network() as model:\n",
    "        stim = nengo.Node(stim_func)\n",
    "        p_stim = nengo.Probe(stim, synapse=None)\n",
    "    with nengo.Simulator(model, progress_bar=False) as sim:\n",
    "        sim.run(t, progress_bar=False)\n",
    "    stimulus = sim.data[p_stim]\n",
    "    norm = np.max(np.abs(stimulus))\n",
    "    return norm\n",
    "\n",
    "def func_pos(x):\n",
    "    return x + np.abs(np.min(x)) + np.max(x)"
   ]
  },
  {
   "cell_type": "code",
   "execution_count": 3,
   "metadata": {},
   "outputs": [],
   "source": [
    "def network(\n",
    "    n_neurons=100,\n",
    "    t=10.0,\n",
    "    d_ampa_pos=None,\n",
    "    d_nmda_pos=None,\n",
    "    d_ampa_shift=None,\n",
    "    d_nmda_shift=None,\n",
    "    d_gaba=None,\n",
    "    h_ampa=DoubleExp(0.00055, 0.0022),\n",
    "    h_nmda=DoubleExp(0.0106, 0.285),\n",
    "    h_gaba=Alpha(0.0015),\n",
    "    h_target=Lowpass(0.05),\n",
    "    T_inh=1,\n",
    "    stim_func=lambda t: np.sin(t),\n",
    "    seed=0,\n",
    "    **kwargs):\n",
    "\n",
    "    solver_ampa_pos = NoSolver() if d_ampa_pos is None else NoSolver(d_ampa_pos)\n",
    "    solver_nmda_pos = NoSolver() if d_nmda_pos is None else NoSolver(d_nmda_pos)\n",
    "    solver_ampa_shift = NoSolver() if d_ampa_shift is None else NoSolver(d_ampa_shift)\n",
    "    solver_nmda_shift = NoSolver() if d_nmda_shift is None else NoSolver(d_nmda_shift)\n",
    "    solver_gaba = NoSolver() if d_gaba is None else NoSolver(np.outer(np.ones((n_neurons, 1)), d_gaba), weights=True)\n",
    "\n",
    "    norm = get_norm(t, stim_func)\n",
    "\n",
    "    with nengo.Network(seed=seed) as network:\n",
    "        stim = nengo.Node(stim_func)\n",
    "        pre = nengo.Ensemble(n_neurons, 1, seed=seed)\n",
    "        inh = nengo.Ensemble(n_neurons, 1, seed=seed, intercepts=Uniform(0, 1), encoders=Choice([[1]]))\n",
    "        post = nengo.Ensemble(n_neurons, 1, seed=seed, intercepts=Uniform(-1, 1), encoders=Choice([[1]]))\n",
    "        tar_pre = nengo.Ensemble(1, 1, neuron_type=nengo.Direct())\n",
    "        tar_post = nengo.Ensemble(1, 1, neuron_type=nengo.Direct())\n",
    "        nengo.Connection(stim, pre, transform=1.0/norm, synapse=Lowpass(0.05), seed=seed)\n",
    "        a=nengo.Connection(pre, inh, transform=T_inh, solver=solver_ampa_shift, synapse=h_ampa, seed=seed)\n",
    "        b=nengo.Connection(pre, inh, transform=T_inh, solver=solver_nmda_shift, synapse=h_nmda, seed=seed)\n",
    "        c=nengo.Connection(pre, post, solver=solver_ampa_pos, synapse=h_ampa, seed=seed)\n",
    "        d=nengo.Connection(pre, post, solver=solver_nmda_pos, synapse=h_nmda, seed=seed)\n",
    "        e=nengo.Connection(inh, post, transform=1.0/T_inh, solver=solver_gaba, synapse=h_gaba, seed=seed)\n",
    "        nengo.Connection(stim, tar_pre, transform=1.0/norm, synapse=Lowpass(0.05))\n",
    "        nengo.Connection(tar_pre, tar_post, synapse=h_target)\n",
    "        p_pre = nengo.Probe(pre.neurons, 'spikes', synapse=None)\n",
    "        p_inh = nengo.Probe(inh.neurons, 'spikes', synapse=None)\n",
    "        p_post = nengo.Probe(post.neurons, 'spikes', synapse=None)\n",
    "        p_tar_pre = nengo.Probe(tar_pre, synapse=None)\n",
    "        p_tar_post = nengo.Probe(tar_post, synapse=None)\n",
    "        \n",
    "    with nengo.Simulator(network) as sim:\n",
    "        sim.run(t)\n",
    "        \n",
    "    print('fraction pre_inh_ampa > 0: %.1f'  %(len(np.where(sim.data[a].weights.ravel() > 0)[0])/n_neurons))\n",
    "    print('fraction pre_inh_ampa == 0: %.1f'  %(len(np.where(sim.data[a].weights.ravel() == 0)[0])/n_neurons))\n",
    "    print('fraction pre_inh_nmda > 0: %.1f' %(len(np.where(sim.data[b].weights.ravel() > 0)[0])/n_neurons))\n",
    "    print('fraction pre_inh_nmda == 0: %.1f' %(len(np.where(sim.data[b].weights.ravel() == 0)[0])/n_neurons))\n",
    "    print('fraction pre_post_ampa > 0: %.1f' %(len(np.where(sim.data[c].weights.ravel() > 0)[0])/n_neurons))\n",
    "    print('fraction pre_post_ampa == 0: %.1f' %(len(np.where(sim.data[c].weights.ravel() == 0)[0])/n_neurons))\n",
    "    print('fraction pre_post_nmda > 0: %.1f' %(len(np.where(sim.data[d].weights.ravel() > 0)[0])/n_neurons))\n",
    "    print('fraction pre_post_nmda == 0: %.1f' %(len(np.where(sim.data[d].weights.ravel() == 0)[0])/n_neurons))\n",
    "    print('fraction inh_post_gaba < 0: %.1f' %(len(np.where(sim.data[e].weights.ravel() < 0)[0])/(n_neurons**2)))\n",
    "    print('fraction inh_post_gaba == 0: %.1f' %(len(np.where(sim.data[e].weights.ravel() == 0)[0])/(n_neurons**2)))\n",
    "        \n",
    "    return dict(\n",
    "        trange=sim.trange(),\n",
    "        pre=sim.data[p_pre],\n",
    "        inh=sim.data[p_inh],\n",
    "        post=sim.data[p_post],\n",
    "        tar_pre=sim.data[p_tar_pre],\n",
    "        tar_post=sim.data[p_tar_post],\n",
    "    )"
   ]
  },
  {
   "cell_type": "markdown",
   "metadata": {},
   "source": [
    "Collect pre spikes and calculate non-negative decoders for connections out of pre"
   ]
  },
  {
   "cell_type": "code",
   "execution_count": 4,
   "metadata": {},
   "outputs": [
    {
     "name": "stdout",
     "output_type": "stream",
     "text": [
      "cannot import or initialize NEURON\n"
     ]
    },
    {
     "name": "stderr",
     "output_type": "stream",
     "text": [
      "/home/pduggins/.virtualenvs/nbn/lib/python3.6/site-packages/nengolib/signal/system.py:197: UserWarning: y0 (None!=0) does not properly initialize the system; see Nengo issue #1124.\n",
      "  \"Nengo issue #1124.\" % y0, UserWarning)\n"
     ]
    },
    {
     "name": "stdout",
     "output_type": "stream",
     "text": [
      "cannot import or initialize NEURON\n"
     ]
    },
    {
     "data": {
      "application/vdom.v1+json": {
       "attributes": {},
       "tagName": "div"
      },
      "text/html": [
       "\n",
       "                <script>\n",
       "                    if (Jupyter.version.split(\".\")[0] < 5) {\n",
       "                        var pb = document.getElementById(\"f5d3f833-d883-4c75-a5d1-1d0fa3c1b4dd\");\n",
       "                        var text = document.createTextNode(\n",
       "                            \"HMTL progress bar requires Jupyter Notebook >= \" +\n",
       "                            \"5.0 or Jupyter Lab. Alternatively, you can use \" +\n",
       "                            \"TerminalProgressBar().\");\n",
       "                        pb.parentNode.insertBefore(text, pb);\n",
       "                    }\n",
       "                </script>\n",
       "                <div id=\"f5d3f833-d883-4c75-a5d1-1d0fa3c1b4dd\" style=\"\n",
       "                    width: 100%;\n",
       "                    border: 1px solid #cfcfcf;\n",
       "                    border-radius: 4px;\n",
       "                    text-align: center;\n",
       "                    position: relative;\">\n",
       "                  <div class=\"pb-text\" style=\"\n",
       "                      position: absolute;\n",
       "                      width: 100%;\">\n",
       "                    0%\n",
       "                  </div>\n",
       "                  <div class=\"pb-fill\" style=\"\n",
       "                      background-color: #bdd2e6;\n",
       "                      width: 0%;\">\n",
       "                    <style type=\"text/css\" scoped=\"scoped\">\n",
       "                        @keyframes pb-fill-anim {\n",
       "                            0% { background-position: 0 0; }\n",
       "                            100% { background-position: 100px 0; }\n",
       "                        }\n",
       "                    </style>\n",
       "                    &nbsp;\n",
       "                  </div>\n",
       "                </div>"
      ],
      "text/plain": [
       "HtmlProgressBar cannot be displayed. Please use the TerminalProgressBar. It can be enabled with `nengo.rc.set('progress', 'progress_bar', 'nengo.utils.progress.TerminalProgressBar')`."
      ]
     },
     "metadata": {},
     "output_type": "display_data"
    },
    {
     "data": {
      "application/javascript": [
       "\n",
       "              (function () {\n",
       "                  var root = document.getElementById('f5d3f833-d883-4c75-a5d1-1d0fa3c1b4dd');\n",
       "                  var text = root.getElementsByClassName('pb-text')[0];\n",
       "                  var fill = root.getElementsByClassName('pb-fill')[0];\n",
       "\n",
       "                  text.innerHTML = 'Build finished in 0:00:01.';\n",
       "                  \n",
       "            fill.style.width = '100%';\n",
       "            fill.style.animation = 'pb-fill-anim 2s linear infinite';\n",
       "            fill.style.backgroundSize = '100px 100%';\n",
       "            fill.style.backgroundImage = 'repeating-linear-gradient(' +\n",
       "                '90deg, #bdd2e6, #edf2f8 40%, #bdd2e6 80%, #bdd2e6)';\n",
       "        \n",
       "                  \n",
       "                fill.style.animation = 'none';\n",
       "                fill.style.backgroundImage = 'none';\n",
       "            \n",
       "              })();\n",
       "        "
      ],
      "application/vdom.v1+json": {
       "attributes": {
        "id": "5e4922ce-9f01-4b0b-ae51-77beb0d8f6ce",
        "style": {
         "border": "1px solid #cfcfcf",
         "borderRadius": "4px",
         "boxSizing": "border-box",
         "position": "relative",
         "textAlign": "center",
         "width": "100%"
        }
       },
       "children": [
        {
         "attributes": {
          "class": "pb-text",
          "style": {
           "position": "absolute",
           "width": "100%"
          }
         },
         "children": [
          "Build finished in 0:00:01."
         ],
         "tagName": "div"
        },
        {
         "attributes": {
          "class": "pb-fill",
          "style": {
           "animation": "none",
           "backgroundColor": "#bdd2e6",
           "backgroundImage": "none",
           "backgroundSize": "100px 100%",
           "width": "100%"
          }
         },
         "children": [
          {
           "attributes": {
            "scoped": "scoped",
            "type": "text/css"
           },
           "children": [
            "\n                        @keyframes pb-fill-anim {\n                            0% { background-position: 0 0; }\n                            100% { background-position: 100px 0; }\n                        }}"
           ],
           "tagName": "style"
          },
          " "
         ],
         "tagName": "div"
        }
       ],
       "tagName": "div"
      }
     },
     "metadata": {},
     "output_type": "display_data"
    },
    {
     "data": {
      "application/vdom.v1+json": {
       "attributes": {},
       "tagName": "div"
      },
      "text/html": [
       "\n",
       "                <script>\n",
       "                    if (Jupyter.version.split(\".\")[0] < 5) {\n",
       "                        var pb = document.getElementById(\"86cf0ad4-2710-4d20-afce-f9d0640e6f36\");\n",
       "                        var text = document.createTextNode(\n",
       "                            \"HMTL progress bar requires Jupyter Notebook >= \" +\n",
       "                            \"5.0 or Jupyter Lab. Alternatively, you can use \" +\n",
       "                            \"TerminalProgressBar().\");\n",
       "                        pb.parentNode.insertBefore(text, pb);\n",
       "                    }\n",
       "                </script>\n",
       "                <div id=\"86cf0ad4-2710-4d20-afce-f9d0640e6f36\" style=\"\n",
       "                    width: 100%;\n",
       "                    border: 1px solid #cfcfcf;\n",
       "                    border-radius: 4px;\n",
       "                    text-align: center;\n",
       "                    position: relative;\">\n",
       "                  <div class=\"pb-text\" style=\"\n",
       "                      position: absolute;\n",
       "                      width: 100%;\">\n",
       "                    0%\n",
       "                  </div>\n",
       "                  <div class=\"pb-fill\" style=\"\n",
       "                      background-color: #bdd2e6;\n",
       "                      width: 0%;\">\n",
       "                    <style type=\"text/css\" scoped=\"scoped\">\n",
       "                        @keyframes pb-fill-anim {\n",
       "                            0% { background-position: 0 0; }\n",
       "                            100% { background-position: 100px 0; }\n",
       "                        }\n",
       "                    </style>\n",
       "                    &nbsp;\n",
       "                  </div>\n",
       "                </div>"
      ],
      "text/plain": [
       "HtmlProgressBar cannot be displayed. Please use the TerminalProgressBar. It can be enabled with `nengo.rc.set('progress', 'progress_bar', 'nengo.utils.progress.TerminalProgressBar')`."
      ]
     },
     "metadata": {},
     "output_type": "display_data"
    },
    {
     "data": {
      "application/javascript": [
       "\n",
       "              (function () {\n",
       "                  var root = document.getElementById('86cf0ad4-2710-4d20-afce-f9d0640e6f36');\n",
       "                  var text = root.getElementsByClassName('pb-text')[0];\n",
       "                  var fill = root.getElementsByClassName('pb-fill')[0];\n",
       "\n",
       "                  text.innerHTML = 'Simulation finished in 0:00:06.';\n",
       "                  \n",
       "            if (100.0 > 0.) {\n",
       "                fill.style.transition = 'width 0.1s linear';\n",
       "            } else {\n",
       "                fill.style.transition = 'none';\n",
       "            }\n",
       "\n",
       "            fill.style.width = '100.0%';\n",
       "            fill.style.animation = 'none';\n",
       "            fill.style.backgroundImage = 'none'\n",
       "        \n",
       "                  \n",
       "                fill.style.animation = 'none';\n",
       "                fill.style.backgroundImage = 'none';\n",
       "            \n",
       "              })();\n",
       "        "
      ],
      "application/vdom.v1+json": {
       "attributes": {
        "id": "93db67b3-f1bd-4a00-9207-8c226dacb790",
        "style": {
         "border": "1px solid #cfcfcf",
         "borderRadius": "4px",
         "boxSizing": "border-box",
         "position": "relative",
         "textAlign": "center",
         "width": "100%"
        }
       },
       "children": [
        {
         "attributes": {
          "class": "pb-text",
          "style": {
           "position": "absolute",
           "width": "100%"
          }
         },
         "children": [
          "Simulation finished in 0:00:06."
         ],
         "tagName": "div"
        },
        {
         "attributes": {
          "class": "pb-fill",
          "style": {
           "animation": "none",
           "backgroundColor": "#bdd2e6",
           "backgroundImage": "none",
           "transition": "width 0.1s linear",
           "width": "100%"
          }
         },
         "children": [
          {
           "attributes": {
            "scoped": "scoped",
            "type": "text/css"
           },
           "children": [
            "\n                        @keyframes pb-fill-anim {\n                            0% { background-position: 0 0; }\n                            100% { background-position: 100px 0; }\n                        }}"
           ],
           "tagName": "style"
          },
          " "
         ],
         "tagName": "div"
        }
       ],
       "tagName": "div"
      }
     },
     "metadata": {},
     "output_type": "display_data"
    },
    {
     "name": "stdout",
     "output_type": "stream",
     "text": [
      "fraction pre_inh_ampa > 0: 0.0\n",
      "fraction pre_inh_ampa == 0: 1.0\n",
      "fraction pre_inh_nmda > 0: 0.0\n",
      "fraction pre_inh_nmda == 0: 1.0\n",
      "fraction pre_post_ampa > 0: 0.0\n",
      "fraction pre_post_ampa == 0: 1.0\n",
      "fraction pre_post_nmda > 0: 0.0\n",
      "fraction pre_post_nmda == 0: 1.0\n",
      "fraction inh_post_gaba < 0: 0.0\n",
      "fraction inh_post_gaba == 0: 0.0\n"
     ]
    },
    {
     "data": {
      "image/png": "[encoded data removed]",
      "text/plain": [
       "<Figure size 864x288 with 2 Axes>"
      ]
     },
     "metadata": {},
     "output_type": "display_data"
    }
   ],
   "source": [
    "t_train = 10\n",
    "reg_pos = 0.2\n",
    "reg_shift = 0.2\n",
    "reg_inh = 0.2\n",
    "reg_post = 0.01\n",
    "stim_func = nengo.processes.WhiteSignal(period=t_train, high=1, rms=1, seed=0)\n",
    "h_target = Lowpass(0.1)\n",
    "h_ampa = DoubleExp(0.00055, 0.0022)\n",
    "h_nmda = DoubleExp(0.0106, 0.285)  # no voltage-dependent Mg2+ block\n",
    "h_gaba = Alpha(0.0015)\n",
    "\n",
    "\n",
    "dd1 = network(t=t_train, stim_func=stim_func, h_target=h_target)\n",
    "\n",
    "\n",
    "a_pre_ampa = h_ampa.filt(dd1['pre'])\n",
    "a_pre_nmda = h_nmda.filt(dd1['pre'])\n",
    "A = np.hstack((a_pre_ampa, a_pre_nmda))\n",
    "\n",
    "tar_pre = h_target.filt(dd1['tar_pre'])\n",
    "tar_pos = func_pos(tar_pre)\n",
    "tar_shift = tar_pos - tar_pre\n",
    "T_inh = 1.0 / np.max(tar_shift)\n",
    "\n",
    "D_pos = NnlsL2(reg=reg_pos)(A, tar_pos)[0]\n",
    "d_ampa_pos = D_pos[:a_pre_ampa.shape[1]]\n",
    "d_nmda_pos = D_pos[a_pre_ampa.shape[1]:]\n",
    "\n",
    "D_shift = NnlsL2(reg=reg_shift)(A, tar_shift)[0]\n",
    "d_ampa_shift = D_shift[:a_pre_ampa.shape[1]]\n",
    "d_nmda_shift = D_shift[a_pre_ampa.shape[1]:]\n",
    "\n",
    "xhat_pos = np.dot(a_pre_ampa, d_ampa_pos) + np.dot(a_pre_nmda, d_nmda_pos)\n",
    "xhat_shift = np.dot(a_pre_ampa, d_ampa_shift) + np.dot(a_pre_nmda, d_nmda_shift)\n",
    "nrmse_pos = nrmse(xhat_pos, target=tar_pos)\n",
    "nrmse_shift = nrmse(xhat_shift, target=tar_shift)\n",
    "\n",
    "fig, (ax, ax2) = plt.subplots(1, 2, figsize=((12, 4)))\n",
    "times = dd1['trange']\n",
    "ax.plot(times, tar_pos, label='tar_pos')\n",
    "ax.plot(times, xhat_pos, label='pos, nrmse=%.3f'%nrmse_pos, alpha=0.5)\n",
    "ax2.plot(times, tar_shift, label='tar_shift')\n",
    "ax2.plot(times, xhat_shift, label='shift, nrmse=%.3f'%nrmse_shift, alpha=0.5)\n",
    "ax.set(xlabel='time', title='pos')\n",
    "ax2.set(xlabel='time', title='shift')\n",
    "ax.legend(loc='lower left')\n",
    "ax2.legend(loc='lower left')\n",
    "plt.show()"
   ]
  },
  {
   "cell_type": "code",
   "execution_count": 5,
   "metadata": {},
   "outputs": [
    {
     "name": "stdout",
     "output_type": "stream",
     "text": [
      "cannot import or initialize NEURON\n",
      "cannot import or initialize NEURON\n"
     ]
    },
    {
     "name": "stderr",
     "output_type": "stream",
     "text": [
      "/home/pduggins/.virtualenvs/nbn/lib/python3.6/site-packages/nengolib/signal/system.py:197: UserWarning: y0 (None!=0) does not properly initialize the system; see Nengo issue #1124.\n",
      "  \"Nengo issue #1124.\" % y0, UserWarning)\n",
      "/home/pduggins/nengo/nengo/utils/numpy.py:79: FutureWarning: Using a non-tuple sequence for multidimensional indexing is deprecated; use `arr[tuple(seq)]` instead of `arr[seq]`. In the future this will be interpreted as an array index, `arr[np.array(seq)]`, which will result either in an error or a different result.\n",
      "  v = a[inds]\n"
     ]
    },
    {
     "data": {
      "application/vdom.v1+json": {
       "attributes": {},
       "tagName": "div"
      },
      "text/html": [
       "\n",
       "                <script>\n",
       "                    if (Jupyter.version.split(\".\")[0] < 5) {\n",
       "                        var pb = document.getElementById(\"b2455580-f778-44db-b13f-4252b124568d\");\n",
       "                        var text = document.createTextNode(\n",
       "                            \"HMTL progress bar requires Jupyter Notebook >= \" +\n",
       "                            \"5.0 or Jupyter Lab. Alternatively, you can use \" +\n",
       "                            \"TerminalProgressBar().\");\n",
       "                        pb.parentNode.insertBefore(text, pb);\n",
       "                    }\n",
       "                </script>\n",
       "                <div id=\"b2455580-f778-44db-b13f-4252b124568d\" style=\"\n",
       "                    width: 100%;\n",
       "                    border: 1px solid #cfcfcf;\n",
       "                    border-radius: 4px;\n",
       "                    text-align: center;\n",
       "                    position: relative;\">\n",
       "                  <div class=\"pb-text\" style=\"\n",
       "                      position: absolute;\n",
       "                      width: 100%;\">\n",
       "                    0%\n",
       "                  </div>\n",
       "                  <div class=\"pb-fill\" style=\"\n",
       "                      background-color: #bdd2e6;\n",
       "                      width: 0%;\">\n",
       "                    <style type=\"text/css\" scoped=\"scoped\">\n",
       "                        @keyframes pb-fill-anim {\n",
       "                            0% { background-position: 0 0; }\n",
       "                            100% { background-position: 100px 0; }\n",
       "                        }\n",
       "                    </style>\n",
       "                    &nbsp;\n",
       "                  </div>\n",
       "                </div>"
      ],
      "text/plain": [
       "HtmlProgressBar cannot be displayed. Please use the TerminalProgressBar. It can be enabled with `nengo.rc.set('progress', 'progress_bar', 'nengo.utils.progress.TerminalProgressBar')`."
      ]
     },
     "metadata": {},
     "output_type": "display_data"
    },
    {
     "data": {
      "application/javascript": [
       "\n",
       "              (function () {\n",
       "                  var root = document.getElementById('b2455580-f778-44db-b13f-4252b124568d');\n",
       "                  var text = root.getElementsByClassName('pb-text')[0];\n",
       "                  var fill = root.getElementsByClassName('pb-fill')[0];\n",
       "\n",
       "                  text.innerHTML = 'Build finished in 0:00:01.';\n",
       "                  \n",
       "            fill.style.width = '100%';\n",
       "            fill.style.animation = 'pb-fill-anim 2s linear infinite';\n",
       "            fill.style.backgroundSize = '100px 100%';\n",
       "            fill.style.backgroundImage = 'repeating-linear-gradient(' +\n",
       "                '90deg, #bdd2e6, #edf2f8 40%, #bdd2e6 80%, #bdd2e6)';\n",
       "        \n",
       "                  \n",
       "                fill.style.animation = 'none';\n",
       "                fill.style.backgroundImage = 'none';\n",
       "            \n",
       "              })();\n",
       "        "
      ],
      "application/vdom.v1+json": {
       "attributes": {
        "id": "3c8587f6-5953-46e7-b37d-2a81f2d87be0",
        "style": {
         "border": "1px solid #cfcfcf",
         "borderRadius": "4px",
         "boxSizing": "border-box",
         "position": "relative",
         "textAlign": "center",
         "width": "100%"
        }
       },
       "children": [
        {
         "attributes": {
          "class": "pb-text",
          "style": {
           "position": "absolute",
           "width": "100%"
          }
         },
         "children": [
          "Build finished in 0:00:01."
         ],
         "tagName": "div"
        },
        {
         "attributes": {
          "class": "pb-fill",
          "style": {
           "animation": "none",
           "backgroundColor": "#bdd2e6",
           "backgroundImage": "none",
           "backgroundSize": "100px 100%",
           "width": "100%"
          }
         },
         "children": [
          {
           "attributes": {
            "scoped": "scoped",
            "type": "text/css"
           },
           "children": [
            "\n                        @keyframes pb-fill-anim {\n                            0% { background-position: 0 0; }\n                            100% { background-position: 100px 0; }\n                        }}"
           ],
           "tagName": "style"
          },
          " "
         ],
         "tagName": "div"
        }
       ],
       "tagName": "div"
      }
     },
     "metadata": {},
     "output_type": "display_data"
    },
    {
     "data": {
      "application/vdom.v1+json": {
       "attributes": {},
       "tagName": "div"
      },
      "text/html": [
       "\n",
       "                <script>\n",
       "                    if (Jupyter.version.split(\".\")[0] < 5) {\n",
       "                        var pb = document.getElementById(\"8c294ce7-315e-40a6-ac42-eb84bb30d380\");\n",
       "                        var text = document.createTextNode(\n",
       "                            \"HMTL progress bar requires Jupyter Notebook >= \" +\n",
       "                            \"5.0 or Jupyter Lab. Alternatively, you can use \" +\n",
       "                            \"TerminalProgressBar().\");\n",
       "                        pb.parentNode.insertBefore(text, pb);\n",
       "                    }\n",
       "                </script>\n",
       "                <div id=\"8c294ce7-315e-40a6-ac42-eb84bb30d380\" style=\"\n",
       "                    width: 100%;\n",
       "                    border: 1px solid #cfcfcf;\n",
       "                    border-radius: 4px;\n",
       "                    text-align: center;\n",
       "                    position: relative;\">\n",
       "                  <div class=\"pb-text\" style=\"\n",
       "                      position: absolute;\n",
       "                      width: 100%;\">\n",
       "                    0%\n",
       "                  </div>\n",
       "                  <div class=\"pb-fill\" style=\"\n",
       "                      background-color: #bdd2e6;\n",
       "                      width: 0%;\">\n",
       "                    <style type=\"text/css\" scoped=\"scoped\">\n",
       "                        @keyframes pb-fill-anim {\n",
       "                            0% { background-position: 0 0; }\n",
       "                            100% { background-position: 100px 0; }\n",
       "                        }\n",
       "                    </style>\n",
       "                    &nbsp;\n",
       "                  </div>\n",
       "                </div>"
      ],
      "text/plain": [
       "HtmlProgressBar cannot be displayed. Please use the TerminalProgressBar. It can be enabled with `nengo.rc.set('progress', 'progress_bar', 'nengo.utils.progress.TerminalProgressBar')`."
      ]
     },
     "metadata": {},
     "output_type": "display_data"
    },
    {
     "data": {
      "application/javascript": [
       "\n",
       "              (function () {\n",
       "                  var root = document.getElementById('8c294ce7-315e-40a6-ac42-eb84bb30d380');\n",
       "                  var text = root.getElementsByClassName('pb-text')[0];\n",
       "                  var fill = root.getElementsByClassName('pb-fill')[0];\n",
       "\n",
       "                  text.innerHTML = 'Simulation finished in 0:00:07.';\n",
       "                  \n",
       "            if (100.0 > 0.) {\n",
       "                fill.style.transition = 'width 0.1s linear';\n",
       "            } else {\n",
       "                fill.style.transition = 'none';\n",
       "            }\n",
       "\n",
       "            fill.style.width = '100.0%';\n",
       "            fill.style.animation = 'none';\n",
       "            fill.style.backgroundImage = 'none'\n",
       "        \n",
       "                  \n",
       "                fill.style.animation = 'none';\n",
       "                fill.style.backgroundImage = 'none';\n",
       "            \n",
       "              })();\n",
       "        "
      ],
      "application/vdom.v1+json": {
       "attributes": {
        "id": "1ddb2066-2fa3-44b6-aabd-40b3344c5e5c",
        "style": {
         "border": "1px solid #cfcfcf",
         "borderRadius": "4px",
         "boxSizing": "border-box",
         "position": "relative",
         "textAlign": "center",
         "width": "100%"
        }
       },
       "children": [
        {
         "attributes": {
          "class": "pb-text",
          "style": {
           "position": "absolute",
           "width": "100%"
          }
         },
         "children": [
          "Simulation finished in 0:00:07."
         ],
         "tagName": "div"
        },
        {
         "attributes": {
          "class": "pb-fill",
          "style": {
           "animation": "none",
           "backgroundColor": "#bdd2e6",
           "backgroundImage": "none",
           "transition": "width 0.1s linear",
           "width": "100%"
          }
         },
         "children": [
          {
           "attributes": {
            "scoped": "scoped",
            "type": "text/css"
           },
           "children": [
            "\n                        @keyframes pb-fill-anim {\n                            0% { background-position: 0 0; }\n                            100% { background-position: 100px 0; }\n                        }}"
           ],
           "tagName": "style"
          },
          " "
         ],
         "tagName": "div"
        }
       ],
       "tagName": "div"
      }
     },
     "metadata": {},
     "output_type": "display_data"
    },
    {
     "name": "stdout",
     "output_type": "stream",
     "text": [
      "fraction pre_inh_ampa > 0: 0.9\n",
      "fraction pre_inh_ampa == 0: 0.1\n",
      "fraction pre_inh_nmda > 0: 0.9\n",
      "fraction pre_inh_nmda == 0: 0.1\n",
      "fraction pre_post_ampa > 0: 0.8\n",
      "fraction pre_post_ampa == 0: 0.2\n",
      "fraction pre_post_nmda > 0: 0.5\n",
      "fraction pre_post_nmda == 0: 0.5\n",
      "fraction inh_post_gaba < 0: 0.0\n",
      "fraction inh_post_gaba == 0: 0.0\n"
     ]
    }
   ],
   "source": [
    "stim_func = nengo.processes.WhiteSignal(period=t_train, high=1, rms=1, seed=0)\n",
    "\n",
    "dd2 = network(t=t_train, stim_func=stim_func, h_target=h_target, T_inh=T_inh,\n",
    "    d_ampa_pos=d_ampa_pos, d_nmda_pos=d_nmda_pos, d_ampa_shift=d_ampa_shift, d_nmda_shift=d_nmda_shift)"
   ]
  },
  {
   "cell_type": "code",
   "execution_count": 6,
   "metadata": {},
   "outputs": [
    {
     "name": "stdout",
     "output_type": "stream",
     "text": [
      "fraction of a_inh nonzero: 1.0\n",
      "fraction of d_gaba nonzero: 0.7\n"
     ]
    },
    {
     "data": {
      "image/png": "[encoded data removed]",
      "text/plain": [
       "<Figure size 864x288 with 2 Axes>"
      ]
     },
     "metadata": {},
     "output_type": "display_data"
    }
   ],
   "source": [
    "times = dd2['trange']\n",
    "a_inh = h_gaba.filt(dd2['inh'])\n",
    "a_pre_ampa = h_ampa.filt(dd2['pre'])\n",
    "a_pre_nmda = h_nmda.filt(dd2['pre'])\n",
    "apos = np.hstack((a_pre_ampa, a_pre_nmda))\n",
    "a_pre = np.hstack((a_pre_ampa, a_pre_nmda))\n",
    "\n",
    "tar_pre = dd2['tar_pre']\n",
    "tar_pos = func_pos(tar_pre)\n",
    "tar_inh = tar_pos - tar_pre\n",
    "xhat_pos = np.dot(a_pre_ampa, d_ampa_pos) + np.dot(a_pre_nmda, d_nmda_pos)\n",
    "nrmse_pos = nrmse(xhat_pos, target=tar_pos)\n",
    "\n",
    "d_gaba = -NnlsL2(reg=reg_inh)(a_inh, tar_inh)[0]\n",
    "print('fraction of a_inh nonzero:', np.count_nonzero(np.sum(a_inh, axis=0))/a_inh.shape[1])\n",
    "print('fraction of d_gaba nonzero:', np.count_nonzero(d_gaba)/d_gaba.shape[0])\n",
    "\n",
    "xhat_inh = np.dot(a_inh, d_gaba)\n",
    "nrmse_inh = nrmse(xhat_inh, target=-tar_inh)\n",
    "xhat_diff = xhat_pos + xhat_inh\n",
    "nrmse_diff = nrmse(xhat_diff, target=tar_pre)\n",
    "\n",
    "\n",
    "fig, (ax, ax2) = plt.subplots(1, 2, figsize=((12, 4)))\n",
    "ax.plot(times, -tar_inh, label='tar_inh')\n",
    "ax.plot(times, xhat_inh, label='inh, nrmse=%.3f'%nrmse_inh, alpha=0.5)\n",
    "ax2.plot(times, tar_pos, label='tar_pos')\n",
    "ax2.plot(times, xhat_pos, label='xhat_pos, nrmse=%.3f'%nrmse_pos, alpha=0.5)\n",
    "ax2.plot(times, tar_pre, label='tar_pre')\n",
    "ax2.plot(times, xhat_diff, label='pos - inh, nrmse=%.3f'%nrmse_diff, alpha=0.5)\n",
    "ax.set(xlabel='time', title='inh')\n",
    "ax2.set(xlabel='time', title='exc - inh')\n",
    "ax.legend(loc='lower left')\n",
    "ax2.legend(loc='lower left')\n",
    "plt.show()"
   ]
  },
  {
   "cell_type": "code",
   "execution_count": 7,
   "metadata": {},
   "outputs": [
    {
     "name": "stdout",
     "output_type": "stream",
     "text": [
      "cannot import or initialize NEURON\n",
      "cannot import or initialize NEURON\n"
     ]
    },
    {
     "name": "stderr",
     "output_type": "stream",
     "text": [
      "/home/pduggins/.virtualenvs/nbn/lib/python3.6/site-packages/nengolib/signal/system.py:197: UserWarning: y0 (None!=0) does not properly initialize the system; see Nengo issue #1124.\n",
      "  \"Nengo issue #1124.\" % y0, UserWarning)\n",
      "/home/pduggins/nengo/nengo/utils/numpy.py:79: FutureWarning: Using a non-tuple sequence for multidimensional indexing is deprecated; use `arr[tuple(seq)]` instead of `arr[seq]`. In the future this will be interpreted as an array index, `arr[np.array(seq)]`, which will result either in an error or a different result.\n",
      "  v = a[inds]\n"
     ]
    },
    {
     "data": {
      "application/vdom.v1+json": {
       "attributes": {},
       "tagName": "div"
      },
      "text/html": [
       "\n",
       "                <script>\n",
       "                    if (Jupyter.version.split(\".\")[0] < 5) {\n",
       "                        var pb = document.getElementById(\"1a9195fd-1675-44e7-bcf0-b80573bbe750\");\n",
       "                        var text = document.createTextNode(\n",
       "                            \"HMTL progress bar requires Jupyter Notebook >= \" +\n",
       "                            \"5.0 or Jupyter Lab. Alternatively, you can use \" +\n",
       "                            \"TerminalProgressBar().\");\n",
       "                        pb.parentNode.insertBefore(text, pb);\n",
       "                    }\n",
       "                </script>\n",
       "                <div id=\"1a9195fd-1675-44e7-bcf0-b80573bbe750\" style=\"\n",
       "                    width: 100%;\n",
       "                    border: 1px solid #cfcfcf;\n",
       "                    border-radius: 4px;\n",
       "                    text-align: center;\n",
       "                    position: relative;\">\n",
       "                  <div class=\"pb-text\" style=\"\n",
       "                      position: absolute;\n",
       "                      width: 100%;\">\n",
       "                    0%\n",
       "                  </div>\n",
       "                  <div class=\"pb-fill\" style=\"\n",
       "                      background-color: #bdd2e6;\n",
       "                      width: 0%;\">\n",
       "                    <style type=\"text/css\" scoped=\"scoped\">\n",
       "                        @keyframes pb-fill-anim {\n",
       "                            0% { background-position: 0 0; }\n",
       "                            100% { background-position: 100px 0; }\n",
       "                        }\n",
       "                    </style>\n",
       "                    &nbsp;\n",
       "                  </div>\n",
       "                </div>"
      ],
      "text/plain": [
       "HtmlProgressBar cannot be displayed. Please use the TerminalProgressBar. It can be enabled with `nengo.rc.set('progress', 'progress_bar', 'nengo.utils.progress.TerminalProgressBar')`."
      ]
     },
     "metadata": {},
     "output_type": "display_data"
    },
    {
     "data": {
      "application/javascript": [
       "\n",
       "              (function () {\n",
       "                  var root = document.getElementById('1a9195fd-1675-44e7-bcf0-b80573bbe750');\n",
       "                  var text = root.getElementsByClassName('pb-text')[0];\n",
       "                  var fill = root.getElementsByClassName('pb-fill')[0];\n",
       "\n",
       "                  text.innerHTML = 'Build finished in 0:00:01.';\n",
       "                  \n",
       "            fill.style.width = '100%';\n",
       "            fill.style.animation = 'pb-fill-anim 2s linear infinite';\n",
       "            fill.style.backgroundSize = '100px 100%';\n",
       "            fill.style.backgroundImage = 'repeating-linear-gradient(' +\n",
       "                '90deg, #bdd2e6, #edf2f8 40%, #bdd2e6 80%, #bdd2e6)';\n",
       "        \n",
       "                  \n",
       "                fill.style.animation = 'none';\n",
       "                fill.style.backgroundImage = 'none';\n",
       "            \n",
       "              })();\n",
       "        "
      ],
      "application/vdom.v1+json": {
       "attributes": {
        "id": "5fcb262e-3831-471c-9345-a712fa052c96",
        "style": {
         "border": "1px solid #cfcfcf",
         "borderRadius": "4px",
         "boxSizing": "border-box",
         "position": "relative",
         "textAlign": "center",
         "width": "100%"
        }
       },
       "children": [
        {
         "attributes": {
          "class": "pb-text",
          "style": {
           "position": "absolute",
           "width": "100%"
          }
         },
         "children": [
          "Build finished in 0:00:01."
         ],
         "tagName": "div"
        },
        {
         "attributes": {
          "class": "pb-fill",
          "style": {
           "animation": "none",
           "backgroundColor": "#bdd2e6",
           "backgroundImage": "none",
           "backgroundSize": "100px 100%",
           "width": "100%"
          }
         },
         "children": [
          {
           "attributes": {
            "scoped": "scoped",
            "type": "text/css"
           },
           "children": [
            "\n                        @keyframes pb-fill-anim {\n                            0% { background-position: 0 0; }\n                            100% { background-position: 100px 0; }\n                        }}"
           ],
           "tagName": "style"
          },
          " "
         ],
         "tagName": "div"
        }
       ],
       "tagName": "div"
      }
     },
     "metadata": {},
     "output_type": "display_data"
    },
    {
     "data": {
      "application/vdom.v1+json": {
       "attributes": {},
       "tagName": "div"
      },
      "text/html": [
       "\n",
       "                <script>\n",
       "                    if (Jupyter.version.split(\".\")[0] < 5) {\n",
       "                        var pb = document.getElementById(\"63e6a4a9-4a7f-4ec1-beef-efa2e630235d\");\n",
       "                        var text = document.createTextNode(\n",
       "                            \"HMTL progress bar requires Jupyter Notebook >= \" +\n",
       "                            \"5.0 or Jupyter Lab. Alternatively, you can use \" +\n",
       "                            \"TerminalProgressBar().\");\n",
       "                        pb.parentNode.insertBefore(text, pb);\n",
       "                    }\n",
       "                </script>\n",
       "                <div id=\"63e6a4a9-4a7f-4ec1-beef-efa2e630235d\" style=\"\n",
       "                    width: 100%;\n",
       "                    border: 1px solid #cfcfcf;\n",
       "                    border-radius: 4px;\n",
       "                    text-align: center;\n",
       "                    position: relative;\">\n",
       "                  <div class=\"pb-text\" style=\"\n",
       "                      position: absolute;\n",
       "                      width: 100%;\">\n",
       "                    0%\n",
       "                  </div>\n",
       "                  <div class=\"pb-fill\" style=\"\n",
       "                      background-color: #bdd2e6;\n",
       "                      width: 0%;\">\n",
       "                    <style type=\"text/css\" scoped=\"scoped\">\n",
       "                        @keyframes pb-fill-anim {\n",
       "                            0% { background-position: 0 0; }\n",
       "                            100% { background-position: 100px 0; }\n",
       "                        }\n",
       "                    </style>\n",
       "                    &nbsp;\n",
       "                  </div>\n",
       "                </div>"
      ],
      "text/plain": [
       "HtmlProgressBar cannot be displayed. Please use the TerminalProgressBar. It can be enabled with `nengo.rc.set('progress', 'progress_bar', 'nengo.utils.progress.TerminalProgressBar')`."
      ]
     },
     "metadata": {},
     "output_type": "display_data"
    },
    {
     "data": {
      "application/javascript": [
       "\n",
       "              (function () {\n",
       "                  var root = document.getElementById('63e6a4a9-4a7f-4ec1-beef-efa2e630235d');\n",
       "                  var text = root.getElementsByClassName('pb-text')[0];\n",
       "                  var fill = root.getElementsByClassName('pb-fill')[0];\n",
       "\n",
       "                  text.innerHTML = 'Simulation finished in 0:00:17.';\n",
       "                  \n",
       "            if (100.0 > 0.) {\n",
       "                fill.style.transition = 'width 0.1s linear';\n",
       "            } else {\n",
       "                fill.style.transition = 'none';\n",
       "            }\n",
       "\n",
       "            fill.style.width = '100.0%';\n",
       "            fill.style.animation = 'none';\n",
       "            fill.style.backgroundImage = 'none'\n",
       "        \n",
       "                  \n",
       "                fill.style.animation = 'none';\n",
       "                fill.style.backgroundImage = 'none';\n",
       "            \n",
       "              })();\n",
       "        "
      ],
      "application/vdom.v1+json": {
       "attributes": {
        "id": "5bd9bdeb-3ddb-41c6-9974-3c1513e92bfe",
        "style": {
         "border": "1px solid #cfcfcf",
         "borderRadius": "4px",
         "boxSizing": "border-box",
         "position": "relative",
         "textAlign": "center",
         "width": "100%"
        }
       },
       "children": [
        {
         "attributes": {
          "class": "pb-text",
          "style": {
           "position": "absolute",
           "width": "100%"
          }
         },
         "children": [
          "Simulation finished in 0:00:17."
         ],
         "tagName": "div"
        },
        {
         "attributes": {
          "class": "pb-fill",
          "style": {
           "animation": "none",
           "backgroundColor": "#bdd2e6",
           "backgroundImage": "none",
           "transition": "width 0.1s linear",
           "width": "100%"
          }
         },
         "children": [
          {
           "attributes": {
            "scoped": "scoped",
            "type": "text/css"
           },
           "children": [
            "\n                        @keyframes pb-fill-anim {\n                            0% { background-position: 0 0; }\n                            100% { background-position: 100px 0; }\n                        }}"
           ],
           "tagName": "style"
          },
          " "
         ],
         "tagName": "div"
        }
       ],
       "tagName": "div"
      }
     },
     "metadata": {},
     "output_type": "display_data"
    },
    {
     "name": "stdout",
     "output_type": "stream",
     "text": [
      "fraction pre_inh_ampa > 0: 0.9\n",
      "fraction pre_inh_ampa == 0: 0.1\n",
      "fraction pre_inh_nmda > 0: 0.9\n",
      "fraction pre_inh_nmda == 0: 0.1\n",
      "fraction pre_post_ampa > 0: 0.8\n",
      "fraction pre_post_ampa == 0: 0.2\n",
      "fraction pre_post_nmda > 0: 0.5\n",
      "fraction pre_post_nmda == 0: 0.5\n",
      "fraction inh_post_gaba < 0: 0.7\n",
      "fraction inh_post_gaba == 0: 0.3\n"
     ]
    },
    {
     "data": {
      "image/png": "[encoded data removed]",
      "text/plain": [
       "<Figure size 432x288 with 1 Axes>"
      ]
     },
     "metadata": {},
     "output_type": "display_data"
    }
   ],
   "source": [
    "dd3 = network(t=t_train, stim_func=stim_func, h_target=h_target, T_inh=T_inh,\n",
    "    d_ampa_pos=d_ampa_pos, d_nmda_pos=d_nmda_pos, d_ampa_shift=d_ampa_shift, d_nmda_shift=d_nmda_shift, d_gaba=d_gaba)\n",
    "\n",
    "tar_post = Lowpass(0.05).filt(dd3['tar_post'])\n",
    "a_post = Lowpass(0.05).filt(dd3['post'])\n",
    "d_post = LstsqL2(reg=reg_post)(a_post, tar_post)[0]\n",
    "xhat_post = np.dot(a_post, d_post)\n",
    "nrmse_post = nrmse(xhat_post, target=tar_post)\n",
    "\n",
    "fig, ax = plt.subplots(figsize=((6, 4)))\n",
    "ax.plot(times, tar_post, label='tar_post')\n",
    "ax.plot(times, xhat_post, label='post, nrmse=%.3f'%nrmse_post, alpha=0.5)\n",
    "ax.set(xlabel='time', title='post')\n",
    "ax.legend(loc='lower left')\n",
    "plt.show()"
   ]
  },
  {
   "cell_type": "code",
   "execution_count": 9,
   "metadata": {},
   "outputs": [
    {
     "name": "stdout",
     "output_type": "stream",
     "text": [
      "cannot import or initialize NEURON\n",
      "cannot import or initialize NEURON\n"
     ]
    },
    {
     "name": "stderr",
     "output_type": "stream",
     "text": [
      "/home/pduggins/.virtualenvs/nbn/lib/python3.6/site-packages/nengolib/signal/system.py:197: UserWarning: y0 (None!=0) does not properly initialize the system; see Nengo issue #1124.\n",
      "  \"Nengo issue #1124.\" % y0, UserWarning)\n",
      "/home/pduggins/nengo/nengo/utils/numpy.py:79: FutureWarning: Using a non-tuple sequence for multidimensional indexing is deprecated; use `arr[tuple(seq)]` instead of `arr[seq]`. In the future this will be interpreted as an array index, `arr[np.array(seq)]`, which will result either in an error or a different result.\n",
      "  v = a[inds]\n"
     ]
    },
    {
     "data": {
      "application/vdom.v1+json": {
       "attributes": {},
       "tagName": "div"
      },
      "text/html": [
       "\n",
       "                <script>\n",
       "                    if (Jupyter.version.split(\".\")[0] < 5) {\n",
       "                        var pb = document.getElementById(\"01c6c54c-a7a9-49b4-93ed-dd52b5e2184c\");\n",
       "                        var text = document.createTextNode(\n",
       "                            \"HMTL progress bar requires Jupyter Notebook >= \" +\n",
       "                            \"5.0 or Jupyter Lab. Alternatively, you can use \" +\n",
       "                            \"TerminalProgressBar().\");\n",
       "                        pb.parentNode.insertBefore(text, pb);\n",
       "                    }\n",
       "                </script>\n",
       "                <div id=\"01c6c54c-a7a9-49b4-93ed-dd52b5e2184c\" style=\"\n",
       "                    width: 100%;\n",
       "                    border: 1px solid #cfcfcf;\n",
       "                    border-radius: 4px;\n",
       "                    text-align: center;\n",
       "                    position: relative;\">\n",
       "                  <div class=\"pb-text\" style=\"\n",
       "                      position: absolute;\n",
       "                      width: 100%;\">\n",
       "                    0%\n",
       "                  </div>\n",
       "                  <div class=\"pb-fill\" style=\"\n",
       "                      background-color: #bdd2e6;\n",
       "                      width: 0%;\">\n",
       "                    <style type=\"text/css\" scoped=\"scoped\">\n",
       "                        @keyframes pb-fill-anim {\n",
       "                            0% { background-position: 0 0; }\n",
       "                            100% { background-position: 100px 0; }\n",
       "                        }\n",
       "                    </style>\n",
       "                    &nbsp;\n",
       "                  </div>\n",
       "                </div>"
      ],
      "text/plain": [
       "HtmlProgressBar cannot be displayed. Please use the TerminalProgressBar. It can be enabled with `nengo.rc.set('progress', 'progress_bar', 'nengo.utils.progress.TerminalProgressBar')`."
      ]
     },
     "metadata": {},
     "output_type": "display_data"
    },
    {
     "data": {
      "application/javascript": [
       "\n",
       "              (function () {\n",
       "                  var root = document.getElementById('01c6c54c-a7a9-49b4-93ed-dd52b5e2184c');\n",
       "                  var text = root.getElementsByClassName('pb-text')[0];\n",
       "                  var fill = root.getElementsByClassName('pb-fill')[0];\n",
       "\n",
       "                  text.innerHTML = 'Build finished in 0:00:01.';\n",
       "                  \n",
       "            fill.style.width = '100%';\n",
       "            fill.style.animation = 'pb-fill-anim 2s linear infinite';\n",
       "            fill.style.backgroundSize = '100px 100%';\n",
       "            fill.style.backgroundImage = 'repeating-linear-gradient(' +\n",
       "                '90deg, #bdd2e6, #edf2f8 40%, #bdd2e6 80%, #bdd2e6)';\n",
       "        \n",
       "                  \n",
       "                fill.style.animation = 'none';\n",
       "                fill.style.backgroundImage = 'none';\n",
       "            \n",
       "              })();\n",
       "        "
      ],
      "application/vdom.v1+json": {
       "attributes": {
        "id": "b7af5193-1741-4131-8689-65d0b6f7b416",
        "style": {
         "border": "1px solid #cfcfcf",
         "borderRadius": "4px",
         "boxSizing": "border-box",
         "position": "relative",
         "textAlign": "center",
         "width": "100%"
        }
       },
       "children": [
        {
         "attributes": {
          "class": "pb-text",
          "style": {
           "position": "absolute",
           "width": "100%"
          }
         },
         "children": [
          "Build finished in 0:00:01."
         ],
         "tagName": "div"
        },
        {
         "attributes": {
          "class": "pb-fill",
          "style": {
           "animation": "none",
           "backgroundColor": "#bdd2e6",
           "backgroundImage": "none",
           "backgroundSize": "100px 100%",
           "width": "100%"
          }
         },
         "children": [
          {
           "attributes": {
            "scoped": "scoped",
            "type": "text/css"
           },
           "children": [
            "\n                        @keyframes pb-fill-anim {\n                            0% { background-position: 0 0; }\n                            100% { background-position: 100px 0; }\n                        }}"
           ],
           "tagName": "style"
          },
          " "
         ],
         "tagName": "div"
        }
       ],
       "tagName": "div"
      }
     },
     "metadata": {},
     "output_type": "display_data"
    },
    {
     "data": {
      "application/vdom.v1+json": {
       "attributes": {},
       "tagName": "div"
      },
      "text/html": [
       "\n",
       "                <script>\n",
       "                    if (Jupyter.version.split(\".\")[0] < 5) {\n",
       "                        var pb = document.getElementById(\"1e82abe6-5da5-4da3-a2b5-6f5be2a423ae\");\n",
       "                        var text = document.createTextNode(\n",
       "                            \"HMTL progress bar requires Jupyter Notebook >= \" +\n",
       "                            \"5.0 or Jupyter Lab. Alternatively, you can use \" +\n",
       "                            \"TerminalProgressBar().\");\n",
       "                        pb.parentNode.insertBefore(text, pb);\n",
       "                    }\n",
       "                </script>\n",
       "                <div id=\"1e82abe6-5da5-4da3-a2b5-6f5be2a423ae\" style=\"\n",
       "                    width: 100%;\n",
       "                    border: 1px solid #cfcfcf;\n",
       "                    border-radius: 4px;\n",
       "                    text-align: center;\n",
       "                    position: relative;\">\n",
       "                  <div class=\"pb-text\" style=\"\n",
       "                      position: absolute;\n",
       "                      width: 100%;\">\n",
       "                    0%\n",
       "                  </div>\n",
       "                  <div class=\"pb-fill\" style=\"\n",
       "                      background-color: #bdd2e6;\n",
       "                      width: 0%;\">\n",
       "                    <style type=\"text/css\" scoped=\"scoped\">\n",
       "                        @keyframes pb-fill-anim {\n",
       "                            0% { background-position: 0 0; }\n",
       "                            100% { background-position: 100px 0; }\n",
       "                        }\n",
       "                    </style>\n",
       "                    &nbsp;\n",
       "                  </div>\n",
       "                </div>"
      ],
      "text/plain": [
       "HtmlProgressBar cannot be displayed. Please use the TerminalProgressBar. It can be enabled with `nengo.rc.set('progress', 'progress_bar', 'nengo.utils.progress.TerminalProgressBar')`."
      ]
     },
     "metadata": {},
     "output_type": "display_data"
    },
    {
     "data": {
      "application/javascript": [
       "\n",
       "              (function () {\n",
       "                  var root = document.getElementById('1e82abe6-5da5-4da3-a2b5-6f5be2a423ae');\n",
       "                  var text = root.getElementsByClassName('pb-text')[0];\n",
       "                  var fill = root.getElementsByClassName('pb-fill')[0];\n",
       "\n",
       "                  text.innerHTML = 'Simulation finished in 0:00:16.';\n",
       "                  \n",
       "            if (100.0 > 0.) {\n",
       "                fill.style.transition = 'width 0.1s linear';\n",
       "            } else {\n",
       "                fill.style.transition = 'none';\n",
       "            }\n",
       "\n",
       "            fill.style.width = '100.0%';\n",
       "            fill.style.animation = 'none';\n",
       "            fill.style.backgroundImage = 'none'\n",
       "        \n",
       "                  \n",
       "                fill.style.animation = 'none';\n",
       "                fill.style.backgroundImage = 'none';\n",
       "            \n",
       "              })();\n",
       "        "
      ],
      "application/vdom.v1+json": {
       "attributes": {
        "id": "ea616e73-f956-4c25-af6a-499b286ee6f3",
        "style": {
         "border": "1px solid #cfcfcf",
         "borderRadius": "4px",
         "boxSizing": "border-box",
         "position": "relative",
         "textAlign": "center",
         "width": "100%"
        }
       },
       "children": [
        {
         "attributes": {
          "class": "pb-text",
          "style": {
           "position": "absolute",
           "width": "100%"
          }
         },
         "children": [
          "Simulation finished in 0:00:16."
         ],
         "tagName": "div"
        },
        {
         "attributes": {
          "class": "pb-fill",
          "style": {
           "animation": "none",
           "backgroundColor": "#bdd2e6",
           "backgroundImage": "none",
           "transition": "width 0.1s linear",
           "width": "100%"
          }
         },
         "children": [
          {
           "attributes": {
            "scoped": "scoped",
            "type": "text/css"
           },
           "children": [
            "\n                        @keyframes pb-fill-anim {\n                            0% { background-position: 0 0; }\n                            100% { background-position: 100px 0; }\n                        }}"
           ],
           "tagName": "style"
          },
          " "
         ],
         "tagName": "div"
        }
       ],
       "tagName": "div"
      }
     },
     "metadata": {},
     "output_type": "display_data"
    },
    {
     "name": "stdout",
     "output_type": "stream",
     "text": [
      "fraction pre_inh_ampa > 0: 0.9\n",
      "fraction pre_inh_ampa == 0: 0.1\n",
      "fraction pre_inh_nmda > 0: 0.9\n",
      "fraction pre_inh_nmda == 0: 0.1\n",
      "fraction pre_post_ampa > 0: 0.8\n",
      "fraction pre_post_ampa == 0: 0.2\n",
      "fraction pre_post_nmda > 0: 0.5\n",
      "fraction pre_post_nmda == 0: 0.5\n",
      "fraction inh_post_gaba < 0: 0.7\n",
      "fraction inh_post_gaba == 0: 0.3\n"
     ]
    },
    {
     "data": {
      "image/png": "[encoded data removed]",
      "text/plain": [
       "<Figure size 432x288 with 1 Axes>"
      ]
     },
     "metadata": {},
     "output_type": "display_data"
    }
   ],
   "source": [
    "test_func = nengo.processes.WhiteSignal(period=t_train, high=1, rms=1, seed=1)\n",
    "dd4 = network(t=10, stim_func=test_func, h_target=h_target, T_inh=T_inh,\n",
    "    d_ampa_pos=d_ampa_pos, d_nmda_pos=d_nmda_pos, d_ampa_shift=d_ampa_shift, d_nmda_shift=d_nmda_shift, d_gaba=d_gaba)\n",
    "\n",
    "times_test = dd4['trange']\n",
    "tar_post = Lowpass(0.05).filt(dd4['tar_post'])\n",
    "a_post = Lowpass(0.05).filt(dd4['post'])\n",
    "xhat_post = np.dot(a_post, d_post)\n",
    "nrmse_post = nrmse(xhat_post, target=tar_post)\n",
    "\n",
    "fig, ax = plt.subplots(figsize=((6, 4)))\n",
    "ax.plot(times_test, tar_post, label='tar_post')\n",
    "ax.plot(times_test, xhat_post, label='post, nrmse=%.3f'%nrmse_post, alpha=0.5)\n",
    "ax.set(xlabel='time', title='post')\n",
    "ax.legend(loc='lower left')\n",
    "plt.show()"
   ]
  },
  {
   "cell_type": "code",
   "execution_count": null,
   "metadata": {},
   "outputs": [],
   "source": []
  }
 ],
 "metadata": {
  "kernelspec": {
   "display_name": "Python 3",
   "language": "python",
   "name": "python3"
  },
  "language_info": {
   "codemirror_mode": {
    "name": "ipython",
    "version": 3
   },
   "file_extension": ".py",
   "mimetype": "text/x-python",
   "name": "python",
   "nbconvert_exporter": "python",
   "pygments_lexer": "ipython3",
   "version": "3.6.4"
  }
 },
 "nbformat": 4,
 "nbformat_minor": 2
}
